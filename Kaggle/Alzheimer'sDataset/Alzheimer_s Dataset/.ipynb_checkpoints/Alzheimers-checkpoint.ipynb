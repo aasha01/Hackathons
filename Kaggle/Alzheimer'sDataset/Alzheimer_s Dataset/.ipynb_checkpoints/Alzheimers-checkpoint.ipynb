{
 "cells": [
  {
   "cell_type": "code",
   "execution_count": 194,
   "metadata": {},
   "outputs": [],
   "source": [
    "import pandas as pd\n",
    "import numpy as np\n",
    "\n",
    "import cv2\n",
    "import os\n",
    "\n",
    "from keras.models import Sequential\n",
    "from sklearn.model_selection import train_test_split\n",
    "from keras.utils.np_utils import to_categorical\n",
    "from keras.layers import BatchNormalization\n",
    "\n",
    "import matplotlib.pyplot as plt"
   ]
  },
  {
   "cell_type": "code",
   "execution_count": 128,
   "metadata": {},
   "outputs": [],
   "source": [
    "import tensorflow as tf"
   ]
  },
  {
   "cell_type": "code",
   "execution_count": 129,
   "metadata": {},
   "outputs": [],
   "source": [
    "train_image_path=\"D:\\\\Hackeathon\\\\Kaggle\\\\Alzheimer'sDataset\\\\Alzheimer_s Dataset\\\\train\\\\\"\n",
    "test_image_path= \"D:\\\\Hackeathon\\\\Kaggle\\\\Alzheimer'sDataset\\\\Alzheimer_s Dataset\\\\test\\\\\""
   ]
  },
  {
   "cell_type": "raw",
   "metadata": {},
   "source": [
    "##D:\\Hackeathon\\Kaggle\\Alzheimer'sDataset\\Alzheimer_s Dataset\\train\\MildDemented\n",
    "MildDemented_path = train_image_path + 'MildDemented'\n",
    "MildDemented_path"
   ]
  },
  {
   "cell_type": "raw",
   "metadata": {},
   "source": [
    "from os import walk\n",
    "\n",
    "f = []\n",
    "for (dirpath, dirnames, filenames) in walk(MildDemented_path):\n",
    "    print(filenames)"
   ]
  },
  {
   "cell_type": "raw",
   "metadata": {},
   "source": [
    "Mildfilename = os.listdir(MildDemented_path)\n",
    "milddf = pd.DataFrame(Mildfilename)\n",
    "milddf=milddf.rename(columns={0:'filename'})\n",
    "milddf['label'] = 1"
   ]
  },
  {
   "cell_type": "raw",
   "metadata": {},
   "source": [
    "milddf.head()"
   ]
  },
  {
   "cell_type": "code",
   "execution_count": null,
   "metadata": {},
   "outputs": [],
   "source": []
  },
  {
   "cell_type": "code",
   "execution_count": null,
   "metadata": {},
   "outputs": [],
   "source": []
  },
  {
   "cell_type": "code",
   "execution_count": 130,
   "metadata": {},
   "outputs": [],
   "source": [
    "def getImageList(path):\n",
    "    images = []\n",
    "    for filename in os.listdir(path):\n",
    "        img=cv2.imread(os.path.join(path,filename),0)\n",
    "        images.append(img)\n",
    "    return images\n",
    "\n",
    "def getDataFrame(path, classname):\n",
    "    filenames = os.listdir(path)\n",
    "    df = pd.DataFrame(filenames)\n",
    "    df = df.rename(columns={0:'filename'})\n",
    "    df['label'] = classname\n",
    "    return df"
   ]
  },
  {
   "cell_type": "code",
   "execution_count": 131,
   "metadata": {},
   "outputs": [
    {
     "data": {
      "text/plain": [
       "list"
      ]
     },
     "execution_count": 131,
     "metadata": {},
     "output_type": "execute_result"
    }
   ],
   "source": [
    "type(getImageList(MildDemented_path))"
   ]
  },
  {
   "cell_type": "code",
   "execution_count": 132,
   "metadata": {},
   "outputs": [
    {
     "data": {
      "text/html": [
       "<div>\n",
       "<style scoped>\n",
       "    .dataframe tbody tr th:only-of-type {\n",
       "        vertical-align: middle;\n",
       "    }\n",
       "\n",
       "    .dataframe tbody tr th {\n",
       "        vertical-align: top;\n",
       "    }\n",
       "\n",
       "    .dataframe thead th {\n",
       "        text-align: right;\n",
       "    }\n",
       "</style>\n",
       "<table border=\"1\" class=\"dataframe\">\n",
       "  <thead>\n",
       "    <tr style=\"text-align: right;\">\n",
       "      <th></th>\n",
       "      <th>filename</th>\n",
       "      <th>label</th>\n",
       "    </tr>\n",
       "  </thead>\n",
       "  <tbody>\n",
       "    <tr>\n",
       "      <th>0</th>\n",
       "      <td>27 (2).jpg</td>\n",
       "      <td>2</td>\n",
       "    </tr>\n",
       "    <tr>\n",
       "      <th>1</th>\n",
       "      <td>27.jpg</td>\n",
       "      <td>2</td>\n",
       "    </tr>\n",
       "    <tr>\n",
       "      <th>2</th>\n",
       "      <td>28 (2).jpg</td>\n",
       "      <td>2</td>\n",
       "    </tr>\n",
       "    <tr>\n",
       "      <th>3</th>\n",
       "      <td>28.jpg</td>\n",
       "      <td>2</td>\n",
       "    </tr>\n",
       "    <tr>\n",
       "      <th>4</th>\n",
       "      <td>29 (2).jpg</td>\n",
       "      <td>2</td>\n",
       "    </tr>\n",
       "  </tbody>\n",
       "</table>\n",
       "</div>"
      ],
      "text/plain": [
       "     filename  label\n",
       "0  27 (2).jpg      2\n",
       "1      27.jpg      2\n",
       "2  28 (2).jpg      2\n",
       "3      28.jpg      2\n",
       "4  29 (2).jpg      2"
      ]
     },
     "execution_count": 132,
     "metadata": {},
     "output_type": "execute_result"
    }
   ],
   "source": [
    "getDataFrame(ModDemented_path, 2).head()"
   ]
  },
  {
   "cell_type": "code",
   "execution_count": 238,
   "metadata": {},
   "outputs": [
    {
     "name": "stdout",
     "output_type": "stream",
     "text": [
      "Mild Demented images: 717\n",
      "Mild Demented DF: (717, 2)\n",
      "Moderate Demented images: 769\n",
      "Moderate Demented DF: (769, 2)\n",
      "Non Demented images: 3329\n",
      "Non Demented DF: (3329, 2)\n",
      "Very Mild Demented images: 5121\n",
      "Very Mild Demented DF: (5121, 2)\n"
     ]
    }
   ],
   "source": [
    "train_img = []\n",
    "MildDemented_path = train_image_path + 'MildDemented'\n",
    "train_img.extend(getImageList(MildDemented_path))\n",
    "print('Mild Demented images:', len(train_img))\n",
    "\n",
    "df = getDataFrame(MildDemented_path, 0)\n",
    "print('Mild Demented DF:', df.shape)\n",
    "\n",
    "ModDemented_path = train_image_path + 'ModerateDemented'\n",
    "train_img.extend(getImageList(ModDemented_path))\n",
    "print('Moderate Demented images:', len(train_img))\n",
    "\n",
    "df = df.append(getDataFrame(ModDemented_path, 1))\n",
    "print('Moderate Demented DF:', df.shape)\n",
    "\n",
    "NonDemented_path = train_image_path + 'NonDemented'\n",
    "train_img.extend(getImageList(NonDemented_path))\n",
    "print('Non Demented images:', len(train_img))\n",
    "\n",
    "df = df.append(getDataFrame(NonDemented_path, 2))\n",
    "print('Non Demented DF:', df.shape)\n",
    "\n",
    "VeryMildDemented_path = train_image_path + 'VeryMildDemented'\n",
    "train_img.extend(getImageList(VeryMildDemented_path))\n",
    "print('Very Mild Demented images:', len(train_img))\n",
    "\n",
    "df = df.append(getDataFrame(VeryMildDemented_path, 3))\n",
    "print('Very Mild Demented DF:', df.shape)\n",
    "\n",
    "train_img_list = train_img"
   ]
  },
  {
   "cell_type": "raw",
   "metadata": {},
   "source": [
    "train_img = []\n",
    "MildDemented_path = train_image_path + 'MildDemented'\n",
    "train_img = getImageList(MildDemented_path)\n",
    "\n",
    "df = getDataFrame(MildDemented_path, 1)\n",
    "df"
   ]
  },
  {
   "cell_type": "code",
   "execution_count": 239,
   "metadata": {},
   "outputs": [
    {
     "name": "stdout",
     "output_type": "stream",
     "text": [
      "Mild Demented images: 179\n",
      "Mild Demented DF: (179, 2)\n",
      "Moderate Demented images: 191\n",
      "Moderate Demented DF: (191, 2)\n",
      "Non Demented images: 831\n",
      "Non Demented DF: (831, 2)\n",
      "Very Mild Demented images: 1279\n",
      "Very Mild Demented DF: (1279, 2)\n"
     ]
    }
   ],
   "source": [
    "test_img = []\n",
    "MildDemented_path = test_image_path + 'MildDemented'\n",
    "test_img.extend(getImageList(MildDemented_path))\n",
    "print('Mild Demented images:', len(test_img))\n",
    "\n",
    "test_df = getDataFrame(MildDemented_path, 0)\n",
    "print('Mild Demented DF:', test_df.shape)\n",
    "\n",
    "ModDemented_path = test_image_path + 'ModerateDemented'\n",
    "test_img.extend(getImageList(ModDemented_path))\n",
    "print('Moderate Demented images:', len(test_img))\n",
    "\n",
    "test_df = test_df.append(getDataFrame(ModDemented_path, 1))\n",
    "print('Moderate Demented DF:', test_df.shape)\n",
    "\n",
    "NonDemented_path = test_image_path + 'NonDemented'\n",
    "test_img.extend(getImageList(NonDemented_path))\n",
    "print('Non Demented images:', len(test_img))\n",
    "\n",
    "test_df = test_df.append(getDataFrame(NonDemented_path, 2))\n",
    "print('Non Demented DF:', test_df.shape)\n",
    "\n",
    "VeryMildDemented_path = test_image_path + 'VeryMildDemented'\n",
    "test_img.extend(getImageList(VeryMildDemented_path))\n",
    "print('Very Mild Demented images:', len(test_img))\n",
    "\n",
    "test_df = test_df.append(getDataFrame(VeryMildDemented_path, 3))\n",
    "print('Very Mild Demented DF:', test_df.shape)\n",
    "\n",
    "test_img_list = test_img"
   ]
  },
  {
   "cell_type": "code",
   "execution_count": 240,
   "metadata": {},
   "outputs": [
    {
     "data": {
      "image/png": "[encoded data removed]",
      "text/plain": [
       "<Figure size 432x288 with 1 Axes>"
      ]
     },
     "metadata": {
      "needs_background": "light"
     },
     "output_type": "display_data"
    }
   ],
   "source": [
    "plt.imshow(train_img[0])\n",
    "plt.show()"
   ]
  },
  {
   "cell_type": "code",
   "execution_count": 241,
   "metadata": {},
   "outputs": [],
   "source": [
    "train_img.extend(test_img)\n",
    "df = df.append(test_df)"
   ]
  },
  {
   "cell_type": "code",
   "execution_count": 249,
   "metadata": {},
   "outputs": [],
   "source": [
    "train_img_data = np.array(train_img)"
   ]
  },
  {
   "cell_type": "code",
   "execution_count": 242,
   "metadata": {},
   "outputs": [
    {
     "data": {
      "text/plain": [
       "6400"
      ]
     },
     "execution_count": 242,
     "metadata": {},
     "output_type": "execute_result"
    }
   ],
   "source": [
    "len(train_img)"
   ]
  },
  {
   "cell_type": "markdown",
   "metadata": {},
   "source": [
    "import seaborn as sns\n",
    "\n",
    "plt.figure(figsize=(15,15))\n",
    "sns.heatmap(X_train[0], annot=True, cmap=\"binary\")"
   ]
  },
  {
   "cell_type": "code",
   "execution_count": 243,
   "metadata": {},
   "outputs": [],
   "source": [
    "train_label = df['label']"
   ]
  },
  {
   "cell_type": "code",
   "execution_count": 256,
   "metadata": {},
   "outputs": [
    {
     "data": {
      "text/plain": [
       "(6400, 6400)"
      ]
     },
     "execution_count": 256,
     "metadata": {},
     "output_type": "execute_result"
    }
   ],
   "source": [
    "len(train_img_data), len(train_label)"
   ]
  },
  {
   "cell_type": "code",
   "execution_count": 261,
   "metadata": {},
   "outputs": [],
   "source": [
    "# use only 33% of training data to expedite the training process\n",
    "train, test , y_train, y_test = train_test_split(train_img_data, train_label, test_size = 0.2, random_state = 7)"
   ]
  },
  {
   "cell_type": "code",
   "execution_count": 262,
   "metadata": {},
   "outputs": [
    {
     "name": "stdout",
     "output_type": "stream",
     "text": [
      "(5120, 208, 176) (1280, 208, 176) (5120,) (1280,)\n"
     ]
    }
   ],
   "source": [
    "print(train.shape, test.shape, y_train.shape, y_test.shape)"
   ]
  },
  {
   "cell_type": "code",
   "execution_count": 263,
   "metadata": {},
   "outputs": [],
   "source": [
    "X_train_reshaped = train.reshape((train.shape[0], -1))\n",
    "X_test_reshaped = test.reshape((test.shape[0], -1))"
   ]
  },
  {
   "cell_type": "code",
   "execution_count": 264,
   "metadata": {},
   "outputs": [
    {
     "data": {
      "text/plain": [
       "((5120, 36608), (1280, 36608), (5120,), (1280,))"
      ]
     },
     "execution_count": 264,
     "metadata": {},
     "output_type": "execute_result"
    }
   ],
   "source": [
    "X_train_reshaped.shape, X_test_reshaped.shape, y_train.shape, y_test.shape"
   ]
  },
  {
   "cell_type": "code",
   "execution_count": 267,
   "metadata": {},
   "outputs": [],
   "source": [
    "# converting y data into categorical (one-hot encoding)\n",
    "y_train = to_categorical(y_train)\n",
    "y_test = to_categorical(y_test)"
   ]
  },
  {
   "cell_type": "code",
   "execution_count": null,
   "metadata": {},
   "outputs": [],
   "source": []
  },
  {
   "cell_type": "code",
   "execution_count": null,
   "metadata": {},
   "outputs": [],
   "source": []
  },
  {
   "cell_type": "code",
   "execution_count": null,
   "metadata": {},
   "outputs": [],
   "source": []
  },
  {
   "cell_type": "code",
   "execution_count": 191,
   "metadata": {},
   "outputs": [],
   "source": [
    "from keras.models import Sequential\n",
    "from keras.layers import Activation, Dense\n",
    "from keras import optimizers"
   ]
  },
  {
   "cell_type": "code",
   "execution_count": 268,
   "metadata": {},
   "outputs": [],
   "source": [
    "def mlp_model():\n",
    "    model = Sequential()\n",
    "    \n",
    "    model.add(Dense(50, input_shape = (36608, )))\n",
    "    model.add(BatchNormalization())                    # Add Batchnorm layer before Activation\n",
    "    model.add(Activation('relu'))  \n",
    "    model.add(Dense(50))\n",
    "    model.add(BatchNormalization())                    # Add Batchnorm layer before Activation\n",
    "    model.add(Activation('relu'))    \n",
    "    model.add(Dense(50))\n",
    "    model.add(BatchNormalization())                    # Add Batchnorm layer before Activation\n",
    "    model.add(Activation('relu'))    \n",
    "    model.add(Dense(50))\n",
    "    model.add(BatchNormalization())                    # Add Batchnorm layer before Activation\n",
    "    model.add(Activation('relu'))    \n",
    "    model.add(Dense(4))\n",
    "    model.add(Activation('softmax'))\n",
    "    \n",
    "    adam = optimizers.Adam(lr = 0.0001)\n",
    "    model.compile(optimizer = adam, loss = 'categorical_crossentropy', metrics = ['accuracy'])\n",
    "    \n",
    "    return model\n"
   ]
  },
  {
   "cell_type": "code",
   "execution_count": 269,
   "metadata": {},
   "outputs": [
    {
     "name": "stdout",
     "output_type": "stream",
     "text": [
      "Train on 4096 samples, validate on 1024 samples\n",
      "Epoch 1/100\n",
      "4096/4096 [==============================] - 7s 2ms/step - loss: 1.0704 - accuracy: 0.5608 - val_loss: 3.6528 - val_accuracy: 0.5107\n",
      "Epoch 2/100\n",
      "4096/4096 [==============================] - 5s 1ms/step - loss: 0.7217 - accuracy: 0.7686 - val_loss: 0.9187 - val_accuracy: 0.6162\n",
      "Epoch 3/100\n",
      "4096/4096 [==============================] - 5s 1ms/step - loss: 0.5041 - accuracy: 0.8767 - val_loss: 0.8438 - val_accuracy: 0.6484\n",
      "Epoch 4/100\n",
      "4096/4096 [==============================] - 2s 574us/step - loss: 0.3564 - accuracy: 0.9309 - val_loss: 1.4965 - val_accuracy: 0.4580\n",
      "Epoch 5/100\n",
      "4096/4096 [==============================] - 2s 420us/step - loss: 0.2508 - accuracy: 0.9595 - val_loss: 0.9214 - val_accuracy: 0.6338\n",
      "Epoch 6/100\n",
      "4096/4096 [==============================] - 2s 419us/step - loss: 0.1763 - accuracy: 0.9788 - val_loss: 0.5349 - val_accuracy: 0.8057\n",
      "Epoch 7/100\n",
      "4096/4096 [==============================] - 2s 417us/step - loss: 0.1471 - accuracy: 0.9797 - val_loss: 0.5727 - val_accuracy: 0.7715\n",
      "Epoch 8/100\n",
      "4096/4096 [==============================] - 2s 419us/step - loss: 0.1177 - accuracy: 0.9849 - val_loss: 0.9625 - val_accuracy: 0.6006\n",
      "Epoch 9/100\n",
      "4096/4096 [==============================] - 2s 437us/step - loss: 0.0913 - accuracy: 0.9897 - val_loss: 0.3945 - val_accuracy: 0.8633\n",
      "Epoch 10/100\n",
      "4096/4096 [==============================] - 2s 429us/step - loss: 0.0795 - accuracy: 0.9922 - val_loss: 1.7425 - val_accuracy: 0.5859\n",
      "Epoch 11/100\n",
      "4096/4096 [==============================] - 2s 414us/step - loss: 0.0773 - accuracy: 0.9873 - val_loss: 0.5841 - val_accuracy: 0.7646\n",
      "Epoch 12/100\n",
      "4096/4096 [==============================] - 2s 424us/step - loss: 0.0754 - accuracy: 0.9875 - val_loss: 1.7025 - val_accuracy: 0.6152\n",
      "Epoch 13/100\n",
      "4096/4096 [==============================] - 2s 417us/step - loss: 0.0726 - accuracy: 0.9885 - val_loss: 0.6483 - val_accuracy: 0.7881\n",
      "Epoch 14/100\n",
      "4096/4096 [==============================] - 2s 417us/step - loss: 0.0449 - accuracy: 0.9963 - val_loss: 0.1784 - val_accuracy: 0.9443\n",
      "Epoch 15/100\n",
      "4096/4096 [==============================] - 2s 424us/step - loss: 0.0505 - accuracy: 0.9934 - val_loss: 3.3431 - val_accuracy: 0.5098\n",
      "Epoch 16/100\n",
      "4096/4096 [==============================] - 2s 417us/step - loss: 0.0692 - accuracy: 0.9866 - val_loss: 0.4490 - val_accuracy: 0.8330\n",
      "Epoch 17/100\n",
      "4096/4096 [==============================] - 2s 417us/step - loss: 0.0579 - accuracy: 0.9878 - val_loss: 0.8769 - val_accuracy: 0.6846\n",
      "Epoch 18/100\n",
      "4096/4096 [==============================] - 2s 422us/step - loss: 0.0359 - accuracy: 0.9958 - val_loss: 0.7196 - val_accuracy: 0.7744\n",
      "Epoch 19/100\n",
      "4096/4096 [==============================] - 2s 417us/step - loss: 0.0366 - accuracy: 0.9932 - val_loss: 0.6054 - val_accuracy: 0.8135\n",
      "Epoch 20/100\n",
      "4096/4096 [==============================] - 2s 416us/step - loss: 0.0317 - accuracy: 0.9941 - val_loss: 2.5087 - val_accuracy: 0.5820\n",
      "Epoch 21/100\n",
      "4096/4096 [==============================] - 2s 422us/step - loss: 0.0411 - accuracy: 0.9907 - val_loss: 0.5963 - val_accuracy: 0.8115\n",
      "Epoch 22/100\n",
      "4096/4096 [==============================] - 2s 416us/step - loss: 0.0343 - accuracy: 0.9927 - val_loss: 0.2558 - val_accuracy: 0.9062\n",
      "Epoch 23/100\n",
      "4096/4096 [==============================] - 2s 422us/step - loss: 0.0276 - accuracy: 0.9951 - val_loss: 0.3505 - val_accuracy: 0.8867\n",
      "Epoch 24/100\n",
      "4096/4096 [==============================] - 2s 426us/step - loss: 0.0374 - accuracy: 0.9905 - val_loss: 2.6307 - val_accuracy: 0.5488\n",
      "Epoch 25/100\n",
      "4096/4096 [==============================] - 2s 446us/step - loss: 0.0396 - accuracy: 0.9907 - val_loss: 0.5495 - val_accuracy: 0.8223\n",
      "Epoch 26/100\n",
      "4096/4096 [==============================] - 2s 436us/step - loss: 0.0287 - accuracy: 0.9934 - val_loss: 0.2370 - val_accuracy: 0.9229\n",
      "Epoch 27/100\n",
      "4096/4096 [==============================] - 2s 436us/step - loss: 0.0253 - accuracy: 0.9946 - val_loss: 0.3960 - val_accuracy: 0.8682\n",
      "Epoch 28/100\n",
      "4096/4096 [==============================] - 2s 423us/step - loss: 0.0314 - accuracy: 0.9922 - val_loss: 1.2366 - val_accuracy: 0.6123\n",
      "Epoch 29/100\n",
      "4096/4096 [==============================] - 2s 415us/step - loss: 0.0306 - accuracy: 0.9929 - val_loss: 1.2810 - val_accuracy: 0.6729\n",
      "Epoch 30/100\n",
      "4096/4096 [==============================] - 2s 420us/step - loss: 0.0457 - accuracy: 0.9883 - val_loss: 0.8253 - val_accuracy: 0.7881\n",
      "Epoch 31/100\n",
      "4096/4096 [==============================] - 2s 415us/step - loss: 0.0317 - accuracy: 0.9922 - val_loss: 0.8808 - val_accuracy: 0.7148\n",
      "Epoch 32/100\n",
      "4096/4096 [==============================] - 2s 418us/step - loss: 0.0249 - accuracy: 0.9937 - val_loss: 0.3183 - val_accuracy: 0.8994\n",
      "Epoch 33/100\n",
      "4096/4096 [==============================] - 2s 416us/step - loss: 0.0226 - accuracy: 0.9958 - val_loss: 1.2494 - val_accuracy: 0.6709\n",
      "Epoch 34/100\n",
      "4096/4096 [==============================] - 2s 424us/step - loss: 0.0240 - accuracy: 0.9946 - val_loss: 0.5512 - val_accuracy: 0.8213\n",
      "Epoch 35/100\n",
      "4096/4096 [==============================] - 2s 427us/step - loss: 0.0289 - accuracy: 0.9919 - val_loss: 0.6142 - val_accuracy: 0.7861\n",
      "Epoch 36/100\n",
      "4096/4096 [==============================] - 2s 431us/step - loss: 0.0272 - accuracy: 0.9917 - val_loss: 2.7286 - val_accuracy: 0.5947\n",
      "Epoch 37/100\n",
      "4096/4096 [==============================] - 2s 424us/step - loss: 0.0209 - accuracy: 0.9944 - val_loss: 0.4772 - val_accuracy: 0.8428\n",
      "Epoch 38/100\n",
      "4096/4096 [==============================] - 2s 425us/step - loss: 0.0132 - accuracy: 0.9978 - val_loss: 0.1886 - val_accuracy: 0.9307\n",
      "Epoch 39/100\n",
      "4096/4096 [==============================] - 2s 428us/step - loss: 0.0136 - accuracy: 0.9976 - val_loss: 0.6225 - val_accuracy: 0.7773\n",
      "Epoch 40/100\n",
      "4096/4096 [==============================] - 2s 422us/step - loss: 0.0136 - accuracy: 0.9966 - val_loss: 0.1853 - val_accuracy: 0.9521\n",
      "Epoch 41/100\n",
      "4096/4096 [==============================] - 2s 422us/step - loss: 0.0169 - accuracy: 0.9963 - val_loss: 0.7786 - val_accuracy: 0.8027\n",
      "Epoch 42/100\n",
      "4096/4096 [==============================] - 2s 428us/step - loss: 0.0164 - accuracy: 0.9961 - val_loss: 0.8708 - val_accuracy: 0.7852\n",
      "Epoch 43/100\n",
      "4096/4096 [==============================] - 2s 425us/step - loss: 0.0338 - accuracy: 0.9902 - val_loss: 0.9253 - val_accuracy: 0.7051\n",
      "Epoch 44/100\n",
      "4096/4096 [==============================] - 2s 429us/step - loss: 0.0167 - accuracy: 0.9956 - val_loss: 1.4898 - val_accuracy: 0.5391\n",
      "Epoch 45/100\n",
      "4096/4096 [==============================] - 2s 453us/step - loss: 0.0221 - accuracy: 0.9927 - val_loss: 0.4785 - val_accuracy: 0.8428\n",
      "Epoch 46/100\n",
      "4096/4096 [==============================] - 2s 411us/step - loss: 0.0242 - accuracy: 0.9941 - val_loss: 0.2407 - val_accuracy: 0.9229\n",
      "Epoch 47/100\n",
      "4096/4096 [==============================] - 2s 424us/step - loss: 0.0124 - accuracy: 0.9973 - val_loss: 0.1187 - val_accuracy: 0.9619\n",
      "Epoch 48/100\n",
      "4096/4096 [==============================] - 2s 435us/step - loss: 0.0143 - accuracy: 0.9971 - val_loss: 1.5422 - val_accuracy: 0.6553\n",
      "Epoch 49/100\n",
      "4096/4096 [==============================] - 2s 425us/step - loss: 0.0185 - accuracy: 0.9941 - val_loss: 0.6319 - val_accuracy: 0.7793\n",
      "Epoch 50/100\n",
      "4096/4096 [==============================] - 2s 422us/step - loss: 0.0261 - accuracy: 0.9912 - val_loss: 1.0058 - val_accuracy: 0.7773\n",
      "Epoch 51/100\n",
      "4096/4096 [==============================] - 2s 429us/step - loss: 0.0152 - accuracy: 0.9954 - val_loss: 0.1479 - val_accuracy: 0.9521\n",
      "Epoch 52/100\n",
      "4096/4096 [==============================] - 2s 422us/step - loss: 0.0181 - accuracy: 0.9941 - val_loss: 0.3259 - val_accuracy: 0.8994\n",
      "Epoch 53/100\n",
      "4096/4096 [==============================] - 2s 421us/step - loss: 0.0075 - accuracy: 0.9990 - val_loss: 0.1075 - val_accuracy: 0.9688\n",
      "Epoch 54/100\n",
      "4096/4096 [==============================] - 2s 426us/step - loss: 0.0076 - accuracy: 0.9983 - val_loss: 0.2053 - val_accuracy: 0.9307\n",
      "Epoch 55/100\n",
      "4096/4096 [==============================] - 2s 426us/step - loss: 0.0111 - accuracy: 0.9971 - val_loss: 1.1527 - val_accuracy: 0.6895\n",
      "Epoch 56/100\n"
     ]
    },
    {
     "name": "stdout",
     "output_type": "stream",
     "text": [
      "4096/4096 [==============================] - 2s 416us/step - loss: 0.0170 - accuracy: 0.9949 - val_loss: 4.7763 - val_accuracy: 0.3184\n",
      "Epoch 57/100\n",
      "4096/4096 [==============================] - 2s 425us/step - loss: 0.0287 - accuracy: 0.9912 - val_loss: 0.6239 - val_accuracy: 0.8184\n",
      "Epoch 58/100\n",
      "4096/4096 [==============================] - 2s 417us/step - loss: 0.0390 - accuracy: 0.9885 - val_loss: 0.8755 - val_accuracy: 0.7559\n",
      "Epoch 59/100\n",
      "4096/4096 [==============================] - 2s 416us/step - loss: 0.0181 - accuracy: 0.9941 - val_loss: 0.2243 - val_accuracy: 0.9277\n",
      "Epoch 60/100\n",
      "4096/4096 [==============================] - 2s 425us/step - loss: 0.0110 - accuracy: 0.9971 - val_loss: 0.3057 - val_accuracy: 0.9189\n",
      "Epoch 61/100\n",
      "4096/4096 [==============================] - 2s 416us/step - loss: 0.0117 - accuracy: 0.9966 - val_loss: 0.4359 - val_accuracy: 0.8906\n",
      "Epoch 62/100\n",
      "4096/4096 [==============================] - 2s 417us/step - loss: 0.0166 - accuracy: 0.9951 - val_loss: 0.6099 - val_accuracy: 0.8311\n",
      "Epoch 63/100\n",
      "4096/4096 [==============================] - 2s 421us/step - loss: 0.0077 - accuracy: 0.9990 - val_loss: 0.1789 - val_accuracy: 0.9414\n",
      "Epoch 64/100\n",
      "4096/4096 [==============================] - 2s 422us/step - loss: 0.0075 - accuracy: 0.9980 - val_loss: 0.1870 - val_accuracy: 0.9502\n",
      "Epoch 65/100\n",
      "4096/4096 [==============================] - 2s 420us/step - loss: 0.0099 - accuracy: 0.9973 - val_loss: 0.7194 - val_accuracy: 0.8320\n",
      "Epoch 66/100\n",
      "4096/4096 [==============================] - 2s 437us/step - loss: 0.0282 - accuracy: 0.9919 - val_loss: 0.4503 - val_accuracy: 0.8379\n",
      "Epoch 67/100\n",
      "4096/4096 [==============================] - 2s 436us/step - loss: 0.0136 - accuracy: 0.9963 - val_loss: 0.6889 - val_accuracy: 0.8027\n",
      "Epoch 68/100\n",
      "4096/4096 [==============================] - 2s 422us/step - loss: 0.0122 - accuracy: 0.9951 - val_loss: 0.3679 - val_accuracy: 0.8711\n",
      "Epoch 69/100\n",
      "4096/4096 [==============================] - 2s 422us/step - loss: 0.0161 - accuracy: 0.9949 - val_loss: 0.1922 - val_accuracy: 0.9463\n",
      "Epoch 70/100\n",
      "4096/4096 [==============================] - 2s 422us/step - loss: 0.0116 - accuracy: 0.9971 - val_loss: 0.5379 - val_accuracy: 0.8496\n",
      "Epoch 71/100\n",
      "4096/4096 [==============================] - 2s 418us/step - loss: 0.0165 - accuracy: 0.9944 - val_loss: 0.3633 - val_accuracy: 0.8945\n",
      "Epoch 72/100\n",
      "4096/4096 [==============================] - 2s 427us/step - loss: 0.0098 - accuracy: 0.9980 - val_loss: 0.4559 - val_accuracy: 0.8760\n",
      "Epoch 73/100\n",
      "4096/4096 [==============================] - 2s 422us/step - loss: 0.0079 - accuracy: 0.9978 - val_loss: 0.1791 - val_accuracy: 0.9404\n",
      "Epoch 74/100\n",
      "4096/4096 [==============================] - 2s 428us/step - loss: 0.0033 - accuracy: 0.9998 - val_loss: 0.2043 - val_accuracy: 0.9395\n",
      "Epoch 75/100\n",
      "4096/4096 [==============================] - 2s 430us/step - loss: 0.0108 - accuracy: 0.9963 - val_loss: 0.7635 - val_accuracy: 0.7871\n",
      "Epoch 76/100\n",
      "4096/4096 [==============================] - 2s 422us/step - loss: 0.0120 - accuracy: 0.9971 - val_loss: 0.1292 - val_accuracy: 0.9678\n",
      "Epoch 77/100\n",
      "4096/4096 [==============================] - 2s 419us/step - loss: 0.0213 - accuracy: 0.9924 - val_loss: 0.4943 - val_accuracy: 0.8555\n",
      "Epoch 78/100\n",
      "4096/4096 [==============================] - 2s 425us/step - loss: 0.0147 - accuracy: 0.9949 - val_loss: 0.4316 - val_accuracy: 0.8750\n",
      "Epoch 79/100\n",
      "4096/4096 [==============================] - 2s 420us/step - loss: 0.0137 - accuracy: 0.9961 - val_loss: 1.1664 - val_accuracy: 0.7344\n",
      "Epoch 80/100\n",
      "4096/4096 [==============================] - 2s 418us/step - loss: 0.0120 - accuracy: 0.9976 - val_loss: 0.1625 - val_accuracy: 0.9482\n",
      "Epoch 81/100\n",
      "4096/4096 [==============================] - 2s 427us/step - loss: 0.0144 - accuracy: 0.9966 - val_loss: 0.3163 - val_accuracy: 0.9062\n",
      "Epoch 82/100\n",
      "4096/4096 [==============================] - 2s 419us/step - loss: 0.0071 - accuracy: 0.9990 - val_loss: 0.9093 - val_accuracy: 0.7803\n",
      "Epoch 83/100\n",
      "4096/4096 [==============================] - 2s 420us/step - loss: 0.0112 - accuracy: 0.9958 - val_loss: 0.2118 - val_accuracy: 0.9365\n",
      "Epoch 84/100\n",
      "4096/4096 [==============================] - 2s 425us/step - loss: 0.0222 - accuracy: 0.9949 - val_loss: 0.9796 - val_accuracy: 0.7793\n",
      "Epoch 85/100\n",
      "4096/4096 [==============================] - 2s 427us/step - loss: 0.0164 - accuracy: 0.9961 - val_loss: 0.1762 - val_accuracy: 0.9404\n",
      "Epoch 86/100\n",
      "4096/4096 [==============================] - 2s 429us/step - loss: 0.0130 - accuracy: 0.9949 - val_loss: 0.1619 - val_accuracy: 0.9463\n",
      "Epoch 87/100\n",
      "4096/4096 [==============================] - 2s 438us/step - loss: 0.0136 - accuracy: 0.9966 - val_loss: 0.2418 - val_accuracy: 0.9219\n",
      "Epoch 88/100\n",
      "4096/4096 [==============================] - 2s 418us/step - loss: 0.0198 - accuracy: 0.9946 - val_loss: 0.8258 - val_accuracy: 0.8184\n",
      "Epoch 89/100\n",
      "4096/4096 [==============================] - 2s 420us/step - loss: 0.0055 - accuracy: 0.9988 - val_loss: 0.1034 - val_accuracy: 0.9688\n",
      "Epoch 90/100\n",
      "4096/4096 [==============================] - 2s 425us/step - loss: 0.0048 - accuracy: 0.9993 - val_loss: 0.3083 - val_accuracy: 0.9131\n",
      "Epoch 91/100\n",
      "4096/4096 [==============================] - 2s 420us/step - loss: 0.0076 - accuracy: 0.9983 - val_loss: 0.3626 - val_accuracy: 0.9082\n",
      "Epoch 92/100\n",
      "4096/4096 [==============================] - 2s 426us/step - loss: 0.0054 - accuracy: 0.9988 - val_loss: 0.4297 - val_accuracy: 0.8896\n",
      "Epoch 93/100\n",
      "4096/4096 [==============================] - 2s 430us/step - loss: 0.0036 - accuracy: 0.9993 - val_loss: 0.0998 - val_accuracy: 0.9766\n",
      "Epoch 94/100\n",
      "4096/4096 [==============================] - 2s 422us/step - loss: 0.0071 - accuracy: 0.9983 - val_loss: 0.8238 - val_accuracy: 0.7656\n",
      "Epoch 95/100\n",
      "4096/4096 [==============================] - 2s 421us/step - loss: 0.0105 - accuracy: 0.9968 - val_loss: 0.6982 - val_accuracy: 0.8223\n",
      "Epoch 96/100\n",
      "4096/4096 [==============================] - 2s 430us/step - loss: 0.0122 - accuracy: 0.9956 - val_loss: 0.1430 - val_accuracy: 0.9639\n",
      "Epoch 97/100\n",
      "4096/4096 [==============================] - 2s 422us/step - loss: 0.0074 - accuracy: 0.9980 - val_loss: 0.2561 - val_accuracy: 0.9385\n",
      "Epoch 98/100\n",
      "4096/4096 [==============================] - 2s 423us/step - loss: 0.0162 - accuracy: 0.9949 - val_loss: 1.9521 - val_accuracy: 0.5908\n",
      "Epoch 99/100\n",
      "4096/4096 [==============================] - 2s 428us/step - loss: 0.0216 - accuracy: 0.9939 - val_loss: 0.4946 - val_accuracy: 0.8535\n",
      "Epoch 100/100\n",
      "4096/4096 [==============================] - 2s 422us/step - loss: 0.0083 - accuracy: 0.9978 - val_loss: 0.1268 - val_accuracy: 0.9668\n"
     ]
    }
   ],
   "source": [
    "model = mlp_model()\n",
    "history = model.fit(X_train_reshaped, y_train, validation_split = 0.2, epochs = 100, verbose = 1)"
   ]
  },
  {
   "cell_type": "code",
   "execution_count": 270,
   "metadata": {},
   "outputs": [
    {
     "data": {
      "image/png": "[encoded data removed]",
      "text/plain": [
       "<Figure size 432x288 with 1 Axes>"
      ]
     },
     "metadata": {
      "needs_background": "light"
     },
     "output_type": "display_data"
    }
   ],
   "source": [
    "plt.plot(history.history['accuracy'])\n",
    "plt.plot(history.history['val_accuracy'])\n",
    "plt.legend(['training', 'validation'], loc = 'upper left')\n",
    "plt.show()"
   ]
  },
  {
   "cell_type": "code",
   "execution_count": 271,
   "metadata": {},
   "outputs": [
    {
     "name": "stdout",
     "output_type": "stream",
     "text": [
      "1280/1280 [==============================] - 0s 225us/step\n"
     ]
    }
   ],
   "source": [
    "results = model.evaluate(X_test_reshaped, y_test)"
   ]
  },
  {
   "cell_type": "code",
   "execution_count": 272,
   "metadata": {},
   "outputs": [
    {
     "data": {
      "text/plain": [
       "[0.14437374096596614, 0.960156261920929]"
      ]
     },
     "execution_count": 272,
     "metadata": {},
     "output_type": "execute_result"
    }
   ],
   "source": [
    "results"
   ]
  },
  {
   "cell_type": "code",
   "execution_count": null,
   "metadata": {},
   "outputs": [],
   "source": []
  }
 ],
 "metadata": {
  "kernelspec": {
   "display_name": "TF210GPUJupyter",
   "language": "python",
   "name": "tfgpu"
  },
  "language_info": {
   "codemirror_mode": {
    "name": "ipython",
    "version": 3
   },
   "file_extension": ".py",
   "mimetype": "text/x-python",
   "name": "python",
   "nbconvert_exporter": "python",
   "pygments_lexer": "ipython3",
   "version": "3.7.9"
  }
 },
 "nbformat": 4,
 "nbformat_minor": 4
}
