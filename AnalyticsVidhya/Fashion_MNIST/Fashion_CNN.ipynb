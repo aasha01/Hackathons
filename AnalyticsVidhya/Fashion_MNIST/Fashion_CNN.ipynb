{
 "cells": [
  {
   "cell_type": "markdown",
   "metadata": {},
   "source": [
    "# Advanced MLP\n",
    "- Advanced techniques for training neural networks\n",
    "    - Weight Initialization\n",
    "    - Nonlinearity (Activation function)\n",
    "    - Optimizers\n",
    "    - Batch Normalization\n",
    "    - Dropout (Regularization)\n",
    "    - Model Ensemble"
   ]
  },
  {
   "cell_type": "code",
   "execution_count": 1,
   "metadata": {},
   "outputs": [
    {
     "name": "stderr",
     "output_type": "stream",
     "text": [
      "Using TensorFlow backend.\n"
     ]
    }
   ],
   "source": [
    "import matplotlib.pyplot as plt\n",
    "\n",
    "from sklearn.model_selection import train_test_split\n",
    "from keras.datasets import mnist\n",
    "from keras.models import Sequential\n",
    "from keras.utils.np_utils import to_categorical\n",
    "\n",
    "import tensorflow as tf"
   ]
  },
  {
   "cell_type": "code",
   "execution_count": 2,
   "metadata": {},
   "outputs": [],
   "source": [
    "import pandas as pd\n",
    "import cv2 \n",
    "\n",
    "import os\n",
    "import numpy as np\n",
    "\n",
    "import time"
   ]
  },
  {
   "cell_type": "code",
   "execution_count": 3,
   "metadata": {},
   "outputs": [],
   "source": [
    "from keras.models import Sequential\n",
    "from keras.layers import Activation, Dense\n",
    "from keras import optimizers"
   ]
  },
  {
   "cell_type": "code",
   "execution_count": 4,
   "metadata": {},
   "outputs": [],
   "source": [
    "from keras.models import Sequential\n",
    "from keras import optimizers\n",
    "from keras.layers import Dense, Activation, Flatten, Conv2D, MaxPooling2D\n",
    "\n",
    "from keras.layers import BatchNormalization\n",
    "from keras.layers import Dropout\n",
    "\n",
    "import pickle as pkl\n",
    "\n"
   ]
  },
  {
   "cell_type": "markdown",
   "metadata": {},
   "source": [
    "## Load Dataset\n",
    "- MNIST dataset\n",
    "- source: http://yann.lecun.com/exdb/mnist/"
   ]
  },
  {
   "cell_type": "code",
   "execution_count": 5,
   "metadata": {},
   "outputs": [
    {
     "data": {
      "image/png": "[encoded data removed]",
      "text/plain": [
       "<Figure size 432x288 with 1 Axes>"
      ]
     },
     "metadata": {
      "needs_background": "light"
     },
     "output_type": "display_data"
    }
   ],
   "source": [
    "train=pd.read_csv(\"D:\\\\Hackeathon\\\\AnalyticsVidhya\\\\Fashion_MNIST\\\\train.csv\")\n",
    "test=pd.read_csv(\"D:\\\\Hackeathon\\\\AnalyticsVidhya\\\\Fashion_MNIST\\\\test.csv\")\n",
    "\n",
    "train_image_path=\"D:\\\\Hackeathon\\\\AnalyticsVidhya\\\\Fashion_MNIST\\\\train\\\\\"\n",
    "\n",
    "##Loading Training Images\n",
    "train_img=[]\n",
    "for i in train['id']:\n",
    "    img=cv2.imread(os.path.join(train_image_path,str(i)+'.png'))\n",
    "    train_img.append(img)\n",
    "    \n",
    "\n",
    "plt.imshow(train_img[0])\n",
    "plt.show()"
   ]
  },
  {
   "cell_type": "code",
   "execution_count": 6,
   "metadata": {},
   "outputs": [
    {
     "data": {
      "text/plain": [
       "<matplotlib.image.AxesImage at 0x269af994e08>"
      ]
     },
     "execution_count": 6,
     "metadata": {},
     "output_type": "execute_result"
    },
    {
     "data": {
      "image/png": "[encoded data removed]",
      "text/plain": [
       "<Figure size 432x288 with 1 Axes>"
      ]
     },
     "metadata": {
      "needs_background": "light"
     },
     "output_type": "display_data"
    }
   ],
   "source": [
    "test_image_path=\"D:\\\\Hackeathon\\\\AnalyticsVidhya\\\\Fashion_MNIST\\\\test\\\\\"\n",
    "\n",
    "##Loading Testing Images\n",
    "test_img=[]\n",
    "for i in test['id']:\n",
    "    img=cv2.imread(os.path.join(test_image_path,str(i)+'.png'))\n",
    "    test_img.append(img)\n",
    "\n",
    "plt.imshow(test_img[0])"
   ]
  },
  {
   "cell_type": "code",
   "execution_count": 7,
   "metadata": {},
   "outputs": [],
   "source": [
    "train_label = train['label']"
   ]
  },
  {
   "cell_type": "code",
   "execution_count": 8,
   "metadata": {},
   "outputs": [],
   "source": [
    "x_data = np.array(train_img)\n",
    "x_data_sub = np.array(test_img)"
   ]
  },
  {
   "cell_type": "code",
   "execution_count": 9,
   "metadata": {},
   "outputs": [
    {
     "data": {
      "text/plain": [
       "(10000, 28, 28, 3)"
      ]
     },
     "execution_count": 9,
     "metadata": {},
     "output_type": "execute_result"
    }
   ],
   "source": [
    "x_data_sub.shape"
   ]
  },
  {
   "cell_type": "code",
   "execution_count": 10,
   "metadata": {},
   "outputs": [
    {
     "data": {
      "text/plain": [
       "(60000, 28, 28, 3)"
      ]
     },
     "execution_count": 10,
     "metadata": {},
     "output_type": "execute_result"
    }
   ],
   "source": [
    "x_data.shape"
   ]
  },
  {
   "cell_type": "code",
   "execution_count": 11,
   "metadata": {},
   "outputs": [
    {
     "data": {
      "text/plain": [
       "(60000,)"
      ]
     },
     "execution_count": 11,
     "metadata": {},
     "output_type": "execute_result"
    }
   ],
   "source": [
    "train_label.shape"
   ]
  },
  {
   "cell_type": "raw",
   "metadata": {},
   "source": [
    "x_data = x_data.reshape((x_data.shape[0], x_data.shape[1], x_data.shape[2],1))\n",
    "x_data_sub = x_data_sub.reshape((x_data_sub.shape[0], x_data_sub.shape[1], x_data_sub.shape[2],1))"
   ]
  },
  {
   "cell_type": "code",
   "execution_count": 12,
   "metadata": {},
   "outputs": [
    {
     "data": {
      "text/plain": [
       "(60000, 28, 28, 3)"
      ]
     },
     "execution_count": 12,
     "metadata": {},
     "output_type": "execute_result"
    }
   ],
   "source": [
    "x_data.shape"
   ]
  },
  {
   "cell_type": "code",
   "execution_count": 13,
   "metadata": {},
   "outputs": [],
   "source": [
    "y_data = to_categorical(train_label)"
   ]
  },
  {
   "cell_type": "code",
   "execution_count": 14,
   "metadata": {},
   "outputs": [
    {
     "data": {
      "text/plain": [
       "(60000, 10)"
      ]
     },
     "execution_count": 14,
     "metadata": {},
     "output_type": "execute_result"
    }
   ],
   "source": [
    "y_data.shape"
   ]
  },
  {
   "cell_type": "raw",
   "metadata": {},
   "source": [
    "x_train, x_test, y_train, y_test = train_test_split(x_data, y_data, test_size = 0.3, random_state = 55)"
   ]
  },
  {
   "cell_type": "code",
   "execution_count": null,
   "metadata": {},
   "outputs": [],
   "source": []
  },
  {
   "cell_type": "code",
   "execution_count": 15,
   "metadata": {},
   "outputs": [
    {
     "name": "stdout",
     "output_type": "stream",
     "text": [
      "WARNING:tensorflow:From <ipython-input-15-17bb7203622b>:1: is_gpu_available (from tensorflow.python.framework.test_util) is deprecated and will be removed in a future version.\n",
      "Instructions for updating:\n",
      "Use `tf.config.list_physical_devices('GPU')` instead.\n"
     ]
    },
    {
     "data": {
      "text/plain": [
       "True"
      ]
     },
     "execution_count": 15,
     "metadata": {},
     "output_type": "execute_result"
    }
   ],
   "source": [
    "tf.test.is_gpu_available()"
   ]
  },
  {
   "cell_type": "code",
   "execution_count": 16,
   "metadata": {},
   "outputs": [],
   "source": [
    "adam = optimizers.Adam(learning_rate=0.01,\n",
    "    beta_1=0.9,\n",
    "    beta_2=0.999,\n",
    "    epsilon=1e-07,\n",
    "    amsgrad=False)\n",
    "sgd = optimizers.SGD(learning_rate=0.01,momentum=0.0,    nesterov=False)\n",
    "momentum = optimizers.SGD(learning_rate=0.01,\n",
    "    momentum=0.8,\n",
    "    nesterov=False)\n",
    "\n",
    "adamax001 = optimizers.Adamax(learning_rate=0.001, beta_1=0.9, beta_2=0.999, epsilon=1e-07)\n",
    "\n",
    "adamax01 = optimizers.Adamax(learning_rate=0.01, beta_1=0.9, beta_2=0.999, epsilon=1e-07)\n",
    "\n",
    "opts = [adam, sgd, momentum]"
   ]
  },
  {
   "cell_type": "code",
   "execution_count": null,
   "metadata": {},
   "outputs": [],
   "source": []
  },
  {
   "cell_type": "code",
   "execution_count": null,
   "metadata": {},
   "outputs": [],
   "source": []
  },
  {
   "cell_type": "code",
   "execution_count": null,
   "metadata": {},
   "outputs": [],
   "source": []
  },
  {
   "cell_type": "code",
   "execution_count": null,
   "metadata": {},
   "outputs": [],
   "source": []
  },
  {
   "cell_type": "code",
   "execution_count": null,
   "metadata": {},
   "outputs": [],
   "source": []
  },
  {
   "cell_type": "code",
   "execution_count": 17,
   "metadata": {},
   "outputs": [],
   "source": [
    "def get_Fashion_model_cnn_batch_01():\n",
    "    model = Sequential()\n",
    "    model.add(Conv2D(32, (4,4), kernel_initializer='he_normal', input_shape=(28,28,3), strides = (1,1), padding = 'same'))\n",
    "    model.add(BatchNormalization())\n",
    "    model.add(Activation('relu'))\n",
    "    \n",
    "    model.add(Conv2D(64, (4,4), kernel_initializer='he_normal', strides = (1,1), padding = 'same'))\n",
    "    model.add(BatchNormalization())\n",
    "    model.add(Activation('relu'))\n",
    "    \n",
    "    model.add(Conv2D(128, (4,4), kernel_initializer='he_normal', input_shape=(28,28,3), strides = (1,1), padding = 'same'))\n",
    "    model.add(BatchNormalization())\n",
    "    model.add(Activation('relu'))\n",
    "    \n",
    "    model.add(Conv2D(256, (4,4), kernel_initializer='he_normal', strides = (1,1), padding = 'same'))\n",
    "    model.add(BatchNormalization())\n",
    "    model.add(Activation('relu'))\n",
    "    \n",
    "    model.add(MaxPooling2D(2,2))    \n",
    "    \n",
    "    model.add(Conv2D(32, (4,4), kernel_initializer='he_normal', input_shape=(28,28,3), strides = (1,1), padding = 'same'))\n",
    "    model.add(BatchNormalization())\n",
    "    model.add(Activation('relu'))\n",
    "    \n",
    "    model.add(Conv2D(64, (4,4), kernel_initializer='he_normal', strides = (1,1), padding = 'same'))\n",
    "    model.add(BatchNormalization())\n",
    "    model.add(Activation('relu'))\n",
    "    \n",
    "    model.add(Conv2D(128, (4,4), kernel_initializer='he_normal', input_shape=(28,28,3), strides = (1,1), padding = 'same'))\n",
    "    model.add(BatchNormalization())\n",
    "    model.add(Activation('relu'))\n",
    "    \n",
    "    model.add(Conv2D(256, (4,4), kernel_initializer='he_normal', strides = (1,1), padding = 'same'))\n",
    "    model.add(BatchNormalization())\n",
    "    model.add(Activation('relu'))\n",
    "    \n",
    "    model.add(MaxPooling2D(2,2)) \n",
    "    \n",
    "    model.add(Conv2D(32, (3,3), kernel_initializer='he_normal', input_shape=(28,28,3), strides = (1,1), padding = 'same'))\n",
    "    model.add(BatchNormalization())\n",
    "    model.add(Activation('relu'))\n",
    "    \n",
    "    model.add(Conv2D(64, (3,3), kernel_initializer='he_normal', strides = (1,1), padding = 'same'))\n",
    "    model.add(BatchNormalization())\n",
    "    model.add(Activation('relu'))\n",
    "    \n",
    "    model.add(MaxPooling2D(2,2)) \n",
    "    \n",
    "    model.add(Dropout(0.25))\n",
    "    \n",
    "    model.add(Flatten())\n",
    "    \n",
    "    model.add(Dense(64, kernel_initializer='he_normal'))\n",
    "    model.add(BatchNormalization())\n",
    "    model.add(Activation('relu'))\n",
    "    model.add(Dropout(0.5))\n",
    "    \n",
    "    model.add(Dense(32, kernel_initializer='he_normal'))\n",
    "    model.add(BatchNormalization())\n",
    "    model.add(Activation('relu'))\n",
    "    model.add(Dropout(0.5))\n",
    "\n",
    "    model.add(Dense(10, activation='softmax'))\n",
    "    \n",
    "    adam = tf.keras.optimizers.Adam(lr = 0.001) \n",
    "    model.compile(optimizer=adam, loss='categorical_crossentropy', metrics=['accuracy'])\n",
    "    \n",
    "    return model"
   ]
  },
  {
   "cell_type": "code",
   "execution_count": 18,
   "metadata": {},
   "outputs": [],
   "source": [
    "model = get_Fashion_model_cnn_batch_01()"
   ]
  },
  {
   "cell_type": "code",
   "execution_count": 19,
   "metadata": {},
   "outputs": [
    {
     "name": "stdout",
     "output_type": "stream",
     "text": [
      "Train on 42000 samples, validate on 18000 samples\n",
      "Epoch 1/150\n",
      "42000/42000 [==============================] - 61s 1ms/step - loss: 1.3320 - accuracy: 0.5600 - val_loss: 0.6781 - val_accuracy: 0.8151\n",
      "Epoch 2/150\n",
      "42000/42000 [==============================] - 50s 1ms/step - loss: 0.7609 - accuracy: 0.7632 - val_loss: 0.9084 - val_accuracy: 0.6854\n",
      "Epoch 3/150\n",
      "42000/42000 [==============================] - 51s 1ms/step - loss: 0.6279 - accuracy: 0.8024 - val_loss: 0.3889 - val_accuracy: 0.8716\n",
      "Epoch 4/150\n",
      "42000/42000 [==============================] - 50s 1ms/step - loss: 0.5212 - accuracy: 0.8402 - val_loss: 0.9652 - val_accuracy: 0.7565\n",
      "Epoch 5/150\n",
      "42000/42000 [==============================] - 51s 1ms/step - loss: 0.4647 - accuracy: 0.8577 - val_loss: 0.2896 - val_accuracy: 0.9022\n",
      "Epoch 6/150\n",
      "42000/42000 [==============================] - 51s 1ms/step - loss: 0.4222 - accuracy: 0.8722 - val_loss: 0.3319 - val_accuracy: 0.8891\n",
      "Epoch 7/150\n",
      "42000/42000 [==============================] - 51s 1ms/step - loss: 0.3817 - accuracy: 0.8859 - val_loss: 0.4304 - val_accuracy: 0.8609\n",
      "Epoch 8/150\n",
      "42000/42000 [==============================] - 51s 1ms/step - loss: 0.3595 - accuracy: 0.8914 - val_loss: 0.3295 - val_accuracy: 0.8960\n",
      "Epoch 9/150\n",
      "42000/42000 [==============================] - 53s 1ms/step - loss: 0.3669 - accuracy: 0.8893 - val_loss: 0.3114 - val_accuracy: 0.9053\n",
      "Epoch 10/150\n",
      "42000/42000 [==============================] - 51s 1ms/step - loss: 0.3134 - accuracy: 0.9079 - val_loss: 0.3089 - val_accuracy: 0.9033\n",
      "Epoch 11/150\n",
      "42000/42000 [==============================] - 51s 1ms/step - loss: 0.3025 - accuracy: 0.9095 - val_loss: 0.3295 - val_accuracy: 0.9013\n",
      "Epoch 12/150\n",
      "42000/42000 [==============================] - 52s 1ms/step - loss: 0.3579 - accuracy: 0.8950 - val_loss: 0.3258 - val_accuracy: 0.9041\n",
      "Epoch 13/150\n",
      "42000/42000 [==============================] - 51s 1ms/step - loss: 0.2838 - accuracy: 0.9172 - val_loss: 0.2408 - val_accuracy: 0.9254\n",
      "Epoch 14/150\n",
      "42000/42000 [==============================] - 51s 1ms/step - loss: 0.2637 - accuracy: 0.9212 - val_loss: 0.4039 - val_accuracy: 0.8831\n",
      "Epoch 15/150\n",
      "42000/42000 [==============================] - 52s 1ms/step - loss: 0.2866 - accuracy: 0.9150 - val_loss: 0.2446 - val_accuracy: 0.9224\n",
      "Epoch 16/150\n",
      "42000/42000 [==============================] - 51s 1ms/step - loss: 0.2436 - accuracy: 0.9275 - val_loss: 0.2802 - val_accuracy: 0.9152\n",
      "Epoch 17/150\n",
      "42000/42000 [==============================] - 52s 1ms/step - loss: 0.2134 - accuracy: 0.9375 - val_loss: 0.2789 - val_accuracy: 0.9206\n",
      "Epoch 18/150\n",
      "42000/42000 [==============================] - 52s 1ms/step - loss: 0.2185 - accuracy: 0.9367 - val_loss: 0.2607 - val_accuracy: 0.9262\n",
      "Epoch 19/150\n",
      "42000/42000 [==============================] - 52s 1ms/step - loss: 0.1967 - accuracy: 0.9414 - val_loss: 0.3005 - val_accuracy: 0.9156\n",
      "Epoch 20/150\n",
      "42000/42000 [==============================] - 51s 1ms/step - loss: 0.1851 - accuracy: 0.9456 - val_loss: 0.2664 - val_accuracy: 0.9279\n",
      "Epoch 21/150\n",
      "42000/42000 [==============================] - 53s 1ms/step - loss: 0.1689 - accuracy: 0.9514 - val_loss: 0.2757 - val_accuracy: 0.9256\n",
      "Epoch 22/150\n",
      "42000/42000 [==============================] - 51s 1ms/step - loss: 0.1804 - accuracy: 0.9459 - val_loss: 0.2792 - val_accuracy: 0.9254\n",
      "Epoch 23/150\n",
      "42000/42000 [==============================] - 51s 1ms/step - loss: 0.1614 - accuracy: 0.9541 - val_loss: 0.3700 - val_accuracy: 0.9132\n",
      "Epoch 24/150\n",
      "42000/42000 [==============================] - 51s 1ms/step - loss: 0.1588 - accuracy: 0.9539 - val_loss: 0.2687 - val_accuracy: 0.9295\n",
      "Epoch 25/150\n",
      "42000/42000 [==============================] - 52s 1ms/step - loss: 0.1544 - accuracy: 0.9550 - val_loss: 0.3180 - val_accuracy: 0.9216\n",
      "Epoch 26/150\n",
      "42000/42000 [==============================] - 50s 1ms/step - loss: 0.1446 - accuracy: 0.9568 - val_loss: 0.3025 - val_accuracy: 0.9234\n",
      "Epoch 27/150\n",
      "42000/42000 [==============================] - 51s 1ms/step - loss: 0.1339 - accuracy: 0.9615 - val_loss: 0.3638 - val_accuracy: 0.9141\n",
      "Epoch 28/150\n",
      "42000/42000 [==============================] - 53s 1ms/step - loss: 0.1618 - accuracy: 0.9528 - val_loss: 0.3600 - val_accuracy: 0.9162\n",
      "Epoch 29/150\n",
      "42000/42000 [==============================] - 53s 1ms/step - loss: 0.1412 - accuracy: 0.9595 - val_loss: 0.3492 - val_accuracy: 0.9209\n",
      "Epoch 30/150\n",
      "42000/42000 [==============================] - 52s 1ms/step - loss: 0.1124 - accuracy: 0.9674 - val_loss: 0.3451 - val_accuracy: 0.9227\n",
      "Epoch 31/150\n",
      " 7168/42000 [====>.........................] - ETA: 38s - loss: 0.0922 - accuracy: 0.9747"
     ]
    },
    {
     "ename": "KeyboardInterrupt",
     "evalue": "",
     "output_type": "error",
     "traceback": [
      "\u001b[1;31m---------------------------------------------------------------------------\u001b[0m",
      "\u001b[1;31mKeyboardInterrupt\u001b[0m                         Traceback (most recent call last)",
      "\u001b[1;32m<timed exec>\u001b[0m in \u001b[0;36m<module>\u001b[1;34m\u001b[0m\n",
      "\u001b[1;32m~\\anaconda3\\envs\\tfgpu\\lib\\site-packages\\keras\\engine\\training.py\u001b[0m in \u001b[0;36mfit\u001b[1;34m(self, x, y, batch_size, epochs, verbose, callbacks, validation_split, validation_data, shuffle, class_weight, sample_weight, initial_epoch, steps_per_epoch, validation_steps, validation_freq, max_queue_size, workers, use_multiprocessing, **kwargs)\u001b[0m\n\u001b[0;32m   1237\u001b[0m                                         \u001b[0msteps_per_epoch\u001b[0m\u001b[1;33m=\u001b[0m\u001b[0msteps_per_epoch\u001b[0m\u001b[1;33m,\u001b[0m\u001b[1;33m\u001b[0m\u001b[1;33m\u001b[0m\u001b[0m\n\u001b[0;32m   1238\u001b[0m                                         \u001b[0mvalidation_steps\u001b[0m\u001b[1;33m=\u001b[0m\u001b[0mvalidation_steps\u001b[0m\u001b[1;33m,\u001b[0m\u001b[1;33m\u001b[0m\u001b[1;33m\u001b[0m\u001b[0m\n\u001b[1;32m-> 1239\u001b[1;33m                                         validation_freq=validation_freq)\n\u001b[0m\u001b[0;32m   1240\u001b[0m \u001b[1;33m\u001b[0m\u001b[0m\n\u001b[0;32m   1241\u001b[0m     def evaluate(self,\n",
      "\u001b[1;32m~\\anaconda3\\envs\\tfgpu\\lib\\site-packages\\keras\\engine\\training_arrays.py\u001b[0m in \u001b[0;36mfit_loop\u001b[1;34m(model, fit_function, fit_inputs, out_labels, batch_size, epochs, verbose, callbacks, val_function, val_inputs, shuffle, initial_epoch, steps_per_epoch, validation_steps, validation_freq)\u001b[0m\n\u001b[0;32m    194\u001b[0m                     \u001b[0mins_batch\u001b[0m\u001b[1;33m[\u001b[0m\u001b[0mi\u001b[0m\u001b[1;33m]\u001b[0m \u001b[1;33m=\u001b[0m \u001b[0mins_batch\u001b[0m\u001b[1;33m[\u001b[0m\u001b[0mi\u001b[0m\u001b[1;33m]\u001b[0m\u001b[1;33m.\u001b[0m\u001b[0mtoarray\u001b[0m\u001b[1;33m(\u001b[0m\u001b[1;33m)\u001b[0m\u001b[1;33m\u001b[0m\u001b[1;33m\u001b[0m\u001b[0m\n\u001b[0;32m    195\u001b[0m \u001b[1;33m\u001b[0m\u001b[0m\n\u001b[1;32m--> 196\u001b[1;33m                 \u001b[0mouts\u001b[0m \u001b[1;33m=\u001b[0m \u001b[0mfit_function\u001b[0m\u001b[1;33m(\u001b[0m\u001b[0mins_batch\u001b[0m\u001b[1;33m)\u001b[0m\u001b[1;33m\u001b[0m\u001b[1;33m\u001b[0m\u001b[0m\n\u001b[0m\u001b[0;32m    197\u001b[0m                 \u001b[0mouts\u001b[0m \u001b[1;33m=\u001b[0m \u001b[0mto_list\u001b[0m\u001b[1;33m(\u001b[0m\u001b[0mouts\u001b[0m\u001b[1;33m)\u001b[0m\u001b[1;33m\u001b[0m\u001b[1;33m\u001b[0m\u001b[0m\n\u001b[0;32m    198\u001b[0m                 \u001b[1;32mfor\u001b[0m \u001b[0ml\u001b[0m\u001b[1;33m,\u001b[0m \u001b[0mo\u001b[0m \u001b[1;32min\u001b[0m \u001b[0mzip\u001b[0m\u001b[1;33m(\u001b[0m\u001b[0mout_labels\u001b[0m\u001b[1;33m,\u001b[0m \u001b[0mouts\u001b[0m\u001b[1;33m)\u001b[0m\u001b[1;33m:\u001b[0m\u001b[1;33m\u001b[0m\u001b[1;33m\u001b[0m\u001b[0m\n",
      "\u001b[1;32m~\\anaconda3\\envs\\tfgpu\\lib\\site-packages\\tensorflow_core\\python\\keras\\backend.py\u001b[0m in \u001b[0;36m__call__\u001b[1;34m(self, inputs)\u001b[0m\n\u001b[0;32m   3733\u001b[0m     return nest.pack_sequence_as(\n\u001b[0;32m   3734\u001b[0m         \u001b[0mself\u001b[0m\u001b[1;33m.\u001b[0m\u001b[0m_outputs_structure\u001b[0m\u001b[1;33m,\u001b[0m\u001b[1;33m\u001b[0m\u001b[1;33m\u001b[0m\u001b[0m\n\u001b[1;32m-> 3735\u001b[1;33m         \u001b[1;33m[\u001b[0m\u001b[0mx\u001b[0m\u001b[1;33m.\u001b[0m\u001b[0m_numpy\u001b[0m\u001b[1;33m(\u001b[0m\u001b[1;33m)\u001b[0m \u001b[1;32mfor\u001b[0m \u001b[0mx\u001b[0m \u001b[1;32min\u001b[0m \u001b[0moutputs\u001b[0m\u001b[1;33m]\u001b[0m\u001b[1;33m,\u001b[0m  \u001b[1;31m# pylint: disable=protected-access\u001b[0m\u001b[1;33m\u001b[0m\u001b[1;33m\u001b[0m\u001b[0m\n\u001b[0m\u001b[0;32m   3736\u001b[0m         expand_composites=True)\n\u001b[0;32m   3737\u001b[0m \u001b[1;33m\u001b[0m\u001b[0m\n",
      "\u001b[1;32m~\\anaconda3\\envs\\tfgpu\\lib\\site-packages\\tensorflow_core\\python\\keras\\backend.py\u001b[0m in \u001b[0;36m<listcomp>\u001b[1;34m(.0)\u001b[0m\n\u001b[0;32m   3733\u001b[0m     return nest.pack_sequence_as(\n\u001b[0;32m   3734\u001b[0m         \u001b[0mself\u001b[0m\u001b[1;33m.\u001b[0m\u001b[0m_outputs_structure\u001b[0m\u001b[1;33m,\u001b[0m\u001b[1;33m\u001b[0m\u001b[1;33m\u001b[0m\u001b[0m\n\u001b[1;32m-> 3735\u001b[1;33m         \u001b[1;33m[\u001b[0m\u001b[0mx\u001b[0m\u001b[1;33m.\u001b[0m\u001b[0m_numpy\u001b[0m\u001b[1;33m(\u001b[0m\u001b[1;33m)\u001b[0m \u001b[1;32mfor\u001b[0m \u001b[0mx\u001b[0m \u001b[1;32min\u001b[0m \u001b[0moutputs\u001b[0m\u001b[1;33m]\u001b[0m\u001b[1;33m,\u001b[0m  \u001b[1;31m# pylint: disable=protected-access\u001b[0m\u001b[1;33m\u001b[0m\u001b[1;33m\u001b[0m\u001b[0m\n\u001b[0m\u001b[0;32m   3736\u001b[0m         expand_composites=True)\n\u001b[0;32m   3737\u001b[0m \u001b[1;33m\u001b[0m\u001b[0m\n",
      "\u001b[1;32m~\\anaconda3\\envs\\tfgpu\\lib\\site-packages\\tensorflow_core\\python\\framework\\ops.py\u001b[0m in \u001b[0;36m_numpy\u001b[1;34m(self)\u001b[0m\n\u001b[0;32m    906\u001b[0m     \u001b[1;31m# pylint: disable=protected-access\u001b[0m\u001b[1;33m\u001b[0m\u001b[1;33m\u001b[0m\u001b[1;33m\u001b[0m\u001b[0m\n\u001b[0;32m    907\u001b[0m     \u001b[1;32mtry\u001b[0m\u001b[1;33m:\u001b[0m\u001b[1;33m\u001b[0m\u001b[1;33m\u001b[0m\u001b[0m\n\u001b[1;32m--> 908\u001b[1;33m       \u001b[1;32mreturn\u001b[0m \u001b[0mself\u001b[0m\u001b[1;33m.\u001b[0m\u001b[0m_numpy_internal\u001b[0m\u001b[1;33m(\u001b[0m\u001b[1;33m)\u001b[0m\u001b[1;33m\u001b[0m\u001b[1;33m\u001b[0m\u001b[0m\n\u001b[0m\u001b[0;32m    909\u001b[0m     \u001b[1;32mexcept\u001b[0m \u001b[0mcore\u001b[0m\u001b[1;33m.\u001b[0m\u001b[0m_NotOkStatusException\u001b[0m \u001b[1;32mas\u001b[0m \u001b[0me\u001b[0m\u001b[1;33m:\u001b[0m\u001b[1;33m\u001b[0m\u001b[1;33m\u001b[0m\u001b[0m\n\u001b[0;32m    910\u001b[0m       \u001b[0msix\u001b[0m\u001b[1;33m.\u001b[0m\u001b[0mraise_from\u001b[0m\u001b[1;33m(\u001b[0m\u001b[0mcore\u001b[0m\u001b[1;33m.\u001b[0m\u001b[0m_status_to_exception\u001b[0m\u001b[1;33m(\u001b[0m\u001b[0me\u001b[0m\u001b[1;33m.\u001b[0m\u001b[0mcode\u001b[0m\u001b[1;33m,\u001b[0m \u001b[0me\u001b[0m\u001b[1;33m.\u001b[0m\u001b[0mmessage\u001b[0m\u001b[1;33m)\u001b[0m\u001b[1;33m,\u001b[0m \u001b[1;32mNone\u001b[0m\u001b[1;33m)\u001b[0m\u001b[1;33m\u001b[0m\u001b[1;33m\u001b[0m\u001b[0m\n",
      "\u001b[1;31mKeyboardInterrupt\u001b[0m: "
     ]
    }
   ],
   "source": [
    "%%time\n",
    "history7 = model.fit(x_data, y_data, batch_size=256, epochs=150, verbose=1,\n",
    "         validation_split = 0.3)"
   ]
  },
  {
   "cell_type": "code",
   "execution_count": null,
   "metadata": {},
   "outputs": [],
   "source": []
  },
  {
   "cell_type": "code",
   "execution_count": null,
   "metadata": {},
   "outputs": [],
   "source": [
    "# serialize the model to disk\n",
    "print(\"[INFO] saving COVID-19 detector model...\")\n",
    "model.save(\"model_ApperalDetection\", save_format=\"h5\")"
   ]
  },
  {
   "cell_type": "markdown",
   "metadata": {},
   "source": [
    "## Load the saved model"
   ]
  },
  {
   "cell_type": "code",
   "execution_count": 9,
   "metadata": {},
   "outputs": [
    {
     "ename": "OSError",
     "evalue": "SavedModel file does not exist at: model_ApperalDetection/{saved_model.pbtxt|saved_model.pb}",
     "output_type": "error",
     "traceback": [
      "\u001b[1;31m---------------------------------------------------------------------------\u001b[0m",
      "\u001b[1;31mOSError\u001b[0m                                   Traceback (most recent call last)",
      "\u001b[1;32m<ipython-input-9-62840111e93b>\u001b[0m in \u001b[0;36m<module>\u001b[1;34m\u001b[0m\n\u001b[0;32m      6\u001b[0m \u001b[0mMODEL_PATH\u001b[0m \u001b[1;33m=\u001b[0m \u001b[1;34m'model_ApperalDetection'\u001b[0m\u001b[1;33m\u001b[0m\u001b[1;33m\u001b[0m\u001b[0m\n\u001b[0;32m      7\u001b[0m \u001b[1;31m# Load your trained model\u001b[0m\u001b[1;33m\u001b[0m\u001b[1;33m\u001b[0m\u001b[1;33m\u001b[0m\u001b[0m\n\u001b[1;32m----> 8\u001b[1;33m \u001b[0mloadedModel\u001b[0m \u001b[1;33m=\u001b[0m \u001b[0mkeras\u001b[0m\u001b[1;33m.\u001b[0m\u001b[0mmodels\u001b[0m\u001b[1;33m.\u001b[0m\u001b[0mload_model\u001b[0m\u001b[1;33m(\u001b[0m\u001b[0mMODEL_PATH\u001b[0m\u001b[1;33m)\u001b[0m\u001b[1;33m\u001b[0m\u001b[1;33m\u001b[0m\u001b[0m\n\u001b[0m",
      "\u001b[1;32m~\\anaconda3\\envs\\tfgpu\\lib\\site-packages\\tensorflow_core\\python\\keras\\saving\\save.py\u001b[0m in \u001b[0;36mload_model\u001b[1;34m(filepath, custom_objects, compile)\u001b[0m\n\u001b[0;32m    147\u001b[0m \u001b[1;33m\u001b[0m\u001b[0m\n\u001b[0;32m    148\u001b[0m   \u001b[1;32mif\u001b[0m \u001b[0misinstance\u001b[0m\u001b[1;33m(\u001b[0m\u001b[0mfilepath\u001b[0m\u001b[1;33m,\u001b[0m \u001b[0msix\u001b[0m\u001b[1;33m.\u001b[0m\u001b[0mstring_types\u001b[0m\u001b[1;33m)\u001b[0m\u001b[1;33m:\u001b[0m\u001b[1;33m\u001b[0m\u001b[1;33m\u001b[0m\u001b[0m\n\u001b[1;32m--> 149\u001b[1;33m     \u001b[0mloader_impl\u001b[0m\u001b[1;33m.\u001b[0m\u001b[0mparse_saved_model\u001b[0m\u001b[1;33m(\u001b[0m\u001b[0mfilepath\u001b[0m\u001b[1;33m)\u001b[0m\u001b[1;33m\u001b[0m\u001b[1;33m\u001b[0m\u001b[0m\n\u001b[0m\u001b[0;32m    150\u001b[0m     \u001b[1;32mreturn\u001b[0m \u001b[0msaved_model_load\u001b[0m\u001b[1;33m.\u001b[0m\u001b[0mload\u001b[0m\u001b[1;33m(\u001b[0m\u001b[0mfilepath\u001b[0m\u001b[1;33m,\u001b[0m \u001b[0mcompile\u001b[0m\u001b[1;33m)\u001b[0m\u001b[1;33m\u001b[0m\u001b[1;33m\u001b[0m\u001b[0m\n\u001b[0;32m    151\u001b[0m \u001b[1;33m\u001b[0m\u001b[0m\n",
      "\u001b[1;32m~\\anaconda3\\envs\\tfgpu\\lib\\site-packages\\tensorflow_core\\python\\saved_model\\loader_impl.py\u001b[0m in \u001b[0;36mparse_saved_model\u001b[1;34m(export_dir)\u001b[0m\n\u001b[0;32m     81\u001b[0m                   (export_dir,\n\u001b[0;32m     82\u001b[0m                    \u001b[0mconstants\u001b[0m\u001b[1;33m.\u001b[0m\u001b[0mSAVED_MODEL_FILENAME_PBTXT\u001b[0m\u001b[1;33m,\u001b[0m\u001b[1;33m\u001b[0m\u001b[1;33m\u001b[0m\u001b[0m\n\u001b[1;32m---> 83\u001b[1;33m                    constants.SAVED_MODEL_FILENAME_PB))\n\u001b[0m\u001b[0;32m     84\u001b[0m \u001b[1;33m\u001b[0m\u001b[0m\n\u001b[0;32m     85\u001b[0m \u001b[1;33m\u001b[0m\u001b[0m\n",
      "\u001b[1;31mOSError\u001b[0m: SavedModel file does not exist at: model_ApperalDetection/{saved_model.pbtxt|saved_model.pb}"
     ]
    }
   ],
   "source": [
    "#Image utils\n",
    "from tensorflow import keras\n",
    "import cv2\n",
    "\n",
    "# Model saved with Keras model.save()\n",
    "MODEL_PATH = 'model_ApperalDetection'\n",
    "# Load your trained model\n",
    "loadedModel = keras.models.load_model(MODEL_PATH)\n"
   ]
  },
  {
   "cell_type": "code",
   "execution_count": 20,
   "metadata": {},
   "outputs": [],
   "source": [
    "testDt = \"D:/Hackeathon/AnalyticsVidhya/Fashion_MNIST/train/2.png\"\n",
    "image = cv2.imread(testDt)\n",
    "\n",
    "BS = 256\n",
    "\n",
    "image_con = image.reshape((1, x_data.shape[0], x_data.shape[1], x_data.shape[2],1))\n",
    "predIdxs = loadedModel.predict(image_con, batch_size=BS)\n",
    "\n",
    "# for each image in the testing set we need to find the index of the\n",
    "# label with corresponding largest predicted probability\n",
    "predIdxs = np.argmax(predIdxs, axis=1)\n",
    "kv = {0:\"T-shirt/top\", 1:\"Trouser\", 2:\"Pullover\", 3:\"Dress\", 4:\"Coat\", 5:\"Sandal\", 6:\"Shirt\", 7:\"Sneaker\", 8:\"Bag\", 9:\"Ankle boot\"}\n",
    "l = dict((k,v) for k,v in kv.items())\n",
    "prednames = l[predIdxs[0]]\n",
    "print(prednames)"
   ]
  },
  {
   "cell_type": "code",
   "execution_count": null,
   "metadata": {},
   "outputs": [],
   "source": []
  },
  {
   "cell_type": "code",
   "execution_count": null,
   "metadata": {},
   "outputs": [],
   "source": []
  },
  {
   "cell_type": "code",
   "execution_count": null,
   "metadata": {},
   "outputs": [],
   "source": [
    "testDt = \"D:/Hackeathon/AnalyticsVidhya/Fashion_MNIST/train/2.png\"\n",
    "image = cv2.imread(testDt)\n",
    "\n",
    "image_con = image.reshape((x_data.shape[0], x_data.shape[1], x_data.shape[2],1))\n",
    "\n",
    "#image = cv2.cvtColor(image, cv2.COLOR_BGR2RGB)\n",
    "#image = cv2.resize(image, (224, 224))\n",
    "#image_con = image.reshape((1,224, 224,3))\n",
    "#image_con = np.array(image_con) / 255.0\n",
    "predIdxs = loadedModel.predict(image_con, batch_size=BS)\n",
    "\n",
    "# for each image in the testing set we need to find the index of the\n",
    "# label with corresponding largest predicted probability\n",
    "predIdxs = np.argmax(predIdxs, axis=1)\n",
    "kv = {0:\"T-shirt/top\", 1:\"Trouser\", 2:\"Pullover\", 3:\"Dress\", 4:\"Coat\", 5:\"Sandal\", 6:\"Shirt\", 7:\"Sneaker\", 8:\"Bag\", 9:\"Ankle boot\"}\n",
    "l = dict((k,v) for k,v in kv.items())\n",
    "prednames = l[predIdxs[0]]\n",
    "print(prednames)"
   ]
  },
  {
   "cell_type": "code",
   "execution_count": null,
   "metadata": {},
   "outputs": [],
   "source": []
  },
  {
   "cell_type": "code",
   "execution_count": null,
   "metadata": {},
   "outputs": [],
   "source": []
  },
  {
   "cell_type": "code",
   "execution_count": null,
   "metadata": {},
   "outputs": [],
   "source": []
  },
  {
   "cell_type": "code",
   "execution_count": 32,
   "metadata": {},
   "outputs": [],
   "source": [
    "#Step 1: Create or open a file with write-binary mode and save the model to it\n",
    "filenm = 'MNIST_Fashion_2LayerCNN_02he_normal_Adam01.pickle'\n",
    "\n",
    "#Step 2: Open the saved file with read-binary mode\n",
    "pickle = pkl.dump(model, open(filenm, 'wb'))\n",
    "\n",
    "predicted = model.predict(x_data_sub)\n",
    "y_pred = predicted.argmax(axis=1)\n",
    "\n",
    "Out = pd.DataFrame([test['id'],y_pred]).T\n",
    "Out.rename(columns = {0:'id', 1:'label'})\n",
    "\n",
    "#Out\n",
    "Out.to_csv('MNIST_Fashion_DropOut_2LayerCNN_02he_normal_Adam01.csv', header =  ['id', 'label' ], index = None)\n",
    "\n",
    "## AV Score = 92.9  i.e. 0.92975"
   ]
  },
  {
   "cell_type": "code",
   "execution_count": null,
   "metadata": {},
   "outputs": [],
   "source": []
  },
  {
   "cell_type": "code",
   "execution_count": 33,
   "metadata": {},
   "outputs": [],
   "source": [
    "def get_Fashion_model_cnn_batch_02():\n",
    "    model = Sequential()\n",
    "    model.add(Conv2D(32, (4,4), kernel_initializer='he_normal', input_shape=(28,28,3), strides = (1,1), padding = 'same'))\n",
    "    model.add(BatchNormalization())\n",
    "    model.add(Activation('relu'))\n",
    "    \n",
    "    model.add(Conv2D(64, (4,4), kernel_initializer='he_normal', strides = (1,1), padding = 'same'))\n",
    "    model.add(BatchNormalization())\n",
    "    model.add(Activation('relu'))\n",
    "    \n",
    "    model.add(Conv2D(128, (4,4), kernel_initializer='he_normal', input_shape=(28,28,3), strides = (1,1), padding = 'same'))\n",
    "    model.add(BatchNormalization())\n",
    "    model.add(Activation('relu'))\n",
    "    \n",
    "    model.add(Conv2D(256, (4,4), kernel_initializer='he_normal', strides = (1,1), padding = 'same'))\n",
    "    model.add(BatchNormalization())\n",
    "    model.add(Activation('relu'))\n",
    "    \n",
    "    model.add(MaxPooling2D(2,2))    \n",
    "    \n",
    "    model.add(Conv2D(32, (4,4), kernel_initializer='he_normal', input_shape=(28,28,3), strides = (1,1), padding = 'same'))\n",
    "    model.add(BatchNormalization())\n",
    "    model.add(Activation('relu'))\n",
    "    \n",
    "    model.add(Conv2D(64, (4,4), kernel_initializer='he_normal', strides = (1,1), padding = 'same'))\n",
    "    model.add(BatchNormalization())\n",
    "    model.add(Activation('relu'))\n",
    "    \n",
    "    model.add(Conv2D(128, (4,4), kernel_initializer='he_normal', input_shape=(28,28,3), strides = (1,1), padding = 'same'))\n",
    "    model.add(BatchNormalization())\n",
    "    model.add(Activation('relu'))\n",
    "    \n",
    "    model.add(Conv2D(256, (4,4), kernel_initializer='he_normal', strides = (1,1), padding = 'same'))\n",
    "    model.add(BatchNormalization())\n",
    "    model.add(Activation('relu'))\n",
    "    \n",
    "    model.add(MaxPooling2D(2,2)) \n",
    "    \n",
    "    model.add(Conv2D(32, (3,3), kernel_initializer='he_normal', input_shape=(28,28,3), strides = (1,1), padding = 'same'))\n",
    "    model.add(BatchNormalization())\n",
    "    model.add(Activation('relu'))\n",
    "    \n",
    "    model.add(Conv2D(64, (3,3), kernel_initializer='he_normal', strides = (1,1), padding = 'same'))\n",
    "    model.add(BatchNormalization())\n",
    "    model.add(Activation('relu'))\n",
    "    \n",
    "    model.add(MaxPooling2D(2,2)) \n",
    "    \n",
    "    model.add(Dropout(0.25))\n",
    "    \n",
    "    model.add(Flatten())\n",
    "    \n",
    "    model.add(Dense(64, kernel_initializer='he_normal'))\n",
    "    model.add(BatchNormalization())\n",
    "    model.add(Activation('relu'))\n",
    "    model.add(Dropout(0.5))\n",
    "    \n",
    "    model.add(Dense(32, kernel_initializer='he_normal'))\n",
    "    model.add(BatchNormalization())\n",
    "    model.add(Activation('relu'))\n",
    "    model.add(Dropout(0.5))\n",
    "\n",
    "    model.add(Dense(10, activation='softmax'))\n",
    "    \n",
    "    adam = tf.keras.optimizers.Adam(lr = 0.001) \n",
    "    model.compile(optimizer=adam, loss='categorical_crossentropy', metrics=['accuracy'])\n",
    "    \n",
    "    return model"
   ]
  },
  {
   "cell_type": "code",
   "execution_count": 34,
   "metadata": {},
   "outputs": [],
   "source": [
    "model = get_Fashion_model_cnn_batch_02()"
   ]
  },
  {
   "cell_type": "code",
   "execution_count": 35,
   "metadata": {},
   "outputs": [
    {
     "name": "stdout",
     "output_type": "stream",
     "text": [
      "Train on 42000 samples, validate on 18000 samples\n",
      "Epoch 1/150\n",
      "42000/42000 [==============================] - 51s 1ms/step - loss: 1.3488 - accuracy: 0.5544 - val_loss: 0.7911 - val_accuracy: 0.7483\n",
      "Epoch 2/150\n",
      "42000/42000 [==============================] - 50s 1ms/step - loss: 0.7618 - accuracy: 0.7620 - val_loss: 0.4269 - val_accuracy: 0.8663\n",
      "Epoch 3/150\n",
      "42000/42000 [==============================] - 50s 1ms/step - loss: 0.6022 - accuracy: 0.8139 - val_loss: 0.4060 - val_accuracy: 0.8614\n",
      "Epoch 4/150\n",
      "42000/42000 [==============================] - 50s 1ms/step - loss: 0.5085 - accuracy: 0.8429 - val_loss: 0.3842 - val_accuracy: 0.8713\n",
      "Epoch 5/150\n",
      "42000/42000 [==============================] - 50s 1ms/step - loss: 0.4740 - accuracy: 0.8541 - val_loss: 0.3695 - val_accuracy: 0.8766\n",
      "Epoch 6/150\n",
      "42000/42000 [==============================] - 50s 1ms/step - loss: 0.4220 - accuracy: 0.8723 - val_loss: 0.3567 - val_accuracy: 0.8843\n",
      "Epoch 7/150\n",
      "42000/42000 [==============================] - 50s 1ms/step - loss: 0.3809 - accuracy: 0.8832 - val_loss: 0.3028 - val_accuracy: 0.8969\n",
      "Epoch 8/150\n",
      "42000/42000 [==============================] - 50s 1ms/step - loss: 0.3569 - accuracy: 0.8931 - val_loss: 0.2750 - val_accuracy: 0.9071\n",
      "Epoch 9/150\n",
      "42000/42000 [==============================] - 50s 1ms/step - loss: 0.3382 - accuracy: 0.8986 - val_loss: 0.3928 - val_accuracy: 0.8760\n",
      "Epoch 10/150\n",
      "42000/42000 [==============================] - 50s 1ms/step - loss: 0.3230 - accuracy: 0.9040 - val_loss: 0.2474 - val_accuracy: 0.9192\n",
      "Epoch 11/150\n",
      "42000/42000 [==============================] - 50s 1ms/step - loss: 0.3180 - accuracy: 0.9045 - val_loss: 0.3246 - val_accuracy: 0.8971\n",
      "Epoch 12/150\n",
      "42000/42000 [==============================] - 50s 1ms/step - loss: 0.3109 - accuracy: 0.9069 - val_loss: 0.3015 - val_accuracy: 0.9095\n",
      "Epoch 13/150\n",
      "42000/42000 [==============================] - 50s 1ms/step - loss: 0.2762 - accuracy: 0.9180 - val_loss: 0.2732 - val_accuracy: 0.9162\n",
      "Epoch 14/150\n",
      "42000/42000 [==============================] - 50s 1ms/step - loss: 0.2621 - accuracy: 0.9237 - val_loss: 0.3553 - val_accuracy: 0.8904\n",
      "Epoch 15/150\n",
      "42000/42000 [==============================] - 50s 1ms/step - loss: 0.2395 - accuracy: 0.9289 - val_loss: 0.3233 - val_accuracy: 0.9047\n",
      "Epoch 16/150\n",
      "42000/42000 [==============================] - 50s 1ms/step - loss: 0.3130 - accuracy: 0.9082 - val_loss: 0.3007 - val_accuracy: 0.9085\n",
      "Epoch 17/150\n",
      "42000/42000 [==============================] - 50s 1ms/step - loss: 0.2306 - accuracy: 0.9322 - val_loss: 0.2474 - val_accuracy: 0.9217\n",
      "Epoch 18/150\n",
      "42000/42000 [==============================] - 50s 1ms/step - loss: 0.2112 - accuracy: 0.9391 - val_loss: 0.2607 - val_accuracy: 0.9243\n",
      "Epoch 19/150\n",
      "42000/42000 [==============================] - 50s 1ms/step - loss: 0.2464 - accuracy: 0.9292 - val_loss: 0.3620 - val_accuracy: 0.8992\n",
      "Epoch 20/150\n",
      "42000/42000 [==============================] - 50s 1ms/step - loss: 0.2218 - accuracy: 0.9361 - val_loss: 0.2766 - val_accuracy: 0.9192\n",
      "Epoch 21/150\n",
      "42000/42000 [==============================] - 50s 1ms/step - loss: 0.1821 - accuracy: 0.9471 - val_loss: 0.2775 - val_accuracy: 0.9213\n",
      "Epoch 22/150\n",
      "42000/42000 [==============================] - 50s 1ms/step - loss: 0.1941 - accuracy: 0.9443 - val_loss: 0.3513 - val_accuracy: 0.8962\n",
      "Epoch 23/150\n",
      "42000/42000 [==============================] - 50s 1ms/step - loss: 0.1750 - accuracy: 0.9483 - val_loss: 0.4850 - val_accuracy: 0.8857\n",
      "Epoch 24/150\n",
      "42000/42000 [==============================] - 50s 1ms/step - loss: 0.2354 - accuracy: 0.9334 - val_loss: 0.2496 - val_accuracy: 0.9276\n",
      "Epoch 25/150\n",
      "42000/42000 [==============================] - 50s 1ms/step - loss: 0.1607 - accuracy: 0.9532 - val_loss: 0.3164 - val_accuracy: 0.9168\n",
      "Epoch 26/150\n",
      "42000/42000 [==============================] - 50s 1ms/step - loss: 0.1396 - accuracy: 0.9599 - val_loss: 0.3253 - val_accuracy: 0.9223\n",
      "Epoch 27/150\n",
      "42000/42000 [==============================] - 50s 1ms/step - loss: 0.1901 - accuracy: 0.9455 - val_loss: 0.2868 - val_accuracy: 0.9254\n",
      "Epoch 28/150\n",
      "42000/42000 [==============================] - 50s 1ms/step - loss: 0.1710 - accuracy: 0.9493 - val_loss: 0.4196 - val_accuracy: 0.9047\n",
      "Epoch 29/150\n",
      "42000/42000 [==============================] - 50s 1ms/step - loss: 0.1662 - accuracy: 0.9533 - val_loss: 0.3209 - val_accuracy: 0.9226\n",
      "Epoch 30/150\n",
      "42000/42000 [==============================] - 50s 1ms/step - loss: 0.1246 - accuracy: 0.9643 - val_loss: 0.2955 - val_accuracy: 0.9308\n",
      "Epoch 31/150\n",
      "42000/42000 [==============================] - 50s 1ms/step - loss: 0.1168 - accuracy: 0.9654 - val_loss: 0.3378 - val_accuracy: 0.9252\n",
      "Epoch 32/150\n",
      "42000/42000 [==============================] - 50s 1ms/step - loss: 0.1057 - accuracy: 0.9689 - val_loss: 0.3416 - val_accuracy: 0.9285\n",
      "Epoch 33/150\n",
      "42000/42000 [==============================] - 50s 1ms/step - loss: 0.1340 - accuracy: 0.9614 - val_loss: 0.3336 - val_accuracy: 0.9287\n",
      "Epoch 34/150\n",
      "42000/42000 [==============================] - 50s 1ms/step - loss: 0.1182 - accuracy: 0.9659 - val_loss: 0.3701 - val_accuracy: 0.9208\n",
      "Epoch 35/150\n",
      "42000/42000 [==============================] - 50s 1ms/step - loss: 0.1041 - accuracy: 0.9703 - val_loss: 0.3383 - val_accuracy: 0.9284\n",
      "Epoch 36/150\n",
      "42000/42000 [==============================] - 50s 1ms/step - loss: 0.1066 - accuracy: 0.9686 - val_loss: 0.3423 - val_accuracy: 0.9263\n",
      "Epoch 37/150\n",
      "42000/42000 [==============================] - 50s 1ms/step - loss: 0.0824 - accuracy: 0.9756 - val_loss: 0.3771 - val_accuracy: 0.9296\n",
      "Epoch 38/150\n",
      "42000/42000 [==============================] - 50s 1ms/step - loss: 0.0879 - accuracy: 0.9747 - val_loss: 0.3486 - val_accuracy: 0.9292\n",
      "Epoch 39/150\n",
      "42000/42000 [==============================] - 50s 1ms/step - loss: 0.0933 - accuracy: 0.9732 - val_loss: 0.3754 - val_accuracy: 0.9225\n",
      "Epoch 40/150\n",
      "42000/42000 [==============================] - 50s 1ms/step - loss: 0.1336 - accuracy: 0.9611 - val_loss: 0.3401 - val_accuracy: 0.9288\n",
      "Epoch 41/150\n",
      "42000/42000 [==============================] - 50s 1ms/step - loss: 0.0860 - accuracy: 0.9745 - val_loss: 0.3806 - val_accuracy: 0.9244\n",
      "Epoch 42/150\n",
      "42000/42000 [==============================] - 50s 1ms/step - loss: 0.0788 - accuracy: 0.9772 - val_loss: 0.3834 - val_accuracy: 0.9302\n",
      "Epoch 43/150\n",
      "42000/42000 [==============================] - 50s 1ms/step - loss: 0.0820 - accuracy: 0.9753 - val_loss: 0.4131 - val_accuracy: 0.9298\n",
      "Epoch 44/150\n",
      "42000/42000 [==============================] - 50s 1ms/step - loss: 0.0787 - accuracy: 0.9769 - val_loss: 0.3732 - val_accuracy: 0.9304\n",
      "Epoch 45/150\n",
      "42000/42000 [==============================] - 50s 1ms/step - loss: 0.0719 - accuracy: 0.9778 - val_loss: 0.4375 - val_accuracy: 0.9267\n",
      "Epoch 46/150\n",
      "42000/42000 [==============================] - 50s 1ms/step - loss: 0.1347 - accuracy: 0.9633 - val_loss: 0.4896 - val_accuracy: 0.9093\n",
      "Epoch 47/150\n",
      "42000/42000 [==============================] - 50s 1ms/step - loss: 0.0800 - accuracy: 0.9759 - val_loss: 0.4167 - val_accuracy: 0.9262\n",
      "Epoch 48/150\n",
      "42000/42000 [==============================] - 50s 1ms/step - loss: 0.0733 - accuracy: 0.9781 - val_loss: 0.3956 - val_accuracy: 0.9331\n",
      "Epoch 49/150\n",
      "42000/42000 [==============================] - 50s 1ms/step - loss: 0.0673 - accuracy: 0.9803 - val_loss: 0.4247 - val_accuracy: 0.9268\n",
      "Epoch 50/150\n",
      "42000/42000 [==============================] - 50s 1ms/step - loss: 0.0882 - accuracy: 0.9742 - val_loss: 0.4300 - val_accuracy: 0.9292\n",
      "Epoch 51/150\n",
      "42000/42000 [==============================] - 52s 1ms/step - loss: 0.0804 - accuracy: 0.9772 - val_loss: 0.4259 - val_accuracy: 0.9292\n",
      "Epoch 52/150\n",
      "42000/42000 [==============================] - 50s 1ms/step - loss: 0.0601 - accuracy: 0.9825 - val_loss: 0.4136 - val_accuracy: 0.9325\n",
      "Epoch 53/150\n",
      "42000/42000 [==============================] - 50s 1ms/step - loss: 0.0558 - accuracy: 0.9827 - val_loss: 0.5316 - val_accuracy: 0.9254\n",
      "Epoch 54/150\n",
      "42000/42000 [==============================] - 50s 1ms/step - loss: 0.0630 - accuracy: 0.9804 - val_loss: 0.4751 - val_accuracy: 0.9287\n",
      "Epoch 55/150\n",
      "42000/42000 [==============================] - 50s 1ms/step - loss: 0.0906 - accuracy: 0.9747 - val_loss: 0.4311 - val_accuracy: 0.9268\n"
     ]
    },
    {
     "name": "stdout",
     "output_type": "stream",
     "text": [
      "Epoch 56/150\n",
      "42000/42000 [==============================] - 51s 1ms/step - loss: 0.0651 - accuracy: 0.9803 - val_loss: 0.5196 - val_accuracy: 0.9249\n",
      "Epoch 57/150\n",
      "42000/42000 [==============================] - 50s 1ms/step - loss: 0.0562 - accuracy: 0.9839 - val_loss: 0.4704 - val_accuracy: 0.9284\n",
      "Epoch 58/150\n",
      "42000/42000 [==============================] - 50s 1ms/step - loss: 0.1353 - accuracy: 0.9650 - val_loss: 0.4083 - val_accuracy: 0.9311\n",
      "Epoch 59/150\n",
      "42000/42000 [==============================] - 51s 1ms/step - loss: 0.0692 - accuracy: 0.9802 - val_loss: 0.4507 - val_accuracy: 0.9262\n",
      "Epoch 60/150\n",
      "42000/42000 [==============================] - 51s 1ms/step - loss: 0.0808 - accuracy: 0.9773 - val_loss: 0.4212 - val_accuracy: 0.9306\n",
      "Epoch 61/150\n",
      "42000/42000 [==============================] - 53s 1ms/step - loss: 0.0504 - accuracy: 0.9839 - val_loss: 0.4600 - val_accuracy: 0.9308\n",
      "Epoch 62/150\n",
      "42000/42000 [==============================] - 56s 1ms/step - loss: 0.0451 - accuracy: 0.9857 - val_loss: 0.5749 - val_accuracy: 0.9261\n",
      "Epoch 63/150\n",
      "42000/42000 [==============================] - 52s 1ms/step - loss: 0.0593 - accuracy: 0.9825 - val_loss: 0.5447 - val_accuracy: 0.9235\n",
      "Epoch 64/150\n",
      "42000/42000 [==============================] - 52s 1ms/step - loss: 0.0605 - accuracy: 0.9824 - val_loss: 0.4880 - val_accuracy: 0.9297\n",
      "Epoch 65/150\n",
      "42000/42000 [==============================] - 52s 1ms/step - loss: 0.0457 - accuracy: 0.9859 - val_loss: 0.4770 - val_accuracy: 0.9319\n",
      "Epoch 66/150\n",
      "42000/42000 [==============================] - 52s 1ms/step - loss: 0.0486 - accuracy: 0.9856 - val_loss: 0.6080 - val_accuracy: 0.9219\n",
      "Epoch 67/150\n",
      "42000/42000 [==============================] - 52s 1ms/step - loss: 0.0595 - accuracy: 0.9828 - val_loss: 0.5701 - val_accuracy: 0.9203\n",
      "Epoch 68/150\n",
      "42000/42000 [==============================] - 52s 1ms/step - loss: 0.1098 - accuracy: 0.9712 - val_loss: 0.4277 - val_accuracy: 0.9308\n",
      "Epoch 69/150\n",
      "42000/42000 [==============================] - 52s 1ms/step - loss: 0.0823 - accuracy: 0.9770 - val_loss: 0.4594 - val_accuracy: 0.9304\n",
      "Epoch 70/150\n",
      "42000/42000 [==============================] - 52s 1ms/step - loss: 0.0516 - accuracy: 0.9850 - val_loss: 0.5170 - val_accuracy: 0.9279\n",
      "Epoch 71/150\n",
      "42000/42000 [==============================] - 52s 1ms/step - loss: 0.0418 - accuracy: 0.9869 - val_loss: 0.5052 - val_accuracy: 0.9322\n",
      "Epoch 72/150\n",
      "42000/42000 [==============================] - 52s 1ms/step - loss: 0.0417 - accuracy: 0.9871 - val_loss: 0.6407 - val_accuracy: 0.9258\n",
      "Epoch 73/150\n",
      "42000/42000 [==============================] - 52s 1ms/step - loss: 0.0541 - accuracy: 0.9838 - val_loss: 0.5256 - val_accuracy: 0.9273\n",
      "Epoch 74/150\n",
      "42000/42000 [==============================] - 52s 1ms/step - loss: 0.0867 - accuracy: 0.9762 - val_loss: 0.4241 - val_accuracy: 0.9346\n",
      "Epoch 75/150\n",
      "42000/42000 [==============================] - 52s 1ms/step - loss: 0.0456 - accuracy: 0.9860 - val_loss: 0.5074 - val_accuracy: 0.9342\n",
      "Epoch 76/150\n",
      "42000/42000 [==============================] - 52s 1ms/step - loss: 0.0621 - accuracy: 0.9817 - val_loss: 0.5001 - val_accuracy: 0.9296\n",
      "Epoch 77/150\n",
      "42000/42000 [==============================] - 52s 1ms/step - loss: 0.0442 - accuracy: 0.9859 - val_loss: 0.5096 - val_accuracy: 0.9312\n",
      "Epoch 78/150\n",
      "42000/42000 [==============================] - 52s 1ms/step - loss: 0.0371 - accuracy: 0.9880 - val_loss: 0.5246 - val_accuracy: 0.9338\n",
      "Epoch 79/150\n",
      "42000/42000 [==============================] - 52s 1ms/step - loss: 0.0550 - accuracy: 0.9839 - val_loss: 0.5852 - val_accuracy: 0.9259\n",
      "Epoch 80/150\n",
      "42000/42000 [==============================] - 52s 1ms/step - loss: 0.0431 - accuracy: 0.9870 - val_loss: 0.5426 - val_accuracy: 0.9330\n",
      "Epoch 81/150\n",
      "42000/42000 [==============================] - 52s 1ms/step - loss: 0.0403 - accuracy: 0.9874 - val_loss: 0.5498 - val_accuracy: 0.9278\n",
      "Epoch 82/150\n",
      "42000/42000 [==============================] - 52s 1ms/step - loss: 0.0916 - accuracy: 0.9764 - val_loss: 0.4754 - val_accuracy: 0.9272\n",
      "Epoch 83/150\n",
      "42000/42000 [==============================] - 52s 1ms/step - loss: 0.0661 - accuracy: 0.9815 - val_loss: 0.5126 - val_accuracy: 0.9327\n",
      "Epoch 84/150\n",
      "42000/42000 [==============================] - 52s 1ms/step - loss: 0.0755 - accuracy: 0.9779 - val_loss: 0.5059 - val_accuracy: 0.9288\n",
      "Epoch 85/150\n",
      "42000/42000 [==============================] - 52s 1ms/step - loss: 0.0445 - accuracy: 0.9868 - val_loss: 0.6782 - val_accuracy: 0.9197\n",
      "Epoch 86/150\n",
      "42000/42000 [==============================] - 52s 1ms/step - loss: 0.0925 - accuracy: 0.9749 - val_loss: 0.4749 - val_accuracy: 0.9309\n",
      "Epoch 87/150\n",
      "42000/42000 [==============================] - 52s 1ms/step - loss: 0.0453 - accuracy: 0.9860 - val_loss: 0.4969 - val_accuracy: 0.9354\n",
      "Epoch 88/150\n",
      "42000/42000 [==============================] - 52s 1ms/step - loss: 0.0454 - accuracy: 0.9858 - val_loss: 0.5244 - val_accuracy: 0.9324\n",
      "Epoch 89/150\n",
      "42000/42000 [==============================] - 52s 1ms/step - loss: 0.0711 - accuracy: 0.9814 - val_loss: 0.4668 - val_accuracy: 0.9341\n",
      "Epoch 90/150\n",
      "42000/42000 [==============================] - 52s 1ms/step - loss: 0.0446 - accuracy: 0.9869 - val_loss: 0.5742 - val_accuracy: 0.9292\n",
      "Epoch 91/150\n",
      "42000/42000 [==============================] - 52s 1ms/step - loss: 0.0395 - accuracy: 0.9878 - val_loss: 0.5123 - val_accuracy: 0.9371\n",
      "Epoch 92/150\n",
      "42000/42000 [==============================] - 52s 1ms/step - loss: 0.0379 - accuracy: 0.9879 - val_loss: 0.5830 - val_accuracy: 0.9296\n",
      "Epoch 93/150\n",
      "42000/42000 [==============================] - 52s 1ms/step - loss: 0.0429 - accuracy: 0.9868 - val_loss: 0.6614 - val_accuracy: 0.9228\n",
      "Epoch 94/150\n",
      "42000/42000 [==============================] - 52s 1ms/step - loss: 0.0535 - accuracy: 0.9849 - val_loss: 0.5280 - val_accuracy: 0.9338\n",
      "Epoch 95/150\n",
      "42000/42000 [==============================] - 52s 1ms/step - loss: 0.0318 - accuracy: 0.9899 - val_loss: 0.5610 - val_accuracy: 0.9349\n",
      "Epoch 96/150\n",
      "42000/42000 [==============================] - 52s 1ms/step - loss: 0.0443 - accuracy: 0.9865 - val_loss: 0.6185 - val_accuracy: 0.9317\n",
      "Epoch 97/150\n",
      "42000/42000 [==============================] - 52s 1ms/step - loss: 0.1399 - accuracy: 0.9665 - val_loss: 0.4398 - val_accuracy: 0.9331\n",
      "Epoch 98/150\n",
      "42000/42000 [==============================] - 52s 1ms/step - loss: 0.1398 - accuracy: 0.9640 - val_loss: 0.3879 - val_accuracy: 0.9307\n",
      "Epoch 99/150\n",
      "42000/42000 [==============================] - 52s 1ms/step - loss: 0.0795 - accuracy: 0.9781 - val_loss: 0.4296 - val_accuracy: 0.9334\n",
      "Epoch 100/150\n",
      "42000/42000 [==============================] - 52s 1ms/step - loss: 0.0456 - accuracy: 0.9858 - val_loss: 0.4596 - val_accuracy: 0.9363\n",
      "Epoch 101/150\n",
      "42000/42000 [==============================] - 52s 1ms/step - loss: 0.0427 - accuracy: 0.9865 - val_loss: 0.5199 - val_accuracy: 0.9341\n",
      "Epoch 102/150\n",
      "42000/42000 [==============================] - 52s 1ms/step - loss: 0.0542 - accuracy: 0.9844 - val_loss: 0.5099 - val_accuracy: 0.9313\n",
      "Epoch 103/150\n",
      "42000/42000 [==============================] - 52s 1ms/step - loss: 0.0346 - accuracy: 0.9891 - val_loss: 0.4993 - val_accuracy: 0.9366\n",
      "Epoch 104/150\n",
      "42000/42000 [==============================] - 52s 1ms/step - loss: 0.0328 - accuracy: 0.9892 - val_loss: 0.5477 - val_accuracy: 0.9327\n",
      "Epoch 105/150\n",
      "42000/42000 [==============================] - 53s 1ms/step - loss: 0.0336 - accuracy: 0.9896 - val_loss: 0.5876 - val_accuracy: 0.9299\n",
      "Epoch 106/150\n",
      "42000/42000 [==============================] - 52s 1ms/step - loss: 0.0671 - accuracy: 0.9823 - val_loss: 0.5511 - val_accuracy: 0.9325\n",
      "Epoch 107/150\n",
      "42000/42000 [==============================] - 52s 1ms/step - loss: 0.0432 - accuracy: 0.9863 - val_loss: 0.5578 - val_accuracy: 0.9328\n",
      "Epoch 108/150\n",
      "42000/42000 [==============================] - 52s 1ms/step - loss: 0.0316 - accuracy: 0.9900 - val_loss: 0.5598 - val_accuracy: 0.9348\n",
      "Epoch 109/150\n",
      "42000/42000 [==============================] - 52s 1ms/step - loss: 0.0335 - accuracy: 0.9898 - val_loss: 0.6181 - val_accuracy: 0.9331\n",
      "Epoch 110/150\n",
      "42000/42000 [==============================] - 52s 1ms/step - loss: 0.0359 - accuracy: 0.9885 - val_loss: 0.6101 - val_accuracy: 0.9316\n"
     ]
    },
    {
     "name": "stdout",
     "output_type": "stream",
     "text": [
      "Epoch 111/150\n",
      "42000/42000 [==============================] - 53s 1ms/step - loss: 0.0560 - accuracy: 0.9840 - val_loss: 0.6090 - val_accuracy: 0.9297\n",
      "Epoch 112/150\n",
      "42000/42000 [==============================] - 52s 1ms/step - loss: 0.0363 - accuracy: 0.9888 - val_loss: 0.6933 - val_accuracy: 0.9259\n",
      "Epoch 113/150\n",
      "42000/42000 [==============================] - 52s 1ms/step - loss: 0.1045 - accuracy: 0.9731 - val_loss: 0.5591 - val_accuracy: 0.9205\n",
      "Epoch 114/150\n",
      "42000/42000 [==============================] - 52s 1ms/step - loss: 0.0414 - accuracy: 0.9870 - val_loss: 0.5693 - val_accuracy: 0.9319\n",
      "Epoch 115/150\n",
      "42000/42000 [==============================] - 52s 1ms/step - loss: 0.0361 - accuracy: 0.9885 - val_loss: 0.6125 - val_accuracy: 0.9291\n",
      "Epoch 116/150\n",
      "42000/42000 [==============================] - 52s 1ms/step - loss: 0.0324 - accuracy: 0.9899 - val_loss: 0.5940 - val_accuracy: 0.9337\n",
      "Epoch 117/150\n",
      "42000/42000 [==============================] - 52s 1ms/step - loss: 0.0344 - accuracy: 0.9891 - val_loss: 0.7642 - val_accuracy: 0.9224\n",
      "Epoch 118/150\n",
      "42000/42000 [==============================] - 52s 1ms/step - loss: 0.0364 - accuracy: 0.9883 - val_loss: 0.6190 - val_accuracy: 0.9343\n",
      "Epoch 119/150\n",
      "42000/42000 [==============================] - 52s 1ms/step - loss: 0.0481 - accuracy: 0.9860 - val_loss: 0.6074 - val_accuracy: 0.9298\n",
      "Epoch 120/150\n",
      "42000/42000 [==============================] - 52s 1ms/step - loss: 0.0369 - accuracy: 0.9887 - val_loss: 0.5916 - val_accuracy: 0.9325\n",
      "Epoch 121/150\n",
      "42000/42000 [==============================] - 52s 1ms/step - loss: 0.0356 - accuracy: 0.9893 - val_loss: 0.6232 - val_accuracy: 0.9343\n",
      "Epoch 122/150\n",
      "42000/42000 [==============================] - 52s 1ms/step - loss: 0.0325 - accuracy: 0.9898 - val_loss: 0.6342 - val_accuracy: 0.9258\n",
      "Epoch 123/150\n",
      "42000/42000 [==============================] - 52s 1ms/step - loss: 0.0871 - accuracy: 0.9788 - val_loss: 0.5484 - val_accuracy: 0.9314\n",
      "Epoch 124/150\n",
      "42000/42000 [==============================] - 52s 1ms/step - loss: 0.0527 - accuracy: 0.9847 - val_loss: 0.5851 - val_accuracy: 0.9272\n",
      "Epoch 125/150\n",
      "42000/42000 [==============================] - 52s 1ms/step - loss: 0.0359 - accuracy: 0.9882 - val_loss: 0.6148 - val_accuracy: 0.9306\n",
      "Epoch 126/150\n",
      "42000/42000 [==============================] - 52s 1ms/step - loss: 0.0369 - accuracy: 0.9892 - val_loss: 0.5887 - val_accuracy: 0.9359\n",
      "Epoch 127/150\n",
      "42000/42000 [==============================] - 53s 1ms/step - loss: 0.0307 - accuracy: 0.9900 - val_loss: 0.6391 - val_accuracy: 0.9344\n",
      "Epoch 128/150\n",
      "42000/42000 [==============================] - 53s 1ms/step - loss: 0.0337 - accuracy: 0.9895 - val_loss: 0.7044 - val_accuracy: 0.9300\n",
      "Epoch 129/150\n",
      "42000/42000 [==============================] - 52s 1ms/step - loss: 0.0350 - accuracy: 0.9894 - val_loss: 0.6581 - val_accuracy: 0.9325\n",
      "Epoch 130/150\n",
      "42000/42000 [==============================] - 52s 1ms/step - loss: 0.0437 - accuracy: 0.9873 - val_loss: 0.6120 - val_accuracy: 0.9334\n",
      "Epoch 131/150\n",
      "42000/42000 [==============================] - 52s 1ms/step - loss: 0.0286 - accuracy: 0.9908 - val_loss: 0.6183 - val_accuracy: 0.9367\n",
      "Epoch 132/150\n",
      "42000/42000 [==============================] - 52s 1ms/step - loss: 0.0309 - accuracy: 0.9908 - val_loss: 0.7054 - val_accuracy: 0.9253\n",
      "Epoch 133/150\n",
      "42000/42000 [==============================] - 54s 1ms/step - loss: 0.0441 - accuracy: 0.9877 - val_loss: 0.6976 - val_accuracy: 0.9304\n",
      "Epoch 134/150\n",
      "42000/42000 [==============================] - 53s 1ms/step - loss: 0.0600 - accuracy: 0.9838 - val_loss: 0.6044 - val_accuracy: 0.9302\n",
      "Epoch 135/150\n",
      "42000/42000 [==============================] - 52s 1ms/step - loss: 0.0358 - accuracy: 0.9897 - val_loss: 0.7255 - val_accuracy: 0.9254\n",
      "Epoch 136/150\n",
      "42000/42000 [==============================] - 51s 1ms/step - loss: 0.0315 - accuracy: 0.9894 - val_loss: 0.6187 - val_accuracy: 0.9352\n",
      "Epoch 137/150\n",
      "42000/42000 [==============================] - 51s 1ms/step - loss: 0.0271 - accuracy: 0.9916 - val_loss: 0.6391 - val_accuracy: 0.9357\n",
      "Epoch 138/150\n",
      "42000/42000 [==============================] - 52s 1ms/step - loss: 0.0252 - accuracy: 0.9911 - val_loss: 0.6423 - val_accuracy: 0.9384\n",
      "Epoch 139/150\n",
      "42000/42000 [==============================] - 52s 1ms/step - loss: 0.0260 - accuracy: 0.9913 - val_loss: 0.7194 - val_accuracy: 0.9328\n",
      "Epoch 140/150\n",
      "42000/42000 [==============================] - 52s 1ms/step - loss: 0.0423 - accuracy: 0.9882 - val_loss: 0.8143 - val_accuracy: 0.9247\n",
      "Epoch 141/150\n",
      "42000/42000 [==============================] - 52s 1ms/step - loss: 0.0749 - accuracy: 0.9812 - val_loss: 0.6178 - val_accuracy: 0.9326\n",
      "Epoch 142/150\n",
      "42000/42000 [==============================] - 52s 1ms/step - loss: 0.0326 - accuracy: 0.9892 - val_loss: 0.6441 - val_accuracy: 0.9355\n",
      "Epoch 143/150\n",
      "42000/42000 [==============================] - 52s 1ms/step - loss: 0.0357 - accuracy: 0.9895 - val_loss: 0.6927 - val_accuracy: 0.9252\n",
      "Epoch 144/150\n",
      "42000/42000 [==============================] - 52s 1ms/step - loss: 0.0522 - accuracy: 0.9857 - val_loss: 0.5811 - val_accuracy: 0.9322\n",
      "Epoch 145/150\n",
      "42000/42000 [==============================] - 52s 1ms/step - loss: 0.0302 - accuracy: 0.9903 - val_loss: 0.6371 - val_accuracy: 0.9344\n",
      "Epoch 146/150\n",
      "42000/42000 [==============================] - 52s 1ms/step - loss: 0.0300 - accuracy: 0.9902 - val_loss: 0.6839 - val_accuracy: 0.9333\n",
      "Epoch 147/150\n",
      "42000/42000 [==============================] - 52s 1ms/step - loss: 0.0421 - accuracy: 0.9886 - val_loss: 0.6943 - val_accuracy: 0.9272\n",
      "Epoch 148/150\n",
      "42000/42000 [==============================] - 52s 1ms/step - loss: 0.0659 - accuracy: 0.9823 - val_loss: 0.5812 - val_accuracy: 0.9352\n",
      "Epoch 149/150\n",
      "42000/42000 [==============================] - 52s 1ms/step - loss: 0.0305 - accuracy: 0.9907 - val_loss: 0.5755 - val_accuracy: 0.9362\n",
      "Epoch 150/150\n",
      "42000/42000 [==============================] - 52s 1ms/step - loss: 0.0312 - accuracy: 0.9908 - val_loss: 0.6862 - val_accuracy: 0.9318\n",
      "Wall time: 2h 8min 35s\n"
     ]
    }
   ],
   "source": [
    "%%time\n",
    "history7 = model.fit(x_data, y_data, batch_size=256, epochs=150, verbose=1,\n",
    "         validation_split = 0.3)"
   ]
  },
  {
   "cell_type": "code",
   "execution_count": 36,
   "metadata": {},
   "outputs": [
    {
     "name": "stderr",
     "output_type": "stream",
     "text": [
      "C:\\Users\\aasha\\anaconda3\\envs\\tfgpu\\lib\\site-packages\\keras\\engine\\saving.py:165: UserWarning: TensorFlow optimizers do not make it possible to access optimizer attributes or optimizer state after instantiation. As a result, we cannot save the optimizer as part of the model save file.You will have to compile your model again after loading it. Prefer using a Keras optimizer instead (see keras.io/optimizers).\n",
      "  'TensorFlow optimizers do not '\n"
     ]
    }
   ],
   "source": [
    "#Step 1: Create or open a file with write-binary mode and save the model to it\n",
    "filenm = 'MNIST_Fashion_2LayerCNN_02he_normal_Adam02.pickle'\n",
    "\n",
    "#Step 2: Open the saved file with read-binary mode\n",
    "pickle = pkl.dump(model, open(filenm, 'wb'))\n",
    "\n",
    "predicted = model.predict(x_data_sub)\n",
    "y_pred = predicted.argmax(axis=1)\n",
    "\n",
    "Out = pd.DataFrame([test['id'],y_pred]).T\n",
    "Out.rename(columns = {0:'id', 1:'label'})\n",
    "\n",
    "#Out\n",
    "Out.to_csv('MNIST_Fashion_2LayerCNN_02he_normal_Adam02.csv', header =  ['id', 'label' ], index = None)"
   ]
  },
  {
   "cell_type": "code",
   "execution_count": null,
   "metadata": {},
   "outputs": [],
   "source": []
  },
  {
   "cell_type": "code",
   "execution_count": 21,
   "metadata": {},
   "outputs": [],
   "source": [
    "def get_model_cnn_batch_simple():\n",
    "    model = Sequential()\n",
    "    model.add(Conv2D(32, (3,3), kernel_initializer='he_normal', input_shape=(28,28,3), strides = (1,1), padding = 'same'))\n",
    "    model.add(BatchNormalization())\n",
    "    model.add(Activation('relu'))\n",
    "    \n",
    "    model.add(Conv2D(64, (3,3), kernel_initializer='he_normal', strides = (1,1), padding = 'same'))\n",
    "    model.add(BatchNormalization())\n",
    "    model.add(Activation('relu'))\n",
    "    \n",
    "    model.add(MaxPooling2D(2,2))    \n",
    "    \n",
    "    model.add(Conv2D(32, (3,3), kernel_initializer='he_normal', input_shape=(28,28,3), strides = (1,1), padding = 'same'))\n",
    "    model.add(BatchNormalization())\n",
    "    model.add(Activation('relu'))\n",
    "    \n",
    "    model.add(Conv2D(64, (3,3), kernel_initializer='he_normal', strides = (1,1), padding = 'same'))\n",
    "    model.add(BatchNormalization())\n",
    "    model.add(Activation('relu'))\n",
    "    \n",
    "    model.add(MaxPooling2D(2,2)) \n",
    "    \n",
    "    model.add(Dropout(0.25))\n",
    "    \n",
    "    model.add(Flatten())\n",
    "    \n",
    "    model.add(Dense(128, kernel_initializer='he_normal'))\n",
    "    model.add(BatchNormalization())\n",
    "    model.add(Activation('relu'))\n",
    "    model.add(Dropout(0.5))\n",
    "    \n",
    "    model.add(Dense(10, activation='softmax'))\n",
    "    \n",
    "    adam = tf.keras.optimizers.Adam(lr = 0.001) \n",
    "    model.compile(optimizer=adam, loss='categorical_crossentropy', metrics=['accuracy'])\n",
    "    \n",
    "    return model\n",
    "#99.5 in Digits"
   ]
  },
  {
   "cell_type": "code",
   "execution_count": 22,
   "metadata": {},
   "outputs": [],
   "source": [
    "def get_Fashion_model_cnn_batch_03():\n",
    "    model = Sequential()\n",
    "    model.add(Conv2D(32, (4,4), kernel_initializer='he_normal', input_shape=(28,28,3), strides = (1,1), padding = 'same'))\n",
    "    model.add(BatchNormalization())\n",
    "    model.add(Activation('relu'))\n",
    "    \n",
    "    model.add(Conv2D(64, (4,4), kernel_initializer='he_normal', strides = (1,1), padding = 'same'))\n",
    "    model.add(BatchNormalization())\n",
    "    model.add(Activation('relu'))\n",
    "    \n",
    "    model.add(Conv2D(128, (4,4), kernel_initializer='he_normal', input_shape=(28,28,3), strides = (1,1), padding = 'same'))\n",
    "    model.add(BatchNormalization())\n",
    "    model.add(Activation('relu'))\n",
    "    \n",
    "    model.add(Conv2D(256, (4,4), kernel_initializer='he_normal', strides = (1,1), padding = 'same'))\n",
    "    model.add(BatchNormalization())\n",
    "    model.add(Activation('hard_sigmoid'))\n",
    "    \n",
    "    model.add(MaxPooling2D(2,2))    \n",
    "    \n",
    "    model.add(Conv2D(32, (4,4), kernel_initializer='he_normal', input_shape=(28,28,3), strides = (1,1), padding = 'same'))\n",
    "    model.add(BatchNormalization())\n",
    "    model.add(Activation('hard_sigmoid'))\n",
    "    \n",
    "    model.add(Conv2D(64, (4,4), kernel_initializer='he_normal', strides = (1,1), padding = 'same'))\n",
    "    model.add(BatchNormalization())\n",
    "    model.add(Activation('hard_sigmoid'))\n",
    "    \n",
    "    model.add(Conv2D(128, (4,4), kernel_initializer='he_normal', input_shape=(28,28,3), strides = (1,1), padding = 'same'))\n",
    "    model.add(BatchNormalization())\n",
    "    model.add(Activation('hard_sigmoid'))\n",
    "    \n",
    "    model.add(Conv2D(256, (4,4), kernel_initializer='he_normal', strides = (1,1), padding = 'same'))\n",
    "    model.add(BatchNormalization())\n",
    "    model.add(Activation('hard_sigmoid'))\n",
    "    \n",
    "    model.add(MaxPooling2D(2,2)) \n",
    "    \n",
    "    model.add(Conv2D(32, (3,3), kernel_initializer='he_normal', input_shape=(28,28,3), strides = (1,1), padding = 'same'))\n",
    "    model.add(BatchNormalization())\n",
    "    model.add(Activation('hard_sigmoid'))\n",
    "    \n",
    "    model.add(Conv2D(64, (3,3), kernel_initializer='he_normal', strides = (1,1), padding = 'same'))\n",
    "    model.add(BatchNormalization())\n",
    "    model.add(Activation('hard_sigmoid'))\n",
    "    \n",
    "    model.add(MaxPooling2D(2,2)) \n",
    "    \n",
    "    model.add(Dropout(0.25))\n",
    "    \n",
    "    model.add(Flatten())\n",
    "    \n",
    "    model.add(Dense(64, kernel_initializer='he_normal'))\n",
    "    model.add(BatchNormalization())\n",
    "    model.add(Activation('hard_sigmoid'))\n",
    "    model.add(Dropout(0.5))\n",
    "    \n",
    "    model.add(Dense(32, kernel_initializer='he_normal'))\n",
    "    model.add(BatchNormalization())\n",
    "    model.add(Activation('hard_sigmoid'))\n",
    "    model.add(Dropout(0.5))\n",
    "\n",
    "    model.add(Dense(10, activation='softmax'))\n",
    "    \n",
    "    adam = tf.keras.optimizers.Adamax(lr = 0.001) \n",
    "    model.compile(optimizer=adam, loss='poisson', metrics=['accuracy'])\n",
    "    \n",
    "    return model"
   ]
  },
  {
   "cell_type": "code",
   "execution_count": 23,
   "metadata": {},
   "outputs": [],
   "source": [
    "#model = get_Fashion_model_cnn_batch_03()\n",
    "model = get_model_cnn_batch_simple()"
   ]
  },
  {
   "cell_type": "code",
   "execution_count": 24,
   "metadata": {},
   "outputs": [
    {
     "name": "stdout",
     "output_type": "stream",
     "text": [
      "Train on 42000 samples, validate on 18000 samples\n",
      "Epoch 1/100\n",
      "42000/42000 [==============================] - 9s 223us/step - loss: 0.5407 - accuracy: 0.8119 - val_loss: 0.3593 - val_accuracy: 0.8731\n",
      "Epoch 2/100\n",
      "42000/42000 [==============================] - 8s 188us/step - loss: 0.3385 - accuracy: 0.8829 - val_loss: 0.2763 - val_accuracy: 0.8996\n",
      "Epoch 3/100\n",
      "42000/42000 [==============================] - 8s 188us/step - loss: 0.2865 - accuracy: 0.8972 - val_loss: 0.2665 - val_accuracy: 0.9015\n",
      "Epoch 4/100\n",
      "42000/42000 [==============================] - 8s 188us/step - loss: 0.2539 - accuracy: 0.9105 - val_loss: 0.2987 - val_accuracy: 0.8891\n",
      "Epoch 5/100\n",
      "42000/42000 [==============================] - 8s 188us/step - loss: 0.2340 - accuracy: 0.9164 - val_loss: 0.2665 - val_accuracy: 0.9021\n",
      "Epoch 6/100\n",
      "42000/42000 [==============================] - 8s 189us/step - loss: 0.2177 - accuracy: 0.9221 - val_loss: 0.2273 - val_accuracy: 0.9179\n",
      "Epoch 7/100\n",
      "42000/42000 [==============================] - 8s 188us/step - loss: 0.2036 - accuracy: 0.9258 - val_loss: 0.2280 - val_accuracy: 0.9187\n",
      "Epoch 8/100\n",
      "42000/42000 [==============================] - 8s 189us/step - loss: 0.1929 - accuracy: 0.9305 - val_loss: 0.2115 - val_accuracy: 0.9226\n",
      "Epoch 9/100\n",
      "42000/42000 [==============================] - 8s 188us/step - loss: 0.1729 - accuracy: 0.9369 - val_loss: 0.1988 - val_accuracy: 0.9296\n",
      "Epoch 10/100\n",
      "42000/42000 [==============================] - 8s 188us/step - loss: 0.1698 - accuracy: 0.9397 - val_loss: 0.2147 - val_accuracy: 0.9235\n",
      "Epoch 11/100\n",
      "42000/42000 [==============================] - 8s 189us/step - loss: 0.1618 - accuracy: 0.9404 - val_loss: 0.2001 - val_accuracy: 0.9297\n",
      "Epoch 12/100\n",
      "42000/42000 [==============================] - 8s 188us/step - loss: 0.1618 - accuracy: 0.9400 - val_loss: 0.2022 - val_accuracy: 0.9271\n",
      "Epoch 13/100\n",
      "42000/42000 [==============================] - 8s 188us/step - loss: 0.1418 - accuracy: 0.9471 - val_loss: 0.1963 - val_accuracy: 0.9301\n",
      "Epoch 14/100\n",
      "42000/42000 [==============================] - 8s 188us/step - loss: 0.1383 - accuracy: 0.9488 - val_loss: 0.2036 - val_accuracy: 0.9291\n",
      "Epoch 15/100\n",
      "42000/42000 [==============================] - 8s 189us/step - loss: 0.1286 - accuracy: 0.9536 - val_loss: 0.2257 - val_accuracy: 0.9260\n",
      "Epoch 16/100\n",
      "42000/42000 [==============================] - 8s 188us/step - loss: 0.1484 - accuracy: 0.9452 - val_loss: 0.2142 - val_accuracy: 0.9267\n",
      "Epoch 17/100\n",
      "42000/42000 [==============================] - 8s 189us/step - loss: 0.1224 - accuracy: 0.9546 - val_loss: 0.1963 - val_accuracy: 0.9326\n",
      "Epoch 18/100\n",
      "42000/42000 [==============================] - 8s 192us/step - loss: 0.1111 - accuracy: 0.9588 - val_loss: 0.2180 - val_accuracy: 0.9267\n",
      "Epoch 19/100\n",
      "42000/42000 [==============================] - 8s 192us/step - loss: 0.1039 - accuracy: 0.9631 - val_loss: 0.2189 - val_accuracy: 0.9292\n",
      "Epoch 20/100\n",
      "42000/42000 [==============================] - 8s 197us/step - loss: 0.1011 - accuracy: 0.9626 - val_loss: 0.2221 - val_accuracy: 0.9313\n",
      "Epoch 21/100\n",
      "42000/42000 [==============================] - 8s 192us/step - loss: 0.0961 - accuracy: 0.9658 - val_loss: 0.2115 - val_accuracy: 0.9294\n",
      "Epoch 22/100\n",
      "42000/42000 [==============================] - 8s 200us/step - loss: 0.0919 - accuracy: 0.9661 - val_loss: 0.2056 - val_accuracy: 0.9328\n",
      "Epoch 23/100\n",
      "42000/42000 [==============================] - 8s 193us/step - loss: 0.0882 - accuracy: 0.9673 - val_loss: 0.2207 - val_accuracy: 0.9343\n",
      "Epoch 24/100\n",
      "42000/42000 [==============================] - 8s 190us/step - loss: 0.1089 - accuracy: 0.9585 - val_loss: 0.2553 - val_accuracy: 0.9200\n",
      "Epoch 25/100\n",
      "42000/42000 [==============================] - 8s 187us/step - loss: 0.0854 - accuracy: 0.9680 - val_loss: 0.2260 - val_accuracy: 0.9311\n",
      "Epoch 26/100\n",
      "42000/42000 [==============================] - 8s 192us/step - loss: 0.0769 - accuracy: 0.9715 - val_loss: 0.2128 - val_accuracy: 0.9357 l\n",
      "Epoch 27/100\n",
      "42000/42000 [==============================] - 8s 190us/step - loss: 0.0746 - accuracy: 0.9726 - val_loss: 0.2338 - val_accuracy: 0.9284\n",
      "Epoch 28/100\n",
      "42000/42000 [==============================] - 8s 194us/step - loss: 0.0806 - accuracy: 0.9700 - val_loss: 0.2197 - val_accuracy: 0.9328\n",
      "Epoch 29/100\n",
      "42000/42000 [==============================] - 8s 188us/step - loss: 0.0656 - accuracy: 0.9764 - val_loss: 0.2251 - val_accuracy: 0.9339\n",
      "Epoch 30/100\n",
      "42000/42000 [==============================] - 8s 188us/step - loss: 0.0765 - accuracy: 0.9713 - val_loss: 0.2326 - val_accuracy: 0.9309\n",
      "Epoch 31/100\n",
      "42000/42000 [==============================] - 8s 188us/step - loss: 0.0632 - accuracy: 0.9774 - val_loss: 0.2338 - val_accuracy: 0.9327\n",
      "Epoch 32/100\n",
      "42000/42000 [==============================] - 8s 189us/step - loss: 0.0808 - accuracy: 0.9703 - val_loss: 0.2299 - val_accuracy: 0.9303\n",
      "Epoch 33/100\n",
      "42000/42000 [==============================] - 8s 189us/step - loss: 0.0623 - accuracy: 0.9767 - val_loss: 0.2249 - val_accuracy: 0.9318\n",
      "Epoch 34/100\n",
      "42000/42000 [==============================] - 8s 189us/step - loss: 0.0722 - accuracy: 0.9738 - val_loss: 0.2334 - val_accuracy: 0.9326\n",
      "Epoch 35/100\n",
      "42000/42000 [==============================] - 8s 188us/step - loss: 0.0573 - accuracy: 0.9791 - val_loss: 0.2381 - val_accuracy: 0.9322\n",
      "Epoch 36/100\n",
      "42000/42000 [==============================] - 8s 199us/step - loss: 0.0533 - accuracy: 0.9797 - val_loss: 0.2590 - val_accuracy: 0.9293\n",
      "Epoch 37/100\n",
      "42000/42000 [==============================] - 8s 201us/step - loss: 0.0535 - accuracy: 0.9804 - val_loss: 0.2459 - val_accuracy: 0.9324\n",
      "Epoch 38/100\n",
      "42000/42000 [==============================] - 8s 200us/step - loss: 0.0629 - accuracy: 0.9760 - val_loss: 0.2363 - val_accuracy: 0.9348\n",
      "Epoch 39/100\n",
      "42000/42000 [==============================] - 8s 188us/step - loss: 0.0685 - accuracy: 0.9744 - val_loss: 0.2468 - val_accuracy: 0.9331\n",
      "Epoch 40/100\n",
      "42000/42000 [==============================] - 8s 186us/step - loss: 0.0560 - accuracy: 0.9795 - val_loss: 0.2456 - val_accuracy: 0.9341\n",
      "Epoch 41/100\n",
      "42000/42000 [==============================] - 8s 187us/step - loss: 0.0450 - accuracy: 0.9834 - val_loss: 0.2422 - val_accuracy: 0.9339\n",
      "Epoch 42/100\n",
      "42000/42000 [==============================] - 8s 190us/step - loss: 0.0442 - accuracy: 0.9842 - val_loss: 0.2609 - val_accuracy: 0.9307\n",
      "Epoch 43/100\n",
      "42000/42000 [==============================] - 8s 201us/step - loss: 0.0663 - accuracy: 0.9761 - val_loss: 0.2565 - val_accuracy: 0.9295\n",
      "Epoch 44/100\n",
      "42000/42000 [==============================] - 8s 193us/step - loss: 0.0655 - accuracy: 0.9752 - val_loss: 0.2391 - val_accuracy: 0.9344\n",
      "Epoch 45/100\n",
      "42000/42000 [==============================] - 8s 194us/step - loss: 0.0431 - accuracy: 0.9843 - val_loss: 0.2800 - val_accuracy: 0.9321\n",
      "Epoch 46/100\n",
      "42000/42000 [==============================] - 8s 194us/step - loss: 0.0388 - accuracy: 0.9862 - val_loss: 0.2521 - val_accuracy: 0.9354\n",
      "Epoch 47/100\n",
      "42000/42000 [==============================] - 8s 193us/step - loss: 0.0531 - accuracy: 0.9802 - val_loss: 0.2588 - val_accuracy: 0.9344\n",
      "Epoch 48/100\n",
      "42000/42000 [==============================] - 8s 193us/step - loss: 0.0388 - accuracy: 0.9858 - val_loss: 0.2728 - val_accuracy: 0.9325\n",
      "Epoch 49/100\n",
      "42000/42000 [==============================] - 8s 193us/step - loss: 0.0435 - accuracy: 0.9839 - val_loss: 0.2653 - val_accuracy: 0.9337\n",
      "Epoch 50/100\n",
      "42000/42000 [==============================] - 8s 194us/step - loss: 0.0382 - accuracy: 0.9861 - val_loss: 0.2811 - val_accuracy: 0.9344\n",
      "Epoch 51/100\n",
      "42000/42000 [==============================] - 8s 193us/step - loss: 0.0415 - accuracy: 0.9852 - val_loss: 0.2586 - val_accuracy: 0.9333\n",
      "Epoch 52/100\n",
      "42000/42000 [==============================] - 8s 193us/step - loss: 0.0380 - accuracy: 0.9866 - val_loss: 0.2748 - val_accuracy: 0.9357\n",
      "Epoch 53/100\n",
      "42000/42000 [==============================] - 8s 193us/step - loss: 0.0368 - accuracy: 0.9868 - val_loss: 0.2686 - val_accuracy: 0.9363\n",
      "Epoch 54/100\n",
      "42000/42000 [==============================] - 9s 203us/step - loss: 0.0352 - accuracy: 0.9880 - val_loss: 0.2871 - val_accuracy: 0.9327\n",
      "Epoch 55/100\n",
      "42000/42000 [==============================] - 8s 199us/step - loss: 0.0337 - accuracy: 0.9880 - val_loss: 0.2810 - val_accuracy: 0.9333\n",
      "Epoch 56/100\n",
      "42000/42000 [==============================] - 8s 189us/step - loss: 0.0415 - accuracy: 0.9848 - val_loss: 0.2933 - val_accuracy: 0.9349\n",
      "Epoch 57/100\n",
      "42000/42000 [==============================] - 8s 186us/step - loss: 0.0501 - accuracy: 0.9820 - val_loss: 0.2653 - val_accuracy: 0.9323\n",
      "Epoch 58/100\n",
      "42000/42000 [==============================] - 8s 188us/step - loss: 0.0551 - accuracy: 0.9798 - val_loss: 0.2857 - val_accuracy: 0.9307\n",
      "Epoch 59/100\n",
      "42000/42000 [==============================] - 9s 206us/step - loss: 0.0384 - accuracy: 0.9855 - val_loss: 0.2718 - val_accuracy: 0.9329\n",
      "Epoch 60/100\n",
      "42000/42000 [==============================] - 8s 189us/step - loss: 0.0328 - accuracy: 0.9884 - val_loss: 0.2799 - val_accuracy: 0.9348\n",
      "Epoch 61/100\n",
      "42000/42000 [==============================] - 8s 189us/step - loss: 0.0303 - accuracy: 0.9894 - val_loss: 0.2894 - val_accuracy: 0.9335\n",
      "Epoch 62/100\n",
      "42000/42000 [==============================] - 8s 198us/step - loss: 0.0302 - accuracy: 0.9891 - val_loss: 0.2627 - val_accuracy: 0.9358\n",
      "Epoch 63/100\n",
      "42000/42000 [==============================] - 8s 195us/step - loss: 0.0300 - accuracy: 0.9890 - val_loss: 0.3077 - val_accuracy: 0.9330\n",
      "Epoch 64/100\n",
      "42000/42000 [==============================] - 8s 191us/step - loss: 0.0312 - accuracy: 0.9887 - val_loss: 0.2895 - val_accuracy: 0.9352\n",
      "Epoch 65/100\n",
      "42000/42000 [==============================] - 8s 193us/step - loss: 0.0355 - accuracy: 0.9872 - val_loss: 0.2992 - val_accuracy: 0.9371\n",
      "Epoch 66/100\n",
      "42000/42000 [==============================] - 8s 198us/step - loss: 0.0458 - accuracy: 0.9835 - val_loss: 0.2827 - val_accuracy: 0.9323\n",
      "Epoch 67/100\n",
      "42000/42000 [==============================] - 8s 196us/step - loss: 0.0319 - accuracy: 0.9894 - val_loss: 0.2989 - val_accuracy: 0.9336\n",
      "Epoch 68/100\n",
      "42000/42000 [==============================] - 8s 191us/step - loss: 0.0336 - accuracy: 0.9880 - val_loss: 0.2952 - val_accuracy: 0.9325\n",
      "Epoch 69/100\n",
      "42000/42000 [==============================] - 8s 194us/step - loss: 0.0297 - accuracy: 0.9897 - val_loss: 0.3036 - val_accuracy: 0.9329\n",
      "Epoch 70/100\n",
      "42000/42000 [==============================] - 8s 198us/step - loss: 0.0296 - accuracy: 0.9892 - val_loss: 0.3005 - val_accuracy: 0.9317\n",
      "Epoch 71/100\n",
      "42000/42000 [==============================] - 8s 194us/step - loss: 0.0397 - accuracy: 0.9855 - val_loss: 0.3103 - val_accuracy: 0.9318\n",
      "Epoch 72/100\n",
      "42000/42000 [==============================] - 8s 194us/step - loss: 0.0281 - accuracy: 0.9899 - val_loss: 0.2908 - val_accuracy: 0.9359\n",
      "Epoch 73/100\n",
      "42000/42000 [==============================] - 8s 191us/step - loss: 0.0261 - accuracy: 0.9907 - val_loss: 0.2989 - val_accuracy: 0.9358\n",
      "Epoch 74/100\n",
      "42000/42000 [==============================] - 8s 189us/step - loss: 0.0239 - accuracy: 0.9920 - val_loss: 0.2979 - val_accuracy: 0.9326\n",
      "Epoch 75/100\n",
      "42000/42000 [==============================] - 8s 189us/step - loss: 0.0253 - accuracy: 0.9907 - val_loss: 0.3139 - val_accuracy: 0.9347\n",
      "Epoch 76/100\n",
      "42000/42000 [==============================] - 8s 189us/step - loss: 0.0272 - accuracy: 0.9904 - val_loss: 0.3327 - val_accuracy: 0.9334\n",
      "Epoch 77/100\n",
      "42000/42000 [==============================] - 8s 191us/step - loss: 0.0275 - accuracy: 0.9906 - val_loss: 0.2926 - val_accuracy: 0.9338\n",
      "Epoch 78/100\n",
      "42000/42000 [==============================] - 8s 190us/step - loss: 0.0226 - accuracy: 0.9920 - val_loss: 0.3060 - val_accuracy: 0.9346\n",
      "Epoch 79/100\n",
      "42000/42000 [==============================] - 8s 189us/step - loss: 0.0252 - accuracy: 0.9908 - val_loss: 0.2960 - val_accuracy: 0.9352\n",
      "Epoch 80/100\n",
      "42000/42000 [==============================] - 8s 196us/step - loss: 0.0250 - accuracy: 0.9914 - val_loss: 0.2944 - val_accuracy: 0.9332\n",
      "Epoch 81/100\n",
      "42000/42000 [==============================] - 8s 189us/step - loss: 0.0273 - accuracy: 0.9900 - val_loss: 0.3158 - val_accuracy: 0.9343\n",
      "Epoch 82/100\n",
      "42000/42000 [==============================] - 8s 188us/step - loss: 0.0291 - accuracy: 0.9896 - val_loss: 0.3437 - val_accuracy: 0.9305\n",
      "Epoch 83/100\n",
      "42000/42000 [==============================] - 8s 192us/step - loss: 0.0383 - accuracy: 0.9864 - val_loss: 0.3021 - val_accuracy: 0.9366\n",
      "Epoch 84/100\n",
      "42000/42000 [==============================] - 8s 190us/step - loss: 0.0255 - accuracy: 0.9903 - val_loss: 0.2861 - val_accuracy: 0.9359\n",
      "Epoch 85/100\n",
      "42000/42000 [==============================] - 8s 188us/step - loss: 0.0236 - accuracy: 0.9917 - val_loss: 0.3166 - val_accuracy: 0.9341\n",
      "Epoch 86/100\n",
      "42000/42000 [==============================] - 8s 188us/step - loss: 0.0386 - accuracy: 0.9867 - val_loss: 0.3046 - val_accuracy: 0.9355\n",
      "Epoch 87/100\n",
      "42000/42000 [==============================] - 8s 191us/step - loss: 0.0249 - accuracy: 0.9909 - val_loss: 0.2765 - val_accuracy: 0.9353\n",
      "Epoch 88/100\n",
      "42000/42000 [==============================] - 8s 186us/step - loss: 0.0228 - accuracy: 0.9922 - val_loss: 0.3198 - val_accuracy: 0.9349\n",
      "Epoch 89/100\n",
      "42000/42000 [==============================] - 8s 187us/step - loss: 0.0228 - accuracy: 0.9922 - val_loss: 0.3230 - val_accuracy: 0.9333\n",
      "Epoch 90/100\n",
      "42000/42000 [==============================] - 8s 192us/step - loss: 0.0213 - accuracy: 0.9923 - val_loss: 0.3217 - val_accuracy: 0.9328\n",
      "Epoch 91/100\n",
      "42000/42000 [==============================] - 8s 194us/step - loss: 0.0341 - accuracy: 0.9879 - val_loss: 0.3220 - val_accuracy: 0.9314\n",
      "Epoch 92/100\n",
      "42000/42000 [==============================] - 8s 188us/step - loss: 0.0378 - accuracy: 0.9867 - val_loss: 0.3145 - val_accuracy: 0.9357\n",
      "Epoch 93/100\n",
      "42000/42000 [==============================] - 8s 189us/step - loss: 0.0303 - accuracy: 0.9899 - val_loss: 0.3220 - val_accuracy: 0.9354\n",
      "Epoch 94/100\n",
      "42000/42000 [==============================] - 8s 188us/step - loss: 0.0212 - accuracy: 0.9923 - val_loss: 0.3007 - val_accuracy: 0.9363\n",
      "Epoch 95/100\n",
      "42000/42000 [==============================] - 8s 196us/step - loss: 0.0256 - accuracy: 0.9906 - val_loss: 0.3070 - val_accuracy: 0.9355\n",
      "Epoch 96/100\n",
      "42000/42000 [==============================] - 8s 188us/step - loss: 0.0225 - accuracy: 0.9919 - val_loss: 0.3291 - val_accuracy: 0.9354\n",
      "Epoch 97/100\n",
      "42000/42000 [==============================] - 8s 190us/step - loss: 0.0202 - accuracy: 0.9930 - val_loss: 0.3124 - val_accuracy: 0.9349\n",
      "Epoch 98/100\n",
      "42000/42000 [==============================] - 8s 189us/step - loss: 0.0194 - accuracy: 0.9930 - val_loss: 0.3373 - val_accuracy: 0.9364\n",
      "Epoch 99/100\n",
      "42000/42000 [==============================] - 8s 192us/step - loss: 0.0275 - accuracy: 0.9902 - val_loss: 0.3337 - val_accuracy: 0.9337\n",
      "Epoch 100/100\n",
      "42000/42000 [==============================] - 8s 189us/step - loss: 0.0240 - accuracy: 0.9917 - val_loss: 0.2981 - val_accuracy: 0.9343\n",
      "Wall time: 13min 26s\n"
     ]
    }
   ],
   "source": [
    "%%time\n",
    "history = model.fit(x_data, y_data, batch_size=256, epochs=100, verbose=1,\n",
    "         validation_split = 0.3)"
   ]
  },
  {
   "cell_type": "code",
   "execution_count": 26,
   "metadata": {},
   "outputs": [
    {
     "name": "stdout",
     "output_type": "stream",
     "text": [
      "[INFO] saving COVID-19 detector model...\n"
     ]
    },
    {
     "name": "stderr",
     "output_type": "stream",
     "text": [
      "C:\\Users\\aasha\\anaconda3\\envs\\tfgpu\\lib\\site-packages\\keras\\engine\\saving.py:165: UserWarning: TensorFlow optimizers do not make it possible to access optimizer attributes or optimizer state after instantiation. As a result, we cannot save the optimizer as part of the model save file.You will have to compile your model again after loading it. Prefer using a Keras optimizer instead (see keras.io/optimizers).\n",
      "  'TensorFlow optimizers do not '\n"
     ]
    }
   ],
   "source": [
    "# serialize the model to disk\n",
    "print(\"[INFO] saving COVID-19 detector model...\")\n",
    "model.save(\"model_ApperalDetection.h5\")"
   ]
  },
  {
   "cell_type": "markdown",
   "metadata": {},
   "source": [
    "## Load the saved model and compile it"
   ]
  },
  {
   "cell_type": "code",
   "execution_count": 11,
   "metadata": {},
   "outputs": [
    {
     "name": "stdout",
     "output_type": "stream",
     "text": [
      "WARNING:tensorflow:No training configuration found in save file: the model was *not* compiled. Compile it manually.\n"
     ]
    }
   ],
   "source": [
    "#Image utils\n",
    "from tensorflow import keras\n",
    "import cv2\n",
    "\n",
    "# Model saved with Keras model.save()\n",
    "MODEL_PATH = 'model_ApperalDetection.h5'\n",
    "# Load your trained model\n",
    "loadedModel = keras.models.load_model(MODEL_PATH)\n",
    "\n",
    "adam = tf.keras.optimizers.Adam(lr = 0.001) \n",
    "loadedModel.compile(optimizer=adam, loss='poisson', metrics=['accuracy'])"
   ]
  },
  {
   "cell_type": "code",
   "execution_count": 48,
   "metadata": {},
   "outputs": [
    {
     "name": "stdout",
     "output_type": "stream",
     "text": [
      "Sneaker\n"
     ]
    }
   ],
   "source": [
    "testDt = \"D:/Hackeathon/AnalyticsVidhya/Fashion_MNIST/colourimages/sneaker1.jpg\"\n",
    "#\"D:/Hackeathon/AnalyticsVidhya/Fashion_MNIST/train/314.png\"\n",
    "image = cv2.imread(testDt)\n",
    "\n",
    "BS = 256\n",
    "image = cv2.resize(image, (28, 28))\n",
    "image_con = image.reshape((1, 28, 28,3))\n",
    "predIdxs = loadedModel.predict(image_con, batch_size=BS)\n",
    "\n",
    "# for each image in the testing set we need to find the index of the\n",
    "# label with corresponding largest predicted probability\n",
    "predIdxs = np.argmax(predIdxs, axis=1)\n",
    "kv = {0:\"T-shirt/top\", 1:\"Trouser\", 2:\"Pullover\", 3:\"Dress\", 4:\"Coat\", 5:\"Sandal\", 6:\"Shirt\", 7:\"Sneaker\", 8:\"Bag\", 9:\"Ankle boot\"}\n",
    "l = dict((k,v) for k,v in kv.items())\n",
    "prednames = l[predIdxs[0]]\n",
    "print(prednames)"
   ]
  },
  {
   "cell_type": "code",
   "execution_count": 49,
   "metadata": {},
   "outputs": [
    {
     "data": {
      "image/png": "[encoded data removed]",
      "text/plain": [
       "<Figure size 432x288 with 1 Axes>"
      ]
     },
     "metadata": {
      "needs_background": "light"
     },
     "output_type": "display_data"
    }
   ],
   "source": [
    "testDt = \"D:/Hackeathon/AnalyticsVidhya/Fashion_MNIST/colourimages/sneaker1.jpg\"\n",
    "#\"D:/Hackeathon/AnalyticsVidhya/Fashion_MNIST/train/314.png\"\n",
    "image = cv2.imread(testDt)\n",
    "\n",
    "BS = 256\n",
    "image = cv2.resize(image, (28,28))\n",
    "plt.imshow(image)\n",
    "plt.show()"
   ]
  },
  {
   "cell_type": "code",
   "execution_count": 38,
   "metadata": {},
   "outputs": [
    {
     "name": "stdout",
     "output_type": "stream",
     "text": [
      "(28, 28, 3)\n"
     ]
    },
    {
     "data": {
      "image/png": "[encoded data removed]",
      "text/plain": [
       "<Figure size 432x288 with 1 Axes>"
      ]
     },
     "metadata": {
      "needs_background": "light"
     },
     "output_type": "display_data"
    }
   ],
   "source": [
    "testDt = \"D:/Hackeathon/AnalyticsVidhya/Fashion_MNIST/train/1.png\"\n",
    "image = cv2.imread(testDt)\n",
    "BS = 256\n",
    "image = cv2.resize(image, (28, 28))\n",
    "print(image.shape)\n",
    "plt.imshow(image)\n",
    "plt.show()"
   ]
  },
  {
   "cell_type": "code",
   "execution_count": null,
   "metadata": {},
   "outputs": [],
   "source": []
  },
  {
   "cell_type": "code",
   "execution_count": 21,
   "metadata": {},
   "outputs": [
    {
     "data": {
      "image/png": "[encoded data removed]",
      "text/plain": [
       "<Figure size 432x288 with 1 Axes>"
      ]
     },
     "metadata": {
      "needs_background": "light"
     },
     "output_type": "display_data"
    }
   ],
   "source": [
    "\n",
    "plt.imshow(train_img[29])\n",
    "plt.show()"
   ]
  },
  {
   "cell_type": "code",
   "execution_count": 21,
   "metadata": {},
   "outputs": [
    {
     "name": "stderr",
     "output_type": "stream",
     "text": [
      "C:\\Users\\aasha\\anaconda3\\envs\\tfgpu\\lib\\site-packages\\keras\\engine\\saving.py:165: UserWarning: TensorFlow optimizers do not make it possible to access optimizer attributes or optimizer state after instantiation. As a result, we cannot save the optimizer as part of the model save file.You will have to compile your model again after loading it. Prefer using a Keras optimizer instead (see keras.io/optimizers).\n",
      "  'TensorFlow optimizers do not '\n"
     ]
    }
   ],
   "source": [
    "#Step 1: Create or open a file with write-binary mode and save the model to it\n",
    "filenm = 'MNIST_Fashion_2LayerCNN_02he_normal_Adam_Simple.pickle'\n",
    "\n",
    "#Step 2: Open the saved file with read-binary mode\n",
    "pickle = pkl.dump(model, open(filenm, 'wb'))"
   ]
  },
  {
   "cell_type": "code",
   "execution_count": 22,
   "metadata": {},
   "outputs": [],
   "source": [
    "predicted = model.predict(x_data_sub)\n",
    "y_pred = predicted.argmax(axis=1)\n",
    "\n",
    "Out = pd.DataFrame([test['id'],y_pred]).T\n",
    "Out.rename(columns = {0:'id', 1:'label'})\n",
    "\n",
    "#Out\n",
    "Out.to_csv('MNIST_Fashion_2LayerCNN_02he_normal_Adam_Simple.csv', header =  ['id', 'label' ], index = None)"
   ]
  },
  {
   "cell_type": "code",
   "execution_count": null,
   "metadata": {},
   "outputs": [],
   "source": []
  },
  {
   "cell_type": "code",
   "execution_count": null,
   "metadata": {},
   "outputs": [],
   "source": []
  },
  {
   "cell_type": "code",
   "execution_count": 23,
   "metadata": {},
   "outputs": [],
   "source": [
    "def get_model_cnn_batch_simple_HS():\n",
    "    model = Sequential()\n",
    "    model.add(Conv2D(32, (3,3), kernel_initializer='he_normal', input_shape=(28,28,3), strides = (1,1), padding = 'same'))\n",
    "    model.add(BatchNormalization())\n",
    "    model.add(Activation('hard_sigmoid'))\n",
    "    \n",
    "    model.add(Conv2D(64, (3,3), kernel_initializer='he_normal', strides = (1,1), padding = 'same'))\n",
    "    model.add(BatchNormalization())\n",
    "    model.add(Activation('hard_sigmoid'))\n",
    "    \n",
    "    model.add(MaxPooling2D(2,2))    \n",
    "    \n",
    "    model.add(Conv2D(32, (3,3), kernel_initializer='he_normal', input_shape=(28,28,3), strides = (1,1), padding = 'same'))\n",
    "    model.add(BatchNormalization())\n",
    "    model.add(Activation('hard_sigmoid'))\n",
    "    \n",
    "    model.add(Conv2D(64, (3,3), kernel_initializer='he_normal', strides = (1,1), padding = 'same'))\n",
    "    model.add(BatchNormalization())\n",
    "    model.add(Activation('hard_sigmoid'))\n",
    "    \n",
    "    model.add(MaxPooling2D(2,2)) \n",
    "    \n",
    "    model.add(Conv2D(32, (3,3), kernel_initializer='he_normal', input_shape=(28,28,3), strides = (1,1), padding = 'same'))\n",
    "    model.add(BatchNormalization())\n",
    "    model.add(Activation('hard_sigmoid'))\n",
    "    \n",
    "    model.add(Conv2D(64, (3,3), kernel_initializer='he_normal', strides = (1,1), padding = 'same'))\n",
    "    model.add(BatchNormalization())\n",
    "    model.add(Activation('hard_sigmoid'))\n",
    "    \n",
    "    model.add(MaxPooling2D(2,2)) \n",
    "    \n",
    "    model.add(Dropout(0.25))\n",
    "    \n",
    "    model.add(Flatten())\n",
    "    \n",
    "    model.add(Dense(128, kernel_initializer='he_normal'))\n",
    "    model.add(BatchNormalization())\n",
    "    model.add(Activation('hard_sigmoid'))\n",
    "    model.add(Dropout(0.5))\n",
    "    \n",
    "    model.add(Dense(128, kernel_initializer='he_normal'))\n",
    "    model.add(BatchNormalization())\n",
    "    model.add(Activation('hard_sigmoid'))\n",
    "    model.add(Dropout(0.5))\n",
    "    \n",
    "    model.add(Dense(10, activation='softmax'))\n",
    "    \n",
    "    adam = tf.keras.optimizers.Adam(lr = 0.001) \n",
    "    model.compile(optimizer=adam, loss='categorical_crossentropy', metrics=['accuracy'])\n",
    "    \n",
    "    return model\n",
    "#99.5 in Digits with relu - "
   ]
  },
  {
   "cell_type": "code",
   "execution_count": null,
   "metadata": {},
   "outputs": [],
   "source": [
    "def get_Fashion_model_cnn_batch_04():\n",
    "    model = Sequential()\n",
    "    model.add(Conv2D(32, (3,3), kernel_initializer='he_normal', input_shape=(28,28,3), strides = (1,1), padding = 'same'))\n",
    "    model.add(BatchNormalization())\n",
    "    model.add(Activation('hard_sigmoid'))\n",
    "    \n",
    "    model.add(Conv2D(64, (3,3), kernel_initializer='he_normal', strides = (1,1), padding = 'same'))\n",
    "    model.add(BatchNormalization())\n",
    "    model.add(Activation('hard_sigmoid'))\n",
    "    \n",
    "    model.add(MaxPooling2D(2,2)) \n",
    "    \n",
    "    model.add(Conv2D(128, (3,3), kernel_initializer='he_normal', input_shape=(28,28,3), strides = (1,1), padding = 'same'))\n",
    "    model.add(BatchNormalization())\n",
    "    model.add(Activation('hard_sigmoid'))\n",
    "    \n",
    "    model.add(Conv2D(256, (3,3), kernel_initializer='he_normal', strides = (1,1), padding = 'same'))\n",
    "    model.add(BatchNormalization())\n",
    "    model.add(Activation('hard_sigmoid'))\n",
    "    \n",
    "    model.add(MaxPooling2D(2,2))    \n",
    "    \n",
    "    model.add(Conv2D(32, (3,3), kernel_initializer='he_normal', input_shape=(28,28,3), strides = (1,1), padding = 'same'))\n",
    "    model.add(BatchNormalization())\n",
    "    model.add(Activation('hard_sigmoid'))\n",
    "    \n",
    "    model.add(Conv2D(64, (3,3), kernel_initializer='he_normal', strides = (1,1), padding = 'same'))\n",
    "    model.add(BatchNormalization())\n",
    "    model.add(Activation('hard_sigmoid'))\n",
    "    \n",
    "    model.add(MaxPooling2D(2,2)) \n",
    "    \n",
    "    model.add(Conv2D(128, (3,3), kernel_initializer='he_normal', input_shape=(28,28,3), strides = (1,1), padding = 'same'))\n",
    "    model.add(BatchNormalization())\n",
    "    model.add(Activation('hard_sigmoid'))\n",
    "    \n",
    "    model.add(Conv2D(256, (3,3), kernel_initializer='he_normal', strides = (1,1), padding = 'same'))\n",
    "    model.add(BatchNormalization())\n",
    "    model.add(Activation('hard_sigmoid'))\n",
    "    \n",
    "    model.add(MaxPooling2D(2,2)) \n",
    "    \n",
    "    model.add(Conv2D(32, (3,3), kernel_initializer='he_normal', input_shape=(28,28,3), strides = (1,1), padding = 'same'))\n",
    "    model.add(BatchNormalization())\n",
    "    model.add(Activation('hard_sigmoid'))\n",
    "    \n",
    "    model.add(Conv2D(64, (3,3), kernel_initializer='he_normal', strides = (1,1), padding = 'same'))\n",
    "    model.add(BatchNormalization())\n",
    "    model.add(Activation('hard_sigmoid'))\n",
    "    \n",
    "    model.add(MaxPooling2D(2,2)) \n",
    "    \n",
    "    model.add(Dropout(0.25))\n",
    "    \n",
    "    model.add(Flatten())\n",
    "    \n",
    "    model.add(Dense(64, kernel_initializer='he_normal'))\n",
    "    model.add(BatchNormalization())\n",
    "    model.add(Activation('hard_sigmoid'))\n",
    "    model.add(Dropout(0.5))\n",
    "    \n",
    "    model.add(Dense(32, kernel_initializer='he_normal'))\n",
    "    model.add(BatchNormalization())\n",
    "    model.add(Activation('hard_sigmoid'))\n",
    "    model.add(Dropout(0.5))\n",
    "\n",
    "    model.add(Dense(10, activation='softmax'))\n",
    "    \n",
    "    adam = tf.keras.optimizers.Adamax(lr = 0.001) \n",
    "    model.compile(optimizer=adam, loss='poisson', metrics=['accuracy'])\n",
    "    \n",
    "    return model"
   ]
  },
  {
   "cell_type": "code",
   "execution_count": 24,
   "metadata": {},
   "outputs": [],
   "source": [
    "model = get_model_cnn_batch_simple_HS()"
   ]
  },
  {
   "cell_type": "code",
   "execution_count": 25,
   "metadata": {},
   "outputs": [
    {
     "name": "stdout",
     "output_type": "stream",
     "text": [
      "Train on 42000 samples, validate on 18000 samples\n",
      "Epoch 1/100\n",
      "42000/42000 [==============================] - 43s 1ms/step - loss: 1.0971 - accuracy: 0.6585 - val_loss: 1.5235 - val_accuracy: 0.4522\n",
      "Epoch 2/100\n",
      "42000/42000 [==============================] - 10s 229us/step - loss: 0.6229 - accuracy: 0.8077 - val_loss: 0.6168 - val_accuracy: 0.8374\n",
      "Epoch 3/100\n",
      "42000/42000 [==============================] - 9s 222us/step - loss: 0.4815 - accuracy: 0.8467 - val_loss: 0.3752 - val_accuracy: 0.8799\n",
      "Epoch 4/100\n",
      "42000/42000 [==============================] - 10s 241us/step - loss: 0.4110 - accuracy: 0.8670 - val_loss: 0.4654 - val_accuracy: 0.8411\n",
      "Epoch 5/100\n",
      "42000/42000 [==============================] - 9s 217us/step - loss: 0.3615 - accuracy: 0.8778 - val_loss: 0.3681 - val_accuracy: 0.8703\n",
      "Epoch 6/100\n",
      "42000/42000 [==============================] - 10s 231us/step - loss: 0.3339 - accuracy: 0.8895 - val_loss: 0.3665 - val_accuracy: 0.8827\n",
      "Epoch 7/100\n",
      "42000/42000 [==============================] - 10s 228us/step - loss: 0.3130 - accuracy: 0.8944 - val_loss: 0.3718 - val_accuracy: 0.8667\n",
      "Epoch 8/100\n",
      "42000/42000 [==============================] - 10s 230us/step - loss: 0.2945 - accuracy: 0.8997 - val_loss: 0.3043 - val_accuracy: 0.8929\n",
      "Epoch 9/100\n",
      "42000/42000 [==============================] - 9s 221us/step - loss: 0.2780 - accuracy: 0.9052 - val_loss: 0.3517 - val_accuracy: 0.8894\n",
      "Epoch 10/100\n",
      "42000/42000 [==============================] - 9s 220us/step - loss: 0.2670 - accuracy: 0.9078 - val_loss: 0.3729 - val_accuracy: 0.8749\n",
      "Epoch 11/100\n",
      "42000/42000 [==============================] - 9s 217us/step - loss: 0.2506 - accuracy: 0.9151 - val_loss: 0.3522 - val_accuracy: 0.8831\n",
      "Epoch 12/100\n",
      "42000/42000 [==============================] - 9s 217us/step - loss: 0.2449 - accuracy: 0.9155 - val_loss: 0.3183 - val_accuracy: 0.8767\n",
      "Epoch 13/100\n",
      "42000/42000 [==============================] - 10s 245us/step - loss: 0.2361 - accuracy: 0.9186 - val_loss: 0.2854 - val_accuracy: 0.9001\n",
      "Epoch 14/100\n",
      "42000/42000 [==============================] - 10s 233us/step - loss: 0.2224 - accuracy: 0.9222 - val_loss: 0.3470 - val_accuracy: 0.8776\n",
      "Epoch 15/100\n",
      "42000/42000 [==============================] - 11s 272us/step - loss: 0.2156 - accuracy: 0.9241 - val_loss: 0.3273 - val_accuracy: 0.8892s - loss: 0.2078 - accura\n",
      "Epoch 16/100\n",
      "42000/42000 [==============================] - 10s 230us/step - loss: 0.2094 - accuracy: 0.9263 - val_loss: 0.2638 - val_accuracy: 0.9043\n",
      "Epoch 17/100\n",
      "42000/42000 [==============================] - 10s 232us/step - loss: 0.2004 - accuracy: 0.9300 - val_loss: 0.2230 - val_accuracy: 0.9222\n",
      "Epoch 18/100\n",
      "42000/42000 [==============================] - 10s 239us/step - loss: 0.1931 - accuracy: 0.9321 - val_loss: 0.3585 - val_accuracy: 0.8721\n",
      "Epoch 19/100\n",
      "42000/42000 [==============================] - 10s 237us/step - loss: 0.1869 - accuracy: 0.9344 - val_loss: 0.3378 - val_accuracy: 0.8824\n",
      "Epoch 20/100\n",
      "42000/42000 [==============================] - 10s 247us/step - loss: 0.1825 - accuracy: 0.9363 - val_loss: 0.2537 - val_accuracy: 0.9127: 0.1833 \n",
      "Epoch 21/100\n",
      "42000/42000 [==============================] - 10s 236us/step - loss: 0.1802 - accuracy: 0.9378 - val_loss: 0.3613 - val_accuracy: 0.8747\n",
      "Epoch 22/100\n",
      "42000/42000 [==============================] - 10s 232us/step - loss: 0.1673 - accuracy: 0.9409 - val_loss: 0.4550 - val_accuracy: 0.8222\n",
      "Epoch 23/100\n",
      "42000/42000 [==============================] - 10s 228us/step - loss: 0.1695 - accuracy: 0.9405 - val_loss: 0.3069 - val_accuracy: 0.8939\n",
      "Epoch 24/100\n",
      "42000/42000 [==============================] - 10s 232us/step - loss: 0.1623 - accuracy: 0.9426 - val_loss: 0.2982 - val_accuracy: 0.8954.94\n",
      "Epoch 25/100\n",
      "42000/42000 [==============================] - 10s 239us/step - loss: 0.1532 - accuracy: 0.9451 - val_loss: 0.3625 - val_accuracy: 0.8739\n",
      "Epoch 26/100\n",
      "42000/42000 [==============================] - 10s 227us/step - loss: 0.1486 - accuracy: 0.9468 - val_loss: 0.3326 - val_accuracy: 0.8902\n",
      "Epoch 27/100\n",
      "42000/42000 [==============================] - 10s 236us/step - loss: 0.1459 - accuracy: 0.9494 - val_loss: 0.2442 - val_accuracy: 0.9103\n",
      "Epoch 28/100\n",
      "42000/42000 [==============================] - 10s 242us/step - loss: 0.1415 - accuracy: 0.9509 - val_loss: 0.2804 - val_accuracy: 0.9089\n",
      "Epoch 29/100\n",
      "42000/42000 [==============================] - 9s 220us/step - loss: 0.1357 - accuracy: 0.9516 - val_loss: 0.2600 - val_accuracy: 0.9152\n",
      "Epoch 30/100\n",
      "42000/42000 [==============================] - 9s 219us/step - loss: 0.1319 - accuracy: 0.9535 - val_loss: 0.4665 - val_accuracy: 0.8488 los\n",
      "Epoch 31/100\n",
      "42000/42000 [==============================] - 9s 219us/step - loss: 0.1329 - accuracy: 0.9535 - val_loss: 0.3231 - val_accuracy: 0.8903\n",
      "Epoch 32/100\n",
      "42000/42000 [==============================] - 10s 230us/step - loss: 0.1220 - accuracy: 0.9563 - val_loss: 0.3050 - val_accuracy: 0.9053\n",
      "Epoch 33/100\n",
      "42000/42000 [==============================] - 10s 233us/step - loss: 0.1199 - accuracy: 0.9558 - val_loss: 0.3171 - val_accuracy: 0.8994\n",
      "Epoch 34/100\n",
      "42000/42000 [==============================] - 10s 235us/step - loss: 0.1164 - accuracy: 0.9587 - val_loss: 0.4622 - val_accuracy: 0.8518\n",
      "Epoch 35/100\n",
      "42000/42000 [==============================] - 10s 227us/step - loss: 0.1113 - accuracy: 0.9602 - val_loss: 0.2465 - val_accuracy: 0.9189\n",
      "Epoch 36/100\n",
      "42000/42000 [==============================] - 10s 244us/step - loss: 0.1121 - accuracy: 0.9587 - val_loss: 0.4152 - val_accuracy: 0.8760\n",
      "Epoch 37/100\n",
      "42000/42000 [==============================] - 10s 233us/step - loss: 0.1056 - accuracy: 0.9616 - val_loss: 0.2674 - val_accuracy: 0.9150\n",
      "Epoch 38/100\n",
      "42000/42000 [==============================] - 9s 222us/step - loss: 0.1061 - accuracy: 0.9616 - val_loss: 0.3644 - val_accuracy: 0.8885\n",
      "Epoch 39/100\n",
      "42000/42000 [==============================] - 9s 218us/step - loss: 0.1045 - accuracy: 0.9622 - val_loss: 0.3287 - val_accuracy: 0.8869\n",
      "Epoch 40/100\n",
      "42000/42000 [==============================] - 9s 218us/step - loss: 0.0980 - accuracy: 0.9648 - val_loss: 0.2611 - val_accuracy: 0.9171\n",
      "Epoch 41/100\n",
      "42000/42000 [==============================] - 9s 218us/step - loss: 0.0969 - accuracy: 0.9648 - val_loss: 0.4222 - val_accuracy: 0.8913\n",
      "Epoch 42/100\n",
      "42000/42000 [==============================] - 10s 236us/step - loss: 0.0888 - accuracy: 0.9673 - val_loss: 0.7510 - val_accuracy: 0.7524\n",
      "Epoch 43/100\n",
      "42000/42000 [==============================] - 9s 226us/step - loss: 0.1028 - accuracy: 0.9637 - val_loss: 0.3347 - val_accuracy: 0.8946\n",
      "Epoch 44/100\n",
      "42000/42000 [==============================] - 9s 220us/step - loss: 0.0919 - accuracy: 0.9665 - val_loss: 0.2484 - val_accuracy: 0.9200\n",
      "Epoch 45/100\n",
      "42000/42000 [==============================] - 9s 218us/step - loss: 0.0845 - accuracy: 0.9699 - val_loss: 0.5066 - val_accuracy: 0.8553\n",
      "Epoch 46/100\n",
      "42000/42000 [==============================] - 9s 223us/step - loss: 0.0864 - accuracy: 0.9689 - val_loss: 0.3695 - val_accuracy: 0.9033cura\n",
      "Epoch 47/100\n",
      "42000/42000 [==============================] - 9s 223us/step - loss: 0.0813 - accuracy: 0.9702 - val_loss: 0.3584 - val_accuracy: 0.8994ac\n",
      "Epoch 48/100\n",
      "42000/42000 [==============================] - 9s 220us/step - loss: 0.0795 - accuracy: 0.9710 - val_loss: 0.2857 - val_accuracy: 0.9173\n",
      "Epoch 49/100\n",
      "42000/42000 [==============================] - 9s 222us/step - loss: 0.0754 - accuracy: 0.9726 - val_loss: 0.2667 - val_accuracy: 0.9264\n",
      "Epoch 50/100\n",
      "42000/42000 [==============================] - 10s 236us/step - loss: 0.0754 - accuracy: 0.9730 - val_loss: 0.5302 - val_accuracy: 0.8454\n",
      "Epoch 51/100\n",
      "42000/42000 [==============================] - 10s 233us/step - loss: 0.0740 - accuracy: 0.9728 - val_loss: 0.4321 - val_accuracy: 0.8756\n",
      "Epoch 52/100\n",
      "42000/42000 [==============================] - 9s 224us/step - loss: 0.0728 - accuracy: 0.9737 - val_loss: 0.3258 - val_accuracy: 0.9014\n",
      "Epoch 53/100\n",
      "42000/42000 [==============================] - 10s 234us/step - loss: 0.0682 - accuracy: 0.9751 - val_loss: 0.5338 - val_accuracy: 0.8652\n",
      "Epoch 54/100\n",
      "42000/42000 [==============================] - 9s 223us/step - loss: 0.0745 - accuracy: 0.9729 - val_loss: 0.3079 - val_accuracy: 0.9114\n",
      "Epoch 55/100\n",
      "42000/42000 [==============================] - 9s 218us/step - loss: 0.0714 - accuracy: 0.9743 - val_loss: 0.5619 - val_accuracy: 0.8794s: 0\n",
      "Epoch 56/100\n",
      "42000/42000 [==============================] - 9s 226us/step - loss: 0.0676 - accuracy: 0.9755 - val_loss: 0.2864 - val_accuracy: 0.9203\n",
      "Epoch 57/100\n",
      "42000/42000 [==============================] - 9s 220us/step - loss: 0.0650 - accuracy: 0.9763 - val_loss: 0.3910 - val_accuracy: 0.9134\n",
      "Epoch 58/100\n",
      "42000/42000 [==============================] - 9s 224us/step - loss: 0.0600 - accuracy: 0.9781 - val_loss: 0.3282 - val_accuracy: 0.9223\n",
      "Epoch 59/100\n",
      "42000/42000 [==============================] - 10s 241us/step - loss: 0.0669 - accuracy: 0.9756 - val_loss: 0.4112 - val_accuracy: 0.8800\n",
      "Epoch 60/100\n",
      "42000/42000 [==============================] - 10s 232us/step - loss: 0.0647 - accuracy: 0.9764 - val_loss: 0.3983 - val_accuracy: 0.9016\n",
      "Epoch 61/100\n",
      "42000/42000 [==============================] - 10s 228us/step - loss: 0.0635 - accuracy: 0.9774 - val_loss: 0.3659 - val_accuracy: 0.9022\n",
      "Epoch 62/100\n",
      "42000/42000 [==============================] - 10s 227us/step - loss: 0.0538 - accuracy: 0.9810 - val_loss: 0.2737 - val_accuracy: 0.9202\n",
      "Epoch 63/100\n",
      "42000/42000 [==============================] - 10s 241us/step - loss: 0.0574 - accuracy: 0.9787 - val_loss: 0.4017 - val_accuracy: 0.9119\n",
      "Epoch 64/100\n",
      "42000/42000 [==============================] - 10s 233us/step - loss: 0.0542 - accuracy: 0.9806 - val_loss: 1.0804 - val_accuracy: 0.7421\n",
      "Epoch 65/100\n",
      "42000/42000 [==============================] - 9s 226us/step - loss: 0.0599 - accuracy: 0.9790 - val_loss: 0.3827 - val_accuracy: 0.8980\n",
      "Epoch 66/100\n",
      "42000/42000 [==============================] - 10s 229us/step - loss: 0.0660 - accuracy: 0.9764 - val_loss: 0.5352 - val_accuracy: 0.8682\n",
      "Epoch 67/100\n",
      "42000/42000 [==============================] - 10s 231us/step - loss: 0.0573 - accuracy: 0.9794 - val_loss: 0.3861 - val_accuracy: 0.8897\n",
      "Epoch 68/100\n",
      "42000/42000 [==============================] - 10s 234us/step - loss: 0.0511 - accuracy: 0.9812 - val_loss: 0.2833 - val_accuracy: 0.9278\n",
      "Epoch 69/100\n",
      "42000/42000 [==============================] - 10s 228us/step - loss: 0.0546 - accuracy: 0.9804 - val_loss: 0.2511 - val_accuracy: 0.9301\n",
      "Epoch 70/100\n",
      "42000/42000 [==============================] - 10s 229us/step - loss: 0.0473 - accuracy: 0.9831 - val_loss: 0.4182 - val_accuracy: 0.8842\n",
      "Epoch 71/100\n",
      "42000/42000 [==============================] - 10s 239us/step - loss: 0.0476 - accuracy: 0.9832 - val_loss: 0.3849 - val_accuracy: 0.8988\n",
      "Epoch 72/100\n",
      "42000/42000 [==============================] - 10s 245us/step - loss: 0.0423 - accuracy: 0.9851 - val_loss: 0.3123 - val_accuracy: 0.9210\n",
      "Epoch 73/100\n",
      "42000/42000 [==============================] - 10s 228us/step - loss: 0.0467 - accuracy: 0.9831 - val_loss: 0.3616 - val_accuracy: 0.9072\n",
      "Epoch 74/100\n",
      "42000/42000 [==============================] - 10s 234us/step - loss: 0.0448 - accuracy: 0.9841 - val_loss: 0.3493 - val_accuracy: 0.9097\n",
      "Epoch 75/100\n",
      "42000/42000 [==============================] - 10s 239us/step - loss: 0.0450 - accuracy: 0.9841 - val_loss: 0.4765 - val_accuracy: 0.8748\n",
      "Epoch 76/100\n",
      "42000/42000 [==============================] - 10s 237us/step - loss: 0.0544 - accuracy: 0.9807 - val_loss: 0.5269 - val_accuracy: 0.8692\n",
      "Epoch 77/100\n",
      "42000/42000 [==============================] - 9s 218us/step - loss: 0.0432 - accuracy: 0.9851 - val_loss: 0.3798 - val_accuracy: 0.9219\n",
      "Epoch 78/100\n",
      "42000/42000 [==============================] - 9s 218us/step - loss: 0.0427 - accuracy: 0.9851 - val_loss: 0.5548 - val_accuracy: 0.8896\n",
      "Epoch 79/100\n",
      "42000/42000 [==============================] - 9s 223us/step - loss: 0.0435 - accuracy: 0.9849 - val_loss: 0.4155 - val_accuracy: 0.9049\n",
      "Epoch 80/100\n",
      "42000/42000 [==============================] - 9s 224us/step - loss: 0.0394 - accuracy: 0.9855 - val_loss: 0.4370 - val_accuracy: 0.8901\n",
      "Epoch 81/100\n",
      "42000/42000 [==============================] - 9s 223us/step - loss: 0.0374 - accuracy: 0.9870 - val_loss: 0.3871 - val_accuracy: 0.9155\n",
      "Epoch 82/100\n",
      "42000/42000 [==============================] - 9s 222us/step - loss: 0.0433 - accuracy: 0.9845 - val_loss: 0.4003 - val_accuracy: 0.9038\n",
      "Epoch 83/100\n",
      "42000/42000 [==============================] - 9s 220us/step - loss: 0.0553 - accuracy: 0.9804 - val_loss: 0.6139 - val_accuracy: 0.8983\n",
      "Epoch 84/100\n",
      "42000/42000 [==============================] - 9s 226us/step - loss: 0.0397 - accuracy: 0.9853 - val_loss: 0.4671 - val_accuracy: 0.9043\n",
      "Epoch 85/100\n",
      "42000/42000 [==============================] - 10s 230us/step - loss: 0.0425 - accuracy: 0.9848 - val_loss: 0.3861 - val_accuracy: 0.9074\n",
      "Epoch 86/100\n",
      "42000/42000 [==============================] - 10s 240us/step - loss: 0.0384 - accuracy: 0.9862 - val_loss: 0.3601 - val_accuracy: 0.9168\n",
      "Epoch 87/100\n",
      "42000/42000 [==============================] - 10s 240us/step - loss: 0.0682 - accuracy: 0.9768 - val_loss: 0.3308 - val_accuracy: 0.9097\n",
      "Epoch 88/100\n",
      "42000/42000 [==============================] - 10s 243us/step - loss: 0.0432 - accuracy: 0.9847 - val_loss: 0.3224 - val_accuracy: 0.9250\n",
      "Epoch 89/100\n",
      "42000/42000 [==============================] - 10s 230us/step - loss: 0.0357 - accuracy: 0.9875 - val_loss: 0.3348 - val_accuracy: 0.9239\n",
      "Epoch 90/100\n",
      "42000/42000 [==============================] - 10s 239us/step - loss: 0.0325 - accuracy: 0.9882 - val_loss: 0.3119 - val_accuracy: 0.9292\n",
      "Epoch 91/100\n",
      "42000/42000 [==============================] - 10s 230us/step - loss: 0.0320 - accuracy: 0.9892 - val_loss: 0.4209 - val_accuracy: 0.9077\n",
      "Epoch 92/100\n",
      "42000/42000 [==============================] - 10s 240us/step - loss: 0.0301 - accuracy: 0.9895 - val_loss: 0.3182 - val_accuracy: 0.9303\n",
      "Epoch 93/100\n",
      "42000/42000 [==============================] - 10s 233us/step - loss: 0.0417 - accuracy: 0.9846 - val_loss: 0.3867 - val_accuracy: 0.9211\n",
      "Epoch 94/100\n",
      "42000/42000 [==============================] - 10s 236us/step - loss: 0.0345 - accuracy: 0.9882 - val_loss: 0.3447 - val_accuracy: 0.9230\n",
      "Epoch 95/100\n",
      "42000/42000 [==============================] - 10s 229us/step - loss: 0.0362 - accuracy: 0.9875 - val_loss: 0.4696 - val_accuracy: 0.8985\n",
      "Epoch 96/100\n",
      "42000/42000 [==============================] - 10s 229us/step - loss: 0.0354 - accuracy: 0.9871 - val_loss: 0.3679 - val_accuracy: 0.9208\n",
      "Epoch 97/100\n",
      "42000/42000 [==============================] - 10s 230us/step - loss: 0.0459 - accuracy: 0.9835 - val_loss: 0.8876 - val_accuracy: 0.7859\n",
      "Epoch 98/100\n",
      "42000/42000 [==============================] - 9s 224us/step - loss: 0.0447 - accuracy: 0.9842 - val_loss: 0.4694 - val_accuracy: 0.8922\n",
      "Epoch 99/100\n",
      "42000/42000 [==============================] - 9s 223us/step - loss: 0.0479 - accuracy: 0.9833 - val_loss: 0.3762 - val_accuracy: 0.9263\n",
      "Epoch 100/100\n",
      "42000/42000 [==============================] - 9s 221us/step - loss: 0.0362 - accuracy: 0.9877 - val_loss: 0.3712 - val_accuracy: 0.9223\n",
      "Wall time: 16min 42s\n"
     ]
    }
   ],
   "source": [
    "%%time\n",
    "history7 = model.fit(x_data, y_data, batch_size=256, epochs=100, verbose=1,\n",
    "         validation_split = 0.3)"
   ]
  },
  {
   "cell_type": "code",
   "execution_count": 27,
   "metadata": {},
   "outputs": [
    {
     "name": "stderr",
     "output_type": "stream",
     "text": [
      "C:\\Users\\aasha\\anaconda3\\envs\\tfgpu\\lib\\site-packages\\keras\\engine\\saving.py:165: UserWarning: TensorFlow optimizers do not make it possible to access optimizer attributes or optimizer state after instantiation. As a result, we cannot save the optimizer as part of the model save file.You will have to compile your model again after loading it. Prefer using a Keras optimizer instead (see keras.io/optimizers).\n",
      "  'TensorFlow optimizers do not '\n"
     ]
    }
   ],
   "source": [
    "#Step 1: Create or open a file with write-binary mode and save the model to it\n",
    "filenm = 'MNIST_Fashion_2LayerCNN_02he_normal_Adamsimple_HS.pickle'\n",
    "\n",
    "#Step 2: Open the saved file with read-binary mode\n",
    "pickle = pkl.dump(model, open(filenm, 'wb'))\n",
    "\n",
    "predicted = model.predict(x_data_sub)\n",
    "y_pred = predicted.argmax(axis=1)\n",
    "\n",
    "Out = pd.DataFrame([test['id'],y_pred]).T\n",
    "Out.rename(columns = {0:'id', 1:'label'})\n",
    "\n",
    "#Out\n",
    "Out.to_csv('MNIST_Fashion_2LayerCNN_02he_normal_Adamsimple_HS.csv', header =  ['id', 'label' ], index = None)"
   ]
  },
  {
   "cell_type": "code",
   "execution_count": 26,
   "metadata": {},
   "outputs": [
    {
     "data": {
      "image/png": "[encoded data removed]",
      "text/plain": [
       "<Figure size 432x288 with 1 Axes>"
      ]
     },
     "metadata": {
      "needs_background": "light"
     },
     "output_type": "display_data"
    }
   ],
   "source": [
    "plt.plot(history7.history['accuracy'])\n",
    "plt.plot(history7.history['val_accuracy'])\n",
    "plt.legend(['training', 'validation'], loc = 'upper left')\n",
    "plt.show()"
   ]
  },
  {
   "cell_type": "code",
   "execution_count": null,
   "metadata": {},
   "outputs": [],
   "source": []
  },
  {
   "cell_type": "markdown",
   "metadata": {},
   "source": [
    "## Basic MLP model\n",
    "- Naive MLP model without any alterations"
   ]
  },
  {
   "cell_type": "code",
   "execution_count": 22,
   "metadata": {},
   "outputs": [],
   "source": [
    "model = Sequential()"
   ]
  },
  {
   "cell_type": "code",
   "execution_count": 23,
   "metadata": {},
   "outputs": [],
   "source": [
    "model.add(Conv2D(input_shape = (x_data.shape[1], x_data.shape[2], x_data.shape[3]), \n",
    "                 filters = 10,\n",
    "                 kernel_size = (3,3), strides = (1,1), padding = 'valid'))\n",
    "model.add(Activation('sigmoid'))\n",
    "model.add(MaxPooling2D(pool_size = (2,2)))\n",
    "\n",
    "model.add(Flatten())\n"
   ]
  },
  {
   "cell_type": "code",
   "execution_count": 24,
   "metadata": {},
   "outputs": [
    {
     "data": {
      "text/plain": [
       "(None, 1690)"
      ]
     },
     "execution_count": 24,
     "metadata": {},
     "output_type": "execute_result"
    }
   ],
   "source": [
    "model.output_shape"
   ]
  },
  {
   "cell_type": "code",
   "execution_count": 25,
   "metadata": {},
   "outputs": [],
   "source": [
    "model.add(Dense(50))\n",
    "model.add(Activation('sigmoid'))\n",
    "model.add(Dense(50))\n",
    "model.add(Activation('sigmoid'))\n",
    "model.add(Dense(50))\n",
    "model.add(Activation('sigmoid'))\n",
    "model.add(Dense(10))\n",
    "model.add(Activation('softmax'))"
   ]
  },
  {
   "cell_type": "code",
   "execution_count": 26,
   "metadata": {},
   "outputs": [],
   "source": [
    "model.compile(optimizer = adam, loss = 'categorical_crossentropy', metrics = ['accuracy'])"
   ]
  },
  {
   "cell_type": "code",
   "execution_count": 27,
   "metadata": {},
   "outputs": [
    {
     "name": "stdout",
     "output_type": "stream",
     "text": [
      "Train on 29399 samples, validate on 12601 samples\n",
      "Epoch 1/100\n",
      "29399/29399 [==============================] - 3s 105us/step - loss: 1.3786 - accuracy: 0.5108 - val_loss: 0.7701 - val_accuracy: 0.6934\n",
      "Epoch 2/100\n",
      "29399/29399 [==============================] - 1s 37us/step - loss: 0.6661 - accuracy: 0.7449 - val_loss: 0.6293 - val_accuracy: 0.7598\n",
      "Epoch 3/100\n",
      "29399/29399 [==============================] - 1s 37us/step - loss: 0.6172 - accuracy: 0.7724 - val_loss: 0.5838 - val_accuracy: 0.7895\n",
      "Epoch 4/100\n",
      "29399/29399 [==============================] - 1s 38us/step - loss: 0.5897 - accuracy: 0.7856 - val_loss: 0.5446 - val_accuracy: 0.8014\n",
      "Epoch 5/100\n",
      "29399/29399 [==============================] - 1s 38us/step - loss: 0.5330 - accuracy: 0.8049 - val_loss: 0.5323 - val_accuracy: 0.8094\n",
      "Epoch 6/100\n",
      "29399/29399 [==============================] - 1s 38us/step - loss: 0.5139 - accuracy: 0.8165 - val_loss: 0.5849 - val_accuracy: 0.7865\n",
      "Epoch 7/100\n",
      "29399/29399 [==============================] - 1s 38us/step - loss: 0.4816 - accuracy: 0.8284 - val_loss: 0.4647 - val_accuracy: 0.8385\n",
      "Epoch 8/100\n",
      "29399/29399 [==============================] - 1s 39us/step - loss: 0.4655 - accuracy: 0.8350 - val_loss: 0.4758 - val_accuracy: 0.8218\n",
      "Epoch 9/100\n",
      "29399/29399 [==============================] - 1s 39us/step - loss: 0.4589 - accuracy: 0.8407 - val_loss: 0.4695 - val_accuracy: 0.8368\n",
      "Epoch 10/100\n",
      "29399/29399 [==============================] - 1s 39us/step - loss: 0.4258 - accuracy: 0.8548 - val_loss: 0.4342 - val_accuracy: 0.8481\n",
      "Epoch 11/100\n",
      "29399/29399 [==============================] - 1s 37us/step - loss: 0.4188 - accuracy: 0.8545 - val_loss: 0.4300 - val_accuracy: 0.8538\n",
      "Epoch 12/100\n",
      "29399/29399 [==============================] - 1s 39us/step - loss: 0.4265 - accuracy: 0.8522 - val_loss: 0.4414 - val_accuracy: 0.8488\n",
      "Epoch 13/100\n",
      "29399/29399 [==============================] - 1s 38us/step - loss: 0.3913 - accuracy: 0.8655 - val_loss: 0.4098 - val_accuracy: 0.8620\n",
      "Epoch 14/100\n",
      "29399/29399 [==============================] - 1s 40us/step - loss: 0.3920 - accuracy: 0.8655 - val_loss: 0.4092 - val_accuracy: 0.8570\n",
      "Epoch 15/100\n",
      "29399/29399 [==============================] - 1s 38us/step - loss: 0.3807 - accuracy: 0.8694 - val_loss: 0.4291 - val_accuracy: 0.8572\n",
      "Epoch 16/100\n",
      "29399/29399 [==============================] - 1s 40us/step - loss: 0.3846 - accuracy: 0.8698 - val_loss: 0.4570 - val_accuracy: 0.8460\n",
      "Epoch 17/100\n",
      "29399/29399 [==============================] - 1s 36us/step - loss: 0.3760 - accuracy: 0.8716 - val_loss: 0.3933 - val_accuracy: 0.8671\n",
      "Epoch 18/100\n",
      "29399/29399 [==============================] - 1s 32us/step - loss: 0.3763 - accuracy: 0.8704 - val_loss: 0.4036 - val_accuracy: 0.8648\n",
      "Epoch 19/100\n",
      "29399/29399 [==============================] - 1s 34us/step - loss: 0.3573 - accuracy: 0.8768 - val_loss: 0.3813 - val_accuracy: 0.8707\n",
      "Epoch 20/100\n",
      "29399/29399 [==============================] - 1s 36us/step - loss: 0.3462 - accuracy: 0.8809 - val_loss: 0.4029 - val_accuracy: 0.8632\n",
      "Epoch 21/100\n",
      "29399/29399 [==============================] - 1s 37us/step - loss: 0.3611 - accuracy: 0.8783 - val_loss: 0.3807 - val_accuracy: 0.8710\n",
      "Epoch 22/100\n",
      "29399/29399 [==============================] - 1s 37us/step - loss: 0.3446 - accuracy: 0.8814 - val_loss: 0.3905 - val_accuracy: 0.8670\n",
      "Epoch 23/100\n",
      "29399/29399 [==============================] - 1s 37us/step - loss: 0.3289 - accuracy: 0.8875 - val_loss: 0.3969 - val_accuracy: 0.8701\n",
      "Epoch 24/100\n",
      "29399/29399 [==============================] - 1s 37us/step - loss: 0.3248 - accuracy: 0.8888 - val_loss: 0.3986 - val_accuracy: 0.8664\n",
      "Epoch 25/100\n",
      "29399/29399 [==============================] - 1s 37us/step - loss: 0.3526 - accuracy: 0.8791 - val_loss: 0.3982 - val_accuracy: 0.8682\n",
      "Epoch 26/100\n",
      "29399/29399 [==============================] - 1s 36us/step - loss: 0.3346 - accuracy: 0.8857 - val_loss: 0.4338 - val_accuracy: 0.8593\n",
      "Epoch 27/100\n",
      "29399/29399 [==============================] - 1s 37us/step - loss: 0.3859 - accuracy: 0.8658 - val_loss: 0.4335 - val_accuracy: 0.8530\n",
      "Epoch 28/100\n",
      "29399/29399 [==============================] - 1s 37us/step - loss: 0.3630 - accuracy: 0.8752 - val_loss: 0.4147 - val_accuracy: 0.8573\n",
      "Epoch 29/100\n",
      "29399/29399 [==============================] - 1s 37us/step - loss: 0.3887 - accuracy: 0.8682 - val_loss: 0.4089 - val_accuracy: 0.8637\n",
      "Epoch 30/100\n",
      "29399/29399 [==============================] - 1s 40us/step - loss: 0.3694 - accuracy: 0.8724 - val_loss: 0.4311 - val_accuracy: 0.8535\n",
      "Epoch 31/100\n",
      "29399/29399 [==============================] - 1s 38us/step - loss: 0.3298 - accuracy: 0.8866 - val_loss: 0.4045 - val_accuracy: 0.8699\n",
      "Epoch 32/100\n",
      "29399/29399 [==============================] - 1s 36us/step - loss: 0.3355 - accuracy: 0.8860 - val_loss: 0.3875 - val_accuracy: 0.8706\n",
      "Epoch 33/100\n",
      "29399/29399 [==============================] - 1s 37us/step - loss: 0.3103 - accuracy: 0.8940 - val_loss: 0.3933 - val_accuracy: 0.8677\n",
      "Epoch 34/100\n",
      "29399/29399 [==============================] - 1s 38us/step - loss: 0.3402 - accuracy: 0.8829 - val_loss: 0.4268 - val_accuracy: 0.8630\n",
      "Epoch 35/100\n",
      "29399/29399 [==============================] - 1s 38us/step - loss: 0.3206 - accuracy: 0.8899 - val_loss: 0.3791 - val_accuracy: 0.8715\n",
      "Epoch 36/100\n",
      "29399/29399 [==============================] - 1s 38us/step - loss: 0.3283 - accuracy: 0.8878 - val_loss: 0.4022 - val_accuracy: 0.8633\n",
      "Epoch 37/100\n",
      "29399/29399 [==============================] - 1s 37us/step - loss: 0.3208 - accuracy: 0.8901 - val_loss: 0.4156 - val_accuracy: 0.8602\n",
      "Epoch 38/100\n",
      "29399/29399 [==============================] - 1s 38us/step - loss: 0.3073 - accuracy: 0.8935 - val_loss: 0.3963 - val_accuracy: 0.8690\n",
      "Epoch 39/100\n",
      "29399/29399 [==============================] - 1s 39us/step - loss: 0.3114 - accuracy: 0.8924 - val_loss: 0.4091 - val_accuracy: 0.8644\n",
      "Epoch 40/100\n",
      "29399/29399 [==============================] - 1s 38us/step - loss: 0.2981 - accuracy: 0.8969 - val_loss: 0.4041 - val_accuracy: 0.8623\n",
      "Epoch 41/100\n",
      "29399/29399 [==============================] - 1s 39us/step - loss: 0.2977 - accuracy: 0.8977 - val_loss: 0.4005 - val_accuracy: 0.8682\n",
      "Epoch 42/100\n",
      "29399/29399 [==============================] - 1s 39us/step - loss: 0.2982 - accuracy: 0.8995 - val_loss: 0.4048 - val_accuracy: 0.8665\n",
      "Epoch 43/100\n",
      "29399/29399 [==============================] - 1s 38us/step - loss: 0.2919 - accuracy: 0.9005 - val_loss: 0.3849 - val_accuracy: 0.8709\n",
      "Epoch 44/100\n",
      "29399/29399 [==============================] - 1s 37us/step - loss: 0.2813 - accuracy: 0.9025 - val_loss: 0.3776 - val_accuracy: 0.8756\n",
      "Epoch 45/100\n",
      "29399/29399 [==============================] - 1s 37us/step - loss: 0.2772 - accuracy: 0.9059 - val_loss: 0.3912 - val_accuracy: 0.8741\n",
      "Epoch 46/100\n",
      "29399/29399 [==============================] - 1s 38us/step - loss: 0.2932 - accuracy: 0.8996 - val_loss: 0.3851 - val_accuracy: 0.8749\n",
      "Epoch 47/100\n",
      "29399/29399 [==============================] - 1s 37us/step - loss: 0.2815 - accuracy: 0.9036 - val_loss: 0.3964 - val_accuracy: 0.8691\n",
      "Epoch 48/100\n",
      "29399/29399 [==============================] - 1s 37us/step - loss: 0.2717 - accuracy: 0.9072 - val_loss: 0.3945 - val_accuracy: 0.8743\n",
      "Epoch 49/100\n",
      "29399/29399 [==============================] - 1s 38us/step - loss: 0.2761 - accuracy: 0.9055 - val_loss: 0.4281 - val_accuracy: 0.8551\n",
      "Epoch 50/100\n",
      "29399/29399 [==============================] - 1s 37us/step - loss: 0.2859 - accuracy: 0.9021 - val_loss: 0.4326 - val_accuracy: 0.8617\n",
      "Epoch 51/100\n",
      "29399/29399 [==============================] - 1s 37us/step - loss: 0.3090 - accuracy: 0.8915 - val_loss: 0.3955 - val_accuracy: 0.8687\n",
      "Epoch 52/100\n",
      "29399/29399 [==============================] - 1s 37us/step - loss: 0.2953 - accuracy: 0.8971 - val_loss: 0.4188 - val_accuracy: 0.8693\n",
      "Epoch 53/100\n",
      "29399/29399 [==============================] - 1s 37us/step - loss: 0.2824 - accuracy: 0.9028 - val_loss: 0.4040 - val_accuracy: 0.8679\n",
      "Epoch 54/100\n",
      "29399/29399 [==============================] - 1s 37us/step - loss: 0.2873 - accuracy: 0.9005 - val_loss: 0.4538 - val_accuracy: 0.8577\n",
      "Epoch 55/100\n",
      "29399/29399 [==============================] - 1s 36us/step - loss: 0.2898 - accuracy: 0.9020 - val_loss: 0.4015 - val_accuracy: 0.8698\n"
     ]
    },
    {
     "name": "stdout",
     "output_type": "stream",
     "text": [
      "Epoch 56/100\n",
      "29399/29399 [==============================] - 1s 37us/step - loss: 0.3024 - accuracy: 0.8956 - val_loss: 0.4053 - val_accuracy: 0.8656\n",
      "Epoch 57/100\n",
      "29399/29399 [==============================] - 1s 37us/step - loss: 0.2979 - accuracy: 0.8986 - val_loss: 0.4077 - val_accuracy: 0.8725\n",
      "Epoch 58/100\n",
      "29399/29399 [==============================] - 1s 39us/step - loss: 0.2758 - accuracy: 0.9053 - val_loss: 0.3919 - val_accuracy: 0.8732\n",
      "Epoch 59/100\n",
      "29399/29399 [==============================] - 1s 36us/step - loss: 0.2762 - accuracy: 0.9050 - val_loss: 0.3844 - val_accuracy: 0.8755\n",
      "Epoch 60/100\n",
      "29399/29399 [==============================] - 1s 39us/step - loss: 0.2711 - accuracy: 0.9064 - val_loss: 0.3828 - val_accuracy: 0.8770\n",
      "Epoch 61/100\n",
      "29399/29399 [==============================] - 1s 37us/step - loss: 0.2664 - accuracy: 0.9079 - val_loss: 0.4203 - val_accuracy: 0.8691\n",
      "Epoch 62/100\n",
      "29399/29399 [==============================] - 1s 36us/step - loss: 0.2872 - accuracy: 0.9040 - val_loss: 0.4005 - val_accuracy: 0.8693\n",
      "Epoch 63/100\n",
      "29399/29399 [==============================] - 1s 38us/step - loss: 0.2921 - accuracy: 0.8996 - val_loss: 0.3965 - val_accuracy: 0.8684\n",
      "Epoch 64/100\n",
      "29399/29399 [==============================] - 1s 37us/step - loss: 0.2736 - accuracy: 0.9063 - val_loss: 0.4081 - val_accuracy: 0.8728\n",
      "Epoch 65/100\n",
      "29399/29399 [==============================] - 1s 39us/step - loss: 0.2674 - accuracy: 0.9089 - val_loss: 0.4214 - val_accuracy: 0.8645\n",
      "Epoch 66/100\n",
      "29399/29399 [==============================] - 1s 37us/step - loss: 0.2641 - accuracy: 0.9102 - val_loss: 0.4001 - val_accuracy: 0.8733\n",
      "Epoch 67/100\n",
      "29399/29399 [==============================] - 1s 39us/step - loss: 0.2685 - accuracy: 0.9090 - val_loss: 0.4331 - val_accuracy: 0.8637\n",
      "Epoch 68/100\n",
      "29399/29399 [==============================] - 1s 40us/step - loss: 0.2682 - accuracy: 0.9090 - val_loss: 0.4361 - val_accuracy: 0.8683\n",
      "Epoch 69/100\n",
      "29399/29399 [==============================] - 1s 39us/step - loss: 0.2851 - accuracy: 0.9022 - val_loss: 0.4115 - val_accuracy: 0.8633\n",
      "Epoch 70/100\n",
      "29399/29399 [==============================] - 1s 43us/step - loss: 0.2818 - accuracy: 0.9036 - val_loss: 0.3966 - val_accuracy: 0.8692\n",
      "Epoch 71/100\n",
      "29399/29399 [==============================] - 1s 39us/step - loss: 0.2719 - accuracy: 0.9083 - val_loss: 0.4122 - val_accuracy: 0.8662\n",
      "Epoch 72/100\n",
      "29399/29399 [==============================] - 1s 39us/step - loss: 0.2672 - accuracy: 0.9076 - val_loss: 0.4450 - val_accuracy: 0.8523\n",
      "Epoch 73/100\n",
      "29399/29399 [==============================] - 1s 38us/step - loss: 0.2501 - accuracy: 0.9158 - val_loss: 0.3988 - val_accuracy: 0.8764\n",
      "Epoch 74/100\n",
      "29399/29399 [==============================] - 1s 40us/step - loss: 0.2519 - accuracy: 0.9138 - val_loss: 0.3988 - val_accuracy: 0.8754\n",
      "Epoch 75/100\n",
      "29399/29399 [==============================] - 1s 39us/step - loss: 0.2611 - accuracy: 0.9114 - val_loss: 0.4114 - val_accuracy: 0.8675\n",
      "Epoch 76/100\n",
      "29399/29399 [==============================] - 1s 38us/step - loss: 0.2936 - accuracy: 0.8990 - val_loss: 0.3988 - val_accuracy: 0.8711\n",
      "Epoch 77/100\n",
      "29399/29399 [==============================] - 1s 39us/step - loss: 0.2744 - accuracy: 0.9079 - val_loss: 0.4050 - val_accuracy: 0.8699\n",
      "Epoch 78/100\n",
      "29399/29399 [==============================] - 1s 39us/step - loss: 0.2583 - accuracy: 0.9119 - val_loss: 0.4216 - val_accuracy: 0.8679\n",
      "Epoch 79/100\n",
      "29399/29399 [==============================] - 1s 39us/step - loss: 0.2640 - accuracy: 0.9113 - val_loss: 0.4075 - val_accuracy: 0.8686\n",
      "Epoch 80/100\n",
      "29399/29399 [==============================] - 1s 40us/step - loss: 0.2636 - accuracy: 0.9101 - val_loss: 0.4223 - val_accuracy: 0.8673\n",
      "Epoch 81/100\n",
      "29399/29399 [==============================] - 1s 39us/step - loss: 0.2769 - accuracy: 0.9054 - val_loss: 0.4209 - val_accuracy: 0.8659\n",
      "Epoch 82/100\n",
      "29399/29399 [==============================] - 1s 39us/step - loss: 0.2764 - accuracy: 0.9055 - val_loss: 0.4153 - val_accuracy: 0.8648\n",
      "Epoch 83/100\n",
      "29399/29399 [==============================] - 1s 35us/step - loss: 0.2826 - accuracy: 0.9049 - val_loss: 0.4085 - val_accuracy: 0.8660\n",
      "Epoch 84/100\n",
      "29399/29399 [==============================] - 1s 36us/step - loss: 0.2584 - accuracy: 0.9117 - val_loss: 0.4150 - val_accuracy: 0.8687\n",
      "Epoch 85/100\n",
      "29399/29399 [==============================] - 1s 38us/step - loss: 0.2483 - accuracy: 0.9156 - val_loss: 0.4248 - val_accuracy: 0.8687\n",
      "Epoch 86/100\n",
      "29399/29399 [==============================] - 1s 39us/step - loss: 0.2492 - accuracy: 0.9152 - val_loss: 0.4087 - val_accuracy: 0.8719\n",
      "Epoch 87/100\n",
      "29399/29399 [==============================] - 1s 41us/step - loss: 0.2630 - accuracy: 0.9112 - val_loss: 0.4176 - val_accuracy: 0.8675\n",
      "Epoch 88/100\n",
      "29399/29399 [==============================] - 1s 38us/step - loss: 0.2728 - accuracy: 0.9074 - val_loss: 0.4160 - val_accuracy: 0.8683\n",
      "Epoch 89/100\n",
      "29399/29399 [==============================] - 1s 36us/step - loss: 0.2688 - accuracy: 0.9102 - val_loss: 0.4241 - val_accuracy: 0.8638\n",
      "Epoch 90/100\n",
      "29399/29399 [==============================] - 1s 37us/step - loss: 0.2702 - accuracy: 0.9082 - val_loss: 0.4144 - val_accuracy: 0.8693\n",
      "Epoch 91/100\n",
      "29399/29399 [==============================] - 1s 38us/step - loss: 0.2601 - accuracy: 0.9122 - val_loss: 0.4100 - val_accuracy: 0.8684\n",
      "Epoch 92/100\n",
      "29399/29399 [==============================] - 1s 37us/step - loss: 0.2474 - accuracy: 0.9162 - val_loss: 0.4234 - val_accuracy: 0.8683\n",
      "Epoch 93/100\n",
      "29399/29399 [==============================] - 1s 37us/step - loss: 0.2578 - accuracy: 0.9118 - val_loss: 0.4272 - val_accuracy: 0.8685\n",
      "Epoch 94/100\n",
      "29399/29399 [==============================] - 1s 36us/step - loss: 0.2496 - accuracy: 0.9168 - val_loss: 0.4044 - val_accuracy: 0.8754\n",
      "Epoch 95/100\n",
      "29399/29399 [==============================] - 1s 38us/step - loss: 0.2422 - accuracy: 0.9184 - val_loss: 0.4060 - val_accuracy: 0.8723\n",
      "Epoch 96/100\n",
      "29399/29399 [==============================] - 1s 37us/step - loss: 0.2494 - accuracy: 0.9162 - val_loss: 0.4090 - val_accuracy: 0.8738\n",
      "Epoch 97/100\n",
      "29399/29399 [==============================] - 1s 38us/step - loss: 0.2310 - accuracy: 0.9224 - val_loss: 0.4540 - val_accuracy: 0.8636\n",
      "Epoch 98/100\n",
      "29399/29399 [==============================] - 1s 37us/step - loss: 0.2311 - accuracy: 0.9223 - val_loss: 0.4210 - val_accuracy: 0.8704\n",
      "Epoch 99/100\n",
      "29399/29399 [==============================] - 1s 37us/step - loss: 0.2368 - accuracy: 0.9190 - val_loss: 0.4374 - val_accuracy: 0.8675\n",
      "Epoch 100/100\n",
      "29399/29399 [==============================] - 1s 40us/step - loss: 0.2367 - accuracy: 0.9203 - val_loss: 0.4153 - val_accuracy: 0.8722\n"
     ]
    }
   ],
   "source": [
    "history = model.fit(x_train, y_train, batch_size = 250, validation_split = 0.3, epochs = 100, verbose = 1)"
   ]
  },
  {
   "cell_type": "code",
   "execution_count": 28,
   "metadata": {},
   "outputs": [
    {
     "data": {
      "image/png": "[encoded data removed]",
      "text/plain": [
       "<Figure size 432x288 with 1 Axes>"
      ]
     },
     "metadata": {
      "needs_background": "light"
     },
     "output_type": "display_data"
    }
   ],
   "source": [
    "plt.plot(history.history['accuracy'])\n",
    "plt.plot(history.history['val_accuracy'])\n",
    "plt.legend(['training', 'validation'], loc = 'upper left')\n",
    "plt.show()"
   ]
  },
  {
   "cell_type": "code",
   "execution_count": 29,
   "metadata": {},
   "outputs": [
    {
     "name": "stdout",
     "output_type": "stream",
     "text": [
      "18000/18000 [==============================] - 1s 75us/step\n"
     ]
    }
   ],
   "source": [
    "results = model.evaluate(x_test, y_test)"
   ]
  },
  {
   "cell_type": "code",
   "execution_count": 30,
   "metadata": {},
   "outputs": [
    {
     "name": "stdout",
     "output_type": "stream",
     "text": [
      "Test accuracy:  0.8645555377006531\n"
     ]
    }
   ],
   "source": [
    "print('Test accuracy: ', results[1])"
   ]
  },
  {
   "cell_type": "code",
   "execution_count": 111,
   "metadata": {},
   "outputs": [],
   "source": []
  },
  {
   "cell_type": "markdown",
   "metadata": {},
   "source": [
    "## MLP\n",
    "    Test accuracy:  0.294129341840744\n",
    "## CNN\n",
    "    563/563 [==============================] - 1s 2ms/step - loss: 0.6295 - accuracy: 0.8012\n",
    "    Test accuracy:  0.8011666536331177 - Both Test and train are same\n",
    "    \n",
    "    For Adam\n",
    "    563/563 [==============================] - 1s 2ms/step - loss: 0.5221 - accuracy: 0.8151\n",
    "    "
   ]
  },
  {
   "cell_type": "code",
   "execution_count": 162,
   "metadata": {},
   "outputs": [],
   "source": [
    "def mlp_model_LayerSize():\n",
    "    model = Sequential()\n",
    "    \n",
    "    model.add(Conv2D(input_shape = (x_data.shape[1], x_data.shape[2], x_data.shape[3]), \n",
    "                 filters = 10,\n",
    "                 kernel_size = (3,3), strides = (1,1), padding = 'valid'))\n",
    "    model.add(Activation('elu'))\n",
    "    model.add(MaxPooling2D(pool_size = (2,2)))\n",
    "\n",
    "    model.add(Conv2D(input_shape = (x_data.shape[1], x_data.shape[2], x_data.shape[3]), \n",
    "                 filters = 10,\n",
    "                 kernel_size = (3,3), strides = (1,1), padding = 'valid'))\n",
    "    model.add(Activation('elu'))\n",
    "    model.add(MaxPooling2D(pool_size = (2,2)))\n",
    "    \n",
    "    model.add(Flatten())\n",
    "\n",
    "    model.add(Dense(200, kernel_initializer = 'he_normal'))\n",
    "    model.add(BatchNormalization())                    # Add Batchnorm layer before Activation\n",
    "    model.add(Activation('elu'))  \n",
    "    model.add(Dropout(0.3))                        # Dropout layer after Activation\n",
    "    \n",
    "    model.add(Dense(100, kernel_initializer = 'he_normal'))\n",
    "    model.add(BatchNormalization())                    # Add Batchnorm layer before Activation\n",
    "    model.add(Activation('elu'))\n",
    "    model.add(Dropout(0.3))                        # Dropout layer after Activation\n",
    "    \n",
    "    model.add(Dense(50, kernel_initializer = 'he_normal'))\n",
    "    model.add(BatchNormalization())                    # Add Batchnorm layer before Activation\n",
    "    model.add(Activation('elu'))    \n",
    "    model.add(Dropout(0.3))                        # Dropout layer after Activation\n",
    "        \n",
    "    model.add(Dense(20, kernel_initializer = 'he_normal'))\n",
    "    model.add(BatchNormalization())                    # Add Batchnorm layer before Activation\n",
    "    model.add(Activation('elu'))\n",
    "    model.add(Dropout(0.3))                        # Dropout layer after Activation\n",
    "    \n",
    "    model.add(Dense(10))\n",
    "    model.add(Activation('softmax'))\n",
    "    \n",
    "    optimizers.Adamax(learning_rate=0.001)\n",
    "    model.compile(optimizer = adamax01, loss = 'poisson', metrics = ['accuracy'])\n",
    "    \n",
    "    return model"
   ]
  },
  {
   "cell_type": "code",
   "execution_count": 172,
   "metadata": {},
   "outputs": [],
   "source": [
    "def mlp_model_LayerSize2by2():\n",
    "    model = Sequential()\n",
    "    \n",
    "    model.add(Conv2D(input_shape = (x_data.shape[1], x_data.shape[2], x_data.shape[3]), \n",
    "                 filters = 10,\n",
    "                 kernel_size = (3,3), strides = (1,1), padding = 'valid'))\n",
    "    model.add(Activation('elu'))\n",
    "    model.add(MaxPooling2D(pool_size = (2,2)))\n",
    "    \n",
    "    model.add(Conv2D(input_shape = (x_data.shape[1], x_data.shape[2], x_data.shape[3]), \n",
    "                 filters = 10,\n",
    "                 kernel_size = (3,3), strides = (2,2), padding = 'valid'))\n",
    "    model.add(Activation('elu'))\n",
    "    model.add(MaxPooling2D(pool_size = (2,2)))\n",
    "\n",
    "    model.add(Flatten())\n",
    "\n",
    "    model.add(Dense(200, kernel_initializer = 'he_normal'))\n",
    "    model.add(BatchNormalization())                    # Add Batchnorm layer before Activation\n",
    "    model.add(Activation('elu'))  \n",
    "    model.add(Dropout(0.3))                        # Dropout layer after Activation\n",
    "    \n",
    "    model.add(Dense(100, kernel_initializer = 'he_normal'))\n",
    "    model.add(BatchNormalization())                    # Add Batchnorm layer before Activation\n",
    "    model.add(Activation('elu'))\n",
    "    model.add(Dropout(0.3))                        # Dropout layer after Activation\n",
    "    \n",
    "    model.add(Dense(50, kernel_initializer = 'he_normal'))\n",
    "    model.add(BatchNormalization())                    # Add Batchnorm layer before Activation\n",
    "    model.add(Activation('elu'))    \n",
    "    model.add(Dropout(0.3))                        # Dropout layer after Activation\n",
    "        \n",
    "    model.add(Dense(20, kernel_initializer = 'he_normal'))\n",
    "    model.add(BatchNormalization())                    # Add Batchnorm layer before Activation\n",
    "    model.add(Activation('elu'))\n",
    "    model.add(Dropout(0.3))                        # Dropout layer after Activation\n",
    "    \n",
    "    model.add(Dense(10))\n",
    "    model.add(Activation('softmax'))\n",
    "    \n",
    "    optimizers.Adamax(learning_rate=0.001)\n",
    "    model.compile(optimizer = adamax01, loss = 'poisson', metrics = ['accuracy'])\n",
    "    \n",
    "    return model"
   ]
  },
  {
   "cell_type": "code",
   "execution_count": 163,
   "metadata": {},
   "outputs": [],
   "source": [
    "def mlp_model_LayerSize2():\n",
    "    model = Sequential()\n",
    "    \n",
    "    model.add(Conv2D(input_shape = (x_data.shape[1], x_data.shape[2], x_data.shape[3]), \n",
    "                 filters = 10,\n",
    "                 kernel_size = (3,3), strides = (1,1), padding = 'valid'))\n",
    "    model.add(Activation('relu'))\n",
    "    model.add(MaxPooling2D(pool_size = (2,2)))\n",
    "\n",
    "    model.add(Flatten())\n",
    "\n",
    "    model.add(Dense(200, kernel_initializer = 'he_normal'))\n",
    "    model.add(BatchNormalization())                    # Add Batchnorm layer before Activation\n",
    "    model.add(Activation('elu'))    \n",
    "    \n",
    "    model.add(Dense(100, kernel_initializer = 'he_normal'))\n",
    "    model.add(BatchNormalization())                    # Add Batchnorm layer before Activation\n",
    "    model.add(Activation('elu'))    \n",
    "    model.add(Dense(50, kernel_initializer = 'he_normal'))\n",
    "    model.add(BatchNormalization())                    # Add Batchnorm layer before Activation\n",
    "    model.add(Activation('elu'))    \n",
    "    model.add(Dense(20, kernel_initializer = 'he_normal'))\n",
    "    model.add(BatchNormalization())                    # Add Batchnorm layer before Activation\n",
    "    model.add(Activation('elu'))    \n",
    "    \n",
    "    model.add(Dense(10))\n",
    "    model.add(Activation('softmax'))\n",
    "    \n",
    "    adam = optimizers.Adam(learning_rate=0.001,\n",
    "    beta_1=0.9,\n",
    "    beta_2=0.999,\n",
    "    epsilon=1e-07,\n",
    "    amsgrad=True,\n",
    "    name='Adam')\n",
    "    model.compile(optimizer = adam, loss = 'categorical_crossentropy', metrics = ['accuracy'])\n",
    "    \n",
    "    return model"
   ]
  },
  {
   "cell_type": "code",
   "execution_count": 164,
   "metadata": {},
   "outputs": [
    {
     "name": "stdout",
     "output_type": "stream",
     "text": [
      "Epoch 1/100\n",
      "118/118 [==============================] - 5s 41ms/step - loss: 0.1844 - accuracy: 0.7165 - val_loss: 0.1516 - val_accuracy: 0.8220\n",
      "Epoch 2/100\n",
      "118/118 [==============================] - 5s 39ms/step - loss: 0.1572 - accuracy: 0.8019 - val_loss: 0.1445 - val_accuracy: 0.8398\n",
      "Epoch 3/100\n",
      "118/118 [==============================] - 5s 40ms/step - loss: 0.1502 - accuracy: 0.8277 - val_loss: 0.1433 - val_accuracy: 0.8481\n",
      "Epoch 4/100\n",
      "118/118 [==============================] - 5s 40ms/step - loss: 0.1464 - accuracy: 0.8407 - val_loss: 0.1395 - val_accuracy: 0.8606\n",
      "Epoch 5/100\n",
      "118/118 [==============================] - 5s 41ms/step - loss: 0.1445 - accuracy: 0.8502 - val_loss: 0.1381 - val_accuracy: 0.8645\n",
      "Epoch 6/100\n",
      "118/118 [==============================] - 5s 41ms/step - loss: 0.1422 - accuracy: 0.8561 - val_loss: 0.1418 - val_accuracy: 0.8472\n",
      "Epoch 7/100\n",
      "118/118 [==============================] - 5s 41ms/step - loss: 0.1406 - accuracy: 0.8633 - val_loss: 0.1400 - val_accuracy: 0.8568\n",
      "Epoch 8/100\n",
      "118/118 [==============================] - 5s 41ms/step - loss: 0.1396 - accuracy: 0.8653 - val_loss: 0.1359 - val_accuracy: 0.8744\n",
      "Epoch 9/100\n",
      "118/118 [==============================] - 5s 41ms/step - loss: 0.1381 - accuracy: 0.8704 - val_loss: 0.1357 - val_accuracy: 0.8699\n",
      "Epoch 10/100\n",
      "118/118 [==============================] - 5s 41ms/step - loss: 0.1371 - accuracy: 0.8754 - val_loss: 0.1358 - val_accuracy: 0.8740\n",
      "Epoch 11/100\n",
      "118/118 [==============================] - 5s 41ms/step - loss: 0.1361 - accuracy: 0.8784 - val_loss: 0.1342 - val_accuracy: 0.8803\n",
      "Epoch 12/100\n",
      "118/118 [==============================] - 5s 41ms/step - loss: 0.1356 - accuracy: 0.8795 - val_loss: 0.1351 - val_accuracy: 0.8779\n",
      "Epoch 13/100\n",
      "118/118 [==============================] - 5s 41ms/step - loss: 0.1343 - accuracy: 0.8841 - val_loss: 0.1350 - val_accuracy: 0.8768\n",
      "Epoch 14/100\n",
      "118/118 [==============================] - 5s 41ms/step - loss: 0.1339 - accuracy: 0.8840 - val_loss: 0.1344 - val_accuracy: 0.8796\n",
      "Epoch 15/100\n",
      "118/118 [==============================] - 5s 41ms/step - loss: 0.1334 - accuracy: 0.8846 - val_loss: 0.1342 - val_accuracy: 0.8792\n",
      "Epoch 16/100\n",
      "118/118 [==============================] - 5s 41ms/step - loss: 0.1324 - accuracy: 0.8876 - val_loss: 0.1339 - val_accuracy: 0.8812\n",
      "Epoch 17/100\n",
      "118/118 [==============================] - 5s 41ms/step - loss: 0.1337 - accuracy: 0.8859 - val_loss: 0.1367 - val_accuracy: 0.8680\n",
      "Epoch 18/100\n",
      "118/118 [==============================] - 5s 42ms/step - loss: 0.1323 - accuracy: 0.8909 - val_loss: 0.1319 - val_accuracy: 0.8875\n",
      "Epoch 19/100\n",
      "118/118 [==============================] - 5s 43ms/step - loss: 0.1310 - accuracy: 0.8957 - val_loss: 0.1353 - val_accuracy: 0.8772\n",
      "Epoch 20/100\n",
      "118/118 [==============================] - 5s 41ms/step - loss: 0.1309 - accuracy: 0.8959 - val_loss: 0.1335 - val_accuracy: 0.8832\n",
      "Epoch 21/100\n",
      "118/118 [==============================] - 5s 41ms/step - loss: 0.1303 - accuracy: 0.8961 - val_loss: 0.1386 - val_accuracy: 0.8635\n",
      "Epoch 22/100\n",
      "118/118 [==============================] - 5s 41ms/step - loss: 0.1298 - accuracy: 0.8980 - val_loss: 0.1346 - val_accuracy: 0.8817\n",
      "Epoch 23/100\n",
      "118/118 [==============================] - 5s 41ms/step - loss: 0.1297 - accuracy: 0.9003 - val_loss: 0.1330 - val_accuracy: 0.8869\n",
      "Epoch 24/100\n",
      "118/118 [==============================] - 5s 41ms/step - loss: 0.1292 - accuracy: 0.9011 - val_loss: 0.1334 - val_accuracy: 0.8846\n",
      "Epoch 25/100\n",
      "118/118 [==============================] - 5s 42ms/step - loss: 0.1284 - accuracy: 0.9018 - val_loss: 0.1365 - val_accuracy: 0.8747\n",
      "Epoch 26/100\n",
      "118/118 [==============================] - 5s 41ms/step - loss: 0.1286 - accuracy: 0.9018 - val_loss: 0.1349 - val_accuracy: 0.8828\n",
      "Epoch 27/100\n",
      "118/118 [==============================] - 5s 41ms/step - loss: 0.1286 - accuracy: 0.9017 - val_loss: 0.1329 - val_accuracy: 0.8887\n",
      "Epoch 28/100\n",
      "118/118 [==============================] - 5s 41ms/step - loss: 0.1281 - accuracy: 0.9040 - val_loss: 0.1330 - val_accuracy: 0.8852\n",
      "Epoch 29/100\n",
      "118/118 [==============================] - 5s 41ms/step - loss: 0.1272 - accuracy: 0.9064 - val_loss: 0.1344 - val_accuracy: 0.8814\n",
      "Epoch 30/100\n",
      "118/118 [==============================] - 5s 41ms/step - loss: 0.1269 - accuracy: 0.9077 - val_loss: 0.1327 - val_accuracy: 0.8905\n",
      "Epoch 31/100\n",
      "118/118 [==============================] - 5s 41ms/step - loss: 0.1267 - accuracy: 0.9095 - val_loss: 0.1322 - val_accuracy: 0.8911\n",
      "Epoch 32/100\n",
      "118/118 [==============================] - 5s 41ms/step - loss: 0.1266 - accuracy: 0.9087 - val_loss: 0.1355 - val_accuracy: 0.8858\n",
      "Epoch 33/100\n",
      "118/118 [==============================] - 5s 41ms/step - loss: 0.1263 - accuracy: 0.9091 - val_loss: 0.1343 - val_accuracy: 0.8825\n",
      "Epoch 34/100\n",
      "118/118 [==============================] - 5s 41ms/step - loss: 0.1262 - accuracy: 0.9098 - val_loss: 0.1369 - val_accuracy: 0.8779\n",
      "Epoch 35/100\n",
      "118/118 [==============================] - 5s 41ms/step - loss: 0.1259 - accuracy: 0.9117 - val_loss: 0.1336 - val_accuracy: 0.8860\n",
      "Epoch 36/100\n",
      "118/118 [==============================] - 5s 42ms/step - loss: 0.1251 - accuracy: 0.9148 - val_loss: 0.1421 - val_accuracy: 0.8633\n",
      "Epoch 37/100\n",
      "118/118 [==============================] - 5s 43ms/step - loss: 0.1256 - accuracy: 0.9139 - val_loss: 0.1332 - val_accuracy: 0.8887\n",
      "Epoch 38/100\n",
      "118/118 [==============================] - 5s 42ms/step - loss: 0.1253 - accuracy: 0.9120 - val_loss: 0.1323 - val_accuracy: 0.8914\n",
      "Epoch 39/100\n",
      "118/118 [==============================] - 5s 42ms/step - loss: 0.1251 - accuracy: 0.9129 - val_loss: 0.1326 - val_accuracy: 0.8925\n",
      "Epoch 40/100\n",
      "118/118 [==============================] - 5s 41ms/step - loss: 0.1247 - accuracy: 0.9144 - val_loss: 0.1338 - val_accuracy: 0.8906\n",
      "Epoch 41/100\n",
      "118/118 [==============================] - 5s 41ms/step - loss: 0.1244 - accuracy: 0.9156 - val_loss: 0.1307 - val_accuracy: 0.8955\n",
      "Epoch 42/100\n",
      "118/118 [==============================] - 5s 41ms/step - loss: 0.1242 - accuracy: 0.9172 - val_loss: 0.1333 - val_accuracy: 0.8934\n",
      "Epoch 43/100\n",
      "118/118 [==============================] - 5s 41ms/step - loss: 0.1240 - accuracy: 0.9176 - val_loss: 0.1321 - val_accuracy: 0.8922\n",
      "Epoch 44/100\n",
      "118/118 [==============================] - 5s 41ms/step - loss: 0.1236 - accuracy: 0.9189 - val_loss: 0.1330 - val_accuracy: 0.8926\n",
      "Epoch 45/100\n",
      "118/118 [==============================] - 5s 41ms/step - loss: 0.1236 - accuracy: 0.9189 - val_loss: 0.1364 - val_accuracy: 0.8787\n",
      "Epoch 46/100\n",
      "118/118 [==============================] - 5s 41ms/step - loss: 0.1228 - accuracy: 0.9217 - val_loss: 0.1319 - val_accuracy: 0.8958\n",
      "Epoch 47/100\n",
      "118/118 [==============================] - 5s 42ms/step - loss: 0.1234 - accuracy: 0.9210 - val_loss: 0.1317 - val_accuracy: 0.8948\n",
      "Epoch 48/100\n",
      "118/118 [==============================] - 5s 41ms/step - loss: 0.1230 - accuracy: 0.9212 - val_loss: 0.1348 - val_accuracy: 0.8872\n",
      "Epoch 49/100\n",
      "118/118 [==============================] - 5s 41ms/step - loss: 0.1221 - accuracy: 0.9236 - val_loss: 0.1323 - val_accuracy: 0.8952\n",
      "Epoch 50/100\n",
      "118/118 [==============================] - 5s 42ms/step - loss: 0.1221 - accuracy: 0.9251 - val_loss: 0.1346 - val_accuracy: 0.8905\n",
      "Epoch 51/100\n",
      "118/118 [==============================] - 5s 43ms/step - loss: 0.1225 - accuracy: 0.9229 - val_loss: 0.1331 - val_accuracy: 0.8944\n",
      "Epoch 52/100\n",
      "118/118 [==============================] - 5s 41ms/step - loss: 0.1222 - accuracy: 0.9240 - val_loss: 0.1351 - val_accuracy: 0.8874\n",
      "Epoch 53/100\n",
      "118/118 [==============================] - 5s 41ms/step - loss: 0.1216 - accuracy: 0.9261 - val_loss: 0.1330 - val_accuracy: 0.8936\n",
      "Epoch 54/100\n",
      "118/118 [==============================] - 5s 42ms/step - loss: 0.1216 - accuracy: 0.9253 - val_loss: 0.1339 - val_accuracy: 0.8922\n",
      "Epoch 55/100\n",
      "118/118 [==============================] - 5s 41ms/step - loss: 0.1211 - accuracy: 0.9285 - val_loss: 0.1355 - val_accuracy: 0.8845\n",
      "Epoch 56/100\n",
      "118/118 [==============================] - 5s 42ms/step - loss: 0.1214 - accuracy: 0.9271 - val_loss: 0.1339 - val_accuracy: 0.8892\n",
      "Epoch 57/100\n",
      "118/118 [==============================] - 5s 42ms/step - loss: 0.1213 - accuracy: 0.9280 - val_loss: 0.1372 - val_accuracy: 0.8849\n",
      "Epoch 58/100\n",
      "118/118 [==============================] - 5s 42ms/step - loss: 0.1210 - accuracy: 0.9281 - val_loss: 0.1325 - val_accuracy: 0.8974\n",
      "Epoch 59/100\n",
      "118/118 [==============================] - 5s 41ms/step - loss: 0.1213 - accuracy: 0.9269 - val_loss: 0.1336 - val_accuracy: 0.8930\n",
      "Epoch 60/100\n",
      "118/118 [==============================] - 5s 41ms/step - loss: 0.1205 - accuracy: 0.9292 - val_loss: 0.1341 - val_accuracy: 0.8955\n",
      "Epoch 61/100\n",
      "118/118 [==============================] - 5s 41ms/step - loss: 0.1203 - accuracy: 0.9307 - val_loss: 0.1331 - val_accuracy: 0.8924\n",
      "Epoch 62/100\n",
      "118/118 [==============================] - 5s 41ms/step - loss: 0.1207 - accuracy: 0.9283 - val_loss: 0.1325 - val_accuracy: 0.8978\n",
      "Epoch 63/100\n",
      "118/118 [==============================] - 5s 41ms/step - loss: 0.1195 - accuracy: 0.9322 - val_loss: 0.1331 - val_accuracy: 0.8971\n",
      "Epoch 64/100\n",
      "118/118 [==============================] - 5s 41ms/step - loss: 0.1200 - accuracy: 0.9313 - val_loss: 0.1349 - val_accuracy: 0.8895\n",
      "Epoch 65/100\n",
      "118/118 [==============================] - 5s 41ms/step - loss: 0.1195 - accuracy: 0.9320 - val_loss: 0.1336 - val_accuracy: 0.8964\n",
      "Epoch 66/100\n",
      "118/118 [==============================] - 5s 41ms/step - loss: 0.1200 - accuracy: 0.9312 - val_loss: 0.1344 - val_accuracy: 0.8929\n",
      "Epoch 67/100\n",
      "118/118 [==============================] - 5s 41ms/step - loss: 0.1196 - accuracy: 0.9328 - val_loss: 0.1349 - val_accuracy: 0.8912\n",
      "Epoch 68/100\n",
      "118/118 [==============================] - 5s 41ms/step - loss: 0.1195 - accuracy: 0.9312 - val_loss: 0.1365 - val_accuracy: 0.8884\n",
      "Epoch 69/100\n",
      "118/118 [==============================] - 5s 42ms/step - loss: 0.1188 - accuracy: 0.9357 - val_loss: 0.1358 - val_accuracy: 0.8921\n",
      "Epoch 70/100\n",
      "118/118 [==============================] - 5s 42ms/step - loss: 0.1190 - accuracy: 0.9340 - val_loss: 0.1404 - val_accuracy: 0.8799\n",
      "Epoch 71/100\n",
      "118/118 [==============================] - 5s 41ms/step - loss: 0.1190 - accuracy: 0.9349 - val_loss: 0.1345 - val_accuracy: 0.8942\n",
      "Epoch 72/100\n",
      "118/118 [==============================] - 5s 42ms/step - loss: 0.1187 - accuracy: 0.9367 - val_loss: 0.1339 - val_accuracy: 0.8939\n",
      "Epoch 73/100\n",
      "118/118 [==============================] - 5s 41ms/step - loss: 0.1177 - accuracy: 0.9392 - val_loss: 0.1368 - val_accuracy: 0.8929\n",
      "Epoch 74/100\n",
      "118/118 [==============================] - 5s 41ms/step - loss: 0.1184 - accuracy: 0.9381 - val_loss: 0.1358 - val_accuracy: 0.8943\n",
      "Epoch 75/100\n",
      "118/118 [==============================] - 5s 41ms/step - loss: 0.1178 - accuracy: 0.9378 - val_loss: 0.1354 - val_accuracy: 0.8933\n",
      "Epoch 76/100\n",
      "118/118 [==============================] - 5s 41ms/step - loss: 0.1186 - accuracy: 0.9358 - val_loss: 0.1335 - val_accuracy: 0.8949\n",
      "Epoch 77/100\n",
      "118/118 [==============================] - 5s 41ms/step - loss: 0.1182 - accuracy: 0.9375 - val_loss: 0.1336 - val_accuracy: 0.8950\n",
      "Epoch 78/100\n",
      "118/118 [==============================] - 5s 41ms/step - loss: 0.1184 - accuracy: 0.9385 - val_loss: 0.1362 - val_accuracy: 0.8948\n",
      "Epoch 79/100\n",
      "118/118 [==============================] - 5s 41ms/step - loss: 0.1176 - accuracy: 0.9384 - val_loss: 0.1360 - val_accuracy: 0.8908\n",
      "Epoch 80/100\n",
      "118/118 [==============================] - 5s 41ms/step - loss: 0.1175 - accuracy: 0.9404 - val_loss: 0.1353 - val_accuracy: 0.8953\n",
      "Epoch 81/100\n",
      "118/118 [==============================] - 5s 41ms/step - loss: 0.1175 - accuracy: 0.9406 - val_loss: 0.1349 - val_accuracy: 0.8954\n",
      "Epoch 82/100\n",
      "118/118 [==============================] - 5s 41ms/step - loss: 0.1169 - accuracy: 0.9419 - val_loss: 0.1374 - val_accuracy: 0.8909\n",
      "Epoch 83/100\n",
      "118/118 [==============================] - 5s 42ms/step - loss: 0.1174 - accuracy: 0.9410 - val_loss: 0.1344 - val_accuracy: 0.8968\n",
      "Epoch 84/100\n",
      "118/118 [==============================] - 5s 43ms/step - loss: 0.1168 - accuracy: 0.9428 - val_loss: 0.1376 - val_accuracy: 0.8863\n",
      "Epoch 85/100\n",
      "118/118 [==============================] - 5s 42ms/step - loss: 0.1167 - accuracy: 0.9435 - val_loss: 0.1361 - val_accuracy: 0.8951\n",
      "Epoch 86/100\n",
      "118/118 [==============================] - 5s 42ms/step - loss: 0.1167 - accuracy: 0.9436 - val_loss: 0.1360 - val_accuracy: 0.8928\n",
      "Epoch 87/100\n",
      "118/118 [==============================] - 5s 41ms/step - loss: 0.1165 - accuracy: 0.9423 - val_loss: 0.1357 - val_accuracy: 0.8933\n",
      "Epoch 88/100\n",
      "118/118 [==============================] - 5s 41ms/step - loss: 0.1167 - accuracy: 0.9433 - val_loss: 0.1368 - val_accuracy: 0.8948\n",
      "Epoch 89/100\n",
      "118/118 [==============================] - 5s 42ms/step - loss: 0.1166 - accuracy: 0.9432 - val_loss: 0.1371 - val_accuracy: 0.8982\n",
      "Epoch 90/100\n",
      "118/118 [==============================] - 5s 41ms/step - loss: 0.1164 - accuracy: 0.9438 - val_loss: 0.1358 - val_accuracy: 0.8938\n",
      "Epoch 91/100\n",
      "118/118 [==============================] - 5s 41ms/step - loss: 0.1160 - accuracy: 0.9461 - val_loss: 0.1406 - val_accuracy: 0.8875\n",
      "Epoch 92/100\n",
      "118/118 [==============================] - 5s 41ms/step - loss: 0.1161 - accuracy: 0.9453 - val_loss: 0.1384 - val_accuracy: 0.8902\n",
      "Epoch 93/100\n",
      "118/118 [==============================] - 5s 42ms/step - loss: 0.1160 - accuracy: 0.9463 - val_loss: 0.1405 - val_accuracy: 0.8819\n",
      "Epoch 94/100\n",
      "118/118 [==============================] - 5s 42ms/step - loss: 0.1159 - accuracy: 0.9445 - val_loss: 0.1379 - val_accuracy: 0.8960\n",
      "Epoch 95/100\n",
      "118/118 [==============================] - 5s 41ms/step - loss: 0.1164 - accuracy: 0.9437 - val_loss: 0.1355 - val_accuracy: 0.8972\n",
      "Epoch 96/100\n",
      "118/118 [==============================] - 5s 43ms/step - loss: 0.1153 - accuracy: 0.9478 - val_loss: 0.1368 - val_accuracy: 0.8937\n",
      "Epoch 97/100\n",
      "118/118 [==============================] - 5s 44ms/step - loss: 0.1155 - accuracy: 0.9472 - val_loss: 0.1353 - val_accuracy: 0.8993\n",
      "Epoch 98/100\n",
      "118/118 [==============================] - 5s 42ms/step - loss: 0.1157 - accuracy: 0.9484 - val_loss: 0.1361 - val_accuracy: 0.8969\n",
      "Epoch 99/100\n",
      "118/118 [==============================] - 5s 42ms/step - loss: 0.1153 - accuracy: 0.9483 - val_loss: 0.1368 - val_accuracy: 0.8899\n",
      "Epoch 100/100\n",
      "118/118 [==============================] - 5s 41ms/step - loss: 0.1155 - accuracy: 0.9477 - val_loss: 0.1371 - val_accuracy: 0.8966\n",
      "563/563 [==============================] - 2s 3ms/step - loss: 0.1355 - accuracy: 0.9006\n",
      "Accuracy 0.9006111025810242\n"
     ]
    }
   ],
   "source": [
    "model = mlp_model_LayerSize()\n",
    "history = model.fit(x_train, y_train, batch_size = 250, validation_split = 0.3, epochs = 100, verbose = 1)\n",
    "\n",
    "results = model.evaluate(x_test, y_test)\n",
    "\n",
    "print('Accuracy', results[1])"
   ]
  },
  {
   "cell_type": "code",
   "execution_count": 165,
   "metadata": {},
   "outputs": [
    {
     "data": {
      "image/png": "[encoded data removed]",
      "text/plain": [
       "<Figure size 432x288 with 1 Axes>"
      ]
     },
     "metadata": {
      "needs_background": "light"
     },
     "output_type": "display_data"
    }
   ],
   "source": [
    "plt.plot(history.history['accuracy'])\n",
    "plt.plot(history.history['val_accuracy'])\n",
    "plt.legend(['training', 'validation'], loc = 'upper left')\n",
    "plt.show()"
   ]
  },
  {
   "cell_type": "code",
   "execution_count": 166,
   "metadata": {},
   "outputs": [],
   "source": [
    "predicted = model.predict(x_data_sub)\n",
    "y_pred = predicted.argmax(axis=1)\n",
    "\n",
    "\n",
    "ImageID = np.arange(len(y_pred))+1\n",
    "Out = pd.DataFrame([test['id'],y_pred]).T\n",
    "Out.rename(columns = {0:'id', 1:'label'})\n",
    "#Out\n",
    "Out.to_csv('MNIST_Prediction_DropOut_CNN_Adamax_Poisson.csv', header =  ['id', 'label' ], index = None)"
   ]
  },
  {
   "cell_type": "code",
   "execution_count": 173,
   "metadata": {},
   "outputs": [
    {
     "name": "stdout",
     "output_type": "stream",
     "text": [
      "Epoch 1/150\n",
      "147/147 [==============================] - 5s 31ms/step - loss: 0.1987 - accuracy: 0.6591 - val_loss: 0.1572 - val_accuracy: 0.7980\n",
      "Epoch 2/150\n",
      "147/147 [==============================] - 4s 30ms/step - loss: 0.1612 - accuracy: 0.7871 - val_loss: 0.1460 - val_accuracy: 0.8304\n",
      "Epoch 3/150\n",
      "147/147 [==============================] - 4s 30ms/step - loss: 0.1542 - accuracy: 0.8129 - val_loss: 0.1441 - val_accuracy: 0.8399\n",
      "Epoch 4/150\n",
      "147/147 [==============================] - 5s 31ms/step - loss: 0.1499 - accuracy: 0.8297 - val_loss: 0.1442 - val_accuracy: 0.8388\n",
      "Epoch 5/150\n",
      "147/147 [==============================] - 5s 31ms/step - loss: 0.1476 - accuracy: 0.8384 - val_loss: 0.1430 - val_accuracy: 0.8445\n",
      "Epoch 6/150\n",
      "147/147 [==============================] - 5s 31ms/step - loss: 0.1450 - accuracy: 0.8450 - val_loss: 0.1430 - val_accuracy: 0.8453\n",
      "Epoch 7/150\n",
      "147/147 [==============================] - 5s 31ms/step - loss: 0.1440 - accuracy: 0.8506 - val_loss: 0.1407 - val_accuracy: 0.8479\n",
      "Epoch 8/150\n",
      "147/147 [==============================] - 5s 31ms/step - loss: 0.1419 - accuracy: 0.8567 - val_loss: 0.1377 - val_accuracy: 0.8597\n",
      "Epoch 9/150\n",
      "147/147 [==============================] - 5s 31ms/step - loss: 0.1407 - accuracy: 0.8605 - val_loss: 0.1376 - val_accuracy: 0.8633\n",
      "Epoch 10/150\n",
      "147/147 [==============================] - 5s 31ms/step - loss: 0.1398 - accuracy: 0.8635 - val_loss: 0.1363 - val_accuracy: 0.8699\n",
      "Epoch 11/150\n",
      "147/147 [==============================] - 5s 31ms/step - loss: 0.1389 - accuracy: 0.8655 - val_loss: 0.1350 - val_accuracy: 0.8721\n",
      "Epoch 12/150\n",
      "147/147 [==============================] - 5s 31ms/step - loss: 0.1383 - accuracy: 0.8695 - val_loss: 0.1362 - val_accuracy: 0.8681\n",
      "Epoch 13/150\n",
      "147/147 [==============================] - 5s 32ms/step - loss: 0.1372 - accuracy: 0.8728 - val_loss: 0.1395 - val_accuracy: 0.8629\n",
      "Epoch 14/150\n",
      "147/147 [==============================] - 5s 32ms/step - loss: 0.1368 - accuracy: 0.8739 - val_loss: 0.1367 - val_accuracy: 0.8691\n",
      "Epoch 15/150\n",
      "147/147 [==============================] - 5s 32ms/step - loss: 0.1365 - accuracy: 0.8748 - val_loss: 0.1342 - val_accuracy: 0.8779\n",
      "Epoch 16/150\n",
      "147/147 [==============================] - 5s 31ms/step - loss: 0.1359 - accuracy: 0.8782 - val_loss: 0.1335 - val_accuracy: 0.8802\n",
      "Epoch 17/150\n",
      "147/147 [==============================] - 5s 31ms/step - loss: 0.1355 - accuracy: 0.8816 - val_loss: 0.1353 - val_accuracy: 0.8737\n",
      "Epoch 18/150\n",
      "147/147 [==============================] - 5s 31ms/step - loss: 0.1351 - accuracy: 0.8814 - val_loss: 0.1334 - val_accuracy: 0.8798\n",
      "Epoch 19/150\n",
      "147/147 [==============================] - 5s 31ms/step - loss: 0.1342 - accuracy: 0.8832 - val_loss: 0.1332 - val_accuracy: 0.8795\n",
      "Epoch 20/150\n",
      "147/147 [==============================] - 5s 32ms/step - loss: 0.1336 - accuracy: 0.8846 - val_loss: 0.1353 - val_accuracy: 0.8722\n",
      "Epoch 21/150\n",
      "147/147 [==============================] - 5s 31ms/step - loss: 0.1333 - accuracy: 0.8899 - val_loss: 0.1361 - val_accuracy: 0.8756\n",
      "Epoch 22/150\n",
      "147/147 [==============================] - 5s 31ms/step - loss: 0.1328 - accuracy: 0.8874 - val_loss: 0.1348 - val_accuracy: 0.8765\n",
      "Epoch 23/150\n",
      "147/147 [==============================] - 5s 31ms/step - loss: 0.1332 - accuracy: 0.8871 - val_loss: 0.1356 - val_accuracy: 0.8748\n",
      "Epoch 24/150\n",
      "147/147 [==============================] - 5s 31ms/step - loss: 0.1324 - accuracy: 0.8878 - val_loss: 0.1337 - val_accuracy: 0.8797\n",
      "Epoch 25/150\n",
      "147/147 [==============================] - 5s 31ms/step - loss: 0.1315 - accuracy: 0.8925 - val_loss: 0.1366 - val_accuracy: 0.8713\n",
      "Epoch 26/150\n",
      "147/147 [==============================] - 5s 31ms/step - loss: 0.1318 - accuracy: 0.8917 - val_loss: 0.1317 - val_accuracy: 0.8870\n",
      "Epoch 27/150\n",
      "147/147 [==============================] - 5s 31ms/step - loss: 0.1311 - accuracy: 0.8914 - val_loss: 0.1317 - val_accuracy: 0.8900\n",
      "Epoch 28/150\n",
      "147/147 [==============================] - 5s 31ms/step - loss: 0.1316 - accuracy: 0.8936 - val_loss: 0.1335 - val_accuracy: 0.8884\n",
      "Epoch 29/150\n",
      "147/147 [==============================] - 5s 31ms/step - loss: 0.1308 - accuracy: 0.8960 - val_loss: 0.1312 - val_accuracy: 0.8906\n",
      "Epoch 30/150\n",
      "147/147 [==============================] - 5s 31ms/step - loss: 0.1302 - accuracy: 0.8978 - val_loss: 0.1318 - val_accuracy: 0.8886\n",
      "Epoch 31/150\n",
      "147/147 [==============================] - 5s 31ms/step - loss: 0.1302 - accuracy: 0.8968 - val_loss: 0.1372 - val_accuracy: 0.8725\n",
      "Epoch 32/150\n",
      "147/147 [==============================] - 5s 31ms/step - loss: 0.1298 - accuracy: 0.8978 - val_loss: 0.1314 - val_accuracy: 0.8894\n",
      "Epoch 33/150\n",
      "147/147 [==============================] - 5s 31ms/step - loss: 0.1298 - accuracy: 0.8978 - val_loss: 0.1350 - val_accuracy: 0.8821\n",
      "Epoch 34/150\n",
      "147/147 [==============================] - 5s 31ms/step - loss: 0.1293 - accuracy: 0.9005 - val_loss: 0.1311 - val_accuracy: 0.8912\n",
      "Epoch 35/150\n",
      "147/147 [==============================] - 5s 31ms/step - loss: 0.1294 - accuracy: 0.9008 - val_loss: 0.1318 - val_accuracy: 0.8896\n",
      "Epoch 36/150\n",
      "147/147 [==============================] - 5s 31ms/step - loss: 0.1294 - accuracy: 0.8988 - val_loss: 0.1335 - val_accuracy: 0.8868\n",
      "Epoch 37/150\n",
      "147/147 [==============================] - 5s 31ms/step - loss: 0.1292 - accuracy: 0.8996 - val_loss: 0.1342 - val_accuracy: 0.8835\n",
      "Epoch 38/150\n",
      "147/147 [==============================] - 5s 31ms/step - loss: 0.1288 - accuracy: 0.9009 - val_loss: 0.1376 - val_accuracy: 0.8738\n",
      "Epoch 39/150\n",
      "147/147 [==============================] - 5s 31ms/step - loss: 0.1287 - accuracy: 0.9038 - val_loss: 0.1329 - val_accuracy: 0.8858\n",
      "Epoch 40/150\n",
      "147/147 [==============================] - 5s 31ms/step - loss: 0.1284 - accuracy: 0.9024 - val_loss: 0.1306 - val_accuracy: 0.8952\n",
      "Epoch 41/150\n",
      "147/147 [==============================] - 5s 31ms/step - loss: 0.1285 - accuracy: 0.9041 - val_loss: 0.1320 - val_accuracy: 0.8906\n",
      "Epoch 42/150\n",
      "147/147 [==============================] - 5s 31ms/step - loss: 0.1278 - accuracy: 0.9051 - val_loss: 0.1334 - val_accuracy: 0.8860\n",
      "Epoch 43/150\n",
      "147/147 [==============================] - 5s 31ms/step - loss: 0.1280 - accuracy: 0.9051 - val_loss: 0.1319 - val_accuracy: 0.8895\n",
      "Epoch 44/150\n",
      "147/147 [==============================] - 5s 31ms/step - loss: 0.1279 - accuracy: 0.9061 - val_loss: 0.1325 - val_accuracy: 0.8895\n",
      "Epoch 45/150\n",
      "147/147 [==============================] - 5s 31ms/step - loss: 0.1272 - accuracy: 0.9066 - val_loss: 0.1364 - val_accuracy: 0.8786\n",
      "Epoch 46/150\n",
      "147/147 [==============================] - 5s 31ms/step - loss: 0.1274 - accuracy: 0.9062 - val_loss: 0.1337 - val_accuracy: 0.8875\n",
      "Epoch 47/150\n",
      "147/147 [==============================] - 5s 31ms/step - loss: 0.1271 - accuracy: 0.9079 - val_loss: 0.1311 - val_accuracy: 0.8936\n",
      "Epoch 48/150\n",
      "147/147 [==============================] - 5s 31ms/step - loss: 0.1271 - accuracy: 0.9070 - val_loss: 0.1334 - val_accuracy: 0.8834\n",
      "Epoch 49/150\n",
      "147/147 [==============================] - 5s 31ms/step - loss: 0.1276 - accuracy: 0.9056 - val_loss: 0.1322 - val_accuracy: 0.8920\n",
      "Epoch 50/150\n",
      "147/147 [==============================] - 5s 31ms/step - loss: 0.1265 - accuracy: 0.9076 - val_loss: 0.1368 - val_accuracy: 0.8767\n",
      "Epoch 51/150\n",
      "147/147 [==============================] - 5s 31ms/step - loss: 0.1264 - accuracy: 0.9081 - val_loss: 0.1330 - val_accuracy: 0.8895\n",
      "Epoch 52/150\n",
      "147/147 [==============================] - 5s 31ms/step - loss: 0.1262 - accuracy: 0.9098 - val_loss: 0.1324 - val_accuracy: 0.8918\n",
      "Epoch 53/150\n",
      "147/147 [==============================] - 5s 31ms/step - loss: 0.1265 - accuracy: 0.9084 - val_loss: 0.1369 - val_accuracy: 0.8715\n",
      "Epoch 54/150\n",
      "147/147 [==============================] - 5s 31ms/step - loss: 0.1261 - accuracy: 0.9096 - val_loss: 0.1321 - val_accuracy: 0.8929\n",
      "Epoch 55/150\n",
      "147/147 [==============================] - 5s 31ms/step - loss: 0.1260 - accuracy: 0.9108 - val_loss: 0.1347 - val_accuracy: 0.8846\n",
      "Epoch 56/150\n",
      "147/147 [==============================] - 5s 31ms/step - loss: 0.1260 - accuracy: 0.9106 - val_loss: 0.1332 - val_accuracy: 0.8896\n",
      "Epoch 57/150\n",
      "147/147 [==============================] - 5s 31ms/step - loss: 0.1261 - accuracy: 0.9113 - val_loss: 0.1336 - val_accuracy: 0.8891\n",
      "Epoch 58/150\n",
      "147/147 [==============================] - 5s 31ms/step - loss: 0.1254 - accuracy: 0.9134 - val_loss: 0.1331 - val_accuracy: 0.8868\n",
      "Epoch 59/150\n",
      "147/147 [==============================] - 5s 31ms/step - loss: 0.1253 - accuracy: 0.9135 - val_loss: 0.1321 - val_accuracy: 0.8965\n",
      "Epoch 60/150\n",
      "147/147 [==============================] - 5s 32ms/step - loss: 0.1262 - accuracy: 0.9114 - val_loss: 0.1347 - val_accuracy: 0.8825\n",
      "Epoch 61/150\n",
      "147/147 [==============================] - 5s 31ms/step - loss: 0.1251 - accuracy: 0.9142 - val_loss: 0.1329 - val_accuracy: 0.8896\n",
      "Epoch 62/150\n",
      "147/147 [==============================] - 5s 31ms/step - loss: 0.1249 - accuracy: 0.9135 - val_loss: 0.1339 - val_accuracy: 0.8884\n",
      "Epoch 63/150\n",
      "147/147 [==============================] - 5s 31ms/step - loss: 0.1250 - accuracy: 0.9148 - val_loss: 0.1377 - val_accuracy: 0.8773\n",
      "Epoch 64/150\n",
      "147/147 [==============================] - 5s 31ms/step - loss: 0.1251 - accuracy: 0.9133 - val_loss: 0.1342 - val_accuracy: 0.8852\n",
      "Epoch 65/150\n",
      "147/147 [==============================] - 5s 31ms/step - loss: 0.1253 - accuracy: 0.9140 - val_loss: 0.1346 - val_accuracy: 0.8833\n",
      "Epoch 66/150\n",
      "147/147 [==============================] - 5s 31ms/step - loss: 0.1245 - accuracy: 0.9166 - val_loss: 0.1319 - val_accuracy: 0.8956\n",
      "Epoch 67/150\n",
      "147/147 [==============================] - 5s 31ms/step - loss: 0.1245 - accuracy: 0.9163 - val_loss: 0.1308 - val_accuracy: 0.8960\n",
      "Epoch 68/150\n",
      "147/147 [==============================] - 5s 31ms/step - loss: 0.1245 - accuracy: 0.9157 - val_loss: 0.1315 - val_accuracy: 0.8965\n",
      "Epoch 69/150\n",
      "147/147 [==============================] - 5s 31ms/step - loss: 0.1245 - accuracy: 0.9161 - val_loss: 0.1320 - val_accuracy: 0.8949\n",
      "Epoch 70/150\n",
      "147/147 [==============================] - 5s 31ms/step - loss: 0.1242 - accuracy: 0.9182 - val_loss: 0.1336 - val_accuracy: 0.8899\n",
      "Epoch 71/150\n",
      "147/147 [==============================] - 5s 31ms/step - loss: 0.1240 - accuracy: 0.9179 - val_loss: 0.1344 - val_accuracy: 0.8872\n",
      "Epoch 72/150\n",
      "147/147 [==============================] - 5s 31ms/step - loss: 0.1240 - accuracy: 0.9191 - val_loss: 0.1310 - val_accuracy: 0.8962\n",
      "Epoch 73/150\n",
      "147/147 [==============================] - 5s 31ms/step - loss: 0.1238 - accuracy: 0.9186 - val_loss: 0.1317 - val_accuracy: 0.8973\n",
      "Epoch 74/150\n",
      "147/147 [==============================] - 5s 31ms/step - loss: 0.1237 - accuracy: 0.9195 - val_loss: 0.1329 - val_accuracy: 0.8924\n",
      "Epoch 75/150\n",
      "147/147 [==============================] - 5s 31ms/step - loss: 0.1232 - accuracy: 0.9195 - val_loss: 0.1322 - val_accuracy: 0.8945\n",
      "Epoch 76/150\n",
      "147/147 [==============================] - 5s 31ms/step - loss: 0.1237 - accuracy: 0.9202 - val_loss: 0.1325 - val_accuracy: 0.8968\n",
      "Epoch 77/150\n",
      "147/147 [==============================] - 5s 31ms/step - loss: 0.1233 - accuracy: 0.9207 - val_loss: 0.1333 - val_accuracy: 0.8918\n",
      "Epoch 78/150\n",
      "147/147 [==============================] - 5s 31ms/step - loss: 0.1237 - accuracy: 0.9198 - val_loss: 0.1330 - val_accuracy: 0.8929\n",
      "Epoch 79/150\n",
      "147/147 [==============================] - 5s 31ms/step - loss: 0.1234 - accuracy: 0.9195 - val_loss: 0.1322 - val_accuracy: 0.8935\n",
      "Epoch 80/150\n",
      "147/147 [==============================] - 5s 31ms/step - loss: 0.1232 - accuracy: 0.9214 - val_loss: 0.1311 - val_accuracy: 0.8979\n",
      "Epoch 81/150\n",
      "147/147 [==============================] - 5s 31ms/step - loss: 0.1229 - accuracy: 0.9215 - val_loss: 0.1318 - val_accuracy: 0.8997\n",
      "Epoch 82/150\n",
      "147/147 [==============================] - 5s 31ms/step - loss: 0.1230 - accuracy: 0.9209 - val_loss: 0.1315 - val_accuracy: 0.8976\n",
      "Epoch 83/150\n",
      "147/147 [==============================] - 5s 31ms/step - loss: 0.1229 - accuracy: 0.9221 - val_loss: 0.1355 - val_accuracy: 0.8846\n",
      "Epoch 84/150\n",
      "147/147 [==============================] - 5s 31ms/step - loss: 0.1231 - accuracy: 0.9218 - val_loss: 0.1334 - val_accuracy: 0.8921\n",
      "Epoch 85/150\n",
      "147/147 [==============================] - 5s 31ms/step - loss: 0.1224 - accuracy: 0.9220 - val_loss: 0.1362 - val_accuracy: 0.8873\n",
      "Epoch 86/150\n",
      "147/147 [==============================] - 5s 31ms/step - loss: 0.1231 - accuracy: 0.9202 - val_loss: 0.1322 - val_accuracy: 0.8979\n",
      "Epoch 87/150\n",
      "147/147 [==============================] - 5s 32ms/step - loss: 0.1227 - accuracy: 0.9221 - val_loss: 0.1345 - val_accuracy: 0.8875\n",
      "Epoch 88/150\n",
      "147/147 [==============================] - 5s 31ms/step - loss: 0.1227 - accuracy: 0.9223 - val_loss: 0.1342 - val_accuracy: 0.8917\n",
      "Epoch 89/150\n",
      "147/147 [==============================] - 5s 31ms/step - loss: 0.1227 - accuracy: 0.9215 - val_loss: 0.1341 - val_accuracy: 0.8935\n",
      "Epoch 90/150\n",
      "147/147 [==============================] - 5s 31ms/step - loss: 0.1224 - accuracy: 0.9220 - val_loss: 0.1321 - val_accuracy: 0.8976\n",
      "Epoch 91/150\n",
      "147/147 [==============================] - 5s 31ms/step - loss: 0.1215 - accuracy: 0.9256 - val_loss: 0.1317 - val_accuracy: 0.8996\n",
      "Epoch 92/150\n",
      "147/147 [==============================] - 5s 31ms/step - loss: 0.1220 - accuracy: 0.9239 - val_loss: 0.1328 - val_accuracy: 0.8962\n",
      "Epoch 93/150\n",
      "147/147 [==============================] - 5s 31ms/step - loss: 0.1220 - accuracy: 0.9241 - val_loss: 0.1331 - val_accuracy: 0.8948\n",
      "Epoch 94/150\n",
      "147/147 [==============================] - 5s 31ms/step - loss: 0.1221 - accuracy: 0.9236 - val_loss: 0.1354 - val_accuracy: 0.8883\n",
      "Epoch 95/150\n",
      "147/147 [==============================] - 5s 32ms/step - loss: 0.1221 - accuracy: 0.9238 - val_loss: 0.1323 - val_accuracy: 0.8976\n",
      "Epoch 96/150\n",
      "147/147 [==============================] - 5s 31ms/step - loss: 0.1219 - accuracy: 0.9251 - val_loss: 0.1382 - val_accuracy: 0.8842\n",
      "Epoch 97/150\n",
      "147/147 [==============================] - 5s 31ms/step - loss: 0.1221 - accuracy: 0.9250 - val_loss: 0.1339 - val_accuracy: 0.8938\n",
      "Epoch 98/150\n",
      "147/147 [==============================] - 5s 31ms/step - loss: 0.1220 - accuracy: 0.9245 - val_loss: 0.1325 - val_accuracy: 0.8970\n",
      "Epoch 99/150\n",
      "147/147 [==============================] - 5s 31ms/step - loss: 0.1217 - accuracy: 0.9256 - val_loss: 0.1335 - val_accuracy: 0.8929\n",
      "Epoch 100/150\n",
      "147/147 [==============================] - 5s 31ms/step - loss: 0.1215 - accuracy: 0.9264 - val_loss: 0.1341 - val_accuracy: 0.8923\n",
      "Epoch 101/150\n",
      "147/147 [==============================] - 5s 31ms/step - loss: 0.1215 - accuracy: 0.9259 - val_loss: 0.1338 - val_accuracy: 0.8924\n",
      "Epoch 102/150\n",
      "147/147 [==============================] - 5s 32ms/step - loss: 0.1212 - accuracy: 0.9268 - val_loss: 0.1349 - val_accuracy: 0.8940\n",
      "Epoch 103/150\n",
      "147/147 [==============================] - 5s 31ms/step - loss: 0.1217 - accuracy: 0.9247 - val_loss: 0.1365 - val_accuracy: 0.8885\n",
      "Epoch 104/150\n",
      "147/147 [==============================] - 5s 31ms/step - loss: 0.1211 - accuracy: 0.9284 - val_loss: 0.1348 - val_accuracy: 0.8904\n",
      "Epoch 105/150\n",
      "147/147 [==============================] - 5s 31ms/step - loss: 0.1214 - accuracy: 0.9270 - val_loss: 0.1338 - val_accuracy: 0.8945\n",
      "Epoch 106/150\n",
      "147/147 [==============================] - 5s 31ms/step - loss: 0.1209 - accuracy: 0.9278 - val_loss: 0.1341 - val_accuracy: 0.8933\n",
      "Epoch 107/150\n",
      "147/147 [==============================] - 5s 31ms/step - loss: 0.1210 - accuracy: 0.9277 - val_loss: 0.1329 - val_accuracy: 0.8991\n",
      "Epoch 108/150\n",
      "147/147 [==============================] - 5s 31ms/step - loss: 0.1210 - accuracy: 0.9284 - val_loss: 0.1330 - val_accuracy: 0.9011\n",
      "Epoch 109/150\n",
      "147/147 [==============================] - 5s 31ms/step - loss: 0.1207 - accuracy: 0.9295 - val_loss: 0.1370 - val_accuracy: 0.8864\n",
      "Epoch 110/150\n",
      "147/147 [==============================] - 5s 31ms/step - loss: 0.1205 - accuracy: 0.9315 - val_loss: 0.1329 - val_accuracy: 0.8998\n",
      "Epoch 111/150\n",
      "147/147 [==============================] - 5s 31ms/step - loss: 0.1208 - accuracy: 0.9293 - val_loss: 0.1324 - val_accuracy: 0.8965\n",
      "Epoch 112/150\n",
      "147/147 [==============================] - 5s 31ms/step - loss: 0.1210 - accuracy: 0.9285 - val_loss: 0.1338 - val_accuracy: 0.8972\n",
      "Epoch 113/150\n"
     ]
    },
    {
     "name": "stdout",
     "output_type": "stream",
     "text": [
      "147/147 [==============================] - 5s 31ms/step - loss: 0.1211 - accuracy: 0.9268 - val_loss: 0.1326 - val_accuracy: 0.8980\n",
      "Epoch 114/150\n",
      "147/147 [==============================] - 5s 31ms/step - loss: 0.1207 - accuracy: 0.9284 - val_loss: 0.1328 - val_accuracy: 0.8992\n",
      "Epoch 115/150\n",
      "147/147 [==============================] - 5s 31ms/step - loss: 0.1207 - accuracy: 0.9279 - val_loss: 0.1331 - val_accuracy: 0.8998\n",
      "Epoch 116/150\n",
      "147/147 [==============================] - 5s 31ms/step - loss: 0.1201 - accuracy: 0.9310 - val_loss: 0.1345 - val_accuracy: 0.8934\n",
      "Epoch 117/150\n",
      "147/147 [==============================] - 5s 31ms/step - loss: 0.1201 - accuracy: 0.9318 - val_loss: 0.1347 - val_accuracy: 0.8960\n",
      "Epoch 118/150\n",
      "147/147 [==============================] - 5s 31ms/step - loss: 0.1205 - accuracy: 0.9283 - val_loss: 0.1333 - val_accuracy: 0.8989\n",
      "Epoch 119/150\n",
      "147/147 [==============================] - 5s 31ms/step - loss: 0.1205 - accuracy: 0.9290 - val_loss: 0.1337 - val_accuracy: 0.8987\n",
      "Epoch 120/150\n",
      "147/147 [==============================] - 5s 31ms/step - loss: 0.1203 - accuracy: 0.9289 - val_loss: 0.1335 - val_accuracy: 0.8986\n",
      "Epoch 121/150\n",
      "147/147 [==============================] - 5s 31ms/step - loss: 0.1203 - accuracy: 0.9303 - val_loss: 0.1351 - val_accuracy: 0.8910\n",
      "Epoch 122/150\n",
      "147/147 [==============================] - 5s 31ms/step - loss: 0.1202 - accuracy: 0.9307 - val_loss: 0.1335 - val_accuracy: 0.8995\n",
      "Epoch 123/150\n",
      "147/147 [==============================] - 5s 31ms/step - loss: 0.1200 - accuracy: 0.9313 - val_loss: 0.1336 - val_accuracy: 0.8975\n",
      "Epoch 124/150\n",
      "147/147 [==============================] - 5s 31ms/step - loss: 0.1200 - accuracy: 0.9334 - val_loss: 0.1329 - val_accuracy: 0.8995\n",
      "Epoch 125/150\n",
      "147/147 [==============================] - 5s 31ms/step - loss: 0.1200 - accuracy: 0.9314 - val_loss: 0.1331 - val_accuracy: 0.9004\n",
      "Epoch 126/150\n",
      "147/147 [==============================] - 5s 31ms/step - loss: 0.1192 - accuracy: 0.9337 - val_loss: 0.1359 - val_accuracy: 0.8907\n",
      "Epoch 127/150\n",
      "147/147 [==============================] - 5s 31ms/step - loss: 0.1199 - accuracy: 0.9309 - val_loss: 0.1344 - val_accuracy: 0.8963\n",
      "Epoch 128/150\n",
      "147/147 [==============================] - 5s 31ms/step - loss: 0.1193 - accuracy: 0.9336 - val_loss: 0.1325 - val_accuracy: 0.8985\n",
      "Epoch 129/150\n",
      "147/147 [==============================] - 5s 31ms/step - loss: 0.1196 - accuracy: 0.9332 - val_loss: 0.1336 - val_accuracy: 0.8972\n",
      "Epoch 130/150\n",
      "147/147 [==============================] - 5s 31ms/step - loss: 0.1198 - accuracy: 0.9321 - val_loss: 0.1331 - val_accuracy: 0.8959\n",
      "Epoch 131/150\n",
      "147/147 [==============================] - 5s 31ms/step - loss: 0.1199 - accuracy: 0.9314 - val_loss: 0.1335 - val_accuracy: 0.8960\n",
      "Epoch 132/150\n",
      "147/147 [==============================] - 5s 31ms/step - loss: 0.1198 - accuracy: 0.9314 - val_loss: 0.1345 - val_accuracy: 0.8957\n",
      "Epoch 133/150\n",
      "147/147 [==============================] - 5s 31ms/step - loss: 0.1197 - accuracy: 0.9317 - val_loss: 0.1336 - val_accuracy: 0.8985\n",
      "Epoch 134/150\n",
      "147/147 [==============================] - 5s 31ms/step - loss: 0.1196 - accuracy: 0.9340 - val_loss: 0.1343 - val_accuracy: 0.8965\n",
      "Epoch 135/150\n",
      "147/147 [==============================] - 5s 31ms/step - loss: 0.1191 - accuracy: 0.9344 - val_loss: 0.1336 - val_accuracy: 0.9000\n",
      "Epoch 136/150\n",
      "147/147 [==============================] - 5s 31ms/step - loss: 0.1196 - accuracy: 0.9332 - val_loss: 0.1331 - val_accuracy: 0.8983\n",
      "Epoch 137/150\n",
      "147/147 [==============================] - 5s 31ms/step - loss: 0.1193 - accuracy: 0.9335 - val_loss: 0.1341 - val_accuracy: 0.8970\n",
      "Epoch 138/150\n",
      "147/147 [==============================] - 5s 31ms/step - loss: 0.1189 - accuracy: 0.9364 - val_loss: 0.1353 - val_accuracy: 0.8935\n",
      "Epoch 139/150\n",
      "147/147 [==============================] - 5s 31ms/step - loss: 0.1195 - accuracy: 0.9330 - val_loss: 0.1335 - val_accuracy: 0.8983\n",
      "Epoch 140/150\n",
      "147/147 [==============================] - 5s 31ms/step - loss: 0.1192 - accuracy: 0.9340 - val_loss: 0.1335 - val_accuracy: 0.9012\n",
      "Epoch 141/150\n",
      "147/147 [==============================] - 5s 31ms/step - loss: 0.1189 - accuracy: 0.9356 - val_loss: 0.1341 - val_accuracy: 0.8995\n",
      "Epoch 142/150\n",
      "147/147 [==============================] - 5s 31ms/step - loss: 0.1189 - accuracy: 0.9349 - val_loss: 0.1350 - val_accuracy: 0.9008\n",
      "Epoch 143/150\n",
      "147/147 [==============================] - 5s 31ms/step - loss: 0.1190 - accuracy: 0.9344 - val_loss: 0.1343 - val_accuracy: 0.8970\n",
      "Epoch 144/150\n",
      "147/147 [==============================] - 5s 31ms/step - loss: 0.1192 - accuracy: 0.9341 - val_loss: 0.1356 - val_accuracy: 0.8910\n",
      "Epoch 145/150\n",
      "147/147 [==============================] - 5s 31ms/step - loss: 0.1191 - accuracy: 0.9355 - val_loss: 0.1343 - val_accuracy: 0.8941\n",
      "Epoch 146/150\n",
      "147/147 [==============================] - 5s 31ms/step - loss: 0.1189 - accuracy: 0.9350 - val_loss: 0.1338 - val_accuracy: 0.8990\n",
      "Epoch 147/150\n",
      "147/147 [==============================] - 5s 31ms/step - loss: 0.1185 - accuracy: 0.9363 - val_loss: 0.1368 - val_accuracy: 0.8908\n",
      "Epoch 148/150\n",
      "147/147 [==============================] - 5s 31ms/step - loss: 0.1186 - accuracy: 0.9358 - val_loss: 0.1345 - val_accuracy: 0.8972\n",
      "Epoch 149/150\n",
      "147/147 [==============================] - 5s 31ms/step - loss: 0.1180 - accuracy: 0.9380 - val_loss: 0.1347 - val_accuracy: 0.8982\n",
      "Epoch 150/150\n",
      "147/147 [==============================] - 5s 31ms/step - loss: 0.1185 - accuracy: 0.9372 - val_loss: 0.1370 - val_accuracy: 0.8932\n",
      "563/563 [==============================] - 1s 2ms/step - loss: 0.1366 - accuracy: 0.8933\n",
      "Accuracy 0.8932777643203735\n"
     ]
    }
   ],
   "source": [
    "model = mlp_model_LayerSize2by2()\n",
    "history = model.fit(x_train, y_train, batch_size = 200, validation_split = 0.3, epochs = 150, verbose = 1)\n",
    "\n",
    "results = model.evaluate(x_test, y_test)\n",
    "\n",
    "print('Accuracy', results[1])"
   ]
  },
  {
   "cell_type": "code",
   "execution_count": 174,
   "metadata": {},
   "outputs": [
    {
     "data": {
      "image/png": "[encoded data removed]",
      "text/plain": [
       "<Figure size 432x288 with 1 Axes>"
      ]
     },
     "metadata": {
      "needs_background": "light"
     },
     "output_type": "display_data"
    }
   ],
   "source": [
    "plt.plot(history.history['accuracy'])\n",
    "plt.plot(history.history['val_accuracy'])\n",
    "plt.legend(['training', 'validation'], loc = 'upper left')\n",
    "plt.show()"
   ]
  },
  {
   "cell_type": "code",
   "execution_count": 175,
   "metadata": {},
   "outputs": [],
   "source": [
    "predicted = model.predict(x_data_sub)\n",
    "y_pred = predicted.argmax(axis=1)\n",
    "\n",
    "\n",
    "ImageID = np.arange(len(y_pred))+1\n",
    "Out = pd.DataFrame([test['id'],y_pred]).T\n",
    "Out.rename(columns = {0:'id', 1:'label'})\n",
    "#Out\n",
    "Out.to_csv('MNIST_Prediction_DropOut_2LayerCNN_Adamax_Poisson_2by2.csv', header =  ['id', 'label' ], index = None)"
   ]
  },
  {
   "cell_type": "code",
   "execution_count": null,
   "metadata": {},
   "outputs": [],
   "source": []
  },
  {
   "cell_type": "code",
   "execution_count": null,
   "metadata": {},
   "outputs": [],
   "source": []
  },
  {
   "cell_type": "code",
   "execution_count": 18,
   "metadata": {},
   "outputs": [],
   "source": [
    "def mlp_model_LayerSize1by1():\n",
    "    model = Sequential()\n",
    "    \n",
    "    model.add(Conv2D(input_shape = (x_data.shape[1], x_data.shape[2], x_data.shape[3]), \n",
    "                 filters = 32,\n",
    "                 kernel_size = (3,3), strides = (1,1), padding = 'same'))\n",
    "    model.add(Activation('elu'))    \n",
    "    model.add(Conv2D(input_shape = (x_data.shape[1], x_data.shape[2], x_data.shape[3]), \n",
    "                 filters = 64,\n",
    "                 kernel_size = (3,3), strides = (1,1), padding = 'same'))\n",
    "    model.add(Activation('elu'))\n",
    "    model.add(MaxPooling2D(pool_size = (2,2)))\n",
    "    \n",
    "    \n",
    "    model.add(Conv2D(input_shape = (x_data.shape[1], x_data.shape[2], x_data.shape[3]), \n",
    "                 filters = 32,\n",
    "                 kernel_size = (3,3), strides = (1,1), padding = 'same'))\n",
    "    model.add(Activation('elu'))    \n",
    "    model.add(Conv2D(input_shape = (x_data.shape[1], x_data.shape[2], x_data.shape[3]), \n",
    "                 filters = 64,\n",
    "                 kernel_size = (3,3), strides = (1,1), padding = 'same'))\n",
    "    model.add(Activation('elu'))\n",
    "    model.add(MaxPooling2D(pool_size = (2,2)))\n",
    "    \n",
    "    \n",
    "    \n",
    "    model.add(Flatten())\n",
    "    \n",
    "        \n",
    "    model.add(Dense(128, kernel_initializer = 'he_normal'))\n",
    "    model.add(BatchNormalization())                    # Add Batchnorm layer before Activation\n",
    "    model.add(Activation('elu'))\n",
    "    model.add(Dropout(0.3))                        # Dropout layer after Activation\n",
    "    \n",
    "    model.add(Dense(10))\n",
    "    model.add(Activation('softmax'))\n",
    "    \n",
    "    optimizers.Adamax(learning_rate=0.001)\n",
    "    model.compile(optimizer = adamax01, loss = 'poisson', metrics = ['accuracy'])\n",
    "    \n",
    "    return model"
   ]
  },
  {
   "cell_type": "code",
   "execution_count": null,
   "metadata": {},
   "outputs": [],
   "source": [
    "model = mlp_model_LayerSize1by1()\n",
    "history = model.fit(x_train, y_train, batch_size = 200, validation_split = 0.3, epochs = 10, verbose = 1)\n",
    "\n",
    "results = model.evaluate(x_test, y_test)\n",
    "\n",
    "print('Accuracy', results[1])"
   ]
  },
  {
   "cell_type": "code",
   "execution_count": null,
   "metadata": {},
   "outputs": [],
   "source": [
    "plt.plot(history.history['accuracy'])\n",
    "plt.plot(history.history['val_accuracy'])\n",
    "plt.legend(['training', 'validation'], loc = 'upper left')\n",
    "plt.show()"
   ]
  },
  {
   "cell_type": "code",
   "execution_count": 191,
   "metadata": {},
   "outputs": [],
   "source": [
    "predicted = model.predict(x_data_sub)\n",
    "y_pred = predicted.argmax(axis=1)\n",
    "\n",
    "\n",
    "ImageID = np.arange(len(y_pred))+1\n",
    "Out = pd.DataFrame([test['id'],y_pred]).T\n",
    "Out.rename(columns = {0:'id', 1:'label'})\n",
    "#Out\n",
    "Out.to_csv('MNIST_Prediction_DropOut_2LayerCNN_Same.csv', header =  ['id', 'label' ], index = None)"
   ]
  },
  {
   "cell_type": "code",
   "execution_count": null,
   "metadata": {},
   "outputs": [],
   "source": []
  },
  {
   "cell_type": "markdown",
   "metadata": {},
   "source": [
    "## mlp_model_LayerSize - \n",
    "    563/563 [==============================] - 1s 2ms/step - loss: 0.7473 - accuracy: 0.9103\n",
    "    Accuracy 0.910277783870697"
   ]
  },
  {
   "cell_type": "code",
   "execution_count": 140,
   "metadata": {},
   "outputs": [],
   "source": [
    "def add_Convl():\n",
    "    model.add(Conv2D(input_shape = (x_data.shape[1], x_data.shape[2], x_data.shape[3]), \n",
    "                 filters = 10,\n",
    "                 kernel_size = (3,3), strides = (1,1), padding = 'valid'))\n",
    "    model.add(Activation('relu'))\n",
    "    model.add(MaxPooling2D(pool_size = (2,2)))\n",
    "\n",
    "    model.add(Flatten())\n"
   ]
  },
  {
   "cell_type": "code",
   "execution_count": null,
   "metadata": {},
   "outputs": [],
   "source": []
  },
  {
   "cell_type": "code",
   "execution_count": 27,
   "metadata": {},
   "outputs": [],
   "source": [
    "# from now on, create a function to generate (return) models\n",
    "def mlp_model_tune_Dense(denseCount):\n",
    "    model = Sequential()\n",
    "    \n",
    "    model.add(Dense(denseCount, input_shape = (784, )))     # use he_normal initializer\n",
    "    model.add(Activation('hard_sigmoid'))    \n",
    "    model.add(Dense(denseCount ))                            # use he_normal initializer\n",
    "    model.add(Activation('hard_sigmoid'))    \n",
    "    model.add(Dense(denseCount))                            # use he_normal initializer\n",
    "    model.add(Activation('hard_sigmoid'))    \n",
    "    model.add(Dense(denseCount))                            # use he_normal initializer\n",
    "    model.add(Activation('hard_sigmoid'))    \n",
    "    model.add(Dense(10))                            # use he_normal initializer\n",
    "    model.add(Activation('softmax'))\n",
    "    \n",
    "    sgd_NM = optimizers.SGD(lr = 0.01, momentum=0.8, nesterov=True)\n",
    "    adam001 = optimizers.Adam(lr = 0.001)\n",
    "    adam01 = optimizers.Adam(lr = 0.01)\n",
    "    model.compile(optimizer = adam001, loss = 'categorical_crossentropy', metrics = ['accuracy'])\n",
    "    \n",
    "    return model"
   ]
  },
  {
   "cell_type": "code",
   "execution_count": 28,
   "metadata": {},
   "outputs": [
    {
     "name": "stdout",
     "output_type": "stream",
     "text": [
      "1257/1257 [==============================] - 2s 2ms/step - loss: 0.8008 - accuracy: 0.7104\n",
      "Test accuracy for dense: 50  is 0.7103731632232666\n",
      "1257/1257 [==============================] - 2s 2ms/step - loss: 0.8036 - accuracy: 0.6955\n",
      "Test accuracy for dense: 100  is 0.6955472826957703\n"
     ]
    }
   ],
   "source": [
    "for i in [50,100]:\n",
    "\n",
    "    model = mlp_model_tune_Dense(i)\n",
    "    history = model.fit(X_train, y_train, validation_split = 0.3, epochs = 150, verbose = 0)\n",
    "    results = model.evaluate(x_test, y_test)\n",
    "    print('Test accuracy for dense:', i,' is', results[1])"
   ]
  },
  {
   "cell_type": "code",
   "execution_count": null,
   "metadata": {},
   "outputs": [],
   "source": []
  },
  {
   "cell_type": "code",
   "execution_count": null,
   "metadata": {},
   "outputs": [],
   "source": []
  },
  {
   "cell_type": "code",
   "execution_count": null,
   "metadata": {},
   "outputs": [],
   "source": []
  },
  {
   "cell_type": "code",
   "execution_count": null,
   "metadata": {},
   "outputs": [],
   "source": []
  },
  {
   "cell_type": "markdown",
   "metadata": {},
   "source": [
    "## 1. Weight Initialization\n",
    "- Changing weight initialization scheme can significantly improve training of the model by preventing vanishing gradient problem up to some degree\n",
    "- He normal or Xavier normal initialization schemes are SOTA at the moment\n",
    "- Doc: https://keras.io/initializers/"
   ]
  },
  {
   "cell_type": "code",
   "execution_count": 71,
   "metadata": {},
   "outputs": [],
   "source": [
    "# from now on, create a function to generate (return) models\n",
    "def mlp_model():\n",
    "    model = Sequential()\n",
    "    \n",
    "    model.add(Dense(50, input_shape = (784, ), kernel_initializer='he_normal'))     # use he_normal initializer\n",
    "    model.add(Activation('elu'))    \n",
    "    model.add(Dense(50, kernel_initializer='he_normal'))                            # use he_normal initializer\n",
    "    model.add(Activation('elu'))    \n",
    "    model.add(Dense(50, kernel_initializer='he_normal'))                            # use he_normal initializer\n",
    "    model.add(Activation('elu'))    \n",
    "    model.add(Dense(50, kernel_initializer='he_normal'))                            # use he_normal initializer\n",
    "    model.add(Activation('elu'))    \n",
    "    model.add(Dense(10, kernel_initializer='he_normal'))                            # use he_normal initializer\n",
    "    model.add(Activation('softmax'))\n",
    "    \n",
    "    sgd = optimizers.SGD(lr = 0.001)\n",
    "    model.compile(optimizer = sgd, loss = 'categorical_crossentropy', metrics = ['accuracy'])\n",
    "    \n",
    "    return model"
   ]
  },
  {
   "cell_type": "code",
   "execution_count": 73,
   "metadata": {},
   "outputs": [
    {
     "name": "stdout",
     "output_type": "stream",
     "text": [
      "1026/1026 [==============================] - 2s 2ms/step - loss: 0.5444 - accuracy: 0.8952\n",
      "Test accuracy for dense: 69999.png  is 0.895217776298523\n"
     ]
    }
   ],
   "source": [
    "    model = mlp_model()\n",
    "    history = model.fit(X_train, y_train, validation_split = 0.3, epochs = 100, verbose = 0)\n",
    "    results = model.evaluate(x_test, y_test)\n",
    "    print('Test accuracy for dense:', i,' is', results[1])"
   ]
  },
  {
   "cell_type": "code",
   "execution_count": 51,
   "metadata": {
    "scrolled": true
   },
   "outputs": [
    {
     "ename": "NameError",
     "evalue": "name 'mlp_model_tune_Dense' is not defined",
     "output_type": "error",
     "traceback": [
      "\u001b[1;31m---------------------------------------------------------------------------\u001b[0m",
      "\u001b[1;31mNameError\u001b[0m                                 Traceback (most recent call last)",
      "\u001b[1;32m<ipython-input-51-e5277d1da9ef>\u001b[0m in \u001b[0;36m<module>\u001b[1;34m\u001b[0m\n\u001b[0;32m      1\u001b[0m \u001b[1;32mfor\u001b[0m \u001b[0mi\u001b[0m \u001b[1;32min\u001b[0m \u001b[1;33m[\u001b[0m\u001b[1;36m30\u001b[0m\u001b[1;33m,\u001b[0m\u001b[1;36m50\u001b[0m\u001b[1;33m,\u001b[0m\u001b[1;36m60\u001b[0m\u001b[1;33m,\u001b[0m\u001b[1;36m64\u001b[0m\u001b[1;33m,\u001b[0m\u001b[1;36m70\u001b[0m\u001b[1;33m]\u001b[0m\u001b[1;33m:\u001b[0m\u001b[1;33m\u001b[0m\u001b[1;33m\u001b[0m\u001b[0m\n\u001b[0;32m      2\u001b[0m \u001b[1;33m\u001b[0m\u001b[0m\n\u001b[1;32m----> 3\u001b[1;33m     \u001b[0mmodel\u001b[0m \u001b[1;33m=\u001b[0m \u001b[0mmlp_model_tune_Dense\u001b[0m\u001b[1;33m(\u001b[0m\u001b[0mi\u001b[0m\u001b[1;33m)\u001b[0m\u001b[1;33m\u001b[0m\u001b[1;33m\u001b[0m\u001b[0m\n\u001b[0m\u001b[0;32m      4\u001b[0m     \u001b[0mhistory\u001b[0m \u001b[1;33m=\u001b[0m \u001b[0mmodel\u001b[0m\u001b[1;33m.\u001b[0m\u001b[0mfit\u001b[0m\u001b[1;33m(\u001b[0m\u001b[0mX_train\u001b[0m\u001b[1;33m,\u001b[0m \u001b[0my_train\u001b[0m\u001b[1;33m,\u001b[0m \u001b[0mvalidation_split\u001b[0m \u001b[1;33m=\u001b[0m \u001b[1;36m0.3\u001b[0m\u001b[1;33m,\u001b[0m \u001b[0mepochs\u001b[0m \u001b[1;33m=\u001b[0m \u001b[1;36m100\u001b[0m\u001b[1;33m,\u001b[0m \u001b[0mverbose\u001b[0m \u001b[1;33m=\u001b[0m \u001b[1;36m0\u001b[0m\u001b[1;33m)\u001b[0m\u001b[1;33m\u001b[0m\u001b[1;33m\u001b[0m\u001b[0m\n\u001b[0;32m      5\u001b[0m     \u001b[0mresults\u001b[0m \u001b[1;33m=\u001b[0m \u001b[0mmodel\u001b[0m\u001b[1;33m.\u001b[0m\u001b[0mevaluate\u001b[0m\u001b[1;33m(\u001b[0m\u001b[0mx_test\u001b[0m\u001b[1;33m,\u001b[0m \u001b[0my_test\u001b[0m\u001b[1;33m)\u001b[0m\u001b[1;33m\u001b[0m\u001b[1;33m\u001b[0m\u001b[0m\n",
      "\u001b[1;31mNameError\u001b[0m: name 'mlp_model_tune_Dense' is not defined"
     ]
    }
   ],
   "source": [
    "for i in [30,50,60,64,70]:\n",
    "\n",
    "    model = mlp_model_tune_Dense(i)\n",
    "    history = model.fit(X_train, y_train, validation_split = 0.3, epochs = 100, verbose = 0)\n",
    "    results = model.evaluate(x_test, y_test)\n",
    "    print('Test accuracy for dense:', i,' is', results[1])"
   ]
  },
  {
   "cell_type": "code",
   "execution_count": 22,
   "metadata": {},
   "outputs": [
    {
     "data": {
      "image/png": "[encoded data removed]",
      "text/plain": [
       "<Figure size 432x288 with 1 Axes>"
      ]
     },
     "metadata": {
      "needs_background": "light"
     },
     "output_type": "display_data"
    }
   ],
   "source": [
    "plt.plot(history.history['accuracy'])\n",
    "plt.plot(history.history['val_accuracy'])\n",
    "plt.legend(['training', 'validation'], loc = 'upper left')\n",
    "plt.show()"
   ]
  },
  {
   "cell_type": "markdown",
   "metadata": {},
   "source": [
    "Training and validation accuracy seems to improve after around 60 epochs"
   ]
  },
  {
   "cell_type": "code",
   "execution_count": 23,
   "metadata": {},
   "outputs": [
    {
     "name": "stdout",
     "output_type": "stream",
     "text": [
      "1026/1026 [==============================] - 1s 727us/step - loss: 2.2042 - accuracy: 0.30990s - loss: 2.2038 - accuracy - ETA: 0s - loss: 2.2036 - accu\n"
     ]
    }
   ],
   "source": [
    "results = model.evaluate(x_test, y_test)"
   ]
  },
  {
   "cell_type": "code",
   "execution_count": 24,
   "metadata": {},
   "outputs": [
    {
     "name": "stdout",
     "output_type": "stream",
     "text": [
      "Test accuracy:  0.30986902117729187\n"
     ]
    }
   ],
   "source": [
    "print('Test accuracy: ', results[1])"
   ]
  },
  {
   "cell_type": "markdown",
   "metadata": {},
   "source": [
    "## 2. Nonlinearity (Activation function)\n",
    "- Sigmoid functions suffer from gradient vanishing problem, making training slower\n",
    "- There are many choices apart from sigmoid and tanh; try many of them!\n",
    "    - **'relu'** (rectified linear unit) is one of the most popular ones\n",
    "    - **'selu'** (scaled exponential linear unit) is one of the most recent ones\n",
    "- Doc: https://keras.io/activations/"
   ]
  },
  {
   "cell_type": "markdown",
   "metadata": {},
   "source": [
    "<img src=\"http://cs231n.github.io/assets/nn1/sigmoid.jpeg\" style=\"width: 400px\"/>\n",
    "<center> **Sigmoid Activation Function** </center>\n",
    "<img src=\"http://cs231n.github.io/assets/nn1/relu.jpeg\" style=\"width: 400px\"/>\n",
    "<center> **Relu Activation Function** </center>\n",
    "<img src=\"https://www.researchgate.net/profile/Sepp_Hochreiter/publication/284579051/figure/fig1/AS:614057178578955@1523414048184/The-rectified-linear-unit-ReLU-the-leaky-ReLU-LReLU-a-01-the-shifted-ReLUs.png\" style=\"width: 400px\"/>\n",
    "<center> **Comparision of activation** </center>"
   ]
  },
  {
   "cell_type": "code",
   "execution_count": 34,
   "metadata": {},
   "outputs": [],
   "source": [
    "def mlp_model():\n",
    "    model = Sequential()\n",
    "    \n",
    "    model.add(Dense(50, input_shape = (784, )))\n",
    "    model.add(Activation('elu'))    # use relu\n",
    "    model.add(Dense(50))\n",
    "    model.add(Activation('elu'))    # use relu\n",
    "    model.add(Dense(50))\n",
    "    model.add(Activation('elu'))    # use relu\n",
    "    model.add(Dense(50))\n",
    "    model.add(Activation('elu'))    # use relu\n",
    "    model.add(Dense(10))\n",
    "    model.add(Activation('softmax'))\n",
    "    \n",
    "    sgd = optimizers.SGD(lr = 0.001)\n",
    "    model.compile(optimizer = sgd, loss = 'categorical_crossentropy', metrics = ['accuracy'])\n",
    "    \n",
    "    return model"
   ]
  },
  {
   "cell_type": "code",
   "execution_count": 35,
   "metadata": {},
   "outputs": [],
   "source": [
    "model = mlp_model()\n",
    "history = model.fit(X_train, y_train, validation_split = 0.3, epochs = 100, verbose = 0)"
   ]
  },
  {
   "cell_type": "code",
   "execution_count": 36,
   "metadata": {},
   "outputs": [
    {
     "data": {
      "image/png": "[encoded data removed]",
      "text/plain": [
       "<Figure size 432x288 with 1 Axes>"
      ]
     },
     "metadata": {
      "needs_background": "light"
     },
     "output_type": "display_data"
    }
   ],
   "source": [
    "plt.plot(history.history['accuracy'])\n",
    "plt.plot(history.history['val_accuracy'])\n",
    "plt.legend(['training', 'validation'], loc = 'upper left')\n",
    "plt.show()"
   ]
  },
  {
   "cell_type": "code",
   "execution_count": 37,
   "metadata": {},
   "outputs": [
    {
     "name": "stdout",
     "output_type": "stream",
     "text": [
      "1257/1257 [==============================] - 2s 2ms/step - loss: 0.6456 - accuracy: 0.8185\n"
     ]
    }
   ],
   "source": [
    "results = model.evaluate(x_test, y_test)"
   ]
  },
  {
   "cell_type": "code",
   "execution_count": 38,
   "metadata": {},
   "outputs": [
    {
     "name": "stdout",
     "output_type": "stream",
     "text": [
      "Test accuracy:  0.8185074329376221\n"
     ]
    }
   ],
   "source": [
    "print('Test accuracy: ', results[1])"
   ]
  },
  {
   "cell_type": "code",
   "execution_count": null,
   "metadata": {},
   "outputs": [],
   "source": []
  },
  {
   "cell_type": "code",
   "execution_count": null,
   "metadata": {},
   "outputs": [],
   "source": []
  },
  {
   "cell_type": "code",
   "execution_count": 39,
   "metadata": {},
   "outputs": [],
   "source": [
    "import numpy as np\n",
    "import pandas as pd"
   ]
  },
  {
   "cell_type": "code",
   "execution_count": 41,
   "metadata": {},
   "outputs": [],
   "source": [
    "predicted = model.predict(X_test_sub)\n",
    "y_pred = predicted.argmax(axis=1)\n",
    "\n",
    "\n",
    "ImageID = np.arange(len(y_pred))+1\n",
    "Out = pd.DataFrame([test['id'],y_pred]).T\n",
    "Out.rename(columns = {0:'id', 1:'label'})\n",
    "#Out\n",
    "Out.to_csv('MNIST_App_Elu_SGD.csv', header =  ['id', 'label' ], index = None)"
   ]
  },
  {
   "cell_type": "code",
   "execution_count": null,
   "metadata": {},
   "outputs": [],
   "source": []
  },
  {
   "cell_type": "markdown",
   "metadata": {},
   "source": [
    "## ELU Adam "
   ]
  },
  {
   "cell_type": "code",
   "execution_count": 47,
   "metadata": {},
   "outputs": [],
   "source": [
    "adam = optimizers.Adam(learning_rate=0.01,\n",
    "    beta_1=0.9,\n",
    "    beta_2=0.999,\n",
    "    epsilon=1e-07,\n",
    "    amsgrad=False,\n",
    "    name='Adam')\n",
    "sgd = optimizers.SGD(learning_rate=0.01,momentum=0.0,    nesterov=False,    name='SGD')\n",
    "momentum = optimizers.SGD(learning_rate=0.01,\n",
    "    momentum=0.8,\n",
    "    nesterov=False,\n",
    "    name='SGD-Momentum')\n",
    "opts = [adam, sgd, momentum]\n",
    "adam001 = optimizers.Adam(lr = 0.001)"
   ]
  },
  {
   "cell_type": "code",
   "execution_count": 48,
   "metadata": {},
   "outputs": [],
   "source": [
    "def mlp_model():\n",
    "    model = Sequential()\n",
    "    \n",
    "    model.add(Dense(50, input_shape = (784, )))\n",
    "    model.add(Activation('elu'))    # use relu\n",
    "    model.add(Dense(50))\n",
    "    model.add(Activation('elu'))    # use relu\n",
    "    model.add(Dense(50))\n",
    "    model.add(Activation('elu'))    # use relu\n",
    "    model.add(Dense(50))\n",
    "    model.add(Activation('elu'))    # use relu\n",
    "    model.add(Dense(10))\n",
    "    model.add(Activation('softmax'))    \n",
    "    \n",
    "    model.compile(optimizer = adam001, loss = 'categorical_crossentropy', metrics = ['accuracy'])\n",
    "    \n",
    "    return model\n",
    "\n",
    "model = mlp_model()\n",
    "history = model.fit(X_train, y_train, validation_split = 0.3, epochs = 100, verbose = 0)"
   ]
  },
  {
   "cell_type": "code",
   "execution_count": 49,
   "metadata": {},
   "outputs": [
    {
     "data": {
      "image/png": "[encoded data removed]",
      "text/plain": [
       "<Figure size 432x288 with 1 Axes>"
      ]
     },
     "metadata": {
      "needs_background": "light"
     },
     "output_type": "display_data"
    }
   ],
   "source": [
    "plt.plot(history.history['accuracy'])\n",
    "plt.plot(history.history['val_accuracy'])\n",
    "plt.legend(['training', 'validation'], loc = 'upper left')\n",
    "plt.show()"
   ]
  },
  {
   "cell_type": "code",
   "execution_count": 50,
   "metadata": {},
   "outputs": [
    {
     "name": "stdout",
     "output_type": "stream",
     "text": [
      "1257/1257 [==============================] - 2s 2ms/step - loss: 0.6024 - accuracy: 0.8357\n"
     ]
    }
   ],
   "source": [
    "results = model.evaluate(x_test, y_test)"
   ]
  },
  {
   "cell_type": "code",
   "execution_count": 51,
   "metadata": {},
   "outputs": [
    {
     "name": "stdout",
     "output_type": "stream",
     "text": [
      "Test accuracy:  0.8356716632843018\n"
     ]
    }
   ],
   "source": [
    "print('Test accuracy: ', results[1])"
   ]
  },
  {
   "cell_type": "code",
   "execution_count": null,
   "metadata": {},
   "outputs": [],
   "source": []
  },
  {
   "cell_type": "markdown",
   "metadata": {},
   "source": [
    "## 3. Optimizers\n",
    "- Many variants of SGD are proposed and employed nowadays\n",
    "- One of the most popular ones are Adam (Adaptive Moment Estimation)\n",
    "- Doc: https://keras.io/optimizers/"
   ]
  },
  {
   "cell_type": "markdown",
   "metadata": {},
   "source": [
    "<img src=\"http://cs231n.github.io/assets/nn3/opt2.gif\" style=\"width: 400px\"/>\n",
    "<br><center> **Relative convergence speed of different optimizers** </center></br>"
   ]
  },
  {
   "cell_type": "code",
   "execution_count": 26,
   "metadata": {},
   "outputs": [],
   "source": [
    "def mlp_model():\n",
    "    model = Sequential()\n",
    "    \n",
    "    model.add(Dense(50, input_shape = (784, )))\n",
    "    model.add(Activation('elu'))    \n",
    "    model.add(Dense(50, kernel_initializer = 'he_normal'))\n",
    "    model.add(Activation('elu'))  \n",
    "    model.add(Dense(50, kernel_initializer = 'he_normal'))\n",
    "    model.add(Activation('elu'))    \n",
    "    model.add(Dense(50, kernel_initializer = 'he_normal'))\n",
    "    model.add(Activation('elu'))    \n",
    "    model.add(Dense(10))\n",
    "    model.add(Activation('softmax'))\n",
    "    \n",
    "    adam = optimizers.Adam(lr = 0.001)                     # use Adam optimizer\n",
    "    model.compile(optimizer = adam, loss = 'categorical_crossentropy', metrics = ['accuracy'])\n",
    "    \n",
    "    return model"
   ]
  },
  {
   "cell_type": "code",
   "execution_count": 27,
   "metadata": {},
   "outputs": [],
   "source": [
    "model = mlp_model()\n",
    "history = model.fit(X_train, y_train, validation_split = 0.3, epochs = 100, verbose = 0)"
   ]
  },
  {
   "cell_type": "code",
   "execution_count": 28,
   "metadata": {},
   "outputs": [
    {
     "data": {
      "image/png": "[encoded data removed]",
      "text/plain": [
       "<Figure size 432x288 with 1 Axes>"
      ]
     },
     "metadata": {
      "needs_background": "light"
     },
     "output_type": "display_data"
    }
   ],
   "source": [
    "plt.plot(history.history['accuracy'])\n",
    "plt.plot(history.history['val_accuracy'])\n",
    "plt.legend(['training', 'validation'], loc = 'upper left')\n",
    "plt.show()"
   ]
  },
  {
   "cell_type": "code",
   "execution_count": 29,
   "metadata": {},
   "outputs": [
    {
     "name": "stdout",
     "output_type": "stream",
     "text": [
      "1257/1257 [==============================] - 1s 856us/step - loss: 0.7265 - accuracy: 0.8489\n"
     ]
    }
   ],
   "source": [
    "results = model.evaluate(x_test, y_test)"
   ]
  },
  {
   "cell_type": "code",
   "execution_count": 30,
   "metadata": {},
   "outputs": [
    {
     "name": "stdout",
     "output_type": "stream",
     "text": [
      "Test accuracy:  0.84885573387146\n"
     ]
    }
   ],
   "source": [
    "print('Test accuracy: ', results[1])"
   ]
  },
  {
   "cell_type": "code",
   "execution_count": 31,
   "metadata": {},
   "outputs": [],
   "source": [
    "predicted = model.predict(X_test_sub)\n",
    "y_pred = predicted.argmax(axis=1)\n",
    "\n",
    "\n",
    "ImageID = np.arange(len(y_pred))+1\n",
    "Out = pd.DataFrame([test['id'],y_pred]).T\n",
    "Out.rename(columns = {0:'id', 1:'label'})\n",
    "#Out\n",
    "Out.to_csv('MNIST_App_Elu_adam_HENorm.csv', header =  ['id', 'label' ], index = None)"
   ]
  },
  {
   "cell_type": "markdown",
   "metadata": {},
   "source": [
    "## 4. Batch Normalization\n",
    "- Batch Normalization, one of the methods to prevent the \"internal covariance shift\" problem, has proven to be highly effective\n",
    "- Normalize each mini-batch before nonlinearity\n",
    "- Doc: https://keras.io/optimizers/"
   ]
  },
  {
   "cell_type": "markdown",
   "metadata": {},
   "source": [
    "<img src=\"https://raw.githubusercontent.com/torch/torch.github.io/master/blog/_posts/images/resnets_modelvariants.png\" style=\"width: 500px\"/>\n",
    "\n",
    "<br> Batch normalization layer is usually inserted after dense/convolution and before nonlinearity"
   ]
  },
  {
   "cell_type": "code",
   "execution_count": 12,
   "metadata": {},
   "outputs": [],
   "source": [
    "from keras.layers import BatchNormalization"
   ]
  },
  {
   "cell_type": "code",
   "execution_count": 21,
   "metadata": {},
   "outputs": [],
   "source": [
    "def mlp_model():\n",
    "    model = Sequential()\n",
    "    \n",
    "    model.add(Dense(50, input_shape = (784, )))\n",
    "    model.add(BatchNormalization())                    # Add Batchnorm layer before Activation\n",
    "    model.add(Activation('elu'))    \n",
    "    model.add(Dense(50))\n",
    "    model.add(BatchNormalization())                    # Add Batchnorm layer before Activation\n",
    "    model.add(Activation('elu'))    \n",
    "    model.add(Dense(50))\n",
    "    model.add(BatchNormalization())                    # Add Batchnorm layer before Activation\n",
    "    model.add(Activation('elu'))    \n",
    "    model.add(Dense(50))\n",
    "    model.add(BatchNormalization())                    # Add Batchnorm layer before Activation\n",
    "    model.add(Activation('elu'))    \n",
    "    model.add(Dense(10))\n",
    "    model.add(Activation('softmax'))\n",
    "    \n",
    "    adam = optimizers.Adam(lr = 0.001) \n",
    "    model.compile(optimizer = adam, loss = 'categorical_crossentropy', metrics = ['accuracy'])\n",
    "    \n",
    "    return model"
   ]
  },
  {
   "cell_type": "code",
   "execution_count": 22,
   "metadata": {},
   "outputs": [],
   "source": [
    "model = mlp_model()\n",
    "history = model.fit(X_train, y_train, validation_split = 0.2, epochs = 100, verbose = 0)"
   ]
  },
  {
   "cell_type": "code",
   "execution_count": 23,
   "metadata": {},
   "outputs": [
    {
     "data": {
      "image/png": "[encoded data removed]",
      "text/plain": [
       "<Figure size 432x288 with 1 Axes>"
      ]
     },
     "metadata": {
      "needs_background": "light"
     },
     "output_type": "display_data"
    }
   ],
   "source": [
    "plt.plot(history.history['accuracy'])\n",
    "plt.plot(history.history['val_accuracy'])\n",
    "plt.legend(['training', 'validation'], loc = 'upper left')\n",
    "plt.show()"
   ]
  },
  {
   "cell_type": "code",
   "execution_count": 24,
   "metadata": {},
   "outputs": [
    {
     "name": "stdout",
     "output_type": "stream",
     "text": [
      "1257/1257 [==============================] - 2s 2ms/step - loss: 0.7453 - accuracy: 0.8524\n"
     ]
    }
   ],
   "source": [
    "results = model.evaluate(x_test, y_test)"
   ]
  },
  {
   "cell_type": "code",
   "execution_count": 25,
   "metadata": {},
   "outputs": [
    {
     "name": "stdout",
     "output_type": "stream",
     "text": [
      "Test accuracy:  0.8524377942085266\n"
     ]
    }
   ],
   "source": [
    "print('Test accuracy: ', results[1])"
   ]
  },
  {
   "cell_type": "code",
   "execution_count": 67,
   "metadata": {},
   "outputs": [
    {
     "ename": "KeyError",
     "evalue": "'filename'",
     "output_type": "error",
     "traceback": [
      "\u001b[1;31m---------------------------------------------------------------------------\u001b[0m",
      "\u001b[1;31mKeyError\u001b[0m                                  Traceback (most recent call last)",
      "\u001b[1;32m~\\anaconda3\\lib\\site-packages\\pandas\\core\\indexes\\base.py\u001b[0m in \u001b[0;36mget_loc\u001b[1;34m(self, key, method, tolerance)\u001b[0m\n\u001b[0;32m   2645\u001b[0m             \u001b[1;32mtry\u001b[0m\u001b[1;33m:\u001b[0m\u001b[1;33m\u001b[0m\u001b[1;33m\u001b[0m\u001b[0m\n\u001b[1;32m-> 2646\u001b[1;33m                 \u001b[1;32mreturn\u001b[0m \u001b[0mself\u001b[0m\u001b[1;33m.\u001b[0m\u001b[0m_engine\u001b[0m\u001b[1;33m.\u001b[0m\u001b[0mget_loc\u001b[0m\u001b[1;33m(\u001b[0m\u001b[0mkey\u001b[0m\u001b[1;33m)\u001b[0m\u001b[1;33m\u001b[0m\u001b[1;33m\u001b[0m\u001b[0m\n\u001b[0m\u001b[0;32m   2647\u001b[0m             \u001b[1;32mexcept\u001b[0m \u001b[0mKeyError\u001b[0m\u001b[1;33m:\u001b[0m\u001b[1;33m\u001b[0m\u001b[1;33m\u001b[0m\u001b[0m\n",
      "\u001b[1;32mpandas\\_libs\\index.pyx\u001b[0m in \u001b[0;36mpandas._libs.index.IndexEngine.get_loc\u001b[1;34m()\u001b[0m\n",
      "\u001b[1;32mpandas\\_libs\\index.pyx\u001b[0m in \u001b[0;36mpandas._libs.index.IndexEngine.get_loc\u001b[1;34m()\u001b[0m\n",
      "\u001b[1;32mpandas\\_libs\\hashtable_class_helper.pxi\u001b[0m in \u001b[0;36mpandas._libs.hashtable.PyObjectHashTable.get_item\u001b[1;34m()\u001b[0m\n",
      "\u001b[1;32mpandas\\_libs\\hashtable_class_helper.pxi\u001b[0m in \u001b[0;36mpandas._libs.hashtable.PyObjectHashTable.get_item\u001b[1;34m()\u001b[0m\n",
      "\u001b[1;31mKeyError\u001b[0m: 'filename'",
      "\nDuring handling of the above exception, another exception occurred:\n",
      "\u001b[1;31mKeyError\u001b[0m                                  Traceback (most recent call last)",
      "\u001b[1;32m<ipython-input-67-6689ccbb37d7>\u001b[0m in \u001b[0;36m<module>\u001b[1;34m\u001b[0m\n\u001b[0;32m      4\u001b[0m \u001b[1;33m\u001b[0m\u001b[0m\n\u001b[0;32m      5\u001b[0m \u001b[0mImageID\u001b[0m \u001b[1;33m=\u001b[0m \u001b[0mnp\u001b[0m\u001b[1;33m.\u001b[0m\u001b[0marange\u001b[0m\u001b[1;33m(\u001b[0m\u001b[0mlen\u001b[0m\u001b[1;33m(\u001b[0m\u001b[0my_pred\u001b[0m\u001b[1;33m)\u001b[0m\u001b[1;33m)\u001b[0m\u001b[1;33m+\u001b[0m\u001b[1;36m1\u001b[0m\u001b[1;33m\u001b[0m\u001b[1;33m\u001b[0m\u001b[0m\n\u001b[1;32m----> 6\u001b[1;33m \u001b[0mOut\u001b[0m \u001b[1;33m=\u001b[0m \u001b[0mpd\u001b[0m\u001b[1;33m.\u001b[0m\u001b[0mDataFrame\u001b[0m\u001b[1;33m(\u001b[0m\u001b[1;33m[\u001b[0m\u001b[0mtest\u001b[0m\u001b[1;33m[\u001b[0m\u001b[1;34m'filename'\u001b[0m\u001b[1;33m]\u001b[0m\u001b[1;33m,\u001b[0m\u001b[0my_pred\u001b[0m\u001b[1;33m]\u001b[0m\u001b[1;33m)\u001b[0m\u001b[1;33m.\u001b[0m\u001b[0mT\u001b[0m\u001b[1;33m\u001b[0m\u001b[1;33m\u001b[0m\u001b[0m\n\u001b[0m\u001b[0;32m      7\u001b[0m \u001b[0mOut\u001b[0m\u001b[1;33m.\u001b[0m\u001b[0mrename\u001b[0m\u001b[1;33m(\u001b[0m\u001b[0mcolumns\u001b[0m \u001b[1;33m=\u001b[0m \u001b[1;33m{\u001b[0m\u001b[1;36m0\u001b[0m\u001b[1;33m:\u001b[0m\u001b[1;34m'filename'\u001b[0m\u001b[1;33m,\u001b[0m \u001b[1;36m1\u001b[0m\u001b[1;33m:\u001b[0m\u001b[1;34m'label'\u001b[0m\u001b[1;33m}\u001b[0m\u001b[1;33m)\u001b[0m\u001b[1;33m\u001b[0m\u001b[1;33m\u001b[0m\u001b[0m\n\u001b[0;32m      8\u001b[0m \u001b[1;31m#Out\u001b[0m\u001b[1;33m\u001b[0m\u001b[1;33m\u001b[0m\u001b[1;33m\u001b[0m\u001b[0m\n",
      "\u001b[1;32m~\\anaconda3\\lib\\site-packages\\pandas\\core\\frame.py\u001b[0m in \u001b[0;36m__getitem__\u001b[1;34m(self, key)\u001b[0m\n\u001b[0;32m   2798\u001b[0m             \u001b[1;32mif\u001b[0m \u001b[0mself\u001b[0m\u001b[1;33m.\u001b[0m\u001b[0mcolumns\u001b[0m\u001b[1;33m.\u001b[0m\u001b[0mnlevels\u001b[0m \u001b[1;33m>\u001b[0m \u001b[1;36m1\u001b[0m\u001b[1;33m:\u001b[0m\u001b[1;33m\u001b[0m\u001b[1;33m\u001b[0m\u001b[0m\n\u001b[0;32m   2799\u001b[0m                 \u001b[1;32mreturn\u001b[0m \u001b[0mself\u001b[0m\u001b[1;33m.\u001b[0m\u001b[0m_getitem_multilevel\u001b[0m\u001b[1;33m(\u001b[0m\u001b[0mkey\u001b[0m\u001b[1;33m)\u001b[0m\u001b[1;33m\u001b[0m\u001b[1;33m\u001b[0m\u001b[0m\n\u001b[1;32m-> 2800\u001b[1;33m             \u001b[0mindexer\u001b[0m \u001b[1;33m=\u001b[0m \u001b[0mself\u001b[0m\u001b[1;33m.\u001b[0m\u001b[0mcolumns\u001b[0m\u001b[1;33m.\u001b[0m\u001b[0mget_loc\u001b[0m\u001b[1;33m(\u001b[0m\u001b[0mkey\u001b[0m\u001b[1;33m)\u001b[0m\u001b[1;33m\u001b[0m\u001b[1;33m\u001b[0m\u001b[0m\n\u001b[0m\u001b[0;32m   2801\u001b[0m             \u001b[1;32mif\u001b[0m \u001b[0mis_integer\u001b[0m\u001b[1;33m(\u001b[0m\u001b[0mindexer\u001b[0m\u001b[1;33m)\u001b[0m\u001b[1;33m:\u001b[0m\u001b[1;33m\u001b[0m\u001b[1;33m\u001b[0m\u001b[0m\n\u001b[0;32m   2802\u001b[0m                 \u001b[0mindexer\u001b[0m \u001b[1;33m=\u001b[0m \u001b[1;33m[\u001b[0m\u001b[0mindexer\u001b[0m\u001b[1;33m]\u001b[0m\u001b[1;33m\u001b[0m\u001b[1;33m\u001b[0m\u001b[0m\n",
      "\u001b[1;32m~\\anaconda3\\lib\\site-packages\\pandas\\core\\indexes\\base.py\u001b[0m in \u001b[0;36mget_loc\u001b[1;34m(self, key, method, tolerance)\u001b[0m\n\u001b[0;32m   2646\u001b[0m                 \u001b[1;32mreturn\u001b[0m \u001b[0mself\u001b[0m\u001b[1;33m.\u001b[0m\u001b[0m_engine\u001b[0m\u001b[1;33m.\u001b[0m\u001b[0mget_loc\u001b[0m\u001b[1;33m(\u001b[0m\u001b[0mkey\u001b[0m\u001b[1;33m)\u001b[0m\u001b[1;33m\u001b[0m\u001b[1;33m\u001b[0m\u001b[0m\n\u001b[0;32m   2647\u001b[0m             \u001b[1;32mexcept\u001b[0m \u001b[0mKeyError\u001b[0m\u001b[1;33m:\u001b[0m\u001b[1;33m\u001b[0m\u001b[1;33m\u001b[0m\u001b[0m\n\u001b[1;32m-> 2648\u001b[1;33m                 \u001b[1;32mreturn\u001b[0m \u001b[0mself\u001b[0m\u001b[1;33m.\u001b[0m\u001b[0m_engine\u001b[0m\u001b[1;33m.\u001b[0m\u001b[0mget_loc\u001b[0m\u001b[1;33m(\u001b[0m\u001b[0mself\u001b[0m\u001b[1;33m.\u001b[0m\u001b[0m_maybe_cast_indexer\u001b[0m\u001b[1;33m(\u001b[0m\u001b[0mkey\u001b[0m\u001b[1;33m)\u001b[0m\u001b[1;33m)\u001b[0m\u001b[1;33m\u001b[0m\u001b[1;33m\u001b[0m\u001b[0m\n\u001b[0m\u001b[0;32m   2649\u001b[0m         \u001b[0mindexer\u001b[0m \u001b[1;33m=\u001b[0m \u001b[0mself\u001b[0m\u001b[1;33m.\u001b[0m\u001b[0mget_indexer\u001b[0m\u001b[1;33m(\u001b[0m\u001b[1;33m[\u001b[0m\u001b[0mkey\u001b[0m\u001b[1;33m]\u001b[0m\u001b[1;33m,\u001b[0m \u001b[0mmethod\u001b[0m\u001b[1;33m=\u001b[0m\u001b[0mmethod\u001b[0m\u001b[1;33m,\u001b[0m \u001b[0mtolerance\u001b[0m\u001b[1;33m=\u001b[0m\u001b[0mtolerance\u001b[0m\u001b[1;33m)\u001b[0m\u001b[1;33m\u001b[0m\u001b[1;33m\u001b[0m\u001b[0m\n\u001b[0;32m   2650\u001b[0m         \u001b[1;32mif\u001b[0m \u001b[0mindexer\u001b[0m\u001b[1;33m.\u001b[0m\u001b[0mndim\u001b[0m \u001b[1;33m>\u001b[0m \u001b[1;36m1\u001b[0m \u001b[1;32mor\u001b[0m \u001b[0mindexer\u001b[0m\u001b[1;33m.\u001b[0m\u001b[0msize\u001b[0m \u001b[1;33m>\u001b[0m \u001b[1;36m1\u001b[0m\u001b[1;33m:\u001b[0m\u001b[1;33m\u001b[0m\u001b[1;33m\u001b[0m\u001b[0m\n",
      "\u001b[1;32mpandas\\_libs\\index.pyx\u001b[0m in \u001b[0;36mpandas._libs.index.IndexEngine.get_loc\u001b[1;34m()\u001b[0m\n",
      "\u001b[1;32mpandas\\_libs\\index.pyx\u001b[0m in \u001b[0;36mpandas._libs.index.IndexEngine.get_loc\u001b[1;34m()\u001b[0m\n",
      "\u001b[1;32mpandas\\_libs\\hashtable_class_helper.pxi\u001b[0m in \u001b[0;36mpandas._libs.hashtable.PyObjectHashTable.get_item\u001b[1;34m()\u001b[0m\n",
      "\u001b[1;32mpandas\\_libs\\hashtable_class_helper.pxi\u001b[0m in \u001b[0;36mpandas._libs.hashtable.PyObjectHashTable.get_item\u001b[1;34m()\u001b[0m\n",
      "\u001b[1;31mKeyError\u001b[0m: 'filename'"
     ]
    }
   ],
   "source": [
    "predicted = model.predict(X_test_sub)\n",
    "y_pred = predicted.argmax(axis=1)\n",
    "\n",
    "\n",
    "ImageID = np.arange(len(y_pred))+1\n",
    "Out = pd.DataFrame([test['filename'],y_pred]).T\n",
    "Out.rename(columns = {0:'filename', 1:'label'})\n",
    "#Out\n",
    "Out.to_csv('MNIST_App_Batch_Elu_LR_0_001_Adam.csv', header =  ['filename', 'label' ], index = None)"
   ]
  },
  {
   "cell_type": "raw",
   "metadata": {},
   "source": [
    "Batch_Elu_LR_0_01_Adam - \n",
    "Batch_Elu_LR_0_1_Adam - "
   ]
  },
  {
   "cell_type": "code",
   "execution_count": null,
   "metadata": {},
   "outputs": [],
   "source": []
  },
  {
   "cell_type": "code",
   "execution_count": null,
   "metadata": {},
   "outputs": [],
   "source": []
  },
  {
   "cell_type": "code",
   "execution_count": null,
   "metadata": {},
   "outputs": [],
   "source": []
  },
  {
   "cell_type": "code",
   "execution_count": null,
   "metadata": {},
   "outputs": [],
   "source": []
  },
  {
   "cell_type": "code",
   "execution_count": null,
   "metadata": {},
   "outputs": [],
   "source": []
  },
  {
   "cell_type": "markdown",
   "metadata": {},
   "source": [
    "## 5. Dropout (Regularization)\n",
    "- Dropout is one of powerful ways to prevent overfitting\n",
    "- The idea is simple. It is disconnecting some (randomly selected) neurons in each layer\n",
    "- The probability of each neuron to be disconnected, namely 'Dropout rate', has to be designated\n",
    "- Doc: https://keras.io/layers/core/#dropout"
   ]
  },
  {
   "cell_type": "markdown",
   "metadata": {},
   "source": [
    "<img src=\"https://image.slidesharecdn.com/lecture29-convolutionalneuralnetworks-visionspring2015-150504114140-conversion-gate02/95/lecture-29-convolutional-neural-networks-computer-vision-spring2015-62-638.jpg?cb=1430740006\" style=\"width: 500px\"/>"
   ]
  },
  {
   "cell_type": "code",
   "execution_count": 63,
   "metadata": {},
   "outputs": [],
   "source": [
    "from keras.layers import Dropout"
   ]
  },
  {
   "cell_type": "code",
   "execution_count": 64,
   "metadata": {},
   "outputs": [],
   "source": [
    "def mlp_model():\n",
    "    model = Sequential()\n",
    "    \n",
    "    model.add(Dense(50, input_shape = (784, )))\n",
    "    model.add(Activation('elu'))    \n",
    "    model.add(Dropout(0.3))                        # Dropout layer after Activation\n",
    "    model.add(Dense(50))\n",
    "    model.add(Activation('elu'))\n",
    "    model.add(Dropout(0.3))                        # Dropout layer after Activation\n",
    "    model.add(Dense(50))\n",
    "    model.add(Activation('elu'))    \n",
    "    model.add(Dropout(0.3))                        # Dropout layer after Activation\n",
    "    model.add(Dense(50))\n",
    "    model.add(Activation('elu'))    \n",
    "    model.add(Dropout(0.3))                         # Dropout layer after Activation\n",
    "    model.add(Dense(10))\n",
    "    model.add(Activation('softmax'))\n",
    "    \n",
    "    adam = optimizers.Adam(lr = 0.001)\n",
    "    model.compile(optimizer = adam, loss = 'categorical_crossentropy', metrics = ['accuracy'])\n",
    "    \n",
    "    return model"
   ]
  },
  {
   "cell_type": "code",
   "execution_count": 65,
   "metadata": {
    "scrolled": true
   },
   "outputs": [],
   "source": [
    "model = mlp_model()\n",
    "history = model.fit(X_train, y_train, validation_split = 0.3, epochs = 100, verbose = 0)"
   ]
  },
  {
   "cell_type": "code",
   "execution_count": 66,
   "metadata": {},
   "outputs": [
    {
     "data": {
      "image/png": "[encoded data removed]",
      "text/plain": [
       "<Figure size 432x288 with 1 Axes>"
      ]
     },
     "metadata": {
      "needs_background": "light"
     },
     "output_type": "display_data"
    }
   ],
   "source": [
    "plt.plot(history.history['accuracy'])\n",
    "plt.plot(history.history['val_accuracy'])\n",
    "plt.legend(['training', 'validation'], loc = 'upper left')\n",
    "plt.show()"
   ]
  },
  {
   "cell_type": "markdown",
   "metadata": {},
   "source": [
    "Validation results does not improve since it did not show signs of overfitting, yet.\n",
    "<br> Hence, the key takeaway message is that apply dropout when you see a signal of overfitting."
   ]
  },
  {
   "cell_type": "code",
   "execution_count": 67,
   "metadata": {},
   "outputs": [
    {
     "name": "stdout",
     "output_type": "stream",
     "text": [
      "1026/1026 [==============================] - 1s 797us/step - loss: 1.1125 - accuracy: 0.5871\n"
     ]
    }
   ],
   "source": [
    "results = model.evaluate(x_test, y_test)"
   ]
  },
  {
   "cell_type": "code",
   "execution_count": 68,
   "metadata": {},
   "outputs": [
    {
     "name": "stdout",
     "output_type": "stream",
     "text": [
      "Test accuracy:  0.587115466594696\n"
     ]
    }
   ],
   "source": [
    "print('Test accuracy: ', results[1])"
   ]
  },
  {
   "cell_type": "code",
   "execution_count": 69,
   "metadata": {},
   "outputs": [],
   "source": [
    "predicted = model.predict(X_test_sub)\n",
    "y_pred = predicted.argmax(axis=1)\n",
    "\n",
    "\n",
    "ImageID = np.arange(len(y_pred))+1\n",
    "Out = pd.DataFrame([test['filename'],y_pred]).T\n",
    "Out.rename(columns = {0:'filename', 1:'label'})\n",
    "#Out\n",
    "Out.to_csv('MNIST_Prediction_DropOut.csv', header =  ['filename', 'label' ], index = None)"
   ]
  },
  {
   "cell_type": "markdown",
   "metadata": {},
   "source": [
    "## 6. Model Ensemble\n",
    "- Model ensemble is a reliable and promising way to boost performance of the model\n",
    "- Usually create 8 to 10 independent networks and merge their results\n",
    "- Here, we resort to scikit-learn API, **VotingClassifier**\n",
    "- Doc: http://scikit-learn.org/stable/modules/generated/sklearn.ensemble.VotingClassifier.html"
   ]
  },
  {
   "cell_type": "code",
   "execution_count": 91,
   "metadata": {},
   "outputs": [],
   "source": [
    "import numpy as np\n",
    "\n",
    "from keras.wrappers.scikit_learn import KerasClassifier\n",
    "from sklearn.ensemble import VotingClassifier\n",
    "from sklearn.metrics import accuracy_score"
   ]
  },
  {
   "cell_type": "raw",
   "metadata": {},
   "source": [
    "y_train = np.argmax(y_train, axis = 1)\n",
    "y_test = np.argmax(y_test, axis = 1)"
   ]
  },
  {
   "cell_type": "code",
   "execution_count": 93,
   "metadata": {},
   "outputs": [],
   "source": [
    "def mlp_model1():\n",
    "    model = Sequential()\n",
    "    \n",
    "    model.add(Dense(50, input_shape = (784, )))\n",
    "    model.add(Activation('elu'))    \n",
    "    model.add(Dense(50, kernel_initializer = 'he_normal'))\n",
    "    model.add(Activation('elu'))    \n",
    "    model.add(Dense(50, kernel_initializer = 'he_normal'))\n",
    "    model.add(Activation('elu'))    \n",
    "    model.add(Dense(50, kernel_initializer = 'he_normal'))\n",
    "    model.add(Activation('elu'))    \n",
    "    model.add(Dense(10))\n",
    "    model.add(Activation('softmax'))\n",
    "    \n",
    "    adam = optimizers.Adam(lr = 0.001)\n",
    "    model.compile(optimizer = adam, loss = 'categorical_crossentropy', metrics = ['accuracy'])\n",
    "    \n",
    "    return model\n",
    "\n",
    "def mlp_model2():\n",
    "    model = Sequential()\n",
    "    \n",
    "    model.add(Dense(50, input_shape = (784, )))\n",
    "    model.add(BatchNormalization())                    # Add Batchnorm layer before Activation\n",
    "    model.add(Activation('elu'))    \n",
    "    model.add(Dense(50))\n",
    "    model.add(BatchNormalization())                    # Add Batchnorm layer before Activation\n",
    "    model.add(Activation('elu'))    \n",
    "    model.add(Dense(50))\n",
    "    model.add(BatchNormalization())                    # Add Batchnorm layer before Activation\n",
    "    model.add(Activation('elu'))    \n",
    "    model.add(Dense(50))\n",
    "    model.add(BatchNormalization())                    # Add Batchnorm layer before Activation\n",
    "    model.add(Activation('elu'))    \n",
    "    model.add(Dense(50))\n",
    "    model.add(BatchNormalization())                    # Add Batchnorm layer before Activation\n",
    "    model.add(Activation('elu'))    \n",
    "    model.add(Dense(10))\n",
    "    model.add(Activation('softmax'))\n",
    "    \n",
    "    adam = optimizers.Adam(lr = 0.001)\n",
    "    model.compile(optimizer = adam, loss = 'categorical_crossentropy', metrics = ['accuracy'])\n",
    "    \n",
    "    return model\n",
    "\n",
    "def mlp_model3():\n",
    "    model = Sequential()\n",
    "    \n",
    "    model.add(Dense(50, input_shape = (784, )))\n",
    "    model.add(Activation('elu'))    \n",
    "    model.add(Dense(50))\n",
    "    model.add(Activation('elu'))    \n",
    "    model.add(Dense(50))\n",
    "    model.add(Activation('elu'))    \n",
    "    model.add(Dense(50))\n",
    "    model.add(Activation('elu'))    \n",
    "    model.add(Dense(10))\n",
    "    model.add(Activation('softmax'))\n",
    "    \n",
    "    adam = optimizers.Adam(lr = 0.001)\n",
    "    model.compile(optimizer = adam, loss = 'categorical_crossentropy', metrics = ['accuracy'])\n",
    "    \n",
    "    return model"
   ]
  },
  {
   "cell_type": "code",
   "execution_count": 94,
   "metadata": {},
   "outputs": [],
   "source": [
    "model1 = KerasClassifier(build_fn = mlp_model1, epochs = 30, verbose = 0)\n",
    "model2 = KerasClassifier(build_fn = mlp_model2, epochs = 10, verbose = 0)\n",
    "model3 = KerasClassifier(build_fn = mlp_model3, epochs = 20, verbose = 0)"
   ]
  },
  {
   "cell_type": "code",
   "execution_count": 95,
   "metadata": {},
   "outputs": [],
   "source": [
    "model1._estimator_type = \"classifier\"\n",
    "model2._estimator_type = \"classifier\"\n",
    "model3._estimator_type = \"classifier\""
   ]
  },
  {
   "cell_type": "code",
   "execution_count": 96,
   "metadata": {},
   "outputs": [],
   "source": [
    "ensemble_clf = VotingClassifier(estimators = [('model1', model1), ('model2', model2), ('model3', model3)], voting = 'soft')"
   ]
  },
  {
   "cell_type": "code",
   "execution_count": 97,
   "metadata": {},
   "outputs": [
    {
     "data": {
      "text/plain": [
       "VotingClassifier(estimators=[('model1',\n",
       "                              <tensorflow.python.keras.wrappers.scikit_learn.KerasClassifier object at 0x0000023E479B19C8>),\n",
       "                             ('model2',\n",
       "                              <tensorflow.python.keras.wrappers.scikit_learn.KerasClassifier object at 0x0000023E479B1748>),\n",
       "                             ('model3',\n",
       "                              <tensorflow.python.keras.wrappers.scikit_learn.KerasClassifier object at 0x0000023E479B1788>)],\n",
       "                 voting='soft')"
      ]
     },
     "execution_count": 97,
     "metadata": {},
     "output_type": "execute_result"
    }
   ],
   "source": [
    "ensemble_clf.fit(X_train, y_train)"
   ]
  },
  {
   "cell_type": "code",
   "execution_count": 98,
   "metadata": {},
   "outputs": [],
   "source": [
    "y_pred = ensemble_clf.predict(x_test)"
   ]
  },
  {
   "cell_type": "code",
   "execution_count": 99,
   "metadata": {},
   "outputs": [
    {
     "name": "stdout",
     "output_type": "stream",
     "text": [
      "Test accuracy: 0.9627474870545233\n"
     ]
    }
   ],
   "source": [
    "print('Test accuracy:', accuracy_score(y_pred, y_test))"
   ]
  },
  {
   "cell_type": "code",
   "execution_count": 100,
   "metadata": {},
   "outputs": [],
   "source": [
    "predicted = model.predict(X_test_sub)\n",
    "y_pred = predicted.argmax(axis=1)\n",
    "\n",
    "\n",
    "ImageID = np.arange(len(y_pred))+1\n",
    "Out = pd.DataFrame([test['filename'],y_pred]).T\n",
    "Out.rename(columns = {0:'filename', 1:'label'})\n",
    "#Out\n",
    "Out.to_csv('MNIST_Prediction_Ensemble.csv', header =  ['filename', 'label' ], index = None)"
   ]
  },
  {
   "cell_type": "code",
   "execution_count": null,
   "metadata": {},
   "outputs": [],
   "source": []
  },
  {
   "cell_type": "code",
   "execution_count": null,
   "metadata": {},
   "outputs": [],
   "source": []
  },
  {
   "cell_type": "markdown",
   "metadata": {},
   "source": [
    "## Tuning by Learning rate & decaying rate"
   ]
  },
  {
   "cell_type": "code",
   "execution_count": 77,
   "metadata": {},
   "outputs": [],
   "source": [
    "from keras.layers import BatchNormalization"
   ]
  },
  {
   "cell_type": "code",
   "execution_count": 78,
   "metadata": {},
   "outputs": [],
   "source": [
    "# solution\n",
    "epochs = 100\n",
    "learning_rate = 0.01 # initial learning rate\n",
    "decay_rate = 0.01\n",
    "momentum = 0.8\n",
    "\n",
    "# define the optimizer function\n",
    "adam = optimizers.Adam(lr=learning_rate)"
   ]
  },
  {
   "cell_type": "code",
   "execution_count": 79,
   "metadata": {},
   "outputs": [],
   "source": [
    "def mlp_model():\n",
    "    model = Sequential()\n",
    "    \n",
    "    model.add(Dense(50, input_shape = (784, )))\n",
    "    model.add(BatchNormalization())                    # Add Batchnorm layer before Activation\n",
    "    model.add(Activation('elu'))    \n",
    "    model.add(Dense(50))\n",
    "    model.add(BatchNormalization())                    # Add Batchnorm layer before Activation\n",
    "    model.add(Activation('elu'))    \n",
    "    model.add(Dense(50))\n",
    "    model.add(BatchNormalization())                    # Add Batchnorm layer before Activation\n",
    "    model.add(Activation('elu'))    \n",
    "    model.add(Dense(50))\n",
    "    model.add(BatchNormalization())                    # Add Batchnorm layer before Activation\n",
    "    model.add(Activation('elu'))    \n",
    "    model.add(Dense(50))\n",
    "    model.add(BatchNormalization())                    # Add Batchnorm layer before Activation\n",
    "    model.add(Activation('elu'))    \n",
    "    model.add(Dense(10))\n",
    "    model.add(Activation('softmax'))\n",
    "    \n",
    "    #adam = optimizers.Adam(lr = 0.01)\n",
    "    model.compile(optimizer = adam, loss = 'categorical_crossentropy', metrics = ['accuracy'])\n",
    "    \n",
    "    return model\n",
    "\n",
    "def mlp_model_initial():\n",
    "    model = Sequential()\n",
    "    \n",
    "    model.add(Dense(50, input_shape = (784, )))\n",
    "    model.add(Activation('elu'))    \n",
    "    model.add(Dense(50, kernel_initializer = 'he_normal'))\n",
    "    model.add(Activation('elu'))  \n",
    "    model.add(Dense(50, kernel_initializer = 'he_normal'))\n",
    "    model.add(Activation('elu'))    \n",
    "    model.add(Dense(50, kernel_initializer = 'he_normal'))\n",
    "    model.add(Activation('elu'))    \n",
    "    model.add(Dense(10))\n",
    "    model.add(Activation('softmax'))\n",
    "    \n",
    "    #adam = optimizers.Adam(lr = 0.01)\n",
    "    model.compile(optimizer = adam, loss = 'categorical_crossentropy', metrics = ['accuracy'])\n",
    "    \n",
    "    return model"
   ]
  },
  {
   "cell_type": "code",
   "execution_count": 80,
   "metadata": {},
   "outputs": [],
   "source": [
    "model = mlp_model()\n",
    "history = model.fit(X_train, y_train, validation_split = 0.2, epochs = 100, verbose = 0)"
   ]
  },
  {
   "cell_type": "code",
   "execution_count": 81,
   "metadata": {},
   "outputs": [
    {
     "data": {
      "image/png": "[encoded data removed]",
      "text/plain": [
       "<Figure size 432x288 with 1 Axes>"
      ]
     },
     "metadata": {
      "needs_background": "light"
     },
     "output_type": "display_data"
    }
   ],
   "source": [
    "plt.plot(history.history['accuracy'])\n",
    "plt.plot(history.history['val_accuracy'])\n",
    "plt.legend(['training', 'validation'], loc = 'upper left')\n",
    "plt.show()"
   ]
  },
  {
   "cell_type": "code",
   "execution_count": 82,
   "metadata": {},
   "outputs": [
    {
     "name": "stdout",
     "output_type": "stream",
     "text": [
      "1026/1026 [==============================] - 2s 2ms/step - loss: 0.1968 - accuracy: 0.9639\n"
     ]
    }
   ],
   "source": [
    "results = model.evaluate(x_test, y_test)"
   ]
  },
  {
   "cell_type": "code",
   "execution_count": 83,
   "metadata": {},
   "outputs": [
    {
     "name": "stdout",
     "output_type": "stream",
     "text": [
      "Test accuracy:  0.9639354348182678\n"
     ]
    }
   ],
   "source": [
    "print('Test accuracy: ', results[1])"
   ]
  },
  {
   "cell_type": "code",
   "execution_count": 84,
   "metadata": {},
   "outputs": [],
   "source": [
    "predicted = model.predict(X_test_sub)\n",
    "y_pred = predicted.argmax(axis=1)\n",
    "\n",
    "\n",
    "ImageID = np.arange(len(y_pred))+1\n",
    "Out = pd.DataFrame([test['filename'],y_pred]).T\n",
    "Out.rename(columns = {0:'filename', 1:'label'})\n",
    "#Out\n",
    "Out.to_csv('MNIST_Prediction_Batch_Elu_LR_0_1_Adam.csv', header =  ['filename', 'label' ], index = None)"
   ]
  },
  {
   "cell_type": "markdown",
   "metadata": {},
   "source": [
    "#### With Elu & batch - Test accuracy:  0.963965892791748 - AV Accu - 96.7\n",
    "\n",
    "#### With Elu, batch & Initializer - Test accuracy:  0.9626560807228088 - AV Accu - 96.5"
   ]
  },
  {
   "cell_type": "code",
   "execution_count": 88,
   "metadata": {},
   "outputs": [],
   "source": [
    "def mlp_model_Initialization_Test(i):\n",
    "    model = Sequential()\n",
    "    \n",
    "    model.add(Dense(50, input_shape = (784, )))\n",
    "    model.add(BatchNormalization())                    # Add Batchnorm layer before Activation\n",
    "    model.add(Activation('elu'))    \n",
    "    model.add(Dense(50, kernel_initializer = i))\n",
    "    model.add(BatchNormalization())                    # Add Batchnorm layer before Activation\n",
    "    model.add(Activation('elu'))    \n",
    "    model.add(Dense(50, kernel_initializer = i))\n",
    "    model.add(BatchNormalization())                    # Add Batchnorm layer before Activation\n",
    "    model.add(Activation('elu'))    \n",
    "    model.add(Dense(50, kernel_initializer = i))\n",
    "    model.add(BatchNormalization())                    # Add Batchnorm layer before Activation\n",
    "    model.add(Activation('elu'))    \n",
    "    model.add(Dense(50, kernel_initializer = i))\n",
    "    model.add(BatchNormalization())                    # Add Batchnorm layer before Activation\n",
    "    model.add(Activation('elu'))    \n",
    "    model.add(Dense(10))\n",
    "    model.add(Activation('softmax'))\n",
    "    \n",
    "    #adam = optimizers.Adam(lr = 0.01)\n",
    "    model.compile(optimizer = adam, loss = 'categorical_crossentropy', metrics = ['accuracy'])\n",
    "    \n",
    "    return model\n"
   ]
  },
  {
   "cell_type": "code",
   "execution_count": 89,
   "metadata": {},
   "outputs": [
    {
     "name": "stdout",
     "output_type": "stream",
     "text": [
      "1026/1026 [==============================] - 2s 2ms/step - loss: 0.2077 - accuracy: 0.9634\n",
      "Test accuracy:  0.9634480476379395\n",
      "1026/1026 [==============================] - 2s 2ms/step - loss: 0.2505 - accuracy: 0.9568\n",
      "Test accuracy:  0.9568077921867371\n"
     ]
    }
   ],
   "source": [
    "for i in ['he_normal','random_normal','truncated_normal']:\n",
    "    model = mlp_model_Initialization_Test(i)\n",
    "    history = model.fit(X_train, y_train, validation_split = 0.2, epochs = 100, verbose = 0)\n",
    "\n",
    "    results = model.evaluate(x_test, y_test)\n",
    "\n",
    "    print('Test accuracy: ', results[1])"
   ]
  },
  {
   "cell_type": "code",
   "execution_count": 96,
   "metadata": {},
   "outputs": [
    {
     "name": "stdout",
     "output_type": "stream",
     "text": [
      "1026/1026 [==============================] - 2s 2ms/step - loss: 0.2697 - accuracy: 0.9571\n",
      "Test accuracy:  0.9571428298950195\n"
     ]
    }
   ],
   "source": [
    "model = mlp_model_Initialization_Test('truncated_normal')\n",
    "history = model.fit(X_train, y_train, validation_split = 0.2, epochs = 100, verbose = 0)\n",
    "\n",
    "results = model.evaluate(x_test, y_test)\n",
    "\n",
    "print('Test accuracy: ', results[1])"
   ]
  },
  {
   "cell_type": "code",
   "execution_count": 97,
   "metadata": {},
   "outputs": [],
   "source": [
    "predicted = model.predict(X_test_sub)\n",
    "y_pred = predicted.argmax(axis=1)\n",
    "\n",
    "\n",
    "ImageID = np.arange(len(y_pred))+1\n",
    "Out = pd.DataFrame([test['filename'],y_pred]).T\n",
    "Out.rename(columns = {0:'filename', 1:'label'})\n",
    "#Out\n",
    "Out.to_csv('MNIST_Prediction_Batch_Elu_TrucNormalInit_100Epo.csv', header =  ['filename', 'label' ], index = None)"
   ]
  },
  {
   "cell_type": "code",
   "execution_count": 93,
   "metadata": {},
   "outputs": [],
   "source": [
    "from tensorflow.keras import layers\n",
    "from tensorflow.keras import initializers"
   ]
  },
  {
   "cell_type": "code",
   "execution_count": null,
   "metadata": {},
   "outputs": [],
   "source": []
  },
  {
   "cell_type": "code",
   "execution_count": null,
   "metadata": {},
   "outputs": [],
   "source": []
  },
  {
   "cell_type": "code",
   "execution_count": null,
   "metadata": {},
   "outputs": [],
   "source": []
  },
  {
   "cell_type": "code",
   "execution_count": null,
   "metadata": {},
   "outputs": [],
   "source": []
  },
  {
   "cell_type": "code",
   "execution_count": 98,
   "metadata": {},
   "outputs": [],
   "source": [
    "def mlp_model_Initialization_ObjTest(i):\n",
    "    model = Sequential()\n",
    "    \n",
    "    model.add(Dense(50, input_shape = (784, )))\n",
    "    model.add(BatchNormalization())                    # Add Batchnorm layer before Activation\n",
    "    model.add(Activation('elu'))    \n",
    "    model.add(Dense(50, kernel_initializer = i))\n",
    "    model.add(BatchNormalization())                    # Add Batchnorm layer before Activation\n",
    "    model.add(Activation('elu'))    \n",
    "    model.add(Dense(50, kernel_initializer = i))\n",
    "    model.add(BatchNormalization())                    # Add Batchnorm layer before Activation\n",
    "    model.add(Activation('elu'))    \n",
    "    model.add(Dense(50, kernel_initializer = i))\n",
    "    model.add(BatchNormalization())                    # Add Batchnorm layer before Activation\n",
    "    model.add(Activation('elu'))    \n",
    "    model.add(Dense(50, kernel_initializer = i))\n",
    "    model.add(BatchNormalization())                    # Add Batchnorm layer before Activation\n",
    "    model.add(Activation('elu'))    \n",
    "    model.add(Dense(10))\n",
    "    model.add(Activation('softmax'))\n",
    "    \n",
    "    #adam = optimizers.Adam(lr = 0.01)\n",
    "    model.compile(optimizer = adam, loss = 'categorical_crossentropy', metrics = ['accuracy'])\n",
    "    \n",
    "    return model\n"
   ]
  },
  {
   "cell_type": "code",
   "execution_count": 101,
   "metadata": {},
   "outputs": [],
   "source": [
    "import keras\n",
    "\n",
    "initList = [keras.initializers.RandomUniform(minval=-0.05, maxval=0.05, seed=None)\n",
    ",keras.initializers.Ones()\n",
    ",keras.initializers.RandomNormal(mean=0.0, stddev=0.05, seed=None)\n",
    ",keras.initializers.TruncatedNormal(mean=0.0, stddev=0.05, seed=None)\n",
    ",keras.initializers.VarianceScaling(scale=1.0, mode='fan_in', distribution='normal', seed=None)\n",
    ",keras.initializers.Orthogonal(gain=1.0, seed=None)\n",
    ",keras.initializers.lecun_uniform(seed=None)\n",
    ",keras.initializers.glorot_normal(seed=None)\n",
    ",keras.initializers.glorot_uniform(seed=None)\n",
    ",keras.initializers.he_normal(seed=None)\n",
    ",keras.initializers.lecun_normal(seed=None)\n",
    ",keras.initializers.he_uniform(seed=None)]"
   ]
  },
  {
   "cell_type": "code",
   "execution_count": 102,
   "metadata": {},
   "outputs": [
    {
     "name": "stdout",
     "output_type": "stream",
     "text": [
      "1026/1026 [==============================] - 2s 2ms/step - loss: 0.1843 - accuracy: 0.9547\n",
      "Test accuracy:  0.9547365307807922\n",
      "1026/1026 [==============================] - 2s 2ms/step - loss: 0.4724 - accuracy: 0.8742\n",
      "Test accuracy:  0.8742004036903381\n",
      "1026/1026 [==============================] - 2s 2ms/step - loss: 0.1759 - accuracy: 0.9555\n",
      "Test accuracy:  0.9555284976959229\n",
      "1026/1026 [==============================] - 2s 2ms/step - loss: 0.1861 - accuracy: 0.9528\n",
      "Test accuracy:  0.9528175592422485\n",
      "1026/1026 [==============================] - 2s 2ms/step - loss: 0.1699 - accuracy: 0.9580\n",
      "Test accuracy:  0.9579652547836304\n",
      "1026/1026 [==============================] - 2s 2ms/step - loss: 0.1953 - accuracy: 0.9512\n",
      "Test accuracy:  0.9512031674385071\n",
      "1026/1026 [==============================] - 2s 2ms/step - loss: 0.1644 - accuracy: 0.9580\n",
      "Test accuracy:  0.9580261707305908\n",
      "1026/1026 [==============================] - 2s 2ms/step - loss: 0.1998 - accuracy: 0.9521\n",
      "Test accuracy:  0.9521169662475586\n",
      "1026/1026 [==============================] - 2s 2ms/step - loss: 0.1989 - accuracy: 0.9526\n",
      "Test accuracy:  0.952573835849762\n",
      "1026/1026 [==============================] - 2s 2ms/step - loss: 0.1837 - accuracy: 0.9557\n",
      "Test accuracy:  0.955680787563324\n",
      "1026/1026 [==============================] - 2s 2ms/step - loss: 0.1768 - accuracy: 0.9576\n",
      "Test accuracy:  0.9576302170753479\n",
      "1026/1026 [==============================] - 2s 2ms/step - loss: 0.1753 - accuracy: 0.9560\n",
      "Test accuracy:  0.9559853672981262\n"
     ]
    }
   ],
   "source": [
    "for i in initList:\n",
    "    model = mlp_model_Initialization_ObjTest(i)\n",
    "    history = model.fit(X_train, y_train, validation_split = 0.2, epochs = 20, verbose = 0)\n",
    "\n",
    "    results = model.evaluate(x_test, y_test)\n",
    "\n",
    "    print('Test accuracy: ', results[1])"
   ]
  },
  {
   "cell_type": "code",
   "execution_count": 103,
   "metadata": {},
   "outputs": [
    {
     "name": "stdout",
     "output_type": "stream",
     "text": [
      "Test accuracy with Init: <tensorflow.python.keras.initializers.initializers_v2.HeUniform object at 0x0000021E87B9BFC8>  is 0.9559853672981262\n"
     ]
    }
   ],
   "source": [
    "print('Test accuracy with Init:', i.distribution,' is', results[1])"
   ]
  },
  {
   "cell_type": "code",
   "execution_count": 108,
   "metadata": {},
   "outputs": [
    {
     "name": "stdout",
     "output_type": "stream",
     "text": [
      "1026/1026 [==============================] - 2s 2ms/step - loss: 0.2060 - accuracy: 0.9620\n",
      "Accuracy-Init: <tensorflow.python.keras.initializers.initializers_v2.RandomUniform object at 0x0000021E87B9B1C8>  is 0.9620164632797241\n",
      "1026/1026 [==============================] - 2s 2ms/step - loss: 0.3829 - accuracy: 0.9219\n",
      "Accuracy-Init: <tensorflow.python.keras.initializers.initializers_v2.Ones object at 0x0000021E87B9B848>  is 0.921870231628418\n",
      "1026/1026 [==============================] - 2s 2ms/step - loss: 0.2337 - accuracy: 0.9611\n",
      "Accuracy-Init: <tensorflow.python.keras.initializers.initializers_v2.RandomNormal object at 0x0000021E87B9B888>  is 0.9610722064971924\n",
      "1026/1026 [==============================] - 1s 938us/step - loss: 0.2251 - accuracy: 0.9634\n",
      "Accuracy-Init: <tensorflow.python.keras.initializers.initializers_v2.TruncatedNormal object at 0x0000021E87B9BDC8>  is 0.9634480476379395\n",
      "1026/1026 [==============================] - 1s 941us/step - loss: 0.2090 - accuracy: 0.9623\n",
      "Accuracy-Init: <tensorflow.python.keras.initializers.initializers_v2.VarianceScaling object at 0x0000021E87B9B208>  is 0.9623210430145264\n",
      "1026/1026 [==============================] - 1s 986us/step - loss: 0.2551 - accuracy: 0.9567\n",
      "Accuracy-Init: <tensorflow.python.keras.initializers.initializers_v2.Orthogonal object at 0x0000021E87B9B7C8>  is 0.9567164182662964\n",
      "1026/1026 [==============================] - 1s 1ms/step - loss: 0.2420 - accuracy: 0.9596\n",
      "Accuracy-Init: <tensorflow.python.keras.initializers.initializers_v2.LecunUniform object at 0x0000021E87B9B5C8>  is 0.9595796465873718\n",
      "1026/1026 [==============================] - 1s 962us/step - loss: 0.2231 - accuracy: 0.96190s - loss: 0.2244 - accuracy: 0.96\n",
      "Accuracy-Init: <tensorflow.python.keras.initializers.initializers_v2.GlorotNormal object at 0x0000021E87B9B8C8>  is 0.9619250893592834\n",
      "1026/1026 [==============================] - 1s 946us/step - loss: 0.2281 - accuracy: 0.9618\n",
      "Accuracy-Init: <tensorflow.python.keras.initializers.initializers_v2.GlorotUniform object at 0x0000021E87B9B908>  is 0.9617727398872375\n",
      "1026/1026 [==============================] - 1s 969us/step - loss: 0.2084 - accuracy: 0.9642\n",
      "Accuracy-Init: <tensorflow.python.keras.initializers.initializers_v2.HeNormal object at 0x0000021E87B9BC48>  is 0.9642095565795898\n",
      "1026/1026 [==============================] - 1s 971us/step - loss: 0.2095 - accuracy: 0.9633\n",
      "Accuracy-Init: <tensorflow.python.keras.initializers.initializers_v2.LecunNormal object at 0x0000021E87B9BA48>  is 0.9632957577705383\n",
      "1026/1026 [==============================] - 1s 970us/step - loss: 0.2066 - accuracy: 0.9627\n",
      "Accuracy-Init: <tensorflow.python.keras.initializers.initializers_v2.HeUniform object at 0x0000021E87B9BFC8>  is 0.9626560807228088\n"
     ]
    }
   ],
   "source": [
    "for i in initList:\n",
    "    model = mlp_model_Initialization_ObjTest(i)\n",
    "    history = model.fit(X_train, y_train, validation_split = 0.2, epochs = 100, verbose = 0)\n",
    "\n",
    "    results = model.evaluate(x_test, y_test)\n",
    "\n",
    "    print('Accuracy-Init:', i,' is', results[1])"
   ]
  },
  {
   "cell_type": "code",
   "execution_count": null,
   "metadata": {},
   "outputs": [],
   "source": []
  },
  {
   "cell_type": "code",
   "execution_count": null,
   "metadata": {},
   "outputs": [],
   "source": []
  },
  {
   "cell_type": "code",
   "execution_count": null,
   "metadata": {},
   "outputs": [],
   "source": []
  },
  {
   "cell_type": "code",
   "execution_count": null,
   "metadata": {},
   "outputs": [],
   "source": []
  },
  {
   "cell_type": "code",
   "execution_count": null,
   "metadata": {},
   "outputs": [],
   "source": []
  },
  {
   "cell_type": "code",
   "execution_count": null,
   "metadata": {},
   "outputs": [],
   "source": []
  },
  {
   "cell_type": "code",
   "execution_count": null,
   "metadata": {},
   "outputs": [],
   "source": []
  },
  {
   "cell_type": "markdown",
   "metadata": {},
   "source": [
    "## Tune Optimizers"
   ]
  },
  {
   "cell_type": "code",
   "execution_count": 117,
   "metadata": {},
   "outputs": [],
   "source": [
    "adam = optimizers.Adam(learning_rate=0.01,\n",
    "    beta_1=0.9,\n",
    "    beta_2=0.999,\n",
    "    epsilon=1e-07,\n",
    "    amsgrad=False,\n",
    "    name='Adam')\n",
    "sgd = optimizers.SGD(learning_rate=0.01,momentum=0.0,    nesterov=False,    name='SGD')\n",
    "momentum = optimizers.SGD(learning_rate=0.01,\n",
    "    momentum=0.8,\n",
    "    nesterov=False,\n",
    "    name='SGD-Momentum')\n",
    "opts = [adam, sgd, momentum]"
   ]
  },
  {
   "cell_type": "code",
   "execution_count": 121,
   "metadata": {},
   "outputs": [],
   "source": [
    "def mlp_model_Optimization_Test(i):\n",
    "    model = Sequential()\n",
    "    \n",
    "    model.add(Dense(50, input_shape = (784, )))\n",
    "    model.add(BatchNormalization())                    # Add Batchnorm layer before Activation\n",
    "    model.add(Activation('elu'))    \n",
    "    model.add(Dense(50, kernel_initializer = 'he_normal'))\n",
    "    model.add(BatchNormalization())                    # Add Batchnorm layer before Activation\n",
    "    model.add(Activation('elu'))    \n",
    "    model.add(Dense(50, kernel_initializer = 'he_normal'))\n",
    "    model.add(BatchNormalization())                    # Add Batchnorm layer before Activation\n",
    "    model.add(Activation('elu'))    \n",
    "    model.add(Dense(50, kernel_initializer = 'he_normal'))\n",
    "    model.add(BatchNormalization())                    # Add Batchnorm layer before Activation\n",
    "    model.add(Activation('elu'))    \n",
    "    model.add(Dense(50, kernel_initializer = 'he_normal'))\n",
    "    model.add(BatchNormalization())                    # Add Batchnorm layer before Activation\n",
    "    model.add(Activation('elu'))    \n",
    "    model.add(Dense(10))\n",
    "    model.add(Activation('softmax'))\n",
    "    \n",
    "    #adam = optimizers.Adam(lr = 0.01)\n",
    "    model.compile(optimizer = i, loss = 'categorical_crossentropy', metrics = ['accuracy'])\n",
    "    \n",
    "    return model"
   ]
  },
  {
   "cell_type": "code",
   "execution_count": 122,
   "metadata": {},
   "outputs": [
    {
     "name": "stdout",
     "output_type": "stream",
     "text": [
      "1026/1026 [==============================] - 2s 2ms/step - loss: 0.2036 - accuracy: 0.9647\n",
      "Accuracy with: <tensorflow.python.keras.optimizer_v2.adam.Adam object at 0x0000021EA06C3948>  is 0.964666485786438\n",
      "1026/1026 [==============================] - 2s 2ms/step - loss: 0.1776 - accuracy: 0.9559\n",
      "Accuracy with: <tensorflow.python.keras.optimizer_v2.gradient_descent.SGD object at 0x0000021EA06C3848>  is 0.9559244513511658\n",
      "1026/1026 [==============================] - 2s 2ms/step - loss: 0.1848 - accuracy: 0.9612\n",
      "Accuracy with: <tensorflow.python.keras.optimizer_v2.gradient_descent.SGD object at 0x0000021EA06C3DC8>  is 0.9612244963645935\n"
     ]
    }
   ],
   "source": [
    "for i in opts:\n",
    "    model = mlp_model_Optimization_Test(i)\n",
    "    history = model.fit(X_train, y_train, validation_split = 0.2, epochs = 100, verbose = 0)\n",
    "\n",
    "    results = model.evaluate(x_test, y_test)\n",
    "\n",
    "    print('Accuracy with:', i,' is', results[1])"
   ]
  },
  {
   "cell_type": "code",
   "execution_count": 126,
   "metadata": {},
   "outputs": [
    {
     "name": "stdout",
     "output_type": "stream",
     "text": [
      "1026/1026 [==============================] - 2s 2ms/step - loss: 0.1726 - accuracy: 0.9568\n",
      "Accuracy with: <tensorflow.python.keras.optimizer_v2.gradient_descent.SGD object at 0x0000021EA06C3DC8>  is 0.9568077921867371\n"
     ]
    }
   ],
   "source": [
    "    model = mlp_model_Optimization_Test(opts[0])\n",
    "    history = model.fit(X_train, y_train, validation_split = 0.2, epochs = 100, verbose = 0)\n",
    "\n",
    "    results = model.evaluate(x_test, y_test)\n",
    "\n",
    "    print('Accuracy with:', i,' is', results[1])"
   ]
  },
  {
   "cell_type": "code",
   "execution_count": null,
   "metadata": {},
   "outputs": [],
   "source": [
    "predicted = model.predict(X_test_sub)\n",
    "y_pred = predicted.argmax(axis=1)\n",
    "\n",
    "\n",
    "ImageID = np.arange(len(y_pred))+1\n",
    "Out = pd.DataFrame([test['filename'],y_pred]).T\n",
    "Out.rename(columns = {0:'filename', 1:'label'})\n",
    "#Out\n",
    "Out.to_csv('MNIST_Prediction_Batch_Elu_OptimizerAdam.csv', header =  ['filename', 'label' ], index = None)"
   ]
  },
  {
   "cell_type": "code",
   "execution_count": null,
   "metadata": {},
   "outputs": [],
   "source": [
    "    model = mlp_model_Optimization_Test(opts[1])\n",
    "    history = model.fit(X_train, y_train, validation_split = 0.2, epochs = 100, verbose = 0)\n",
    "\n",
    "    results = model.evaluate(x_test, y_test)\n",
    "\n",
    "    print('Accuracy with:', i,' is', results[1])"
   ]
  },
  {
   "cell_type": "code",
   "execution_count": 127,
   "metadata": {},
   "outputs": [],
   "source": [
    "predicted = model.predict(X_test_sub)\n",
    "y_pred = predicted.argmax(axis=1)\n",
    "\n",
    "\n",
    "ImageID = np.arange(len(y_pred))+1\n",
    "Out = pd.DataFrame([test['filename'],y_pred]).T\n",
    "Out.rename(columns = {0:'filename', 1:'label'})\n",
    "#Out\n",
    "Out.to_csv('MNIST_Prediction_Batch_Elu_OptimizerSGD.csv', header =  ['filename', 'label' ], index = None)"
   ]
  },
  {
   "cell_type": "code",
   "execution_count": 128,
   "metadata": {},
   "outputs": [
    {
     "name": "stdout",
     "output_type": "stream",
     "text": [
      "1026/1026 [==============================] - 2s 2ms/step - loss: 0.1637 - accuracy: 0.9640\n",
      "Accuracy with: <tensorflow.python.keras.optimizer_v2.gradient_descent.SGD object at 0x0000021EA06C3DC8>  is 0.9639963507652283\n"
     ]
    }
   ],
   "source": [
    "    model = mlp_model_Optimization_Test(opts[2])\n",
    "    history = model.fit(X_train, y_train, validation_split = 0.2, epochs = 100, verbose = 0)\n",
    "\n",
    "    results = model.evaluate(x_test, y_test)\n",
    "\n",
    "    print('Accuracy with:', i,' is', results[1])"
   ]
  },
  {
   "cell_type": "code",
   "execution_count": 129,
   "metadata": {},
   "outputs": [],
   "source": [
    "predicted = model.predict(X_test_sub)\n",
    "y_pred = predicted.argmax(axis=1)\n",
    "\n",
    "\n",
    "ImageID = np.arange(len(y_pred))+1\n",
    "Out = pd.DataFrame([test['filename'],y_pred]).T\n",
    "Out.rename(columns = {0:'filename', 1:'label'})\n",
    "#Out\n",
    "Out.to_csv('MNIST_Prediction_Batch_Elu_OptimizerMomentum.csv', header =  ['filename', 'label' ], index = None)"
   ]
  },
  {
   "cell_type": "code",
   "execution_count": null,
   "metadata": {},
   "outputs": [],
   "source": []
  },
  {
   "cell_type": "code",
   "execution_count": null,
   "metadata": {},
   "outputs": [],
   "source": []
  },
  {
   "cell_type": "markdown",
   "metadata": {},
   "source": [
    "## Tune Activation"
   ]
  },
  {
   "cell_type": "raw",
   "metadata": {},
   "source": [
    "def activation(layer, layer_in, layerId, tensor=True):\n",
    "    out = {}\n",
    "    if (layer['info']['type'] == 'ReLU'):\n",
    "        if ('negative_slope' in layer['params'] and layer['params']['negative_slope'] != 0):\n",
    "            out[layerId] = LeakyReLU(alpha=layer['params']['negative_slope'])\n",
    "        else:\n",
    "            out[layerId] = Activation('relu')\n",
    "    elif (layer['info']['type'] == 'PReLU'):\n",
    "        out[layerId] = PReLU()\n",
    "    elif (layer['info']['type'] == 'ELU'):\n",
    "        out[layerId] = ELU(alpha=layer['params']['alpha'])\n",
    "    elif (layer['info']['type'] == 'ThresholdedReLU'):\n",
    "        out[layerId] = ThresholdedReLU(theta=layer['params']['theta'])\n",
    "    elif (layer['info']['type'] == 'Sigmoid'):\n",
    "        out[layerId] = Activation('sigmoid')\n",
    "    elif (layer['info']['type'] == 'TanH'):\n",
    "        out[layerId] = Activation('tanh')\n",
    "    elif (layer['info']['type'] == 'Softmax'):\n",
    "        out[layerId] = Activation('softmax')\n",
    "    elif (layer['info']['type'] == 'SELU'):\n",
    "        out[layerId] = Activation('selu')\n",
    "    elif (layer['info']['type'] == 'Softplus'):\n",
    "        out[layerId] = Activation('softplus')\n",
    "    elif (layer['info']['type'] == 'Softsign'):\n",
    "        out[layerId] = Activation('softsign')\n",
    "    elif (layer['info']['type'] == 'HardSigmoid'):\n",
    "        out[layerId] = Activation('hard_sigmoid')\n",
    "    elif (layer['info']['type'] == 'Linear'):\n",
    "        out[layerId] = Activation('linear')\n",
    "    if tensor:\n",
    "        out[layerId] = out[layerId](*layer_in)\n",
    "    return out "
   ]
  },
  {
   "cell_type": "code",
   "execution_count": 130,
   "metadata": {},
   "outputs": [],
   "source": [
    "def mlp_model_Activation_Test(i):\n",
    "    model = Sequential()\n",
    "    \n",
    "    model.add(Dense(50, input_shape = (784, )))\n",
    "    model.add(BatchNormalization())                    # Add Batchnorm layer before Activation\n",
    "    model.add(Activation(i))    \n",
    "    model.add(Dense(50, kernel_initializer = 'he_normal'))\n",
    "    model.add(BatchNormalization())                    # Add Batchnorm layer before Activation\n",
    "    model.add(Activation(i))    \n",
    "    model.add(Dense(50, kernel_initializer = 'he_normal'))\n",
    "    model.add(BatchNormalization())                    # Add Batchnorm layer before Activation\n",
    "    model.add(Activation(i))    \n",
    "    model.add(Dense(50, kernel_initializer = 'he_normal'))\n",
    "    model.add(BatchNormalization())                    # Add Batchnorm layer before Activation\n",
    "    model.add(Activation(i))    \n",
    "    model.add(Dense(50, kernel_initializer = 'he_normal'))\n",
    "    model.add(BatchNormalization())                    # Add Batchnorm layer before Activation\n",
    "    model.add(Activation(i))    \n",
    "    model.add(Dense(10))\n",
    "    model.add(Activation('softmax'))\n",
    "    \n",
    "    adam = optimizers.Adam(learning_rate=0.01,beta_1=0.9,beta_2=0.999,epsilon=1e-07,amsgrad=False,name='Adam')\n",
    "    model.compile(optimizer = adam, loss = 'categorical_crossentropy', metrics = ['accuracy'])\n",
    "    \n",
    "    return model"
   ]
  },
  {
   "cell_type": "code",
   "execution_count": null,
   "metadata": {},
   "outputs": [],
   "source": [
    "ActList = ['relu']"
   ]
  },
  {
   "cell_type": "code",
   "execution_count": 132,
   "metadata": {},
   "outputs": [
    {
     "name": "stdout",
     "output_type": "stream",
     "text": [
      "1026/1026 [==============================] - 2s 2ms/step - loss: 0.2208 - accuracy: 0.9628\n",
      "Accuracy with: <tensorflow.python.keras.optimizer_v2.gradient_descent.SGD object at 0x0000021EA06C3DC8>  is 0.962838888168335\n"
     ]
    }
   ],
   "source": [
    "model = mlp_model_Activation_Test('selu')\n",
    "history = model.fit(X_train, y_train, validation_split = 0.2, epochs = 100, verbose = 0)\n",
    "\n",
    "results = model.evaluate(x_test, y_test)\n",
    "\n",
    "print('Accuracy with:', i,' is', results[1])"
   ]
  },
  {
   "cell_type": "code",
   "execution_count": null,
   "metadata": {},
   "outputs": [],
   "source": []
  },
  {
   "cell_type": "code",
   "execution_count": null,
   "metadata": {},
   "outputs": [],
   "source": []
  }
 ],
 "metadata": {
  "kernelspec": {
   "display_name": "TF210GPUJupyter",
   "language": "python",
   "name": "tfgpu"
  },
  "language_info": {
   "codemirror_mode": {
    "name": "ipython",
    "version": 3
   },
   "file_extension": ".py",
   "mimetype": "text/x-python",
   "name": "python",
   "nbconvert_exporter": "python",
   "pygments_lexer": "ipython3",
   "version": "3.7.9"
  }
 },
 "nbformat": 4,
 "nbformat_minor": 2
}
