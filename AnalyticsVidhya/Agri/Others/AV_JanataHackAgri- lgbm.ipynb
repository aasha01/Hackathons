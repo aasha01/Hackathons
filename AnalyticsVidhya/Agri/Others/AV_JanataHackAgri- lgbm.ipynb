{
 "cells": [
  {
   "cell_type": "code",
   "execution_count": 8,
   "metadata": {
    "colab": {},
    "colab_type": "code",
    "id": "bpMHYdp2Jrqg"
   },
   "outputs": [],
   "source": [
    "import lightgbm as lgb\n",
    "import pandas as pd\n",
    "import numpy as np\n",
    "import os\n",
    "from matplotlib import pyplot as plt\n",
    "from sklearn import preprocessing\n",
    "from sklearn.metrics import mean_squared_log_error, mean_squared_error\n",
    "from sklearn.model_selection import train_test_split\n",
    "from sklearn.metrics import roc_auc_score\n",
    "from sklearn.metrics import accuracy_score\n",
    "from sklearn.metrics import log_loss\n",
    "from sklearn.metrics import classification_report\n",
    "import seaborn as sns\n",
    "from collections import Counter\n",
    "sns.set_style('whitegrid')\n",
    "plt.rcParams['figure.figsize'] = (12, 10)\n",
    "# https://stackoverflow.com/questions/4150171/how-to-create-a-density-plot-in-matplotlib"
   ]
  },
  {
   "cell_type": "code",
   "execution_count": 9,
   "metadata": {
    "colab": {},
    "colab_type": "code",
    "id": "E5hF7IniJrqr"
   },
   "outputs": [],
   "source": [
    "df_train = pd.read_csv('train.csv', header=0)\n",
    "df_test = pd.read_csv('test.csv', header=0)\n",
    "submission = pd.read_csv('sample_submission.csv', header=0)"
   ]
  },
  {
   "cell_type": "code",
   "execution_count": 10,
   "metadata": {},
   "outputs": [
    {
     "data": {
      "text/plain": [
       "0    74238\n",
       "1    12307\n",
       "2     2313\n",
       "Name: Crop_Damage, dtype: int64"
      ]
     },
     "execution_count": 10,
     "metadata": {},
     "output_type": "execute_result"
    }
   ],
   "source": [
    "df_train.head()\n",
    "df_train['Crop_Damage'].value_counts()"
   ]
  },
  {
   "cell_type": "code",
   "execution_count": 11,
   "metadata": {
    "colab": {},
    "colab_type": "code",
    "id": "cG0jvqdwJrq4",
    "outputId": "331f9ac7-a9ec-4d83-853c-85038d7154d5"
   },
   "outputs": [
    {
     "name": "stdout",
     "output_type": "stream",
     "text": [
      "(88858, 11) (59310, 11)\n",
      "(148168, 11)\n"
     ]
    }
   ],
   "source": [
    "df_train['train_flag'] = 1\n",
    "df_test['train_flag'] = 0\n",
    "df_test['Crop_Damage'] = 0\n",
    "print(df_train.shape, df_test.shape)\n",
    "\n",
    "df_data = pd.concat((df_train, df_test))\n",
    "print(df_data.shape)"
   ]
  },
  {
   "cell_type": "code",
   "execution_count": 12,
   "metadata": {
    "scrolled": true
   },
   "outputs": [
    {
     "data": {
      "text/html": [
       "<div>\n",
       "<style scoped>\n",
       "    .dataframe tbody tr th:only-of-type {\n",
       "        vertical-align: middle;\n",
       "    }\n",
       "\n",
       "    .dataframe tbody tr th {\n",
       "        vertical-align: top;\n",
       "    }\n",
       "\n",
       "    .dataframe thead th {\n",
       "        text-align: right;\n",
       "    }\n",
       "</style>\n",
       "<table border=\"1\" class=\"dataframe\">\n",
       "  <thead>\n",
       "    <tr style=\"text-align: right;\">\n",
       "      <th></th>\n",
       "      <th>ID</th>\n",
       "      <th>Estimated_Insects_Count</th>\n",
       "      <th>Crop_Type</th>\n",
       "      <th>Soil_Type</th>\n",
       "      <th>Pesticide_Use_Category</th>\n",
       "      <th>Number_Doses_Week</th>\n",
       "      <th>Number_Weeks_Used</th>\n",
       "      <th>Number_Weeks_Quit</th>\n",
       "      <th>Season</th>\n",
       "      <th>Crop_Damage</th>\n",
       "      <th>train_flag</th>\n",
       "    </tr>\n",
       "  </thead>\n",
       "  <tbody>\n",
       "    <tr>\n",
       "      <th>0</th>\n",
       "      <td>F00000001</td>\n",
       "      <td>188</td>\n",
       "      <td>1</td>\n",
       "      <td>0</td>\n",
       "      <td>1</td>\n",
       "      <td>0</td>\n",
       "      <td>0.0</td>\n",
       "      <td>0</td>\n",
       "      <td>1</td>\n",
       "      <td>0</td>\n",
       "      <td>1</td>\n",
       "    </tr>\n",
       "    <tr>\n",
       "      <th>1</th>\n",
       "      <td>F00000003</td>\n",
       "      <td>209</td>\n",
       "      <td>1</td>\n",
       "      <td>0</td>\n",
       "      <td>1</td>\n",
       "      <td>0</td>\n",
       "      <td>0.0</td>\n",
       "      <td>0</td>\n",
       "      <td>2</td>\n",
       "      <td>1</td>\n",
       "      <td>1</td>\n",
       "    </tr>\n",
       "    <tr>\n",
       "      <th>2</th>\n",
       "      <td>F00000004</td>\n",
       "      <td>257</td>\n",
       "      <td>1</td>\n",
       "      <td>0</td>\n",
       "      <td>1</td>\n",
       "      <td>0</td>\n",
       "      <td>0.0</td>\n",
       "      <td>0</td>\n",
       "      <td>2</td>\n",
       "      <td>1</td>\n",
       "      <td>1</td>\n",
       "    </tr>\n",
       "    <tr>\n",
       "      <th>3</th>\n",
       "      <td>F00000005</td>\n",
       "      <td>257</td>\n",
       "      <td>1</td>\n",
       "      <td>1</td>\n",
       "      <td>1</td>\n",
       "      <td>0</td>\n",
       "      <td>0.0</td>\n",
       "      <td>0</td>\n",
       "      <td>2</td>\n",
       "      <td>1</td>\n",
       "      <td>1</td>\n",
       "    </tr>\n",
       "    <tr>\n",
       "      <th>4</th>\n",
       "      <td>F00000006</td>\n",
       "      <td>342</td>\n",
       "      <td>1</td>\n",
       "      <td>0</td>\n",
       "      <td>1</td>\n",
       "      <td>0</td>\n",
       "      <td>0.0</td>\n",
       "      <td>0</td>\n",
       "      <td>2</td>\n",
       "      <td>1</td>\n",
       "      <td>1</td>\n",
       "    </tr>\n",
       "  </tbody>\n",
       "</table>\n",
       "</div>"
      ],
      "text/plain": [
       "          ID  Estimated_Insects_Count  Crop_Type  Soil_Type  \\\n",
       "0  F00000001                      188          1          0   \n",
       "1  F00000003                      209          1          0   \n",
       "2  F00000004                      257          1          0   \n",
       "3  F00000005                      257          1          1   \n",
       "4  F00000006                      342          1          0   \n",
       "\n",
       "   Pesticide_Use_Category  Number_Doses_Week  Number_Weeks_Used  \\\n",
       "0                       1                  0                0.0   \n",
       "1                       1                  0                0.0   \n",
       "2                       1                  0                0.0   \n",
       "3                       1                  0                0.0   \n",
       "4                       1                  0                0.0   \n",
       "\n",
       "   Number_Weeks_Quit  Season  Crop_Damage  train_flag  \n",
       "0                  0       1            0           1  \n",
       "1                  0       2            1           1  \n",
       "2                  0       2            1           1  \n",
       "3                  0       2            1           1  \n",
       "4                  0       2            1           1  "
      ]
     },
     "execution_count": 12,
     "metadata": {},
     "output_type": "execute_result"
    }
   ],
   "source": [
    "df_train.head()"
   ]
  },
  {
   "cell_type": "code",
   "execution_count": 13,
   "metadata": {
    "colab": {},
    "colab_type": "code",
    "id": "DYBm80FtJrq_",
    "outputId": "8f258bb3-9734-45e1-8d0b-07d3bf4244cd"
   },
   "outputs": [
    {
     "name": "stdout",
     "output_type": "stream",
     "text": [
      "['Estimated_Insects_Count', 'Crop_Type', 'Soil_Type', 'Pesticide_Use_Category', 'Number_Doses_Week', 'Number_Weeks_Used', 'Number_Weeks_Quit', 'Season']\n"
     ]
    }
   ],
   "source": [
    "feature_cols = df_train.columns.tolist()\n",
    "feature_cols.remove('ID')\n",
    "feature_cols.remove('Crop_Damage')\n",
    "feature_cols.remove('train_flag')\n",
    "label_col = 'Crop_Damage'\n",
    "print(feature_cols)"
   ]
  },
  {
   "cell_type": "code",
   "execution_count": 14,
   "metadata": {
    "colab": {},
    "colab_type": "code",
    "id": "HPnu2l_WJrrH"
   },
   "outputs": [],
   "source": [
    "df_data['ID_value'] = df_data['ID'].apply(lambda x: x.strip('F')).astype('int')"
   ]
  },
  {
   "cell_type": "code",
   "execution_count": 15,
   "metadata": {
    "colab": {},
    "colab_type": "code",
    "id": "mNZ0XwlKJrrL"
   },
   "outputs": [],
   "source": [
    "df_data = df_data.sort_values(['ID_value'])"
   ]
  },
  {
   "cell_type": "code",
   "execution_count": 16,
   "metadata": {
    "colab": {},
    "colab_type": "code",
    "id": "fonj_2qOJrrP"
   },
   "outputs": [],
   "source": [
    "df_data = df_data.reset_index(drop=True)"
   ]
  },
  {
   "cell_type": "code",
   "execution_count": 61,
   "metadata": {},
   "outputs": [
    {
     "data": {
      "text/plain": [
       "array([-999., -999.,    0., ...,    0.,    0.,    0.])"
      ]
     },
     "execution_count": 61,
     "metadata": {},
     "output_type": "execute_result"
    }
   ],
   "source": [
    "df_data.sort_values(['ID_value']).groupby(['Soil_Type'])['Crop_Damage'].apply(lambda x: x.shift().rolling(5, min_periods=1).mean()).fillna(-999).values"
   ]
  },
  {
   "cell_type": "code",
   "execution_count": 17,
   "metadata": {},
   "outputs": [
    {
     "data": {
      "text/html": [
       "<div>\n",
       "<style scoped>\n",
       "    .dataframe tbody tr th:only-of-type {\n",
       "        vertical-align: middle;\n",
       "    }\n",
       "\n",
       "    .dataframe tbody tr th {\n",
       "        vertical-align: top;\n",
       "    }\n",
       "\n",
       "    .dataframe thead th {\n",
       "        text-align: right;\n",
       "    }\n",
       "</style>\n",
       "<table border=\"1\" class=\"dataframe\">\n",
       "  <thead>\n",
       "    <tr style=\"text-align: right;\">\n",
       "      <th></th>\n",
       "      <th>ID_value</th>\n",
       "      <th>Season</th>\n",
       "    </tr>\n",
       "  </thead>\n",
       "  <tbody>\n",
       "    <tr>\n",
       "      <th>0</th>\n",
       "      <td>1</td>\n",
       "      <td>1</td>\n",
       "    </tr>\n",
       "    <tr>\n",
       "      <th>1</th>\n",
       "      <td>2</td>\n",
       "      <td>2</td>\n",
       "    </tr>\n",
       "    <tr>\n",
       "      <th>2</th>\n",
       "      <td>3</td>\n",
       "      <td>2</td>\n",
       "    </tr>\n",
       "    <tr>\n",
       "      <th>3</th>\n",
       "      <td>4</td>\n",
       "      <td>2</td>\n",
       "    </tr>\n",
       "    <tr>\n",
       "      <th>4</th>\n",
       "      <td>5</td>\n",
       "      <td>2</td>\n",
       "    </tr>\n",
       "    <tr>\n",
       "      <th>5</th>\n",
       "      <td>6</td>\n",
       "      <td>2</td>\n",
       "    </tr>\n",
       "    <tr>\n",
       "      <th>6</th>\n",
       "      <td>7</td>\n",
       "      <td>2</td>\n",
       "    </tr>\n",
       "    <tr>\n",
       "      <th>7</th>\n",
       "      <td>8</td>\n",
       "      <td>2</td>\n",
       "    </tr>\n",
       "    <tr>\n",
       "      <th>8</th>\n",
       "      <td>9</td>\n",
       "      <td>2</td>\n",
       "    </tr>\n",
       "    <tr>\n",
       "      <th>9</th>\n",
       "      <td>10</td>\n",
       "      <td>1</td>\n",
       "    </tr>\n",
       "    <tr>\n",
       "      <th>10</th>\n",
       "      <td>11</td>\n",
       "      <td>2</td>\n",
       "    </tr>\n",
       "    <tr>\n",
       "      <th>11</th>\n",
       "      <td>12</td>\n",
       "      <td>2</td>\n",
       "    </tr>\n",
       "    <tr>\n",
       "      <th>12</th>\n",
       "      <td>13</td>\n",
       "      <td>2</td>\n",
       "    </tr>\n",
       "    <tr>\n",
       "      <th>13</th>\n",
       "      <td>14</td>\n",
       "      <td>1</td>\n",
       "    </tr>\n",
       "    <tr>\n",
       "      <th>14</th>\n",
       "      <td>15</td>\n",
       "      <td>2</td>\n",
       "    </tr>\n",
       "    <tr>\n",
       "      <th>15</th>\n",
       "      <td>16</td>\n",
       "      <td>3</td>\n",
       "    </tr>\n",
       "    <tr>\n",
       "      <th>16</th>\n",
       "      <td>19</td>\n",
       "      <td>1</td>\n",
       "    </tr>\n",
       "    <tr>\n",
       "      <th>17</th>\n",
       "      <td>20</td>\n",
       "      <td>1</td>\n",
       "    </tr>\n",
       "    <tr>\n",
       "      <th>18</th>\n",
       "      <td>21</td>\n",
       "      <td>3</td>\n",
       "    </tr>\n",
       "    <tr>\n",
       "      <th>19</th>\n",
       "      <td>23</td>\n",
       "      <td>1</td>\n",
       "    </tr>\n",
       "  </tbody>\n",
       "</table>\n",
       "</div>"
      ],
      "text/plain": [
       "    ID_value  Season\n",
       "0          1       1\n",
       "1          2       2\n",
       "2          3       2\n",
       "3          4       2\n",
       "4          5       2\n",
       "5          6       2\n",
       "6          7       2\n",
       "7          8       2\n",
       "8          9       2\n",
       "9         10       1\n",
       "10        11       2\n",
       "11        12       2\n",
       "12        13       2\n",
       "13        14       1\n",
       "14        15       2\n",
       "15        16       3\n",
       "16        19       1\n",
       "17        20       1\n",
       "18        21       3\n",
       "19        23       1"
      ]
     },
     "execution_count": 17,
     "metadata": {},
     "output_type": "execute_result"
    }
   ],
   "source": [
    "df_data.sort_values(['ID_value'])[['ID_value','Season']].head(20)"
   ]
  },
  {
   "cell_type": "code",
   "execution_count": 62,
   "metadata": {
    "colab": {},
    "colab_type": "code",
    "id": "IPN4x1LOJrrX"
   },
   "outputs": [],
   "source": [
    "df_data['Soil_Type_Damage'] = df_data.sort_values(['ID_value']).groupby(['Soil_Type'])['Crop_Damage']\n",
    ".apply(lambda x: x.shift().rolling(5, min_periods=1).mean()).fillna(-999).values \n",
    "\n",
    "df_data['Estimated_Insects_Count_Damage'] = df_data.sort_values(['ID_value']).groupby(['Estimated_Insects_Count'])['Crop_Damage']\n",
    ".apply(lambda x: x.shift().rolling(5, min_periods=1).mean()).fillna(-999).values\n",
    "\n",
    "\n",
    "df_data['Crop_Type_Damage'] = df_data.sort_values(['ID_value']).groupby(['Crop_Type'])['Crop_Damage']\n",
    ".apply(lambda x: x.shift().rolling(5, min_periods=1).mean()).fillna(-999).values\n",
    "\n",
    "\n",
    "df_data['Pesticide_Use_Category_Damage'] = df_data.sort_values(['ID_value']).groupby(['Pesticide_Use_Category'])['Crop_Damage']\n",
    ".apply(lambda x: x.shift().rolling(5, min_periods=1).mean()).fillna(-999).values\n",
    "\n",
    "\n",
    "df_data['Season_Damage'] = df_data.sort_values(['ID_value']).groupby(['Season'])['Crop_Damage']\n",
    ".apply(lambda x: x.shift().rolling(5, min_periods=1).mean()).fillna(-999).values\n",
    "\n",
    "\n",
    "df_data['Soil_Type_Damage_lag2'] = df_data.sort_values(['ID_value']).groupby(['Soil_Type'])['Crop_Damage']\n",
    ".apply(lambda x: x.shift(periods=2).rolling(5, min_periods=1).mean()).fillna(-999).values\n",
    "\n",
    "df_data['Estimated_Insects_Count_Damage_lag2'] = df_data.sort_values(['ID_value'])\n",
    ".groupby(['Estimated_Insects_Count'])['Crop_Damage'].apply(lambda x: x.shift(periods=2)\n",
    "                                                           .rolling(5, min_periods=1).mean()).fillna(-999).values\n",
    "\n",
    "df_data['Crop_Type_Damage_lag2'] = df_data.sort_values(['ID_value']).groupby(['Crop_Type'])['Crop_Damage']\n",
    ".apply(lambda x: x.shift(periods=2).rolling(5, min_periods=1).mean()).fillna(-999).values\n",
    "\n",
    "df_data['Pesticide_Use_Category_Damage_lag2'] = df_data.sort_values(['ID_value']).groupby(['Pesticide_Use_Category'])['Crop_Damage'].apply(lambda x: x.shift(periods=2).rolling(5, min_periods=1).mean()).fillna(-999).values\n",
    "\n",
    "df_data['Season_Damage_lag2'] = df_data.sort_values(['ID_value']).groupby(['Season'])['Crop_Damage'].apply(lambda x: x.shift(periods=2).rolling(5, min_periods=1).mean()).fillna(-999).values"
   ]
  },
  {
   "cell_type": "code",
   "execution_count": 63,
   "metadata": {
    "colab": {},
    "colab_type": "code",
    "id": "0hBAfL9rJrra"
   },
   "outputs": [],
   "source": [
    "df_data.loc[df_data['train_flag'] == 0, 'Crop_Damage'] = -999"
   ]
  },
  {
   "cell_type": "code",
   "execution_count": 64,
   "metadata": {
    "colab": {},
    "colab_type": "code",
    "id": "U3j6HuFUJrrd"
   },
   "outputs": [],
   "source": [
    "df_data['Crop_Damage_lag1'] = df_data['Crop_Damage'].shift(fill_value=-999)\n",
    "df_data['Estimated_Insects_Count_lag1'] = df_data['Estimated_Insects_Count'].shift(fill_value=-999)\n",
    "df_data['Crop_Type_lag1'] = df_data['Crop_Type'].shift(fill_value=-999)\n",
    "df_data['Soil_Type_lag1'] = df_data['Soil_Type'].shift(fill_value=-999)\n",
    "df_data['Pesticide_Use_Category_lag1'] = df_data['Pesticide_Use_Category'].shift(fill_value=-999)\n",
    "df_data['Number_Doses_Week_lag1'] = df_data['Number_Doses_Week'].shift(fill_value=-999)\n",
    "df_data['Number_Weeks_Used_lag1'] = df_data['Number_Weeks_Used'].shift(fill_value=-999)\n",
    "df_data['Number_Weeks_Quit_lag1'] = df_data['Number_Weeks_Quit'].shift(fill_value=-999)\n",
    "df_data['Season_lag1'] = df_data['Season'].shift(fill_value=-999)\n",
    "\n",
    "df_data['Crop_Damage_lag2'] = df_data['Crop_Damage'].shift(periods=2,fill_value=-999)\n",
    "df_data['Estimated_Insects_Count_lag2'] = df_data['Estimated_Insects_Count'].shift(periods=2,fill_value=-999)\n",
    "df_data['Crop_Type_lag2'] = df_data['Crop_Type'].shift(fill_value=-999)\n",
    "df_data['Soil_Type_lag2'] = df_data['Soil_Type'].shift(fill_value=-999)\n",
    "df_data['Pesticide_Use_Category_lag2'] = df_data['Pesticide_Use_Category'].shift(periods=2,fill_value=-999)\n",
    "df_data['Number_Doses_Week_lag2'] = df_data['Number_Doses_Week'].shift(periods=2,fill_value=-999)\n",
    "df_data['Number_Weeks_Used_lag2'] = df_data['Number_Weeks_Used'].shift(periods=2,fill_value=-999)\n",
    "df_data['Number_Weeks_Quit_lag2'] = df_data['Number_Weeks_Quit'].shift(periods=2,fill_value=-999)\n",
    "df_data['Season_lag2'] = df_data['Season'].shift(periods=2,fill_value=-999)\n"
   ]
  },
  {
   "cell_type": "code",
   "execution_count": 65,
   "metadata": {},
   "outputs": [
    {
     "data": {
      "text/plain": [
       "Index(['ID', 'Estimated_Insects_Count', 'Crop_Type', 'Soil_Type',\n",
       "       'Pesticide_Use_Category', 'Number_Doses_Week', 'Number_Weeks_Used',\n",
       "       'Number_Weeks_Quit', 'Season', 'Crop_Damage', 'train_flag', 'ID_value',\n",
       "       'Soil_Type_Damage', 'Estimated_Insects_Count_Damage',\n",
       "       'Crop_Type_Damage', 'Pesticide_Use_Category_Damage', 'Season_Damage',\n",
       "       'Soil_Type_Damage_lag2', 'Estimated_Insects_Count_Damage_lag2',\n",
       "       'Crop_Type_Damage_lag2', 'Pesticide_Use_Category_Damage_lag2',\n",
       "       'Season_Damage_lag2', 'Crop_Damage_lag1',\n",
       "       'Estimated_Insects_Count_lag1', 'Crop_Type_lag1', 'Soil_Type_lag1',\n",
       "       'Pesticide_Use_Category_lag1', 'Number_Doses_Week_lag1',\n",
       "       'Number_Weeks_Used_lag1', 'Number_Weeks_Quit_lag1', 'Season_lag1',\n",
       "       'Crop_Damage_lag2', 'Estimated_Insects_Count_lag2', 'Crop_Type_lag2',\n",
       "       'Soil_Type_lag2', 'Pesticide_Use_Category_lag2',\n",
       "       'Number_Doses_Week_lag2', 'Number_Weeks_Used_lag2',\n",
       "       'Number_Weeks_Quit_lag2', 'Season_lag2'],\n",
       "      dtype='object')"
      ]
     },
     "execution_count": 65,
     "metadata": {},
     "output_type": "execute_result"
    }
   ],
   "source": [
    "df_data.head()\n",
    "df_data.columns"
   ]
  },
  {
   "cell_type": "code",
   "execution_count": 66,
   "metadata": {
    "colab": {},
    "colab_type": "code",
    "id": "aN-Y-HXxJrrg"
   },
   "outputs": [],
   "source": [
    "df_train, df_test = df_data[df_data.train_flag == 1], df_data[df_data.train_flag == 0]"
   ]
  },
  {
   "cell_type": "code",
   "execution_count": 67,
   "metadata": {
    "colab": {},
    "colab_type": "code",
    "id": "cXaCjYBzJrrj",
    "outputId": "dc2eb7da-1119-4cd1-a6a1-b0054faf6c9a"
   },
   "outputs": [
    {
     "name": "stderr",
     "output_type": "stream",
     "text": [
      "C:\\Users\\aasha\\anaconda3\\lib\\site-packages\\pandas\\core\\frame.py:3997: SettingWithCopyWarning: \n",
      "A value is trying to be set on a copy of a slice from a DataFrame\n",
      "\n",
      "See the caveats in the documentation: https://pandas.pydata.org/pandas-docs/stable/user_guide/indexing.html#returning-a-view-versus-a-copy\n",
      "  errors=errors,\n"
     ]
    }
   ],
   "source": [
    "df_train.drop(['train_flag'], inplace=True, axis=1)\n",
    "df_test.drop(['train_flag'], inplace=True, axis=1)\n",
    "df_test.drop([label_col], inplace=True, axis=1)"
   ]
  },
  {
   "cell_type": "code",
   "execution_count": 68,
   "metadata": {
    "colab": {},
    "colab_type": "code",
    "id": "MyXBxBVrJrro",
    "outputId": "fd85a9ef-1246-4498-9e66-3d580ed8df83"
   },
   "outputs": [
    {
     "name": "stdout",
     "output_type": "stream",
     "text": [
      "(88858, 39) (59310, 38)\n"
     ]
    }
   ],
   "source": [
    "print(df_train.shape, df_test.shape)"
   ]
  },
  {
   "cell_type": "code",
   "execution_count": 71,
   "metadata": {},
   "outputs": [
    {
     "ename": "KeyError",
     "evalue": "'Crop_Damage'",
     "output_type": "error",
     "traceback": [
      "\u001b[1;31m---------------------------------------------------------------------------\u001b[0m",
      "\u001b[1;31mValueError\u001b[0m                                Traceback (most recent call last)",
      "\u001b[1;32m~\\anaconda3\\lib\\site-packages\\pandas\\core\\indexes\\base.py\u001b[0m in \u001b[0;36mget_slice_bound\u001b[1;34m(self, label, side, kind)\u001b[0m\n\u001b[0;32m   4844\u001b[0m             \u001b[1;32mtry\u001b[0m\u001b[1;33m:\u001b[0m\u001b[1;33m\u001b[0m\u001b[1;33m\u001b[0m\u001b[0m\n\u001b[1;32m-> 4845\u001b[1;33m                 \u001b[1;32mreturn\u001b[0m \u001b[0mself\u001b[0m\u001b[1;33m.\u001b[0m\u001b[0m_searchsorted_monotonic\u001b[0m\u001b[1;33m(\u001b[0m\u001b[0mlabel\u001b[0m\u001b[1;33m,\u001b[0m \u001b[0mside\u001b[0m\u001b[1;33m)\u001b[0m\u001b[1;33m\u001b[0m\u001b[1;33m\u001b[0m\u001b[0m\n\u001b[0m\u001b[0;32m   4846\u001b[0m             \u001b[1;32mexcept\u001b[0m \u001b[0mValueError\u001b[0m\u001b[1;33m:\u001b[0m\u001b[1;33m\u001b[0m\u001b[1;33m\u001b[0m\u001b[0m\n",
      "\u001b[1;32m~\\anaconda3\\lib\\site-packages\\pandas\\core\\indexes\\base.py\u001b[0m in \u001b[0;36m_searchsorted_monotonic\u001b[1;34m(self, label, side)\u001b[0m\n\u001b[0;32m   4805\u001b[0m \u001b[1;33m\u001b[0m\u001b[0m\n\u001b[1;32m-> 4806\u001b[1;33m         \u001b[1;32mraise\u001b[0m \u001b[0mValueError\u001b[0m\u001b[1;33m(\u001b[0m\u001b[1;34m\"index must be monotonic increasing or decreasing\"\u001b[0m\u001b[1;33m)\u001b[0m\u001b[1;33m\u001b[0m\u001b[1;33m\u001b[0m\u001b[0m\n\u001b[0m\u001b[0;32m   4807\u001b[0m \u001b[1;33m\u001b[0m\u001b[0m\n",
      "\u001b[1;31mValueError\u001b[0m: index must be monotonic increasing or decreasing",
      "\nDuring handling of the above exception, another exception occurred:\n",
      "\u001b[1;31mKeyError\u001b[0m                                  Traceback (most recent call last)",
      "\u001b[1;32m<ipython-input-71-571ddbf73f13>\u001b[0m in \u001b[0;36m<module>\u001b[1;34m\u001b[0m\n\u001b[1;32m----> 1\u001b[1;33m \u001b[0mdf_test\u001b[0m\u001b[1;33m.\u001b[0m\u001b[0mloc\u001b[0m\u001b[1;33m[\u001b[0m\u001b[1;36m155944\u001b[0m\u001b[1;33m:\u001b[0m\u001b[1;36m155944\u001b[0m\u001b[1;33m,\u001b[0m\u001b[1;34m'Crop_Damage'\u001b[0m\u001b[1;33m:\u001b[0m\u001b[1;34m'Crop_Damage'\u001b[0m\u001b[1;33m]\u001b[0m\u001b[1;33m\u001b[0m\u001b[1;33m\u001b[0m\u001b[0m\n\u001b[0m",
      "\u001b[1;32m~\\anaconda3\\lib\\site-packages\\pandas\\core\\indexing.py\u001b[0m in \u001b[0;36m__getitem__\u001b[1;34m(self, key)\u001b[0m\n\u001b[0;32m   1760\u001b[0m                 \u001b[1;32mexcept\u001b[0m \u001b[1;33m(\u001b[0m\u001b[0mKeyError\u001b[0m\u001b[1;33m,\u001b[0m \u001b[0mIndexError\u001b[0m\u001b[1;33m,\u001b[0m \u001b[0mAttributeError\u001b[0m\u001b[1;33m)\u001b[0m\u001b[1;33m:\u001b[0m\u001b[1;33m\u001b[0m\u001b[1;33m\u001b[0m\u001b[0m\n\u001b[0;32m   1761\u001b[0m                     \u001b[1;32mpass\u001b[0m\u001b[1;33m\u001b[0m\u001b[1;33m\u001b[0m\u001b[0m\n\u001b[1;32m-> 1762\u001b[1;33m             \u001b[1;32mreturn\u001b[0m \u001b[0mself\u001b[0m\u001b[1;33m.\u001b[0m\u001b[0m_getitem_tuple\u001b[0m\u001b[1;33m(\u001b[0m\u001b[0mkey\u001b[0m\u001b[1;33m)\u001b[0m\u001b[1;33m\u001b[0m\u001b[1;33m\u001b[0m\u001b[0m\n\u001b[0m\u001b[0;32m   1763\u001b[0m         \u001b[1;32melse\u001b[0m\u001b[1;33m:\u001b[0m\u001b[1;33m\u001b[0m\u001b[1;33m\u001b[0m\u001b[0m\n\u001b[0;32m   1764\u001b[0m             \u001b[1;31m# we by definition only have the 0th axis\u001b[0m\u001b[1;33m\u001b[0m\u001b[1;33m\u001b[0m\u001b[1;33m\u001b[0m\u001b[0m\n",
      "\u001b[1;32m~\\anaconda3\\lib\\site-packages\\pandas\\core\\indexing.py\u001b[0m in \u001b[0;36m_getitem_tuple\u001b[1;34m(self, tup)\u001b[0m\n\u001b[0;32m   1287\u001b[0m                 \u001b[1;32mcontinue\u001b[0m\u001b[1;33m\u001b[0m\u001b[1;33m\u001b[0m\u001b[0m\n\u001b[0;32m   1288\u001b[0m \u001b[1;33m\u001b[0m\u001b[0m\n\u001b[1;32m-> 1289\u001b[1;33m             \u001b[0mretval\u001b[0m \u001b[1;33m=\u001b[0m \u001b[0mgetattr\u001b[0m\u001b[1;33m(\u001b[0m\u001b[0mretval\u001b[0m\u001b[1;33m,\u001b[0m \u001b[0mself\u001b[0m\u001b[1;33m.\u001b[0m\u001b[0mname\u001b[0m\u001b[1;33m)\u001b[0m\u001b[1;33m.\u001b[0m\u001b[0m_getitem_axis\u001b[0m\u001b[1;33m(\u001b[0m\u001b[0mkey\u001b[0m\u001b[1;33m,\u001b[0m \u001b[0maxis\u001b[0m\u001b[1;33m=\u001b[0m\u001b[0mi\u001b[0m\u001b[1;33m)\u001b[0m\u001b[1;33m\u001b[0m\u001b[1;33m\u001b[0m\u001b[0m\n\u001b[0m\u001b[0;32m   1290\u001b[0m \u001b[1;33m\u001b[0m\u001b[0m\n\u001b[0;32m   1291\u001b[0m         \u001b[1;32mreturn\u001b[0m \u001b[0mretval\u001b[0m\u001b[1;33m\u001b[0m\u001b[1;33m\u001b[0m\u001b[0m\n",
      "\u001b[1;32m~\\anaconda3\\lib\\site-packages\\pandas\\core\\indexing.py\u001b[0m in \u001b[0;36m_getitem_axis\u001b[1;34m(self, key, axis)\u001b[0m\n\u001b[0;32m   1910\u001b[0m         \u001b[1;32mif\u001b[0m \u001b[0misinstance\u001b[0m\u001b[1;33m(\u001b[0m\u001b[0mkey\u001b[0m\u001b[1;33m,\u001b[0m \u001b[0mslice\u001b[0m\u001b[1;33m)\u001b[0m\u001b[1;33m:\u001b[0m\u001b[1;33m\u001b[0m\u001b[1;33m\u001b[0m\u001b[0m\n\u001b[0;32m   1911\u001b[0m             \u001b[0mself\u001b[0m\u001b[1;33m.\u001b[0m\u001b[0m_validate_key\u001b[0m\u001b[1;33m(\u001b[0m\u001b[0mkey\u001b[0m\u001b[1;33m,\u001b[0m \u001b[0maxis\u001b[0m\u001b[1;33m)\u001b[0m\u001b[1;33m\u001b[0m\u001b[1;33m\u001b[0m\u001b[0m\n\u001b[1;32m-> 1912\u001b[1;33m             \u001b[1;32mreturn\u001b[0m \u001b[0mself\u001b[0m\u001b[1;33m.\u001b[0m\u001b[0m_get_slice_axis\u001b[0m\u001b[1;33m(\u001b[0m\u001b[0mkey\u001b[0m\u001b[1;33m,\u001b[0m \u001b[0maxis\u001b[0m\u001b[1;33m=\u001b[0m\u001b[0maxis\u001b[0m\u001b[1;33m)\u001b[0m\u001b[1;33m\u001b[0m\u001b[1;33m\u001b[0m\u001b[0m\n\u001b[0m\u001b[0;32m   1913\u001b[0m         \u001b[1;32melif\u001b[0m \u001b[0mcom\u001b[0m\u001b[1;33m.\u001b[0m\u001b[0mis_bool_indexer\u001b[0m\u001b[1;33m(\u001b[0m\u001b[0mkey\u001b[0m\u001b[1;33m)\u001b[0m\u001b[1;33m:\u001b[0m\u001b[1;33m\u001b[0m\u001b[1;33m\u001b[0m\u001b[0m\n\u001b[0;32m   1914\u001b[0m             \u001b[1;32mreturn\u001b[0m \u001b[0mself\u001b[0m\u001b[1;33m.\u001b[0m\u001b[0m_getbool_axis\u001b[0m\u001b[1;33m(\u001b[0m\u001b[0mkey\u001b[0m\u001b[1;33m,\u001b[0m \u001b[0maxis\u001b[0m\u001b[1;33m=\u001b[0m\u001b[0maxis\u001b[0m\u001b[1;33m)\u001b[0m\u001b[1;33m\u001b[0m\u001b[1;33m\u001b[0m\u001b[0m\n",
      "\u001b[1;32m~\\anaconda3\\lib\\site-packages\\pandas\\core\\indexing.py\u001b[0m in \u001b[0;36m_get_slice_axis\u001b[1;34m(self, slice_obj, axis)\u001b[0m\n\u001b[0;32m   1795\u001b[0m         \u001b[0mlabels\u001b[0m \u001b[1;33m=\u001b[0m \u001b[0mobj\u001b[0m\u001b[1;33m.\u001b[0m\u001b[0m_get_axis\u001b[0m\u001b[1;33m(\u001b[0m\u001b[0maxis\u001b[0m\u001b[1;33m)\u001b[0m\u001b[1;33m\u001b[0m\u001b[1;33m\u001b[0m\u001b[0m\n\u001b[0;32m   1796\u001b[0m         indexer = labels.slice_indexer(\n\u001b[1;32m-> 1797\u001b[1;33m             \u001b[0mslice_obj\u001b[0m\u001b[1;33m.\u001b[0m\u001b[0mstart\u001b[0m\u001b[1;33m,\u001b[0m \u001b[0mslice_obj\u001b[0m\u001b[1;33m.\u001b[0m\u001b[0mstop\u001b[0m\u001b[1;33m,\u001b[0m \u001b[0mslice_obj\u001b[0m\u001b[1;33m.\u001b[0m\u001b[0mstep\u001b[0m\u001b[1;33m,\u001b[0m \u001b[0mkind\u001b[0m\u001b[1;33m=\u001b[0m\u001b[0mself\u001b[0m\u001b[1;33m.\u001b[0m\u001b[0mname\u001b[0m\u001b[1;33m\u001b[0m\u001b[1;33m\u001b[0m\u001b[0m\n\u001b[0m\u001b[0;32m   1798\u001b[0m         )\n\u001b[0;32m   1799\u001b[0m \u001b[1;33m\u001b[0m\u001b[0m\n",
      "\u001b[1;32m~\\anaconda3\\lib\\site-packages\\pandas\\core\\indexes\\base.py\u001b[0m in \u001b[0;36mslice_indexer\u001b[1;34m(self, start, end, step, kind)\u001b[0m\n\u001b[0;32m   4711\u001b[0m         \u001b[0mslice\u001b[0m\u001b[1;33m(\u001b[0m\u001b[1;36m1\u001b[0m\u001b[1;33m,\u001b[0m \u001b[1;36m3\u001b[0m\u001b[1;33m)\u001b[0m\u001b[1;33m\u001b[0m\u001b[1;33m\u001b[0m\u001b[0m\n\u001b[0;32m   4712\u001b[0m         \"\"\"\n\u001b[1;32m-> 4713\u001b[1;33m         \u001b[0mstart_slice\u001b[0m\u001b[1;33m,\u001b[0m \u001b[0mend_slice\u001b[0m \u001b[1;33m=\u001b[0m \u001b[0mself\u001b[0m\u001b[1;33m.\u001b[0m\u001b[0mslice_locs\u001b[0m\u001b[1;33m(\u001b[0m\u001b[0mstart\u001b[0m\u001b[1;33m,\u001b[0m \u001b[0mend\u001b[0m\u001b[1;33m,\u001b[0m \u001b[0mstep\u001b[0m\u001b[1;33m=\u001b[0m\u001b[0mstep\u001b[0m\u001b[1;33m,\u001b[0m \u001b[0mkind\u001b[0m\u001b[1;33m=\u001b[0m\u001b[0mkind\u001b[0m\u001b[1;33m)\u001b[0m\u001b[1;33m\u001b[0m\u001b[1;33m\u001b[0m\u001b[0m\n\u001b[0m\u001b[0;32m   4714\u001b[0m \u001b[1;33m\u001b[0m\u001b[0m\n\u001b[0;32m   4715\u001b[0m         \u001b[1;31m# return a slice\u001b[0m\u001b[1;33m\u001b[0m\u001b[1;33m\u001b[0m\u001b[1;33m\u001b[0m\u001b[0m\n",
      "\u001b[1;32m~\\anaconda3\\lib\\site-packages\\pandas\\core\\indexes\\base.py\u001b[0m in \u001b[0;36mslice_locs\u001b[1;34m(self, start, end, step, kind)\u001b[0m\n\u001b[0;32m   4924\u001b[0m         \u001b[0mstart_slice\u001b[0m \u001b[1;33m=\u001b[0m \u001b[1;32mNone\u001b[0m\u001b[1;33m\u001b[0m\u001b[1;33m\u001b[0m\u001b[0m\n\u001b[0;32m   4925\u001b[0m         \u001b[1;32mif\u001b[0m \u001b[0mstart\u001b[0m \u001b[1;32mis\u001b[0m \u001b[1;32mnot\u001b[0m \u001b[1;32mNone\u001b[0m\u001b[1;33m:\u001b[0m\u001b[1;33m\u001b[0m\u001b[1;33m\u001b[0m\u001b[0m\n\u001b[1;32m-> 4926\u001b[1;33m             \u001b[0mstart_slice\u001b[0m \u001b[1;33m=\u001b[0m \u001b[0mself\u001b[0m\u001b[1;33m.\u001b[0m\u001b[0mget_slice_bound\u001b[0m\u001b[1;33m(\u001b[0m\u001b[0mstart\u001b[0m\u001b[1;33m,\u001b[0m \u001b[1;34m\"left\"\u001b[0m\u001b[1;33m,\u001b[0m \u001b[0mkind\u001b[0m\u001b[1;33m)\u001b[0m\u001b[1;33m\u001b[0m\u001b[1;33m\u001b[0m\u001b[0m\n\u001b[0m\u001b[0;32m   4927\u001b[0m         \u001b[1;32mif\u001b[0m \u001b[0mstart_slice\u001b[0m \u001b[1;32mis\u001b[0m \u001b[1;32mNone\u001b[0m\u001b[1;33m:\u001b[0m\u001b[1;33m\u001b[0m\u001b[1;33m\u001b[0m\u001b[0m\n\u001b[0;32m   4928\u001b[0m             \u001b[0mstart_slice\u001b[0m \u001b[1;33m=\u001b[0m \u001b[1;36m0\u001b[0m\u001b[1;33m\u001b[0m\u001b[1;33m\u001b[0m\u001b[0m\n",
      "\u001b[1;32m~\\anaconda3\\lib\\site-packages\\pandas\\core\\indexes\\base.py\u001b[0m in \u001b[0;36mget_slice_bound\u001b[1;34m(self, label, side, kind)\u001b[0m\n\u001b[0;32m   4846\u001b[0m             \u001b[1;32mexcept\u001b[0m \u001b[0mValueError\u001b[0m\u001b[1;33m:\u001b[0m\u001b[1;33m\u001b[0m\u001b[1;33m\u001b[0m\u001b[0m\n\u001b[0;32m   4847\u001b[0m                 \u001b[1;31m# raise the original KeyError\u001b[0m\u001b[1;33m\u001b[0m\u001b[1;33m\u001b[0m\u001b[1;33m\u001b[0m\u001b[0m\n\u001b[1;32m-> 4848\u001b[1;33m                 \u001b[1;32mraise\u001b[0m \u001b[0merr\u001b[0m\u001b[1;33m\u001b[0m\u001b[1;33m\u001b[0m\u001b[0m\n\u001b[0m\u001b[0;32m   4849\u001b[0m \u001b[1;33m\u001b[0m\u001b[0m\n\u001b[0;32m   4850\u001b[0m         \u001b[1;32mif\u001b[0m \u001b[0misinstance\u001b[0m\u001b[1;33m(\u001b[0m\u001b[0mslc\u001b[0m\u001b[1;33m,\u001b[0m \u001b[0mnp\u001b[0m\u001b[1;33m.\u001b[0m\u001b[0mndarray\u001b[0m\u001b[1;33m)\u001b[0m\u001b[1;33m:\u001b[0m\u001b[1;33m\u001b[0m\u001b[1;33m\u001b[0m\u001b[0m\n",
      "\u001b[1;32m~\\anaconda3\\lib\\site-packages\\pandas\\core\\indexes\\base.py\u001b[0m in \u001b[0;36mget_slice_bound\u001b[1;34m(self, label, side, kind)\u001b[0m\n\u001b[0;32m   4840\u001b[0m         \u001b[1;31m# we need to look up the label\u001b[0m\u001b[1;33m\u001b[0m\u001b[1;33m\u001b[0m\u001b[1;33m\u001b[0m\u001b[0m\n\u001b[0;32m   4841\u001b[0m         \u001b[1;32mtry\u001b[0m\u001b[1;33m:\u001b[0m\u001b[1;33m\u001b[0m\u001b[1;33m\u001b[0m\u001b[0m\n\u001b[1;32m-> 4842\u001b[1;33m             \u001b[0mslc\u001b[0m \u001b[1;33m=\u001b[0m \u001b[0mself\u001b[0m\u001b[1;33m.\u001b[0m\u001b[0mget_loc\u001b[0m\u001b[1;33m(\u001b[0m\u001b[0mlabel\u001b[0m\u001b[1;33m)\u001b[0m\u001b[1;33m\u001b[0m\u001b[1;33m\u001b[0m\u001b[0m\n\u001b[0m\u001b[0;32m   4843\u001b[0m         \u001b[1;32mexcept\u001b[0m \u001b[0mKeyError\u001b[0m \u001b[1;32mas\u001b[0m \u001b[0merr\u001b[0m\u001b[1;33m:\u001b[0m\u001b[1;33m\u001b[0m\u001b[1;33m\u001b[0m\u001b[0m\n\u001b[0;32m   4844\u001b[0m             \u001b[1;32mtry\u001b[0m\u001b[1;33m:\u001b[0m\u001b[1;33m\u001b[0m\u001b[1;33m\u001b[0m\u001b[0m\n",
      "\u001b[1;32m~\\anaconda3\\lib\\site-packages\\pandas\\core\\indexes\\base.py\u001b[0m in \u001b[0;36mget_loc\u001b[1;34m(self, key, method, tolerance)\u001b[0m\n\u001b[0;32m   2646\u001b[0m                 \u001b[1;32mreturn\u001b[0m \u001b[0mself\u001b[0m\u001b[1;33m.\u001b[0m\u001b[0m_engine\u001b[0m\u001b[1;33m.\u001b[0m\u001b[0mget_loc\u001b[0m\u001b[1;33m(\u001b[0m\u001b[0mkey\u001b[0m\u001b[1;33m)\u001b[0m\u001b[1;33m\u001b[0m\u001b[1;33m\u001b[0m\u001b[0m\n\u001b[0;32m   2647\u001b[0m             \u001b[1;32mexcept\u001b[0m \u001b[0mKeyError\u001b[0m\u001b[1;33m:\u001b[0m\u001b[1;33m\u001b[0m\u001b[1;33m\u001b[0m\u001b[0m\n\u001b[1;32m-> 2648\u001b[1;33m                 \u001b[1;32mreturn\u001b[0m \u001b[0mself\u001b[0m\u001b[1;33m.\u001b[0m\u001b[0m_engine\u001b[0m\u001b[1;33m.\u001b[0m\u001b[0mget_loc\u001b[0m\u001b[1;33m(\u001b[0m\u001b[0mself\u001b[0m\u001b[1;33m.\u001b[0m\u001b[0m_maybe_cast_indexer\u001b[0m\u001b[1;33m(\u001b[0m\u001b[0mkey\u001b[0m\u001b[1;33m)\u001b[0m\u001b[1;33m)\u001b[0m\u001b[1;33m\u001b[0m\u001b[1;33m\u001b[0m\u001b[0m\n\u001b[0m\u001b[0;32m   2649\u001b[0m         \u001b[0mindexer\u001b[0m \u001b[1;33m=\u001b[0m \u001b[0mself\u001b[0m\u001b[1;33m.\u001b[0m\u001b[0mget_indexer\u001b[0m\u001b[1;33m(\u001b[0m\u001b[1;33m[\u001b[0m\u001b[0mkey\u001b[0m\u001b[1;33m]\u001b[0m\u001b[1;33m,\u001b[0m \u001b[0mmethod\u001b[0m\u001b[1;33m=\u001b[0m\u001b[0mmethod\u001b[0m\u001b[1;33m,\u001b[0m \u001b[0mtolerance\u001b[0m\u001b[1;33m=\u001b[0m\u001b[0mtolerance\u001b[0m\u001b[1;33m)\u001b[0m\u001b[1;33m\u001b[0m\u001b[1;33m\u001b[0m\u001b[0m\n\u001b[0;32m   2650\u001b[0m         \u001b[1;32mif\u001b[0m \u001b[0mindexer\u001b[0m\u001b[1;33m.\u001b[0m\u001b[0mndim\u001b[0m \u001b[1;33m>\u001b[0m \u001b[1;36m1\u001b[0m \u001b[1;32mor\u001b[0m \u001b[0mindexer\u001b[0m\u001b[1;33m.\u001b[0m\u001b[0msize\u001b[0m \u001b[1;33m>\u001b[0m \u001b[1;36m1\u001b[0m\u001b[1;33m:\u001b[0m\u001b[1;33m\u001b[0m\u001b[1;33m\u001b[0m\u001b[0m\n",
      "\u001b[1;32mpandas\\_libs\\index.pyx\u001b[0m in \u001b[0;36mpandas._libs.index.IndexEngine.get_loc\u001b[1;34m()\u001b[0m\n",
      "\u001b[1;32mpandas\\_libs\\index.pyx\u001b[0m in \u001b[0;36mpandas._libs.index.IndexEngine.get_loc\u001b[1;34m()\u001b[0m\n",
      "\u001b[1;32mpandas\\_libs\\hashtable_class_helper.pxi\u001b[0m in \u001b[0;36mpandas._libs.hashtable.PyObjectHashTable.get_item\u001b[1;34m()\u001b[0m\n",
      "\u001b[1;32mpandas\\_libs\\hashtable_class_helper.pxi\u001b[0m in \u001b[0;36mpandas._libs.hashtable.PyObjectHashTable.get_item\u001b[1;34m()\u001b[0m\n",
      "\u001b[1;31mKeyError\u001b[0m: 'Crop_Damage'"
     ]
    }
   ],
   "source": [
    "df_test.loc[155944:155944,'Crop_Damage':'Crop_Damage']"
   ]
  },
  {
   "cell_type": "code",
   "execution_count": 75,
   "metadata": {},
   "outputs": [
    {
     "data": {
      "text/plain": [
       "0    74238\n",
       "1    12307\n",
       "2     2313\n",
       "Name: Crop_Damage, dtype: int64"
      ]
     },
     "execution_count": 75,
     "metadata": {},
     "output_type": "execute_result"
    }
   ],
   "source": [
    "#sns.barplot('Crop_Damage', data = df_train)\n",
    "df_train['Crop_Damage'].value_counts()"
   ]
  },
  {
   "cell_type": "code",
   "execution_count": 49,
   "metadata": {
    "colab": {},
    "colab_type": "code",
    "id": "DZ5_7mZwJrrr"
   },
   "outputs": [],
   "source": [
    "del df_data"
   ]
  },
  {
   "cell_type": "code",
   "execution_count": 50,
   "metadata": {
    "colab": {},
    "colab_type": "code",
    "id": "kVaD7A_nJrru"
   },
   "outputs": [],
   "source": [
    "missing_impute = -999"
   ]
  },
  {
   "cell_type": "code",
   "execution_count": 51,
   "metadata": {
    "colab": {},
    "colab_type": "code",
    "id": "zIkiS8PTJrrx"
   },
   "outputs": [],
   "source": [
    "df_train['Number_Weeks_Used'] = df_train['Number_Weeks_Used'].apply(lambda x: missing_impute if pd.isna(x) else x)\n",
    "df_test['Number_Weeks_Used'] = df_test['Number_Weeks_Used'].apply(lambda x: missing_impute if pd.isna(x) else x)\n",
    "\n",
    "df_train['Number_Weeks_Used_lag1'] = df_train['Number_Weeks_Used_lag1'].apply(lambda x: missing_impute if pd.isna(x) else x)\n",
    "df_test['Number_Weeks_Used_lag1'] = df_test['Number_Weeks_Used_lag1'].apply(lambda x: missing_impute if pd.isna(x) else x)\n",
    "\n",
    "df_train['Number_Weeks_Used_lag2'] = df_train['Number_Weeks_Used_lag2'].apply(lambda x: missing_impute if pd.isna(x) else x)\n",
    "df_test['Number_Weeks_Used_lag2'] = df_test['Number_Weeks_Used_lag2'].apply(lambda x: missing_impute if pd.isna(x) else x)"
   ]
  },
  {
   "cell_type": "code",
   "execution_count": 52,
   "metadata": {},
   "outputs": [
    {
     "ename": "NameError",
     "evalue": "name 'df_data' is not defined",
     "output_type": "error",
     "traceback": [
      "\u001b[1;31m---------------------------------------------------------------------------\u001b[0m",
      "\u001b[1;31mNameError\u001b[0m                                 Traceback (most recent call last)",
      "\u001b[1;32m<ipython-input-52-491eadfd5b72>\u001b[0m in \u001b[0;36m<module>\u001b[1;34m\u001b[0m\n\u001b[1;32m----> 1\u001b[1;33m \u001b[0mdf_data\u001b[0m\u001b[1;33m.\u001b[0m\u001b[0mloc\u001b[0m\u001b[1;33m[\u001b[0m\u001b[1;36m155944\u001b[0m\u001b[1;33m:\u001b[0m\u001b[1;36m155944\u001b[0m\u001b[1;33m,\u001b[0m\u001b[1;34m'Crop_Damage'\u001b[0m\u001b[1;33m:\u001b[0m\u001b[1;34m'Crop_Damage'\u001b[0m\u001b[1;33m]\u001b[0m\u001b[1;33m\u001b[0m\u001b[1;33m\u001b[0m\u001b[0m\n\u001b[0m",
      "\u001b[1;31mNameError\u001b[0m: name 'df_data' is not defined"
     ]
    }
   ],
   "source": []
  },
  {
   "cell_type": "code",
   "execution_count": 32,
   "metadata": {
    "colab": {},
    "colab_type": "code",
    "id": "DbovUy92Jrrz"
   },
   "outputs": [],
   "source": [
    "df_train, df_eval = train_test_split(df_train, test_size=0.40, random_state=42, shuffle=True, stratify=df_train[label_col])"
   ]
  },
  {
   "cell_type": "code",
   "execution_count": 21,
   "metadata": {
    "colab": {},
    "colab_type": "code",
    "id": "khw_I6DTJrr3",
    "outputId": "51a51a14-9350-41d9-ef43-84f39a35177f"
   },
   "outputs": [
    {
     "name": "stdout",
     "output_type": "stream",
     "text": [
      "['Estimated_Insects_Count', 'Crop_Type', 'Soil_Type', 'Pesticide_Use_Category', 'Number_Doses_Week', 'Number_Weeks_Used', 'Number_Weeks_Quit', 'Season', 'Soil_Type_Damage', 'Estimated_Insects_Count_Damage', 'Crop_Type_Damage', 'Pesticide_Use_Category_Damage', 'Season_Damage', 'Soil_Type_Damage_lag2', 'Estimated_Insects_Count_Damage_lag2', 'Crop_Type_Damage_lag2', 'Pesticide_Use_Category_Damage_lag2', 'Season_Damage_lag2', 'Crop_Damage_lag1', 'Estimated_Insects_Count_lag1', 'Crop_Type_lag1', 'Soil_Type_lag1', 'Pesticide_Use_Category_lag1', 'Number_Doses_Week_lag1', 'Number_Weeks_Used_lag1', 'Number_Weeks_Quit_lag1', 'Season_lag1', 'Crop_Damage_lag2', 'Estimated_Insects_Count_lag2', 'Crop_Type_lag2', 'Soil_Type_lag2', 'Pesticide_Use_Category_lag2', 'Number_Doses_Week_lag2', 'Number_Weeks_Used_lag2', 'Number_Weeks_Quit_lag2', 'Season_lag2']\n"
     ]
    }
   ],
   "source": [
    "feature_cols = df_train.columns.tolist()\n",
    "feature_cols.remove('ID')\n",
    "feature_cols.remove('Crop_Damage')\n",
    "feature_cols.remove('ID_value')\n",
    "label_col = 'Crop_Damage'\n",
    "print(feature_cols)"
   ]
  },
  {
   "cell_type": "code",
   "execution_count": null,
   "metadata": {
    "colab": {},
    "colab_type": "code",
    "id": "OyrbT34QJrr6"
   },
   "outputs": [],
   "source": []
  },
  {
   "cell_type": "code",
   "execution_count": 22,
   "metadata": {
    "colab": {},
    "colab_type": "code",
    "id": "fDuA_Lx7Jrr8"
   },
   "outputs": [],
   "source": [
    "cat_cols = ['Crop_Type', 'Soil_Type', 'Pesticide_Use_Category', 'Season', 'Crop_Type_lag1', 'Soil_Type_lag1', 'Pesticide_Use_Category_lag1', 'Season_lag1']"
   ]
  },
  {
   "cell_type": "code",
   "execution_count": 23,
   "metadata": {
    "colab": {},
    "colab_type": "code",
    "id": "BChfuoTTJrr-"
   },
   "outputs": [],
   "source": [
    "params = {}\n",
    "params['learning_rate'] = 0.04\n",
    "params['max_depth'] = 18\n",
    "params['n_estimators'] = 3000\n",
    "params['objective'] = 'multiclass'\n",
    "params['boosting_type'] = 'gbdt'\n",
    "params['subsample'] = 0.7\n",
    "params['random_state'] = 42\n",
    "params['colsample_bytree']=0.7\n",
    "params['min_data_in_leaf'] = 55\n",
    "params['reg_alpha'] = 1.7\n",
    "params['reg_lambda'] = 1.11\n",
    "params['class_weight']: {0: 0.44, 1: 0.4, 2: 0.37}"
   ]
  },
  {
   "cell_type": "code",
   "execution_count": 24,
   "metadata": {
    "colab": {},
    "colab_type": "code",
    "id": "t6DkDHOGJrsA",
    "outputId": "b045794b-d1ba-4fb9-9aa1-c4dda98438c9"
   },
   "outputs": [
    {
     "name": "stderr",
     "output_type": "stream",
     "text": [
      "C:\\Users\\aasha\\anaconda3\\lib\\site-packages\\lightgbm\\basic.py:1247: UserWarning: categorical_feature in Dataset is overridden.\n",
      "New categorical_feature is ['Crop_Type', 'Crop_Type_lag1', 'Pesticide_Use_Category', 'Pesticide_Use_Category_lag1', 'Season', 'Season_lag1', 'Soil_Type', 'Soil_Type_lag1']\n",
      "  'New categorical_feature is {}'.format(sorted(list(categorical_feature))))\n"
     ]
    },
    {
     "name": "stdout",
     "output_type": "stream",
     "text": [
      "[1]\tvalid_0's multi_error: 0.164535\tvalid_0's multi_logloss: 0.497166\tvalid_1's multi_error: 0.164528\tvalid_1's multi_logloss: 0.497335\n",
      "Training until validation scores don't improve for 100 rounds\n",
      "[2]\tvalid_0's multi_error: 0.164535\tvalid_0's multi_logloss: 0.478658\tvalid_1's multi_error: 0.164528\tvalid_1's multi_logloss: 0.479165\n",
      "[3]\tvalid_0's multi_error: 0.164535\tvalid_0's multi_logloss: 0.462451\tvalid_1's multi_error: 0.164528\tvalid_1's multi_logloss: 0.463087\n",
      "[4]\tvalid_0's multi_error: 0.164535\tvalid_0's multi_logloss: 0.447691\tvalid_1's multi_error: 0.164528\tvalid_1's multi_logloss: 0.448475\n",
      "[5]\tvalid_0's multi_error: 0.164535\tvalid_0's multi_logloss: 0.434232\tvalid_1's multi_error: 0.164528\tvalid_1's multi_logloss: 0.435239\n",
      "[6]\tvalid_0's multi_error: 0.164535\tvalid_0's multi_logloss: 0.423808\tvalid_1's multi_error: 0.164528\tvalid_1's multi_logloss: 0.425099\n",
      "[7]\tvalid_0's multi_error: 0.164535\tvalid_0's multi_logloss: 0.41312\tvalid_1's multi_error: 0.164528\tvalid_1's multi_logloss: 0.414563\n",
      "[8]\tvalid_0's multi_error: 0.164535\tvalid_0's multi_logloss: 0.40359\tvalid_1's multi_error: 0.164528\tvalid_1's multi_logloss: 0.405208\n",
      "[9]\tvalid_0's multi_error: 0.164535\tvalid_0's multi_logloss: 0.394574\tvalid_1's multi_error: 0.164528\tvalid_1's multi_logloss: 0.396342\n",
      "[10]\tvalid_0's multi_error: 0.164535\tvalid_0's multi_logloss: 0.385276\tvalid_1's multi_error: 0.164528\tvalid_1's multi_logloss: 0.387092\n",
      "[11]\tvalid_0's multi_error: 0.164535\tvalid_0's multi_logloss: 0.377298\tvalid_1's multi_error: 0.164528\tvalid_1's multi_logloss: 0.37932\n",
      "[12]\tvalid_0's multi_error: 0.164535\tvalid_0's multi_logloss: 0.369799\tvalid_1's multi_error: 0.164528\tvalid_1's multi_logloss: 0.371938\n",
      "[13]\tvalid_0's multi_error: 0.164535\tvalid_0's multi_logloss: 0.362123\tvalid_1's multi_error: 0.164528\tvalid_1's multi_logloss: 0.364372\n",
      "[14]\tvalid_0's multi_error: 0.164535\tvalid_0's multi_logloss: 0.35476\tvalid_1's multi_error: 0.164528\tvalid_1's multi_logloss: 0.357091\n",
      "[15]\tvalid_0's multi_error: 0.164441\tvalid_0's multi_logloss: 0.348058\tvalid_1's multi_error: 0.164388\tvalid_1's multi_logloss: 0.350534\n",
      "[16]\tvalid_0's multi_error: 0.158908\tvalid_0's multi_logloss: 0.342028\tvalid_1's multi_error: 0.159492\tvalid_1's multi_logloss: 0.344599\n",
      "[17]\tvalid_0's multi_error: 0.148423\tvalid_0's multi_logloss: 0.335845\tvalid_1's multi_error: 0.148914\tvalid_1's multi_logloss: 0.33851\n",
      "[18]\tvalid_0's multi_error: 0.143715\tvalid_0's multi_logloss: 0.330934\tvalid_1's multi_error: 0.144638\tvalid_1's multi_logloss: 0.333818\n",
      "[19]\tvalid_0's multi_error: 0.136249\tvalid_0's multi_logloss: 0.326131\tvalid_1's multi_error: 0.138476\tvalid_1's multi_logloss: 0.329191\n",
      "[20]\tvalid_0's multi_error: 0.130078\tvalid_0's multi_logloss: 0.321689\tvalid_1's multi_error: 0.131837\tvalid_1's multi_logloss: 0.324885\n",
      "[21]\tvalid_0's multi_error: 0.123907\tvalid_0's multi_logloss: 0.317282\tvalid_1's multi_error: 0.125309\tvalid_1's multi_logloss: 0.32059\n",
      "[22]\tvalid_0's multi_error: 0.120062\tvalid_0's multi_logloss: 0.312999\tvalid_1's multi_error: 0.122158\tvalid_1's multi_logloss: 0.316477\n",
      "[23]\tvalid_0's multi_error: 0.115692\tvalid_0's multi_logloss: 0.308621\tvalid_1's multi_error: 0.118163\tvalid_1's multi_logloss: 0.312238\n",
      "[24]\tvalid_0's multi_error: 0.112278\tvalid_0's multi_logloss: 0.305372\tvalid_1's multi_error: 0.114393\tvalid_1's multi_logloss: 0.309196\n",
      "[25]\tvalid_0's multi_error: 0.109727\tvalid_0's multi_logloss: 0.302176\tvalid_1's multi_error: 0.111664\tvalid_1's multi_logloss: 0.306225\n",
      "[26]\tvalid_0's multi_error: 0.106764\tvalid_0's multi_logloss: 0.298987\tvalid_1's multi_error: 0.108879\tvalid_1's multi_logloss: 0.303174\n",
      "[27]\tvalid_0's multi_error: 0.103631\tvalid_0's multi_logloss: 0.294638\tvalid_1's multi_error: 0.105194\tvalid_1's multi_logloss: 0.298893\n",
      "[28]\tvalid_0's multi_error: 0.10108\tvalid_0's multi_logloss: 0.291506\tvalid_1's multi_error: 0.103196\tvalid_1's multi_logloss: 0.295876\n",
      "[29]\tvalid_0's multi_error: 0.0993923\tvalid_0's multi_logloss: 0.288391\tvalid_1's multi_error: 0.101367\tvalid_1's multi_logloss: 0.292886\n",
      "[30]\tvalid_0's multi_error: 0.0983982\tvalid_0's multi_logloss: 0.285768\tvalid_1's multi_error: 0.100186\tvalid_1's multi_logloss: 0.290421\n",
      "[31]\tvalid_0's multi_error: 0.0965788\tvalid_0's multi_logloss: 0.282239\tvalid_1's multi_error: 0.0980756\tvalid_1's multi_logloss: 0.286952\n",
      "[32]\tvalid_0's multi_error: 0.0952658\tvalid_0's multi_logloss: 0.278837\tvalid_1's multi_error: 0.096275\tvalid_1's multi_logloss: 0.283678\n",
      "[33]\tvalid_0's multi_error: 0.093859\tvalid_0's multi_logloss: 0.275932\tvalid_1's multi_error: 0.0949527\tvalid_1's multi_logloss: 0.28089\n",
      "[34]\tvalid_0's multi_error: 0.0921334\tvalid_0's multi_logloss: 0.273128\tvalid_1's multi_error: 0.0935742\tvalid_1's multi_logloss: 0.278245\n",
      "[35]\tvalid_0's multi_error: 0.0902577\tvalid_0's multi_logloss: 0.269984\tvalid_1's multi_error: 0.091661\tvalid_1's multi_logloss: 0.275196\n",
      "[36]\tvalid_0's multi_error: 0.0891323\tvalid_0's multi_logloss: 0.267095\tvalid_1's multi_error: 0.0900855\tvalid_1's multi_logloss: 0.272402\n",
      "[37]\tvalid_0's multi_error: 0.0878568\tvalid_0's multi_logloss: 0.26444\tvalid_1's multi_error: 0.089129\tvalid_1's multi_logloss: 0.269856\n",
      "[38]\tvalid_0's multi_error: 0.0872379\tvalid_0's multi_logloss: 0.262499\tvalid_1's multi_error: 0.0884537\tvalid_1's multi_logloss: 0.268064\n",
      "[39]\tvalid_0's multi_error: 0.0866189\tvalid_0's multi_logloss: 0.260362\tvalid_1's multi_error: 0.0878067\tvalid_1's multi_logloss: 0.266044\n",
      "[40]\tvalid_0's multi_error: 0.0860187\tvalid_0's multi_logloss: 0.257907\tvalid_1's multi_error: 0.087047\tvalid_1's multi_logloss: 0.263698\n",
      "[41]\tvalid_0's multi_error: 0.0853059\tvalid_0's multi_logloss: 0.255898\tvalid_1's multi_error: 0.0867094\tvalid_1's multi_logloss: 0.26177\n",
      "[42]\tvalid_0's multi_error: 0.0846307\tvalid_0's multi_logloss: 0.253568\tvalid_1's multi_error: 0.0856966\tvalid_1's multi_logloss: 0.259546\n",
      "[43]\tvalid_0's multi_error: 0.0837491\tvalid_0's multi_logloss: 0.251379\tvalid_1's multi_error: 0.0850777\tvalid_1's multi_logloss: 0.257474\n",
      "[44]\tvalid_0's multi_error: 0.0831676\tvalid_0's multi_logloss: 0.249242\tvalid_1's multi_error: 0.0841211\tvalid_1's multi_logloss: 0.255504\n",
      "[45]\tvalid_0's multi_error: 0.0825299\tvalid_0's multi_logloss: 0.247186\tvalid_1's multi_error: 0.0832489\tvalid_1's multi_logloss: 0.253527\n",
      "[46]\tvalid_0's multi_error: 0.0823236\tvalid_0's multi_logloss: 0.245453\tvalid_1's multi_error: 0.0827707\tvalid_1's multi_logloss: 0.251875\n",
      "[47]\tvalid_0's multi_error: 0.0818922\tvalid_0's multi_logloss: 0.244072\tvalid_1's multi_error: 0.0825737\tvalid_1's multi_logloss: 0.250617\n",
      "[48]\tvalid_0's multi_error: 0.0816483\tvalid_0's multi_logloss: 0.242628\tvalid_1's multi_error: 0.0823486\tvalid_1's multi_logloss: 0.249293\n",
      "[49]\tvalid_0's multi_error: 0.0811232\tvalid_0's multi_logloss: 0.241037\tvalid_1's multi_error: 0.0818422\tvalid_1's multi_logloss: 0.247805\n",
      "[50]\tvalid_0's multi_error: 0.0807668\tvalid_0's multi_logloss: 0.239371\tvalid_1's multi_error: 0.0815609\tvalid_1's multi_logloss: 0.246237\n",
      "[51]\tvalid_0's multi_error: 0.0807105\tvalid_0's multi_logloss: 0.238211\tvalid_1's multi_error: 0.0812795\tvalid_1's multi_logloss: 0.245205\n",
      "[52]\tvalid_0's multi_error: 0.080129\tvalid_0's multi_logloss: 0.236615\tvalid_1's multi_error: 0.0809419\tvalid_1's multi_logloss: 0.24368\n",
      "[53]\tvalid_0's multi_error: 0.0796039\tvalid_0's multi_logloss: 0.234993\tvalid_1's multi_error: 0.0805199\tvalid_1's multi_logloss: 0.242173\n",
      "[54]\tvalid_0's multi_error: 0.0791537\tvalid_0's multi_logloss: 0.233522\tvalid_1's multi_error: 0.080126\tvalid_1's multi_logloss: 0.240838\n",
      "[55]\tvalid_0's multi_error: 0.0788536\tvalid_0's multi_logloss: 0.232237\tvalid_1's multi_error: 0.0800416\tvalid_1's multi_logloss: 0.239665\n",
      "[56]\tvalid_0's multi_error: 0.0782909\tvalid_0's multi_logloss: 0.230809\tvalid_1's multi_error: 0.0796478\tvalid_1's multi_logloss: 0.238348\n",
      "[57]\tvalid_0's multi_error: 0.0777657\tvalid_0's multi_logloss: 0.229224\tvalid_1's multi_error: 0.0790569\tvalid_1's multi_logloss: 0.236845\n",
      "[58]\tvalid_0's multi_error: 0.0774281\tvalid_0's multi_logloss: 0.227963\tvalid_1's multi_error: 0.0786912\tvalid_1's multi_logloss: 0.235657\n",
      "[59]\tvalid_0's multi_error: 0.0770154\tvalid_0's multi_logloss: 0.226301\tvalid_1's multi_error: 0.0782411\tvalid_1's multi_logloss: 0.234102\n",
      "[60]\tvalid_0's multi_error: 0.0768091\tvalid_0's multi_logloss: 0.225211\tvalid_1's multi_error: 0.078016\tvalid_1's multi_logloss: 0.233114\n",
      "[61]\tvalid_0's multi_error: 0.0766966\tvalid_0's multi_logloss: 0.224061\tvalid_1's multi_error: 0.0777628\tvalid_1's multi_logloss: 0.23207\n",
      "[62]\tvalid_0's multi_error: 0.0761901\tvalid_0's multi_logloss: 0.222497\tvalid_1's multi_error: 0.0772845\tvalid_1's multi_logloss: 0.230619\n",
      "[63]\tvalid_0's multi_error: 0.0761151\tvalid_0's multi_logloss: 0.221678\tvalid_1's multi_error: 0.077172\tvalid_1's multi_logloss: 0.229924\n"
     ]
    },
    {
     "name": "stdout",
     "output_type": "stream",
     "text": [
      "[64]\tvalid_0's multi_error: 0.0758337\tvalid_0's multi_logloss: 0.220741\tvalid_1's multi_error: 0.076975\tvalid_1's multi_logloss: 0.229051\n",
      "[65]\tvalid_0's multi_error: 0.0754586\tvalid_0's multi_logloss: 0.219378\tvalid_1's multi_error: 0.0763561\tvalid_1's multi_logloss: 0.227786\n",
      "[66]\tvalid_0's multi_error: 0.075196\tvalid_0's multi_logloss: 0.21804\tvalid_1's multi_error: 0.0760747\tvalid_1's multi_logloss: 0.226556\n",
      "[67]\tvalid_0's multi_error: 0.0748959\tvalid_0's multi_logloss: 0.217064\tvalid_1's multi_error: 0.0759622\tvalid_1's multi_logloss: 0.225673\n",
      "[68]\tvalid_0's multi_error: 0.074577\tvalid_0's multi_logloss: 0.215736\tvalid_1's multi_error: 0.0760185\tvalid_1's multi_logloss: 0.224428\n",
      "[69]\tvalid_0's multi_error: 0.0739205\tvalid_0's multi_logloss: 0.214514\tvalid_1's multi_error: 0.0756527\tvalid_1's multi_logloss: 0.223323\n",
      "[70]\tvalid_0's multi_error: 0.0737142\tvalid_0's multi_logloss: 0.213698\tvalid_1's multi_error: 0.0754558\tvalid_1's multi_logloss: 0.22262\n",
      "[71]\tvalid_0's multi_error: 0.0734516\tvalid_0's multi_logloss: 0.212872\tvalid_1's multi_error: 0.0752588\tvalid_1's multi_logloss: 0.221906\n",
      "[72]\tvalid_0's multi_error: 0.0731703\tvalid_0's multi_logloss: 0.212065\tvalid_1's multi_error: 0.0749775\tvalid_1's multi_logloss: 0.221163\n",
      "[73]\tvalid_0's multi_error: 0.0729452\tvalid_0's multi_logloss: 0.211196\tvalid_1's multi_error: 0.074668\tvalid_1's multi_logloss: 0.220374\n",
      "[74]\tvalid_0's multi_error: 0.0726451\tvalid_0's multi_logloss: 0.210145\tvalid_1's multi_error: 0.0741897\tvalid_1's multi_logloss: 0.219404\n",
      "[75]\tvalid_0's multi_error: 0.0722137\tvalid_0's multi_logloss: 0.209209\tvalid_1's multi_error: 0.0737396\tvalid_1's multi_logloss: 0.218548\n",
      "[76]\tvalid_0's multi_error: 0.0721011\tvalid_0's multi_logloss: 0.208374\tvalid_1's multi_error: 0.0736552\tvalid_1's multi_logloss: 0.217813\n",
      "[77]\tvalid_0's multi_error: 0.0719136\tvalid_0's multi_logloss: 0.207746\tvalid_1's multi_error: 0.0734864\tvalid_1's multi_logloss: 0.2173\n",
      "[78]\tvalid_0's multi_error: 0.0716885\tvalid_0's multi_logloss: 0.207039\tvalid_1's multi_error: 0.073402\tvalid_1's multi_logloss: 0.21669\n",
      "[79]\tvalid_0's multi_error: 0.0714071\tvalid_0's multi_logloss: 0.206297\tvalid_1's multi_error: 0.07298\tvalid_1's multi_logloss: 0.21607\n",
      "[80]\tvalid_0's multi_error: 0.0713134\tvalid_0's multi_logloss: 0.205607\tvalid_1's multi_error: 0.0730362\tvalid_1's multi_logloss: 0.215462\n",
      "[81]\tvalid_0's multi_error: 0.0710695\tvalid_0's multi_logloss: 0.204933\tvalid_1's multi_error: 0.0729518\tvalid_1's multi_logloss: 0.214879\n",
      "[82]\tvalid_0's multi_error: 0.0707694\tvalid_0's multi_logloss: 0.204022\tvalid_1's multi_error: 0.0726142\tvalid_1's multi_logloss: 0.214061\n",
      "[83]\tvalid_0's multi_error: 0.070263\tvalid_0's multi_logloss: 0.203263\tvalid_1's multi_error: 0.0721922\tvalid_1's multi_logloss: 0.213406\n",
      "[84]\tvalid_0's multi_error: 0.0700191\tvalid_0's multi_logloss: 0.202605\tvalid_1's multi_error: 0.0720234\tvalid_1's multi_logloss: 0.212857\n",
      "[85]\tvalid_0's multi_error: 0.0700004\tvalid_0's multi_logloss: 0.202065\tvalid_1's multi_error: 0.0719953\tvalid_1's multi_logloss: 0.212424\n",
      "[86]\tvalid_0's multi_error: 0.0697565\tvalid_0's multi_logloss: 0.201351\tvalid_1's multi_error: 0.0720797\tvalid_1's multi_logloss: 0.21179\n",
      "[87]\tvalid_0's multi_error: 0.069644\tvalid_0's multi_logloss: 0.200703\tvalid_1's multi_error: 0.0717139\tvalid_1's multi_logloss: 0.211225\n",
      "[88]\tvalid_0's multi_error: 0.0695502\tvalid_0's multi_logloss: 0.200143\tvalid_1's multi_error: 0.0717139\tvalid_1's multi_logloss: 0.210772\n",
      "[89]\tvalid_0's multi_error: 0.0691376\tvalid_0's multi_logloss: 0.199341\tvalid_1's multi_error: 0.0713201\tvalid_1's multi_logloss: 0.210036\n",
      "[90]\tvalid_0's multi_error: 0.0689312\tvalid_0's multi_logloss: 0.198825\tvalid_1's multi_error: 0.0713482\tvalid_1's multi_logloss: 0.209615\n",
      "[91]\tvalid_0's multi_error: 0.0687624\tvalid_0's multi_logloss: 0.198227\tvalid_1's multi_error: 0.0710668\tvalid_1's multi_logloss: 0.209077\n",
      "[92]\tvalid_0's multi_error: 0.0682372\tvalid_0's multi_logloss: 0.197458\tvalid_1's multi_error: 0.0708136\tvalid_1's multi_logloss: 0.208408\n",
      "[93]\tvalid_0's multi_error: 0.0680684\tvalid_0's multi_logloss: 0.196751\tvalid_1's multi_error: 0.0708136\tvalid_1's multi_logloss: 0.207793\n",
      "[94]\tvalid_0's multi_error: 0.0678246\tvalid_0's multi_logloss: 0.196197\tvalid_1's multi_error: 0.0706167\tvalid_1's multi_logloss: 0.20733\n",
      "[95]\tvalid_0's multi_error: 0.067712\tvalid_0's multi_logloss: 0.195724\tvalid_1's multi_error: 0.0704198\tvalid_1's multi_logloss: 0.206981\n",
      "[96]\tvalid_0's multi_error: 0.0672994\tvalid_0's multi_logloss: 0.194887\tvalid_1's multi_error: 0.0701384\tvalid_1's multi_logloss: 0.206228\n",
      "[97]\tvalid_0's multi_error: 0.0672431\tvalid_0's multi_logloss: 0.194422\tvalid_1's multi_error: 0.0700259\tvalid_1's multi_logloss: 0.205832\n",
      "[98]\tvalid_0's multi_error: 0.0666242\tvalid_0's multi_logloss: 0.193517\tvalid_1's multi_error: 0.0698008\tvalid_1's multi_logloss: 0.205033\n",
      "[99]\tvalid_0's multi_error: 0.0663616\tvalid_0's multi_logloss: 0.192813\tvalid_1's multi_error: 0.0696883\tvalid_1's multi_logloss: 0.204403\n",
      "[100]\tvalid_0's multi_error: 0.0662115\tvalid_0's multi_logloss: 0.192211\tvalid_1's multi_error: 0.0696039\tvalid_1's multi_logloss: 0.203908\n",
      "[101]\tvalid_0's multi_error: 0.0662115\tvalid_0's multi_logloss: 0.191697\tvalid_1's multi_error: 0.0692944\tvalid_1's multi_logloss: 0.203483\n",
      "[102]\tvalid_0's multi_error: 0.066099\tvalid_0's multi_logloss: 0.191197\tvalid_1's multi_error: 0.0691537\tvalid_1's multi_logloss: 0.203085\n",
      "[103]\tvalid_0's multi_error: 0.066099\tvalid_0's multi_logloss: 0.1907\tvalid_1's multi_error: 0.0690131\tvalid_1's multi_logloss: 0.202701\n",
      "[104]\tvalid_0's multi_error: 0.0659114\tvalid_0's multi_logloss: 0.18997\tvalid_1's multi_error: 0.0688442\tvalid_1's multi_logloss: 0.202066\n",
      "[105]\tvalid_0's multi_error: 0.0658364\tvalid_0's multi_logloss: 0.189581\tvalid_1's multi_error: 0.0689005\tvalid_1's multi_logloss: 0.20176\n",
      "[106]\tvalid_0's multi_error: 0.0655175\tvalid_0's multi_logloss: 0.189077\tvalid_1's multi_error: 0.0686754\tvalid_1's multi_logloss: 0.201366\n",
      "[107]\tvalid_0's multi_error: 0.0651799\tvalid_0's multi_logloss: 0.188459\tvalid_1's multi_error: 0.0684785\tvalid_1's multi_logloss: 0.20086\n",
      "[108]\tvalid_0's multi_error: 0.0649173\tvalid_0's multi_logloss: 0.187804\tvalid_1's multi_error: 0.0680846\tvalid_1's multi_logloss: 0.200288\n",
      "[109]\tvalid_0's multi_error: 0.0648423\tvalid_0's multi_logloss: 0.187332\tvalid_1's multi_error: 0.0681128\tvalid_1's multi_logloss: 0.199922\n",
      "[110]\tvalid_0's multi_error: 0.064786\tvalid_0's multi_logloss: 0.186823\tvalid_1's multi_error: 0.0681409\tvalid_1's multi_logloss: 0.199527\n",
      "[111]\tvalid_0's multi_error: 0.0645984\tvalid_0's multi_logloss: 0.186283\tvalid_1's multi_error: 0.0678596\tvalid_1's multi_logloss: 0.199058\n",
      "[112]\tvalid_0's multi_error: 0.0644671\tvalid_0's multi_logloss: 0.185879\tvalid_1's multi_error: 0.0678314\tvalid_1's multi_logloss: 0.198748\n",
      "[113]\tvalid_0's multi_error: 0.0644671\tvalid_0's multi_logloss: 0.185562\tvalid_1's multi_error: 0.0677752\tvalid_1's multi_logloss: 0.198562\n",
      "[114]\tvalid_0's multi_error: 0.0643733\tvalid_0's multi_logloss: 0.184823\tvalid_1's multi_error: 0.0677752\tvalid_1's multi_logloss: 0.197914\n",
      "[115]\tvalid_0's multi_error: 0.0640732\tvalid_0's multi_logloss: 0.184133\tvalid_1's multi_error: 0.0675501\tvalid_1's multi_logloss: 0.197304\n",
      "[116]\tvalid_0's multi_error: 0.0639419\tvalid_0's multi_logloss: 0.18366\tvalid_1's multi_error: 0.0674375\tvalid_1's multi_logloss: 0.196949\n",
      "[117]\tvalid_0's multi_error: 0.0636606\tvalid_0's multi_logloss: 0.182946\tvalid_1's multi_error: 0.0671843\tvalid_1's multi_logloss: 0.1963\n",
      "[118]\tvalid_0's multi_error: 0.0632667\tvalid_0's multi_logloss: 0.182261\tvalid_1's multi_error: 0.0668186\tvalid_1's multi_logloss: 0.195716\n",
      "[119]\tvalid_0's multi_error: 0.0631166\tvalid_0's multi_logloss: 0.181874\tvalid_1's multi_error: 0.0668186\tvalid_1's multi_logloss: 0.19542\n",
      "[120]\tvalid_0's multi_error: 0.0629478\tvalid_0's multi_logloss: 0.18129\tvalid_1's multi_error: 0.0664247\tvalid_1's multi_logloss: 0.194903\n",
      "[121]\tvalid_0's multi_error: 0.062854\tvalid_0's multi_logloss: 0.180795\tvalid_1's multi_error: 0.0664528\tvalid_1's multi_logloss: 0.194497\n",
      "[122]\tvalid_0's multi_error: 0.062629\tvalid_0's multi_logloss: 0.180304\tvalid_1's multi_error: 0.0661715\tvalid_1's multi_logloss: 0.194125\n",
      "[123]\tvalid_0's multi_error: 0.0625539\tvalid_0's multi_logloss: 0.179969\tvalid_1's multi_error: 0.066059\tvalid_1's multi_logloss: 0.19391\n"
     ]
    },
    {
     "name": "stdout",
     "output_type": "stream",
     "text": [
      "[124]\tvalid_0's multi_error: 0.0624039\tvalid_0's multi_logloss: 0.179575\tvalid_1's multi_error: 0.0659464\tvalid_1's multi_logloss: 0.193616\n",
      "[125]\tvalid_0's multi_error: 0.0622163\tvalid_0's multi_logloss: 0.17916\tvalid_1's multi_error: 0.0659183\tvalid_1's multi_logloss: 0.193303\n",
      "[126]\tvalid_0's multi_error: 0.0620475\tvalid_0's multi_logloss: 0.178657\tvalid_1's multi_error: 0.0658902\tvalid_1's multi_logloss: 0.192914\n",
      "[127]\tvalid_0's multi_error: 0.0618599\tvalid_0's multi_logloss: 0.178101\tvalid_1's multi_error: 0.0656088\tvalid_1's multi_logloss: 0.19246\n",
      "[128]\tvalid_0's multi_error: 0.0615786\tvalid_0's multi_logloss: 0.177525\tvalid_1's multi_error: 0.06544\tvalid_1's multi_logloss: 0.191963\n",
      "[129]\tvalid_0's multi_error: 0.0611284\tvalid_0's multi_logloss: 0.176959\tvalid_1's multi_error: 0.0652712\tvalid_1's multi_logloss: 0.191487\n",
      "[130]\tvalid_0's multi_error: 0.0609596\tvalid_0's multi_logloss: 0.17668\tvalid_1's multi_error: 0.0650743\tvalid_1's multi_logloss: 0.191304\n",
      "[131]\tvalid_0's multi_error: 0.0608095\tvalid_0's multi_logloss: 0.176203\tvalid_1's multi_error: 0.0649055\tvalid_1's multi_logloss: 0.190968\n",
      "[132]\tvalid_0's multi_error: 0.0606782\tvalid_0's multi_logloss: 0.175751\tvalid_1's multi_error: 0.065018\tvalid_1's multi_logloss: 0.190607\n",
      "[133]\tvalid_0's multi_error: 0.0605657\tvalid_0's multi_logloss: 0.175293\tvalid_1's multi_error: 0.0649617\tvalid_1's multi_logloss: 0.190221\n",
      "[134]\tvalid_0's multi_error: 0.0605094\tvalid_0's multi_logloss: 0.174976\tvalid_1's multi_error: 0.0649336\tvalid_1's multi_logloss: 0.190002\n",
      "[135]\tvalid_0's multi_error: 0.0602656\tvalid_0's multi_logloss: 0.17437\tvalid_1's multi_error: 0.0647648\tvalid_1's multi_logloss: 0.189464\n",
      "[136]\tvalid_0's multi_error: 0.0602093\tvalid_0's multi_logloss: 0.17399\tvalid_1's multi_error: 0.0646241\tvalid_1's multi_logloss: 0.189185\n",
      "[137]\tvalid_0's multi_error: 0.0600593\tvalid_0's multi_logloss: 0.173565\tvalid_1's multi_error: 0.0643991\tvalid_1's multi_logloss: 0.188862\n",
      "[138]\tvalid_0's multi_error: 0.0600405\tvalid_0's multi_logloss: 0.173305\tvalid_1's multi_error: 0.0643991\tvalid_1's multi_logloss: 0.188693\n",
      "[139]\tvalid_0's multi_error: 0.0599842\tvalid_0's multi_logloss: 0.172951\tvalid_1's multi_error: 0.0643147\tvalid_1's multi_logloss: 0.188436\n",
      "[140]\tvalid_0's multi_error: 0.0598717\tvalid_0's multi_logloss: 0.172532\tvalid_1's multi_error: 0.0643428\tvalid_1's multi_logloss: 0.188097\n",
      "[141]\tvalid_0's multi_error: 0.0596654\tvalid_0's multi_logloss: 0.171946\tvalid_1's multi_error: 0.064174\tvalid_1's multi_logloss: 0.187576\n",
      "[142]\tvalid_0's multi_error: 0.0594215\tvalid_0's multi_logloss: 0.17151\tvalid_1's multi_error: 0.0640614\tvalid_1's multi_logloss: 0.187262\n",
      "[143]\tvalid_0's multi_error: 0.0593465\tvalid_0's multi_logloss: 0.17112\tvalid_1's multi_error: 0.0640052\tvalid_1's multi_logloss: 0.18696\n",
      "[144]\tvalid_0's multi_error: 0.0591965\tvalid_0's multi_logloss: 0.17068\tvalid_1's multi_error: 0.0639489\tvalid_1's multi_logloss: 0.186565\n",
      "[145]\tvalid_0's multi_error: 0.0590839\tvalid_0's multi_logloss: 0.17028\tvalid_1's multi_error: 0.0638645\tvalid_1's multi_logloss: 0.186273\n",
      "[146]\tvalid_0's multi_error: 0.0589714\tvalid_0's multi_logloss: 0.169925\tvalid_1's multi_error: 0.063752\tvalid_1's multi_logloss: 0.186014\n",
      "[147]\tvalid_0's multi_error: 0.0588026\tvalid_0's multi_logloss: 0.169645\tvalid_1's multi_error: 0.0637801\tvalid_1's multi_logloss: 0.185829\n",
      "[148]\tvalid_0's multi_error: 0.0588588\tvalid_0's multi_logloss: 0.16939\tvalid_1's multi_error: 0.0636676\tvalid_1's multi_logloss: 0.185655\n",
      "[149]\tvalid_0's multi_error: 0.058615\tvalid_0's multi_logloss: 0.169018\tvalid_1's multi_error: 0.0636113\tvalid_1's multi_logloss: 0.185373\n",
      "[150]\tvalid_0's multi_error: 0.0584462\tvalid_0's multi_logloss: 0.168634\tvalid_1's multi_error: 0.0633581\tvalid_1's multi_logloss: 0.185062\n",
      "[151]\tvalid_0's multi_error: 0.0583899\tvalid_0's multi_logloss: 0.168031\tvalid_1's multi_error: 0.0628235\tvalid_1's multi_logloss: 0.184532\n",
      "[152]\tvalid_0's multi_error: 0.0581273\tvalid_0's multi_logloss: 0.167737\tvalid_1's multi_error: 0.0629923\tvalid_1's multi_logloss: 0.184311\n",
      "[153]\tvalid_0's multi_error: 0.0578272\tvalid_0's multi_logloss: 0.167228\tvalid_1's multi_error: 0.0627954\tvalid_1's multi_logloss: 0.183895\n",
      "[154]\tvalid_0's multi_error: 0.0577522\tvalid_0's multi_logloss: 0.167008\tvalid_1's multi_error: 0.0628798\tvalid_1's multi_logloss: 0.183778\n",
      "[155]\tvalid_0's multi_error: 0.0576021\tvalid_0's multi_logloss: 0.166561\tvalid_1's multi_error: 0.0627673\tvalid_1's multi_logloss: 0.183421\n",
      "[156]\tvalid_0's multi_error: 0.057227\tvalid_0's multi_logloss: 0.166018\tvalid_1's multi_error: 0.0624578\tvalid_1's multi_logloss: 0.182978\n",
      "[157]\tvalid_0's multi_error: 0.057152\tvalid_0's multi_logloss: 0.165753\tvalid_1's multi_error: 0.0624297\tvalid_1's multi_logloss: 0.18282\n",
      "[158]\tvalid_0's multi_error: 0.0571145\tvalid_0's multi_logloss: 0.165437\tvalid_1's multi_error: 0.0622046\tvalid_1's multi_logloss: 0.182577\n",
      "[159]\tvalid_0's multi_error: 0.0569644\tvalid_0's multi_logloss: 0.165135\tvalid_1's multi_error: 0.0621202\tvalid_1's multi_logloss: 0.182343\n",
      "[160]\tvalid_0's multi_error: 0.0568894\tvalid_0's multi_logloss: 0.164847\tvalid_1's multi_error: 0.0621202\tvalid_1's multi_logloss: 0.182147\n",
      "[161]\tvalid_0's multi_error: 0.0568331\tvalid_0's multi_logloss: 0.164583\tvalid_1's multi_error: 0.0621483\tvalid_1's multi_logloss: 0.181983\n",
      "[162]\tvalid_0's multi_error: 0.0567581\tvalid_0's multi_logloss: 0.164285\tvalid_1's multi_error: 0.0621483\tvalid_1's multi_logloss: 0.181768\n",
      "[163]\tvalid_0's multi_error: 0.056683\tvalid_0's multi_logloss: 0.163954\tvalid_1's multi_error: 0.0619233\tvalid_1's multi_logloss: 0.181529\n",
      "[164]\tvalid_0's multi_error: 0.0565142\tvalid_0's multi_logloss: 0.163662\tvalid_1's multi_error: 0.0618388\tvalid_1's multi_logloss: 0.181332\n",
      "[165]\tvalid_0's multi_error: 0.0564955\tvalid_0's multi_logloss: 0.163351\tvalid_1's multi_error: 0.0617544\tvalid_1's multi_logloss: 0.181119\n",
      "[166]\tvalid_0's multi_error: 0.0564955\tvalid_0's multi_logloss: 0.163042\tvalid_1's multi_error: 0.0618951\tvalid_1's multi_logloss: 0.180884\n",
      "[167]\tvalid_0's multi_error: 0.0562516\tvalid_0's multi_logloss: 0.162701\tvalid_1's multi_error: 0.0617826\tvalid_1's multi_logloss: 0.180626\n",
      "[168]\tvalid_0's multi_error: 0.0561766\tvalid_0's multi_logloss: 0.162493\tvalid_1's multi_error: 0.0617826\tvalid_1's multi_logloss: 0.180505\n",
      "[169]\tvalid_0's multi_error: 0.0560828\tvalid_0's multi_logloss: 0.1623\tvalid_1's multi_error: 0.0617826\tvalid_1's multi_logloss: 0.1804\n",
      "[170]\tvalid_0's multi_error: 0.0561203\tvalid_0's multi_logloss: 0.162041\tvalid_1's multi_error: 0.06167\tvalid_1's multi_logloss: 0.18021\n",
      "[171]\tvalid_0's multi_error: 0.0560453\tvalid_0's multi_logloss: 0.161755\tvalid_1's multi_error: 0.0616982\tvalid_1's multi_logloss: 0.180016\n",
      "[172]\tvalid_0's multi_error: 0.0559703\tvalid_0's multi_logloss: 0.161517\tvalid_1's multi_error: 0.0617544\tvalid_1's multi_logloss: 0.179856\n",
      "[173]\tvalid_0's multi_error: 0.0559703\tvalid_0's multi_logloss: 0.161248\tvalid_1's multi_error: 0.0617826\tvalid_1's multi_logloss: 0.179688\n",
      "[174]\tvalid_0's multi_error: 0.0559328\tvalid_0's multi_logloss: 0.161022\tvalid_1's multi_error: 0.0616982\tvalid_1's multi_logloss: 0.179565\n",
      "[175]\tvalid_0's multi_error: 0.0558577\tvalid_0's multi_logloss: 0.160752\tvalid_1's multi_error: 0.0615575\tvalid_1's multi_logloss: 0.179393\n",
      "[176]\tvalid_0's multi_error: 0.055764\tvalid_0's multi_logloss: 0.160484\tvalid_1's multi_error: 0.0615294\tvalid_1's multi_logloss: 0.179223\n",
      "[177]\tvalid_0's multi_error: 0.0556327\tvalid_0's multi_logloss: 0.160204\tvalid_1's multi_error: 0.0614168\tvalid_1's multi_logloss: 0.179015\n",
      "[178]\tvalid_0's multi_error: 0.0555014\tvalid_0's multi_logloss: 0.159899\tvalid_1's multi_error: 0.0613324\tvalid_1's multi_logloss: 0.1788\n",
      "[179]\tvalid_0's multi_error: 0.0554076\tvalid_0's multi_logloss: 0.159616\tvalid_1's multi_error: 0.0611355\tvalid_1's multi_logloss: 0.178587\n",
      "[180]\tvalid_0's multi_error: 0.0554263\tvalid_0's multi_logloss: 0.159409\tvalid_1's multi_error: 0.0611636\tvalid_1's multi_logloss: 0.178469\n",
      "[181]\tvalid_0's multi_error: 0.0553138\tvalid_0's multi_logloss: 0.159235\tvalid_1's multi_error: 0.0611355\tvalid_1's multi_logloss: 0.178384\n",
      "[182]\tvalid_0's multi_error: 0.05522\tvalid_0's multi_logloss: 0.158981\tvalid_1's multi_error: 0.0609948\tvalid_1's multi_logloss: 0.1782\n",
      "[183]\tvalid_0's multi_error: 0.0551825\tvalid_0's multi_logloss: 0.158737\tvalid_1's multi_error: 0.0608542\tvalid_1's multi_logloss: 0.178021\n",
      "[184]\tvalid_0's multi_error: 0.0551637\tvalid_0's multi_logloss: 0.158545\tvalid_1's multi_error: 0.0608542\tvalid_1's multi_logloss: 0.17794\n"
     ]
    },
    {
     "name": "stdout",
     "output_type": "stream",
     "text": [
      "[185]\tvalid_0's multi_error: 0.0550512\tvalid_0's multi_logloss: 0.15839\tvalid_1's multi_error: 0.0609667\tvalid_1's multi_logloss: 0.177891\n",
      "[186]\tvalid_0's multi_error: 0.0551075\tvalid_0's multi_logloss: 0.158213\tvalid_1's multi_error: 0.0609948\tvalid_1's multi_logloss: 0.177806\n",
      "[187]\tvalid_0's multi_error: 0.0550512\tvalid_0's multi_logloss: 0.157975\tvalid_1's multi_error: 0.0609667\tvalid_1's multi_logloss: 0.177666\n",
      "[188]\tvalid_0's multi_error: 0.0549199\tvalid_0's multi_logloss: 0.157716\tvalid_1's multi_error: 0.0609104\tvalid_1's multi_logloss: 0.177473\n",
      "[189]\tvalid_0's multi_error: 0.0547699\tvalid_0's multi_logloss: 0.157409\tvalid_1's multi_error: 0.060826\tvalid_1's multi_logloss: 0.177231\n",
      "[190]\tvalid_0's multi_error: 0.0547136\tvalid_0's multi_logloss: 0.157171\tvalid_1's multi_error: 0.0607416\tvalid_1's multi_logloss: 0.177086\n",
      "[191]\tvalid_0's multi_error: 0.054601\tvalid_0's multi_logloss: 0.157019\tvalid_1's multi_error: 0.0607416\tvalid_1's multi_logloss: 0.177033\n",
      "[192]\tvalid_0's multi_error: 0.0545073\tvalid_0's multi_logloss: 0.156705\tvalid_1's multi_error: 0.0606291\tvalid_1's multi_logloss: 0.176791\n",
      "[193]\tvalid_0's multi_error: 0.0544322\tvalid_0's multi_logloss: 0.156517\tvalid_1's multi_error: 0.0607416\tvalid_1's multi_logloss: 0.176704\n",
      "[194]\tvalid_0's multi_error: 0.054376\tvalid_0's multi_logloss: 0.156231\tvalid_1's multi_error: 0.0607416\tvalid_1's multi_logloss: 0.17651\n",
      "[195]\tvalid_0's multi_error: 0.0543009\tvalid_0's multi_logloss: 0.155984\tvalid_1's multi_error: 0.0606291\tvalid_1's multi_logloss: 0.176319\n",
      "[196]\tvalid_0's multi_error: 0.0542822\tvalid_0's multi_logloss: 0.155786\tvalid_1's multi_error: 0.0606291\tvalid_1's multi_logloss: 0.176198\n",
      "[197]\tvalid_0's multi_error: 0.0542634\tvalid_0's multi_logloss: 0.155591\tvalid_1's multi_error: 0.0606291\tvalid_1's multi_logloss: 0.176097\n",
      "[198]\tvalid_0's multi_error: 0.0542259\tvalid_0's multi_logloss: 0.15533\tvalid_1's multi_error: 0.0605728\tvalid_1's multi_logloss: 0.175936\n",
      "[199]\tvalid_0's multi_error: 0.0540946\tvalid_0's multi_logloss: 0.155152\tvalid_1's multi_error: 0.0604603\tvalid_1's multi_logloss: 0.175847\n",
      "[200]\tvalid_0's multi_error: 0.0538883\tvalid_0's multi_logloss: 0.154814\tvalid_1's multi_error: 0.0604321\tvalid_1's multi_logloss: 0.175577\n",
      "[201]\tvalid_0's multi_error: 0.0537382\tvalid_0's multi_logloss: 0.154497\tvalid_1's multi_error: 0.0602915\tvalid_1's multi_logloss: 0.175356\n",
      "[202]\tvalid_0's multi_error: 0.053757\tvalid_0's multi_logloss: 0.154272\tvalid_1's multi_error: 0.0602071\tvalid_1's multi_logloss: 0.17523\n",
      "[203]\tvalid_0's multi_error: 0.0536069\tvalid_0's multi_logloss: 0.153994\tvalid_1's multi_error: 0.0601508\tvalid_1's multi_logloss: 0.175051\n",
      "[204]\tvalid_0's multi_error: 0.0535694\tvalid_0's multi_logloss: 0.15375\tvalid_1's multi_error: 0.0601508\tvalid_1's multi_logloss: 0.17491\n",
      "[205]\tvalid_0's multi_error: 0.0535319\tvalid_0's multi_logloss: 0.153494\tvalid_1's multi_error: 0.0601789\tvalid_1's multi_logloss: 0.174779\n",
      "[206]\tvalid_0's multi_error: 0.0533819\tvalid_0's multi_logloss: 0.153331\tvalid_1's multi_error: 0.0602352\tvalid_1's multi_logloss: 0.17472\n",
      "[207]\tvalid_0's multi_error: 0.0533256\tvalid_0's multi_logloss: 0.153133\tvalid_1's multi_error: 0.0602633\tvalid_1's multi_logloss: 0.174601\n",
      "[208]\tvalid_0's multi_error: 0.0533068\tvalid_0's multi_logloss: 0.152943\tvalid_1's multi_error: 0.0601789\tvalid_1's multi_logloss: 0.1745\n",
      "[209]\tvalid_0's multi_error: 0.0532318\tvalid_0's multi_logloss: 0.152769\tvalid_1's multi_error: 0.0601508\tvalid_1's multi_logloss: 0.174426\n",
      "[210]\tvalid_0's multi_error: 0.0531568\tvalid_0's multi_logloss: 0.152528\tvalid_1's multi_error: 0.0600945\tvalid_1's multi_logloss: 0.174268\n",
      "[211]\tvalid_0's multi_error: 0.053063\tvalid_0's multi_logloss: 0.152335\tvalid_1's multi_error: 0.0600945\tvalid_1's multi_logloss: 0.174147\n",
      "[212]\tvalid_0's multi_error: 0.0530442\tvalid_0's multi_logloss: 0.152095\tvalid_1's multi_error: 0.0600664\tvalid_1's multi_logloss: 0.173965\n",
      "[213]\tvalid_0's multi_error: 0.0529504\tvalid_0's multi_logloss: 0.151837\tvalid_1's multi_error: 0.0600101\tvalid_1's multi_logloss: 0.173797\n",
      "[214]\tvalid_0's multi_error: 0.0528754\tvalid_0's multi_logloss: 0.151666\tvalid_1's multi_error: 0.0600383\tvalid_1's multi_logloss: 0.173723\n",
      "[215]\tvalid_0's multi_error: 0.0529129\tvalid_0's multi_logloss: 0.151406\tvalid_1's multi_error: 0.0599539\tvalid_1's multi_logloss: 0.173545\n",
      "[216]\tvalid_0's multi_error: 0.0527816\tvalid_0's multi_logloss: 0.15119\tvalid_1's multi_error: 0.0598695\tvalid_1's multi_logloss: 0.173403\n",
      "[217]\tvalid_0's multi_error: 0.0526691\tvalid_0's multi_logloss: 0.150954\tvalid_1's multi_error: 0.0597288\tvalid_1's multi_logloss: 0.173233\n",
      "[218]\tvalid_0's multi_error: 0.0526128\tvalid_0's multi_logloss: 0.150759\tvalid_1's multi_error: 0.0598413\tvalid_1's multi_logloss: 0.173122\n",
      "[219]\tvalid_0's multi_error: 0.052519\tvalid_0's multi_logloss: 0.150592\tvalid_1's multi_error: 0.0598413\tvalid_1's multi_logloss: 0.173053\n",
      "[220]\tvalid_0's multi_error: 0.0523315\tvalid_0's multi_logloss: 0.150397\tvalid_1's multi_error: 0.0597851\tvalid_1's multi_logloss: 0.17295\n",
      "[221]\tvalid_0's multi_error: 0.052294\tvalid_0's multi_logloss: 0.150216\tvalid_1's multi_error: 0.0597569\tvalid_1's multi_logloss: 0.172856\n",
      "[222]\tvalid_0's multi_error: 0.0522377\tvalid_0's multi_logloss: 0.150056\tvalid_1's multi_error: 0.0597288\tvalid_1's multi_logloss: 0.172778\n",
      "[223]\tvalid_0's multi_error: 0.0522189\tvalid_0's multi_logloss: 0.149827\tvalid_1's multi_error: 0.0596444\tvalid_1's multi_logloss: 0.172625\n",
      "[224]\tvalid_0's multi_error: 0.0521814\tvalid_0's multi_logloss: 0.149697\tvalid_1's multi_error: 0.0595318\tvalid_1's multi_logloss: 0.172595\n",
      "[225]\tvalid_0's multi_error: 0.0520876\tvalid_0's multi_logloss: 0.149532\tvalid_1's multi_error: 0.0595037\tvalid_1's multi_logloss: 0.172496\n",
      "[226]\tvalid_0's multi_error: 0.0520314\tvalid_0's multi_logloss: 0.149322\tvalid_1's multi_error: 0.0594193\tvalid_1's multi_logloss: 0.172363\n",
      "[227]\tvalid_0's multi_error: 0.0520501\tvalid_0's multi_logloss: 0.149145\tvalid_1's multi_error: 0.0594474\tvalid_1's multi_logloss: 0.172281\n",
      "[228]\tvalid_0's multi_error: 0.0520314\tvalid_0's multi_logloss: 0.149017\tvalid_1's multi_error: 0.0594474\tvalid_1's multi_logloss: 0.172239\n",
      "[229]\tvalid_0's multi_error: 0.0520126\tvalid_0's multi_logloss: 0.148824\tvalid_1's multi_error: 0.0593912\tvalid_1's multi_logloss: 0.172087\n",
      "[230]\tvalid_0's multi_error: 0.0519188\tvalid_0's multi_logloss: 0.148659\tvalid_1's multi_error: 0.0592786\tvalid_1's multi_logloss: 0.17202\n",
      "[231]\tvalid_0's multi_error: 0.051825\tvalid_0's multi_logloss: 0.14849\tvalid_1's multi_error: 0.0592786\tvalid_1's multi_logloss: 0.171921\n",
      "[232]\tvalid_0's multi_error: 0.0517875\tvalid_0's multi_logloss: 0.14833\tvalid_1's multi_error: 0.0592505\tvalid_1's multi_logloss: 0.171856\n",
      "[233]\tvalid_0's multi_error: 0.0516937\tvalid_0's multi_logloss: 0.148049\tvalid_1's multi_error: 0.0592224\tvalid_1's multi_logloss: 0.171622\n",
      "[234]\tvalid_0's multi_error: 0.0516937\tvalid_0's multi_logloss: 0.147886\tvalid_1's multi_error: 0.0592505\tvalid_1's multi_logloss: 0.171537\n",
      "[235]\tvalid_0's multi_error: 0.0515624\tvalid_0's multi_logloss: 0.147695\tvalid_1's multi_error: 0.0592786\tvalid_1's multi_logloss: 0.171445\n",
      "[236]\tvalid_0's multi_error: 0.0516\tvalid_0's multi_logloss: 0.147566\tvalid_1's multi_error: 0.0592786\tvalid_1's multi_logloss: 0.171419\n",
      "[237]\tvalid_0's multi_error: 0.0515437\tvalid_0's multi_logloss: 0.147442\tvalid_1's multi_error: 0.0591942\tvalid_1's multi_logloss: 0.171383\n",
      "[238]\tvalid_0's multi_error: 0.0514687\tvalid_0's multi_logloss: 0.147311\tvalid_1's multi_error: 0.0592505\tvalid_1's multi_logloss: 0.171346\n",
      "[239]\tvalid_0's multi_error: 0.0514499\tvalid_0's multi_logloss: 0.147138\tvalid_1's multi_error: 0.0592786\tvalid_1's multi_logloss: 0.171257\n",
      "[240]\tvalid_0's multi_error: 0.0514874\tvalid_0's multi_logloss: 0.146999\tvalid_1's multi_error: 0.0592505\tvalid_1's multi_logloss: 0.171198\n",
      "[241]\tvalid_0's multi_error: 0.0513936\tvalid_0's multi_logloss: 0.146855\tvalid_1's multi_error: 0.0592505\tvalid_1's multi_logloss: 0.171113\n",
      "[242]\tvalid_0's multi_error: 0.0513374\tvalid_0's multi_logloss: 0.146689\tvalid_1's multi_error: 0.0591661\tvalid_1's multi_logloss: 0.171036\n",
      "[243]\tvalid_0's multi_error: 0.0512248\tvalid_0's multi_logloss: 0.146541\tvalid_1's multi_error: 0.0590254\tvalid_1's multi_logloss: 0.170977\n",
      "[244]\tvalid_0's multi_error: 0.0512248\tvalid_0's multi_logloss: 0.14642\tvalid_1's multi_error: 0.0589973\tvalid_1's multi_logloss: 0.170931\n",
      "[245]\tvalid_0's multi_error: 0.0511685\tvalid_0's multi_logloss: 0.146235\tvalid_1's multi_error: 0.0591098\tvalid_1's multi_logloss: 0.170849\n",
      "[246]\tvalid_0's multi_error: 0.0512248\tvalid_0's multi_logloss: 0.146084\tvalid_1's multi_error: 0.0590817\tvalid_1's multi_logloss: 0.170802\n",
      "[247]\tvalid_0's multi_error: 0.0512061\tvalid_0's multi_logloss: 0.145925\tvalid_1's multi_error: 0.0590254\tvalid_1's multi_logloss: 0.170694\n"
     ]
    },
    {
     "name": "stdout",
     "output_type": "stream",
     "text": [
      "[248]\tvalid_0's multi_error: 0.0511498\tvalid_0's multi_logloss: 0.145808\tvalid_1's multi_error: 0.0589973\tvalid_1's multi_logloss: 0.170675\n",
      "[249]\tvalid_0's multi_error: 0.051131\tvalid_0's multi_logloss: 0.145694\tvalid_1's multi_error: 0.0589973\tvalid_1's multi_logloss: 0.170655\n",
      "[250]\tvalid_0's multi_error: 0.0510748\tvalid_0's multi_logloss: 0.145507\tvalid_1's multi_error: 0.0589692\tvalid_1's multi_logloss: 0.170546\n",
      "[251]\tvalid_0's multi_error: 0.0510935\tvalid_0's multi_logloss: 0.145291\tvalid_1's multi_error: 0.0589129\tvalid_1's multi_logloss: 0.170399\n",
      "[252]\tvalid_0's multi_error: 0.0510373\tvalid_0's multi_logloss: 0.145108\tvalid_1's multi_error: 0.0589129\tvalid_1's multi_logloss: 0.170265\n",
      "[253]\tvalid_0's multi_error: 0.0508122\tvalid_0's multi_logloss: 0.144827\tvalid_1's multi_error: 0.0588566\tvalid_1's multi_logloss: 0.170039\n",
      "[254]\tvalid_0's multi_error: 0.0507559\tvalid_0's multi_logloss: 0.144633\tvalid_1's multi_error: 0.0588566\tvalid_1's multi_logloss: 0.169935\n",
      "[255]\tvalid_0's multi_error: 0.0507184\tvalid_0's multi_logloss: 0.144481\tvalid_1's multi_error: 0.0588004\tvalid_1's multi_logloss: 0.16985\n",
      "[256]\tvalid_0's multi_error: 0.0507371\tvalid_0's multi_logloss: 0.144342\tvalid_1's multi_error: 0.058716\tvalid_1's multi_logloss: 0.169804\n",
      "[257]\tvalid_0's multi_error: 0.0507559\tvalid_0's multi_logloss: 0.144195\tvalid_1's multi_error: 0.0587441\tvalid_1's multi_logloss: 0.169722\n",
      "[258]\tvalid_0's multi_error: 0.0507559\tvalid_0's multi_logloss: 0.144021\tvalid_1's multi_error: 0.0587722\tvalid_1's multi_logloss: 0.169624\n",
      "[259]\tvalid_0's multi_error: 0.0506996\tvalid_0's multi_logloss: 0.143846\tvalid_1's multi_error: 0.0588004\tvalid_1's multi_logloss: 0.169524\n",
      "[260]\tvalid_0's multi_error: 0.0506058\tvalid_0's multi_logloss: 0.143698\tvalid_1's multi_error: 0.0586878\tvalid_1's multi_logloss: 0.169448\n",
      "[261]\tvalid_0's multi_error: 0.0505683\tvalid_0's multi_logloss: 0.143595\tvalid_1's multi_error: 0.0587441\tvalid_1's multi_logloss: 0.169426\n",
      "[262]\tvalid_0's multi_error: 0.0504745\tvalid_0's multi_logloss: 0.143402\tvalid_1's multi_error: 0.0586878\tvalid_1's multi_logloss: 0.169331\n",
      "[263]\tvalid_0's multi_error: 0.0504745\tvalid_0's multi_logloss: 0.143222\tvalid_1's multi_error: 0.0586597\tvalid_1's multi_logloss: 0.169225\n",
      "[264]\tvalid_0's multi_error: 0.0503808\tvalid_0's multi_logloss: 0.143081\tvalid_1's multi_error: 0.0586034\tvalid_1's multi_logloss: 0.169168\n",
      "[265]\tvalid_0's multi_error: 0.0503432\tvalid_0's multi_logloss: 0.142971\tvalid_1's multi_error: 0.0586878\tvalid_1's multi_logloss: 0.169145\n",
      "[266]\tvalid_0's multi_error: 0.050212\tvalid_0's multi_logloss: 0.142819\tvalid_1's multi_error: 0.0586878\tvalid_1's multi_logloss: 0.169058\n",
      "[267]\tvalid_0's multi_error: 0.0502307\tvalid_0's multi_logloss: 0.142653\tvalid_1's multi_error: 0.0586034\tvalid_1's multi_logloss: 0.168964\n",
      "[268]\tvalid_0's multi_error: 0.0502307\tvalid_0's multi_logloss: 0.142513\tvalid_1's multi_error: 0.0586597\tvalid_1's multi_logloss: 0.168912\n",
      "[269]\tvalid_0's multi_error: 0.050212\tvalid_0's multi_logloss: 0.142368\tvalid_1's multi_error: 0.0586597\tvalid_1's multi_logloss: 0.168833\n",
      "[270]\tvalid_0's multi_error: 0.0501182\tvalid_0's multi_logloss: 0.142261\tvalid_1's multi_error: 0.0585472\tvalid_1's multi_logloss: 0.16882\n",
      "[271]\tvalid_0's multi_error: 0.0501182\tvalid_0's multi_logloss: 0.142146\tvalid_1's multi_error: 0.0585472\tvalid_1's multi_logloss: 0.168781\n",
      "[272]\tvalid_0's multi_error: 0.0500994\tvalid_0's multi_logloss: 0.141995\tvalid_1's multi_error: 0.058519\tvalid_1's multi_logloss: 0.168703\n",
      "[273]\tvalid_0's multi_error: 0.0500619\tvalid_0's multi_logloss: 0.141851\tvalid_1's multi_error: 0.058519\tvalid_1's multi_logloss: 0.168633\n",
      "[274]\tvalid_0's multi_error: 0.0499681\tvalid_0's multi_logloss: 0.141618\tvalid_1's multi_error: 0.0584065\tvalid_1's multi_logloss: 0.168471\n",
      "[275]\tvalid_0's multi_error: 0.0499118\tvalid_0's multi_logloss: 0.141472\tvalid_1's multi_error: 0.0583221\tvalid_1's multi_logloss: 0.16839\n",
      "[276]\tvalid_0's multi_error: 0.0499118\tvalid_0's multi_logloss: 0.141362\tvalid_1's multi_error: 0.0583221\tvalid_1's multi_logloss: 0.168363\n",
      "[277]\tvalid_0's multi_error: 0.0497805\tvalid_0's multi_logloss: 0.141194\tvalid_1's multi_error: 0.0583783\tvalid_1's multi_logloss: 0.16827\n",
      "[278]\tvalid_0's multi_error: 0.0497618\tvalid_0's multi_logloss: 0.141072\tvalid_1's multi_error: 0.0583502\tvalid_1's multi_logloss: 0.168216\n",
      "[279]\tvalid_0's multi_error: 0.0497243\tvalid_0's multi_logloss: 0.140915\tvalid_1's multi_error: 0.0583221\tvalid_1's multi_logloss: 0.16814\n",
      "[280]\tvalid_0's multi_error: 0.0496868\tvalid_0's multi_logloss: 0.140805\tvalid_1's multi_error: 0.0583502\tvalid_1's multi_logloss: 0.168115\n",
      "[281]\tvalid_0's multi_error: 0.0497243\tvalid_0's multi_logloss: 0.140705\tvalid_1's multi_error: 0.0582939\tvalid_1's multi_logloss: 0.168085\n",
      "[282]\tvalid_0's multi_error: 0.049593\tvalid_0's multi_logloss: 0.140596\tvalid_1's multi_error: 0.0582658\tvalid_1's multi_logloss: 0.168024\n",
      "[283]\tvalid_0's multi_error: 0.049593\tvalid_0's multi_logloss: 0.140451\tvalid_1's multi_error: 0.0582939\tvalid_1's multi_logloss: 0.167957\n",
      "[284]\tvalid_0's multi_error: 0.049593\tvalid_0's multi_logloss: 0.140284\tvalid_1's multi_error: 0.0582377\tvalid_1's multi_logloss: 0.167874\n",
      "[285]\tvalid_0's multi_error: 0.0494242\tvalid_0's multi_logloss: 0.140134\tvalid_1's multi_error: 0.0581533\tvalid_1's multi_logloss: 0.167774\n",
      "[286]\tvalid_0's multi_error: 0.0494242\tvalid_0's multi_logloss: 0.140016\tvalid_1's multi_error: 0.0581251\tvalid_1's multi_logloss: 0.167731\n",
      "[287]\tvalid_0's multi_error: 0.0493304\tvalid_0's multi_logloss: 0.139847\tvalid_1's multi_error: 0.058097\tvalid_1's multi_logloss: 0.16764\n",
      "[288]\tvalid_0's multi_error: 0.0492929\tvalid_0's multi_logloss: 0.139747\tvalid_1's multi_error: 0.0580689\tvalid_1's multi_logloss: 0.167631\n",
      "[289]\tvalid_0's multi_error: 0.0492929\tvalid_0's multi_logloss: 0.13956\tvalid_1's multi_error: 0.0580407\tvalid_1's multi_logloss: 0.167523\n",
      "[290]\tvalid_0's multi_error: 0.0490865\tvalid_0's multi_logloss: 0.139304\tvalid_1's multi_error: 0.0578157\tvalid_1's multi_logloss: 0.167332\n",
      "[291]\tvalid_0's multi_error: 0.0490115\tvalid_0's multi_logloss: 0.139152\tvalid_1's multi_error: 0.0578438\tvalid_1's multi_logloss: 0.167257\n",
      "[292]\tvalid_0's multi_error: 0.048974\tvalid_0's multi_logloss: 0.139052\tvalid_1's multi_error: 0.0579282\tvalid_1's multi_logloss: 0.167241\n",
      "[293]\tvalid_0's multi_error: 0.0489177\tvalid_0's multi_logloss: 0.13893\tvalid_1's multi_error: 0.0578438\tvalid_1's multi_logloss: 0.167188\n",
      "[294]\tvalid_0's multi_error: 0.0489177\tvalid_0's multi_logloss: 0.138825\tvalid_1's multi_error: 0.0579563\tvalid_1's multi_logloss: 0.167167\n",
      "[295]\tvalid_0's multi_error: 0.048899\tvalid_0's multi_logloss: 0.138722\tvalid_1's multi_error: 0.0579845\tvalid_1's multi_logloss: 0.167154\n",
      "[296]\tvalid_0's multi_error: 0.0488802\tvalid_0's multi_logloss: 0.13859\tvalid_1's multi_error: 0.0579282\tvalid_1's multi_logloss: 0.167087\n",
      "[297]\tvalid_0's multi_error: 0.0488427\tvalid_0's multi_logloss: 0.138486\tvalid_1's multi_error: 0.0578719\tvalid_1's multi_logloss: 0.167078\n",
      "[298]\tvalid_0's multi_error: 0.0487114\tvalid_0's multi_logloss: 0.138375\tvalid_1's multi_error: 0.0578719\tvalid_1's multi_logloss: 0.16703\n",
      "[299]\tvalid_0's multi_error: 0.0486364\tvalid_0's multi_logloss: 0.138251\tvalid_1's multi_error: 0.0578719\tvalid_1's multi_logloss: 0.166998\n",
      "[300]\tvalid_0's multi_error: 0.0484863\tvalid_0's multi_logloss: 0.138136\tvalid_1's multi_error: 0.0578719\tvalid_1's multi_logloss: 0.166938\n",
      "[301]\tvalid_0's multi_error: 0.0484113\tvalid_0's multi_logloss: 0.137976\tvalid_1's multi_error: 0.0578719\tvalid_1's multi_logloss: 0.166837\n",
      "[302]\tvalid_0's multi_error: 0.0484113\tvalid_0's multi_logloss: 0.137842\tvalid_1's multi_error: 0.0579563\tvalid_1's multi_logloss: 0.166774\n",
      "[303]\tvalid_0's multi_error: 0.0484301\tvalid_0's multi_logloss: 0.1377\tvalid_1's multi_error: 0.0578719\tvalid_1's multi_logloss: 0.166692\n",
      "[304]\tvalid_0's multi_error: 0.04828\tvalid_0's multi_logloss: 0.137594\tvalid_1's multi_error: 0.0578719\tvalid_1's multi_logloss: 0.166678\n",
      "[305]\tvalid_0's multi_error: 0.0481675\tvalid_0's multi_logloss: 0.137467\tvalid_1's multi_error: 0.0577875\tvalid_1's multi_logloss: 0.166615\n",
      "[306]\tvalid_0's multi_error: 0.0480924\tvalid_0's multi_logloss: 0.137249\tvalid_1's multi_error: 0.057675\tvalid_1's multi_logloss: 0.166442\n",
      "[307]\tvalid_0's multi_error: 0.0480737\tvalid_0's multi_logloss: 0.137092\tvalid_1's multi_error: 0.0575906\tvalid_1's multi_logloss: 0.166361\n",
      "[308]\tvalid_0's multi_error: 0.0479424\tvalid_0's multi_logloss: 0.136828\tvalid_1's multi_error: 0.0575906\tvalid_1's multi_logloss: 0.166167\n",
      "[309]\tvalid_0's multi_error: 0.0479424\tvalid_0's multi_logloss: 0.136657\tvalid_1's multi_error: 0.0576187\tvalid_1's multi_logloss: 0.16605\n",
      "[310]\tvalid_0's multi_error: 0.0478861\tvalid_0's multi_logloss: 0.136546\tvalid_1's multi_error: 0.0575906\tvalid_1's multi_logloss: 0.166012\n",
      "[311]\tvalid_0's multi_error: 0.0478486\tvalid_0's multi_logloss: 0.136399\tvalid_1's multi_error: 0.0575343\tvalid_1's multi_logloss: 0.165942\n",
      "[312]\tvalid_0's multi_error: 0.0477736\tvalid_0's multi_logloss: 0.136177\tvalid_1's multi_error: 0.0574499\tvalid_1's multi_logloss: 0.16578\n"
     ]
    },
    {
     "name": "stdout",
     "output_type": "stream",
     "text": [
      "[313]\tvalid_0's multi_error: 0.0476235\tvalid_0's multi_logloss: 0.136047\tvalid_1's multi_error: 0.0573937\tvalid_1's multi_logloss: 0.165715\n",
      "[314]\tvalid_0's multi_error: 0.0474735\tvalid_0's multi_logloss: 0.135792\tvalid_1's multi_error: 0.057253\tvalid_1's multi_logloss: 0.165512\n",
      "[315]\tvalid_0's multi_error: 0.0473984\tvalid_0's multi_logloss: 0.135664\tvalid_1's multi_error: 0.0571967\tvalid_1's multi_logloss: 0.165467\n",
      "[316]\tvalid_0's multi_error: 0.0473797\tvalid_0's multi_logloss: 0.135567\tvalid_1's multi_error: 0.0571404\tvalid_1's multi_logloss: 0.165449\n",
      "[317]\tvalid_0's multi_error: 0.0473234\tvalid_0's multi_logloss: 0.135406\tvalid_1's multi_error: 0.0571967\tvalid_1's multi_logloss: 0.165364\n",
      "[318]\tvalid_0's multi_error: 0.0472109\tvalid_0's multi_logloss: 0.135266\tvalid_1's multi_error: 0.0571967\tvalid_1's multi_logloss: 0.165308\n",
      "[319]\tvalid_0's multi_error: 0.0470796\tvalid_0's multi_logloss: 0.135135\tvalid_1's multi_error: 0.057056\tvalid_1's multi_logloss: 0.165246\n",
      "[320]\tvalid_0's multi_error: 0.0469858\tvalid_0's multi_logloss: 0.134886\tvalid_1's multi_error: 0.0571123\tvalid_1's multi_logloss: 0.165046\n",
      "[321]\tvalid_0's multi_error: 0.0469483\tvalid_0's multi_logloss: 0.134801\tvalid_1's multi_error: 0.0571123\tvalid_1's multi_logloss: 0.165037\n",
      "[322]\tvalid_0's multi_error: 0.0469295\tvalid_0's multi_logloss: 0.13469\tvalid_1's multi_error: 0.0570842\tvalid_1's multi_logloss: 0.164982\n",
      "[323]\tvalid_0's multi_error: 0.0468732\tvalid_0's multi_logloss: 0.134573\tvalid_1's multi_error: 0.057056\tvalid_1's multi_logloss: 0.164926\n",
      "[324]\tvalid_0's multi_error: 0.046817\tvalid_0's multi_logloss: 0.13443\tvalid_1's multi_error: 0.0570842\tvalid_1's multi_logloss: 0.164844\n",
      "[325]\tvalid_0's multi_error: 0.0467232\tvalid_0's multi_logloss: 0.13419\tvalid_1's multi_error: 0.0570842\tvalid_1's multi_logloss: 0.164677\n",
      "[326]\tvalid_0's multi_error: 0.0467044\tvalid_0's multi_logloss: 0.133977\tvalid_1's multi_error: 0.0569716\tvalid_1's multi_logloss: 0.164533\n",
      "[327]\tvalid_0's multi_error: 0.0465731\tvalid_0's multi_logloss: 0.13383\tvalid_1's multi_error: 0.0570279\tvalid_1's multi_logloss: 0.164458\n",
      "[328]\tvalid_0's multi_error: 0.0465356\tvalid_0's multi_logloss: 0.133696\tvalid_1's multi_error: 0.0569154\tvalid_1's multi_logloss: 0.16439\n",
      "[329]\tvalid_0's multi_error: 0.0464606\tvalid_0's multi_logloss: 0.133548\tvalid_1's multi_error: 0.0568872\tvalid_1's multi_logloss: 0.164332\n",
      "[330]\tvalid_0's multi_error: 0.0464606\tvalid_0's multi_logloss: 0.133433\tvalid_1's multi_error: 0.0568591\tvalid_1's multi_logloss: 0.164289\n",
      "[331]\tvalid_0's multi_error: 0.0464418\tvalid_0's multi_logloss: 0.133305\tvalid_1's multi_error: 0.056831\tvalid_1's multi_logloss: 0.164246\n",
      "[332]\tvalid_0's multi_error: 0.0463293\tvalid_0's multi_logloss: 0.133197\tvalid_1's multi_error: 0.0568872\tvalid_1's multi_logloss: 0.164204\n",
      "[333]\tvalid_0's multi_error: 0.0463105\tvalid_0's multi_logloss: 0.13304\tvalid_1's multi_error: 0.0569154\tvalid_1's multi_logloss: 0.164108\n",
      "[334]\tvalid_0's multi_error: 0.0462543\tvalid_0's multi_logloss: 0.132945\tvalid_1's multi_error: 0.0569154\tvalid_1's multi_logloss: 0.164063\n",
      "[335]\tvalid_0's multi_error: 0.0461792\tvalid_0's multi_logloss: 0.132827\tvalid_1's multi_error: 0.0568591\tvalid_1's multi_logloss: 0.163992\n",
      "[336]\tvalid_0's multi_error: 0.0460292\tvalid_0's multi_logloss: 0.132619\tvalid_1's multi_error: 0.0568872\tvalid_1's multi_logloss: 0.163839\n",
      "[337]\tvalid_0's multi_error: 0.0460292\tvalid_0's multi_logloss: 0.13252\tvalid_1's multi_error: 0.0568591\tvalid_1's multi_logloss: 0.163822\n",
      "[338]\tvalid_0's multi_error: 0.0458791\tvalid_0's multi_logloss: 0.132224\tvalid_1's multi_error: 0.0566059\tvalid_1's multi_logloss: 0.163583\n",
      "[339]\tvalid_0's multi_error: 0.0458041\tvalid_0's multi_logloss: 0.132089\tvalid_1's multi_error: 0.0565496\tvalid_1's multi_logloss: 0.163521\n",
      "[340]\tvalid_0's multi_error: 0.0457103\tvalid_0's multi_logloss: 0.131941\tvalid_1's multi_error: 0.0565215\tvalid_1's multi_logloss: 0.163452\n",
      "[341]\tvalid_0's multi_error: 0.0457666\tvalid_0's multi_logloss: 0.131806\tvalid_1's multi_error: 0.0566059\tvalid_1's multi_logloss: 0.163389\n",
      "[342]\tvalid_0's multi_error: 0.0457478\tvalid_0's multi_logloss: 0.13166\tvalid_1's multi_error: 0.0565778\tvalid_1's multi_logloss: 0.163297\n",
      "[343]\tvalid_0's multi_error: 0.0456728\tvalid_0's multi_logloss: 0.131523\tvalid_1's multi_error: 0.0565215\tvalid_1's multi_logloss: 0.163244\n",
      "[344]\tvalid_0's multi_error: 0.0456728\tvalid_0's multi_logloss: 0.131394\tvalid_1's multi_error: 0.0565778\tvalid_1's multi_logloss: 0.16318\n",
      "[345]\tvalid_0's multi_error: 0.045579\tvalid_0's multi_logloss: 0.131281\tvalid_1's multi_error: 0.0564934\tvalid_1's multi_logloss: 0.163122\n",
      "[346]\tvalid_0's multi_error: 0.0454852\tvalid_0's multi_logloss: 0.131162\tvalid_1's multi_error: 0.0564652\tvalid_1's multi_logloss: 0.163085\n",
      "[347]\tvalid_0's multi_error: 0.0454852\tvalid_0's multi_logloss: 0.131037\tvalid_1's multi_error: 0.0564652\tvalid_1's multi_logloss: 0.163026\n",
      "[348]\tvalid_0's multi_error: 0.0453539\tvalid_0's multi_logloss: 0.130933\tvalid_1's multi_error: 0.0563527\tvalid_1's multi_logloss: 0.162973\n",
      "[349]\tvalid_0's multi_error: 0.0452789\tvalid_0's multi_logloss: 0.130789\tvalid_1's multi_error: 0.0563808\tvalid_1's multi_logloss: 0.162896\n",
      "[350]\tvalid_0's multi_error: 0.0452602\tvalid_0's multi_logloss: 0.130693\tvalid_1's multi_error: 0.0563808\tvalid_1's multi_logloss: 0.162856\n",
      "[351]\tvalid_0's multi_error: 0.0452226\tvalid_0's multi_logloss: 0.130569\tvalid_1's multi_error: 0.0563808\tvalid_1's multi_logloss: 0.162815\n",
      "[352]\tvalid_0's multi_error: 0.0451476\tvalid_0's multi_logloss: 0.130453\tvalid_1's multi_error: 0.0563808\tvalid_1's multi_logloss: 0.162784\n"
     ]
    },
    {
     "ename": "KeyboardInterrupt",
     "evalue": "",
     "output_type": "error",
     "traceback": [
      "\u001b[1;31m---------------------------------------------------------------------------\u001b[0m",
      "\u001b[1;31mKeyboardInterrupt\u001b[0m                         Traceback (most recent call last)",
      "\u001b[1;32m<ipython-input-24-b669dea99fe1>\u001b[0m in \u001b[0;36m<module>\u001b[1;34m\u001b[0m\n\u001b[0;32m      1\u001b[0m \u001b[0mclf\u001b[0m \u001b[1;33m=\u001b[0m \u001b[0mlgb\u001b[0m\u001b[1;33m.\u001b[0m\u001b[0mLGBMClassifier\u001b[0m\u001b[1;33m(\u001b[0m\u001b[1;33m**\u001b[0m\u001b[0mparams\u001b[0m\u001b[1;33m)\u001b[0m\u001b[1;33m\u001b[0m\u001b[1;33m\u001b[0m\u001b[0m\n\u001b[0;32m      2\u001b[0m \u001b[1;33m\u001b[0m\u001b[0m\n\u001b[1;32m----> 3\u001b[1;33m \u001b[0mclf\u001b[0m\u001b[1;33m.\u001b[0m\u001b[0mfit\u001b[0m\u001b[1;33m(\u001b[0m\u001b[0mdf_train\u001b[0m\u001b[1;33m[\u001b[0m\u001b[0mfeature_cols\u001b[0m\u001b[1;33m]\u001b[0m\u001b[1;33m,\u001b[0m \u001b[0mdf_train\u001b[0m\u001b[1;33m[\u001b[0m\u001b[0mlabel_col\u001b[0m\u001b[1;33m]\u001b[0m\u001b[1;33m,\u001b[0m \u001b[0mearly_stopping_rounds\u001b[0m\u001b[1;33m=\u001b[0m\u001b[1;36m100\u001b[0m\u001b[1;33m,\u001b[0m \u001b[0meval_set\u001b[0m\u001b[1;33m=\u001b[0m\u001b[1;33m[\u001b[0m\u001b[1;33m(\u001b[0m\u001b[0mdf_train\u001b[0m\u001b[1;33m[\u001b[0m\u001b[0mfeature_cols\u001b[0m\u001b[1;33m]\u001b[0m\u001b[1;33m,\u001b[0m \u001b[0mdf_train\u001b[0m\u001b[1;33m[\u001b[0m\u001b[0mlabel_col\u001b[0m\u001b[1;33m]\u001b[0m\u001b[1;33m)\u001b[0m\u001b[1;33m,\u001b[0m \u001b[1;33m(\u001b[0m\u001b[0mdf_eval\u001b[0m\u001b[1;33m[\u001b[0m\u001b[0mfeature_cols\u001b[0m\u001b[1;33m]\u001b[0m\u001b[1;33m,\u001b[0m \u001b[0mdf_eval\u001b[0m\u001b[1;33m[\u001b[0m\u001b[0mlabel_col\u001b[0m\u001b[1;33m]\u001b[0m\u001b[1;33m)\u001b[0m\u001b[1;33m]\u001b[0m\u001b[1;33m,\u001b[0m \u001b[0meval_metric\u001b[0m\u001b[1;33m=\u001b[0m\u001b[1;34m'multi_error'\u001b[0m\u001b[1;33m,\u001b[0m \u001b[0mverbose\u001b[0m\u001b[1;33m=\u001b[0m\u001b[1;32mTrue\u001b[0m\u001b[1;33m,\u001b[0m \u001b[0mcategorical_feature\u001b[0m\u001b[1;33m=\u001b[0m\u001b[0mcat_cols\u001b[0m\u001b[1;33m)\u001b[0m\u001b[1;33m\u001b[0m\u001b[1;33m\u001b[0m\u001b[0m\n\u001b[0m\u001b[0;32m      4\u001b[0m \u001b[1;33m\u001b[0m\u001b[0m\n\u001b[0;32m      5\u001b[0m \u001b[0meval_score\u001b[0m \u001b[1;33m=\u001b[0m \u001b[0maccuracy_score\u001b[0m\u001b[1;33m(\u001b[0m\u001b[0mdf_eval\u001b[0m\u001b[1;33m[\u001b[0m\u001b[0mlabel_col\u001b[0m\u001b[1;33m]\u001b[0m\u001b[1;33m,\u001b[0m \u001b[0mclf\u001b[0m\u001b[1;33m.\u001b[0m\u001b[0mpredict\u001b[0m\u001b[1;33m(\u001b[0m\u001b[0mdf_eval\u001b[0m\u001b[1;33m[\u001b[0m\u001b[0mfeature_cols\u001b[0m\u001b[1;33m]\u001b[0m\u001b[1;33m)\u001b[0m\u001b[1;33m)\u001b[0m\u001b[1;33m\u001b[0m\u001b[1;33m\u001b[0m\u001b[0m\n",
      "\u001b[1;32m~\\anaconda3\\lib\\site-packages\\lightgbm\\sklearn.py\u001b[0m in \u001b[0;36mfit\u001b[1;34m(self, X, y, sample_weight, init_score, eval_set, eval_names, eval_sample_weight, eval_class_weight, eval_init_score, eval_metric, early_stopping_rounds, verbose, feature_name, categorical_feature, callbacks)\u001b[0m\n\u001b[0;32m    798\u001b[0m                                         \u001b[0mverbose\u001b[0m\u001b[1;33m=\u001b[0m\u001b[0mverbose\u001b[0m\u001b[1;33m,\u001b[0m \u001b[0mfeature_name\u001b[0m\u001b[1;33m=\u001b[0m\u001b[0mfeature_name\u001b[0m\u001b[1;33m,\u001b[0m\u001b[1;33m\u001b[0m\u001b[1;33m\u001b[0m\u001b[0m\n\u001b[0;32m    799\u001b[0m                                         \u001b[0mcategorical_feature\u001b[0m\u001b[1;33m=\u001b[0m\u001b[0mcategorical_feature\u001b[0m\u001b[1;33m,\u001b[0m\u001b[1;33m\u001b[0m\u001b[1;33m\u001b[0m\u001b[0m\n\u001b[1;32m--> 800\u001b[1;33m                                         callbacks=callbacks)\n\u001b[0m\u001b[0;32m    801\u001b[0m         \u001b[1;32mreturn\u001b[0m \u001b[0mself\u001b[0m\u001b[1;33m\u001b[0m\u001b[1;33m\u001b[0m\u001b[0m\n\u001b[0;32m    802\u001b[0m \u001b[1;33m\u001b[0m\u001b[0m\n",
      "\u001b[1;32m~\\anaconda3\\lib\\site-packages\\lightgbm\\sklearn.py\u001b[0m in \u001b[0;36mfit\u001b[1;34m(self, X, y, sample_weight, init_score, group, eval_set, eval_names, eval_sample_weight, eval_class_weight, eval_init_score, eval_group, eval_metric, early_stopping_rounds, verbose, feature_name, categorical_feature, callbacks)\u001b[0m\n\u001b[0;32m    593\u001b[0m                               \u001b[0mverbose_eval\u001b[0m\u001b[1;33m=\u001b[0m\u001b[0mverbose\u001b[0m\u001b[1;33m,\u001b[0m \u001b[0mfeature_name\u001b[0m\u001b[1;33m=\u001b[0m\u001b[0mfeature_name\u001b[0m\u001b[1;33m,\u001b[0m\u001b[1;33m\u001b[0m\u001b[1;33m\u001b[0m\u001b[0m\n\u001b[0;32m    594\u001b[0m                               \u001b[0mcategorical_feature\u001b[0m\u001b[1;33m=\u001b[0m\u001b[0mcategorical_feature\u001b[0m\u001b[1;33m,\u001b[0m\u001b[1;33m\u001b[0m\u001b[1;33m\u001b[0m\u001b[0m\n\u001b[1;32m--> 595\u001b[1;33m                               callbacks=callbacks)\n\u001b[0m\u001b[0;32m    596\u001b[0m \u001b[1;33m\u001b[0m\u001b[0m\n\u001b[0;32m    597\u001b[0m         \u001b[1;32mif\u001b[0m \u001b[0mevals_result\u001b[0m\u001b[1;33m:\u001b[0m\u001b[1;33m\u001b[0m\u001b[1;33m\u001b[0m\u001b[0m\n",
      "\u001b[1;32m~\\anaconda3\\lib\\site-packages\\lightgbm\\engine.py\u001b[0m in \u001b[0;36mtrain\u001b[1;34m(params, train_set, num_boost_round, valid_sets, valid_names, fobj, feval, init_model, feature_name, categorical_feature, early_stopping_rounds, evals_result, verbose_eval, learning_rates, keep_training_booster, callbacks)\u001b[0m\n\u001b[0;32m    247\u001b[0m                                     evaluation_result_list=None))\n\u001b[0;32m    248\u001b[0m \u001b[1;33m\u001b[0m\u001b[0m\n\u001b[1;32m--> 249\u001b[1;33m         \u001b[0mbooster\u001b[0m\u001b[1;33m.\u001b[0m\u001b[0mupdate\u001b[0m\u001b[1;33m(\u001b[0m\u001b[0mfobj\u001b[0m\u001b[1;33m=\u001b[0m\u001b[0mfobj\u001b[0m\u001b[1;33m)\u001b[0m\u001b[1;33m\u001b[0m\u001b[1;33m\u001b[0m\u001b[0m\n\u001b[0m\u001b[0;32m    250\u001b[0m \u001b[1;33m\u001b[0m\u001b[0m\n\u001b[0;32m    251\u001b[0m         \u001b[0mevaluation_result_list\u001b[0m \u001b[1;33m=\u001b[0m \u001b[1;33m[\u001b[0m\u001b[1;33m]\u001b[0m\u001b[1;33m\u001b[0m\u001b[1;33m\u001b[0m\u001b[0m\n",
      "\u001b[1;32m~\\anaconda3\\lib\\site-packages\\lightgbm\\basic.py\u001b[0m in \u001b[0;36mupdate\u001b[1;34m(self, train_set, fobj)\u001b[0m\n\u001b[0;32m   1924\u001b[0m             _safe_call(_LIB.LGBM_BoosterUpdateOneIter(\n\u001b[0;32m   1925\u001b[0m                 \u001b[0mself\u001b[0m\u001b[1;33m.\u001b[0m\u001b[0mhandle\u001b[0m\u001b[1;33m,\u001b[0m\u001b[1;33m\u001b[0m\u001b[1;33m\u001b[0m\u001b[0m\n\u001b[1;32m-> 1926\u001b[1;33m                 ctypes.byref(is_finished)))\n\u001b[0m\u001b[0;32m   1927\u001b[0m             \u001b[0mself\u001b[0m\u001b[1;33m.\u001b[0m\u001b[0m__is_predicted_cur_iter\u001b[0m \u001b[1;33m=\u001b[0m \u001b[1;33m[\u001b[0m\u001b[1;32mFalse\u001b[0m \u001b[1;32mfor\u001b[0m \u001b[0m_\u001b[0m \u001b[1;32min\u001b[0m \u001b[0mrange_\u001b[0m\u001b[1;33m(\u001b[0m\u001b[0mself\u001b[0m\u001b[1;33m.\u001b[0m\u001b[0m__num_dataset\u001b[0m\u001b[1;33m)\u001b[0m\u001b[1;33m]\u001b[0m\u001b[1;33m\u001b[0m\u001b[1;33m\u001b[0m\u001b[0m\n\u001b[0;32m   1928\u001b[0m             \u001b[1;32mreturn\u001b[0m \u001b[0mis_finished\u001b[0m\u001b[1;33m.\u001b[0m\u001b[0mvalue\u001b[0m \u001b[1;33m==\u001b[0m \u001b[1;36m1\u001b[0m\u001b[1;33m\u001b[0m\u001b[1;33m\u001b[0m\u001b[0m\n",
      "\u001b[1;31mKeyboardInterrupt\u001b[0m: "
     ]
    }
   ],
   "source": [
    "clf = lgb.LGBMClassifier(**params)\n",
    "    \n",
    "clf.fit(df_train[feature_cols], df_train[label_col], early_stopping_rounds=100, eval_set=[(df_train[feature_cols], df_train[label_col]), (df_eval[feature_cols], df_eval[label_col])], eval_metric='multi_error', verbose=True, categorical_feature=cat_cols)\n",
    "\n",
    "eval_score = accuracy_score(df_eval[label_col], clf.predict(df_eval[feature_cols]))\n",
    "\n",
    "print('Eval ACC: {}'.format(eval_score))"
   ]
  },
  {
   "cell_type": "code",
   "execution_count": null,
   "metadata": {
    "colab": {},
    "colab_type": "code",
    "id": "ZUI8zSvCJrsF",
    "outputId": "175101a6-917d-4ff4-9853-c8cc192302c5"
   },
   "outputs": [
    {
     "name": "stdout",
     "output_type": "stream",
     "text": [
      "{'learning_rate': 0.04, 'max_depth': 18, 'n_estimators': 1757, 'objective': 'multiclass', 'boosting_type': 'gbdt', 'subsample': 0.7, 'random_state': 42, 'colsample_bytree': 0.7, 'min_data_in_leaf': 55, 'reg_alpha': 1.7, 'reg_lambda': 1.11}\n"
     ]
    }
   ],
   "source": [
    "best_iter = clf.best_iteration_\n",
    "params['n_estimators'] = best_iter\n",
    "print(params)"
   ]
  },
  {
   "cell_type": "code",
   "execution_count": null,
   "metadata": {
    "colab": {},
    "colab_type": "code",
    "id": "xo5AMibeJrsI"
   },
   "outputs": [],
   "source": [
    "df_train = pd.concat((df_train, df_eval))"
   ]
  },
  {
   "cell_type": "code",
   "execution_count": null,
   "metadata": {
    "colab": {},
    "colab_type": "code",
    "id": "qNUK2YO3JrsJ",
    "outputId": "597161cf-6bc7-4877-d4ec-af511bcb4ed5"
   },
   "outputs": [
    {
     "name": "stdout",
     "output_type": "stream",
     "text": [
      "ACC: 0.9795741520178262\n"
     ]
    }
   ],
   "source": [
    "clf = lgb.LGBMClassifier(**params)\n",
    "\n",
    "clf.fit(df_train[feature_cols], df_train[label_col], eval_metric='multi_error', verbose=False, categorical_feature=cat_cols)\n",
    "\n",
    "# eval_score_auc = roc_auc_score(df_train[label_col], clf.predict(df_train[feature_cols]))\n",
    "eval_score_acc = accuracy_score(df_train[label_col], clf.predict(df_train[feature_cols]))\n",
    "\n",
    "print('ACC: {}'.format(eval_score_acc))"
   ]
  },
  {
   "cell_type": "code",
   "execution_count": null,
   "metadata": {
    "colab": {},
    "colab_type": "code",
    "id": "q8OZy1fXJrsL"
   },
   "outputs": [],
   "source": [
    "preds = clf.predict(df_test[feature_cols])"
   ]
  },
  {
   "cell_type": "code",
   "execution_count": null,
   "metadata": {
    "colab": {},
    "colab_type": "code",
    "id": "2gkrkdELJrsN",
    "outputId": "5a84ae39-95f2-404c-a050-d741f506fa31"
   },
   "outputs": [
    {
     "data": {
      "text/plain": [
       "Counter({0: 74238, 1: 12307, 2: 2313})"
      ]
     },
     "execution_count": 26,
     "metadata": {
      "tags": []
     },
     "output_type": "execute_result"
    }
   ],
   "source": [
    "Counter(df_train['Crop_Damage'])"
   ]
  },
  {
   "cell_type": "code",
   "execution_count": null,
   "metadata": {
    "colab": {},
    "colab_type": "code",
    "id": "BGPLnNuuJrsP",
    "outputId": "2c6d1ae6-9110-4587-9f5c-d2faf1e259a1"
   },
   "outputs": [
    {
     "data": {
      "text/plain": [
       "Counter({0: 50238, 1: 8532, 2: 540})"
      ]
     },
     "execution_count": 27,
     "metadata": {
      "tags": []
     },
     "output_type": "execute_result"
    }
   ],
   "source": [
    "Counter(preds)"
   ]
  },
  {
   "cell_type": "code",
   "execution_count": null,
   "metadata": {
    "colab": {},
    "colab_type": "code",
    "id": "RQrMudfjJrsR"
   },
   "outputs": [],
   "source": [
    "submission = pd.DataFrame({'ID':df_test['ID'], 'Crop_Damage':preds})"
   ]
  },
  {
   "cell_type": "code",
   "execution_count": null,
   "metadata": {
    "colab": {},
    "colab_type": "code",
    "id": "JaHJb8cqJrsU",
    "outputId": "c593fdc5-d196-48a5-f9b5-ce4af2872ff8"
   },
   "outputs": [
    {
     "data": {
      "image/png": "[encoded data removed]",
      "text/plain": [
       "<Figure size 864x432 with 1 Axes>"
      ]
     },
     "metadata": {
      "tags": []
     },
     "output_type": "display_data"
    }
   ],
   "source": [
    "plt.rcParams['figure.figsize'] = (12, 6)\n",
    "lgb.plot_importance(clf)\n",
    "plt.show()"
   ]
  },
  {
   "cell_type": "code",
   "execution_count": null,
   "metadata": {
    "colab": {},
    "colab_type": "code",
    "id": "8JnOmEqlJrsX"
   },
   "outputs": [],
   "source": [
    "## some hard-coding done in excel for marginal probability values to improve accuracy (by ~ 0.005)."
   ]
  }
 ],
 "metadata": {
  "colab": {
   "collapsed_sections": [],
   "name": "Copy of AV_JanataHackAgri- lgbm.ipynb",
   "provenance": [
    {
     "file_id": "1PqmwEmFzvhhq4bjUzRk3fx4iWDwBrE-F",
     "timestamp": 1596020117943
    },
    {
     "file_id": "1NJgPrKh1b_JOHX-SnSa4rltgLTfCnbU3",
     "timestamp": 1595784362854
    }
   ]
  },
  "kernelspec": {
   "display_name": "Python 3",
   "language": "python",
   "name": "python3"
  },
  "language_info": {
   "codemirror_mode": {
    "name": "ipython",
    "version": 3
   },
   "file_extension": ".py",
   "mimetype": "text/x-python",
   "name": "python",
   "nbconvert_exporter": "python",
   "pygments_lexer": "ipython3",
   "version": "3.7.6"
  }
 },
 "nbformat": 4,
 "nbformat_minor": 1
}
