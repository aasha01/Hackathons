{
 "cells": [
  {
   "cell_type": "code",
   "execution_count": 20,
   "metadata": {},
   "outputs": [],
   "source": [
    "import pandas as pd\n",
    "import numpy as np\n",
    "import gensim"
   ]
  },
  {
   "cell_type": "code",
   "execution_count": 74,
   "metadata": {},
   "outputs": [],
   "source": [
    "data = pd.read_csv(\"train.csv\")\n",
    "test = pd.read_csv(\"test.csv\")"
   ]
  },
  {
   "cell_type": "code",
   "execution_count": 75,
   "metadata": {},
   "outputs": [
    {
     "data": {
      "text/plain": [
       "'#fingerprint #Pregnancy Test https://goo.gl/h1MfQV #android #apps #beautiful #cute #health #igers #iphoneonly #iphonesia #iphone'"
      ]
     },
     "execution_count": 75,
     "metadata": {},
     "output_type": "execute_result"
    }
   ],
   "source": [
    "data['tweet'][0]"
   ]
  },
  {
   "cell_type": "code",
   "execution_count": 76,
   "metadata": {},
   "outputs": [],
   "source": [
    "import PreProcessing as pp"
   ]
  },
  {
   "cell_type": "code",
   "execution_count": 78,
   "metadata": {},
   "outputs": [
    {
     "name": "stderr",
     "output_type": "stream",
     "text": [
      "100%|██████████████████████████████████████████████████████████████████████████████| 7920/7920 [01:34<00:00, 83.74it/s]\n",
      "100%|██████████████████████████████████████████████████████████████████████████████| 1953/1953 [00:27<00:00, 70.55it/s]\n"
     ]
    }
   ],
   "source": [
    "data['tweet'] = pp.corpus_pre_processor(data['tweet'])\n",
    "test['tweet'] = pp.corpus_pre_processor(test['tweet'])"
   ]
  },
  {
   "cell_type": "code",
   "execution_count": 85,
   "metadata": {},
   "outputs": [],
   "source": [
    "dataW2V['tweet'] = pd.concat((data['tweet'],test['tweet']), axis=0)"
   ]
  },
  {
   "cell_type": "code",
   "execution_count": 86,
   "metadata": {},
   "outputs": [
    {
     "data": {
      "text/plain": [
       "((7920, 3), (1953, 2), (9874,))"
      ]
     },
     "execution_count": 86,
     "metadata": {},
     "output_type": "execute_result"
    }
   ],
   "source": [
    "data.shape, test.shape, dataW2V.shape"
   ]
  },
  {
   "cell_type": "code",
   "execution_count": 89,
   "metadata": {},
   "outputs": [
    {
     "data": {
      "text/html": [
       "<div>\n",
       "<style scoped>\n",
       "    .dataframe tbody tr th:only-of-type {\n",
       "        vertical-align: middle;\n",
       "    }\n",
       "\n",
       "    .dataframe tbody tr th {\n",
       "        vertical-align: top;\n",
       "    }\n",
       "\n",
       "    .dataframe thead th {\n",
       "        text-align: right;\n",
       "    }\n",
       "</style>\n",
       "<table border=\"1\" class=\"dataframe\">\n",
       "  <thead>\n",
       "    <tr style=\"text-align: right;\">\n",
       "      <th></th>\n",
       "      <th>tweet</th>\n",
       "    </tr>\n",
       "  </thead>\n",
       "  <tbody>\n",
       "    <tr>\n",
       "      <th>0</th>\n",
       "      <td>fingerprint pregnancy test httpsgoo glhmfqv an...</td>\n",
       "    </tr>\n",
       "    <tr>\n",
       "      <th>1</th>\n",
       "      <td>finally transparant silicon case thank uncle y...</td>\n",
       "    </tr>\n",
       "    <tr>\n",
       "      <th>2</th>\n",
       "      <td>love talk makememorie unplug relax iphone smar...</td>\n",
       "    </tr>\n",
       "    <tr>\n",
       "      <th>3</th>\n",
       "      <td>wired know george way iphone cute daventry hom...</td>\n",
       "    </tr>\n",
       "    <tr>\n",
       "      <th>4</th>\n",
       "      <td>amazing service apple talk question pay stupid...</td>\n",
       "    </tr>\n",
       "    <tr>\n",
       "      <th>...</th>\n",
       "      <td>...</td>\n",
       "    </tr>\n",
       "    <tr>\n",
       "      <th>1949</th>\n",
       "      <td>available hoodie check httpzetasupplies co ukp...</td>\n",
       "    </tr>\n",
       "    <tr>\n",
       "      <th>1950</th>\n",
       "      <td>crack right screen actually provide durable sc...</td>\n",
       "    </tr>\n",
       "    <tr>\n",
       "      <th>1951</th>\n",
       "      <td>codeofinter adobe big time include apple</td>\n",
       "    </tr>\n",
       "    <tr>\n",
       "      <th>1952</th>\n",
       "      <td>finally thanx father samsung galaxy s gift fat...</td>\n",
       "    </tr>\n",
       "    <tr>\n",
       "      <th>tweet</th>\n",
       "      <td>0       fingerprint pregnancy test httpsgoo gl...</td>\n",
       "    </tr>\n",
       "  </tbody>\n",
       "</table>\n",
       "<p>9874 rows × 1 columns</p>\n",
       "</div>"
      ],
      "text/plain": [
       "                                                   tweet\n",
       "0      fingerprint pregnancy test httpsgoo glhmfqv an...\n",
       "1      finally transparant silicon case thank uncle y...\n",
       "2      love talk makememorie unplug relax iphone smar...\n",
       "3      wired know george way iphone cute daventry hom...\n",
       "4      amazing service apple talk question pay stupid...\n",
       "...                                                  ...\n",
       "1949   available hoodie check httpzetasupplies co ukp...\n",
       "1950   crack right screen actually provide durable sc...\n",
       "1951            codeofinter adobe big time include apple\n",
       "1952   finally thanx father samsung galaxy s gift fat...\n",
       "tweet  0       fingerprint pregnancy test httpsgoo gl...\n",
       "\n",
       "[9874 rows x 1 columns]"
      ]
     },
     "execution_count": 89,
     "metadata": {},
     "output_type": "execute_result"
    }
   ],
   "source": [
    "dataW2V.to_frame()"
   ]
  },
  {
   "cell_type": "code",
   "execution_count": 10,
   "metadata": {},
   "outputs": [
    {
     "data": {
      "text/plain": [
       "array([0, 1], dtype=int64)"
      ]
     },
     "execution_count": 10,
     "metadata": {},
     "output_type": "execute_result"
    }
   ],
   "source": [
    "data['label'].unique()"
   ]
  },
  {
   "cell_type": "code",
   "execution_count": 83,
   "metadata": {},
   "outputs": [],
   "source": [
    "import logging\n",
    "logging.basicConfig(format='%(asctime)s : %(levelname)s : %(message)s', level=logging.INFO)\n"
   ]
  },
  {
   "cell_type": "code",
   "execution_count": 90,
   "metadata": {},
   "outputs": [
    {
     "name": "stderr",
     "output_type": "stream",
     "text": [
      "2020-12-14 12:51:32,487 : INFO : collecting all words and their counts\n",
      "2020-12-14 12:51:32,488 : WARNING : Each 'sentences' item should be a list of words (usually unicode strings). First item here is instead plain <class 'str'>.\n",
      "2020-12-14 12:51:32,489 : INFO : PROGRESS: at sentence #0, processed 0 words, keeping 0 word types\n",
      "2020-12-14 12:51:32,556 : INFO : collected 27 word types from a corpus of 897330 raw words and 9873 sentences\n",
      "2020-12-14 12:51:32,556 : INFO : Loading a fresh vocabulary\n",
      "2020-12-14 12:51:32,557 : INFO : effective_min_count=10 retains 27 unique words (100% of original 27, drops 0)\n",
      "2020-12-14 12:51:32,557 : INFO : effective_min_count=10 leaves 897330 word corpus (100% of original 897330, drops 0)\n",
      "2020-12-14 12:51:32,558 : INFO : deleting the raw counts dictionary of 27 items\n",
      "2020-12-14 12:51:32,558 : INFO : sample=0.001 downsamples 27 most-common words\n",
      "2020-12-14 12:51:32,558 : INFO : downsampling leaves estimated 160010 word corpus (17.8% of prior 897330)\n",
      "2020-12-14 12:51:32,559 : INFO : estimated required memory for 27 words and 300 dimensions: 78300 bytes\n",
      "2020-12-14 12:51:32,559 : INFO : resetting layer weights\n",
      "2020-12-14 12:51:32,565 : INFO : training model with 4 workers on 27 vocabulary and 300 features, using sg=0 hs=0 sample=0.001 negative=5 window=150\n",
      "2020-12-14 12:51:32,893 : INFO : worker thread finished; awaiting finish of 3 more threads\n",
      "2020-12-14 12:51:32,895 : INFO : worker thread finished; awaiting finish of 2 more threads\n",
      "2020-12-14 12:51:32,896 : INFO : worker thread finished; awaiting finish of 1 more threads\n",
      "2020-12-14 12:51:32,897 : INFO : worker thread finished; awaiting finish of 0 more threads\n",
      "2020-12-14 12:51:32,897 : INFO : EPOCH - 1 : training on 897330 raw words (159816 effective words) took 0.3s, 488439 effective words/s\n",
      "2020-12-14 12:51:33,214 : INFO : worker thread finished; awaiting finish of 3 more threads\n",
      "2020-12-14 12:51:33,220 : INFO : worker thread finished; awaiting finish of 2 more threads\n",
      "2020-12-14 12:51:33,221 : INFO : worker thread finished; awaiting finish of 1 more threads\n",
      "2020-12-14 12:51:33,222 : INFO : worker thread finished; awaiting finish of 0 more threads\n",
      "2020-12-14 12:51:33,223 : INFO : EPOCH - 2 : training on 897330 raw words (159701 effective words) took 0.3s, 494545 effective words/s\n",
      "2020-12-14 12:51:33,547 : INFO : worker thread finished; awaiting finish of 3 more threads\n",
      "2020-12-14 12:51:33,553 : INFO : worker thread finished; awaiting finish of 2 more threads\n",
      "2020-12-14 12:51:33,554 : INFO : worker thread finished; awaiting finish of 1 more threads\n",
      "2020-12-14 12:51:33,555 : INFO : worker thread finished; awaiting finish of 0 more threads\n",
      "2020-12-14 12:51:33,555 : INFO : EPOCH - 3 : training on 897330 raw words (160424 effective words) took 0.3s, 485866 effective words/s\n",
      "2020-12-14 12:51:33,906 : INFO : worker thread finished; awaiting finish of 3 more threads\n",
      "2020-12-14 12:51:33,908 : INFO : worker thread finished; awaiting finish of 2 more threads\n",
      "2020-12-14 12:51:33,909 : INFO : worker thread finished; awaiting finish of 1 more threads\n",
      "2020-12-14 12:51:33,910 : INFO : worker thread finished; awaiting finish of 0 more threads\n",
      "2020-12-14 12:51:33,911 : INFO : EPOCH - 4 : training on 897330 raw words (159805 effective words) took 0.4s, 455269 effective words/s\n",
      "2020-12-14 12:51:34,237 : INFO : worker thread finished; awaiting finish of 3 more threads\n",
      "2020-12-14 12:51:34,238 : INFO : worker thread finished; awaiting finish of 2 more threads\n",
      "2020-12-14 12:51:34,239 : INFO : worker thread finished; awaiting finish of 1 more threads\n",
      "2020-12-14 12:51:34,240 : INFO : worker thread finished; awaiting finish of 0 more threads\n",
      "2020-12-14 12:51:34,240 : INFO : EPOCH - 5 : training on 897330 raw words (160354 effective words) took 0.3s, 489797 effective words/s\n",
      "2020-12-14 12:51:34,241 : INFO : training on a 4486650 raw words (800100 effective words) took 1.7s, 477742 effective words/s\n"
     ]
    },
    {
     "name": "stdout",
     "output_type": "stream",
     "text": [
      "Wall time: 1.77 s\n"
     ]
    }
   ],
   "source": [
    "%%time\n",
    "# build word2vec model\n",
    "w2v_num_features = 300\n",
    "w2v_model = gensim.models.Word2Vec(dataW2V['tweet'], size=w2v_num_features, window=150,\n",
    "                                   min_count=10, workers=4, iter=5)    "
   ]
  },
  {
   "cell_type": "code",
   "execution_count": 91,
   "metadata": {},
   "outputs": [
    {
     "data": {
      "text/plain": [
       "<gensim.models.word2vec.Word2Vec at 0x1b0180fc188>"
      ]
     },
     "execution_count": 91,
     "metadata": {},
     "output_type": "execute_result"
    }
   ],
   "source": [
    "w2v_model"
   ]
  },
  {
   "cell_type": "code",
   "execution_count": 92,
   "metadata": {},
   "outputs": [],
   "source": [
    "def averaged_word2vec_vectorizer(corpus, model, num_features):\n",
    "    vocabulary = set(model.wv.index2word)\n",
    "    \n",
    "    def average_word_vectors(words, model, vocabulary, num_features):\n",
    "        feature_vector = np.zeros((num_features,), dtype=\"float64\")\n",
    "        nwords = 0.\n",
    "        \n",
    "        for word in words:\n",
    "            if word in vocabulary: \n",
    "                nwords = nwords + 1.\n",
    "                feature_vector = np.add(feature_vector, model.wv[word])\n",
    "        if nwords:\n",
    "            feature_vector = np.divide(feature_vector, nwords)\n",
    "\n",
    "        return feature_vector\n",
    "\n",
    "    features = [average_word_vectors(tokenized_sentence, model, vocabulary, num_features)\n",
    "                    for tokenized_sentence in corpus]\n",
    "    return np.array(features)"
   ]
  },
  {
   "cell_type": "code",
   "execution_count": 93,
   "metadata": {},
   "outputs": [],
   "source": [
    "# generate averaged word vector features from word2vec model\n",
    "avg_wv_train_features = averaged_word2vec_vectorizer(corpus=data['tweet'], model=w2v_model,\n",
    "                                                     num_features=w2v_num_features)"
   ]
  },
  {
   "cell_type": "code",
   "execution_count": 94,
   "metadata": {},
   "outputs": [
    {
     "name": "stdout",
     "output_type": "stream",
     "text": [
      "Word2Vec model:> Train features shape: (7920, 300)\n"
     ]
    }
   ],
   "source": [
    "print('Word2Vec model:> Train features shape:', avg_wv_train_features.shape)"
   ]
  },
  {
   "cell_type": "code",
   "execution_count": 95,
   "metadata": {},
   "outputs": [
    {
     "data": {
      "text/plain": [
       "array([[-0.0135758 , -0.01645124,  0.00468796, ...,  0.04711473,\n",
       "        -0.03116195,  0.0812814 ],\n",
       "       [-0.01671251, -0.01801623,  0.00775362, ...,  0.01715923,\n",
       "        -0.01782746,  0.01168521],\n",
       "       [ 0.10088126, -0.03124108, -0.07848133, ...,  0.0322214 ,\n",
       "        -0.00849604,  0.03712542],\n",
       "       ...,\n",
       "       [ 0.07079149, -0.02354569, -0.04577431, ...,  0.05033043,\n",
       "        -0.02642762,  0.08659086],\n",
       "       [ 0.03954863, -0.03027592, -0.0319475 , ...,  0.02359941,\n",
       "        -0.02160646,  0.02459969],\n",
       "       [ 0.01716689, -0.00352843, -0.01789289, ...,  0.05326048,\n",
       "        -0.01454194,  0.08386773]])"
      ]
     },
     "execution_count": 95,
     "metadata": {},
     "output_type": "execute_result"
    }
   ],
   "source": [
    "avg_wv_train_features"
   ]
  },
  {
   "cell_type": "code",
   "execution_count": 96,
   "metadata": {},
   "outputs": [
    {
     "data": {
      "text/plain": [
       "(7920, 3)"
      ]
     },
     "execution_count": 96,
     "metadata": {},
     "output_type": "execute_result"
    }
   ],
   "source": [
    "data.shape"
   ]
  },
  {
   "cell_type": "code",
   "execution_count": 97,
   "metadata": {},
   "outputs": [],
   "source": [
    "train = pd.concat((data['label'],pd.DataFrame(avg_wv_train_features)),axis = 1)"
   ]
  },
  {
   "cell_type": "code",
   "execution_count": 98,
   "metadata": {},
   "outputs": [
    {
     "data": {
      "text/plain": [
       "(7920, 301)"
      ]
     },
     "execution_count": 98,
     "metadata": {},
     "output_type": "execute_result"
    }
   ],
   "source": [
    "train.shape"
   ]
  },
  {
   "cell_type": "code",
   "execution_count": 99,
   "metadata": {},
   "outputs": [
    {
     "data": {
      "text/html": [
       "<div>\n",
       "<style scoped>\n",
       "    .dataframe tbody tr th:only-of-type {\n",
       "        vertical-align: middle;\n",
       "    }\n",
       "\n",
       "    .dataframe tbody tr th {\n",
       "        vertical-align: top;\n",
       "    }\n",
       "\n",
       "    .dataframe thead th {\n",
       "        text-align: right;\n",
       "    }\n",
       "</style>\n",
       "<table border=\"1\" class=\"dataframe\">\n",
       "  <thead>\n",
       "    <tr style=\"text-align: right;\">\n",
       "      <th></th>\n",
       "      <th>label</th>\n",
       "      <th>0</th>\n",
       "      <th>1</th>\n",
       "      <th>2</th>\n",
       "      <th>3</th>\n",
       "      <th>4</th>\n",
       "      <th>5</th>\n",
       "      <th>6</th>\n",
       "      <th>7</th>\n",
       "      <th>8</th>\n",
       "      <th>...</th>\n",
       "      <th>290</th>\n",
       "      <th>291</th>\n",
       "      <th>292</th>\n",
       "      <th>293</th>\n",
       "      <th>294</th>\n",
       "      <th>295</th>\n",
       "      <th>296</th>\n",
       "      <th>297</th>\n",
       "      <th>298</th>\n",
       "      <th>299</th>\n",
       "    </tr>\n",
       "  </thead>\n",
       "  <tbody>\n",
       "    <tr>\n",
       "      <th>0</th>\n",
       "      <td>0</td>\n",
       "      <td>-0.013576</td>\n",
       "      <td>-0.016451</td>\n",
       "      <td>0.004688</td>\n",
       "      <td>-0.035999</td>\n",
       "      <td>0.000040</td>\n",
       "      <td>-0.013737</td>\n",
       "      <td>0.007057</td>\n",
       "      <td>-0.042352</td>\n",
       "      <td>-0.038366</td>\n",
       "      <td>...</td>\n",
       "      <td>-0.000739</td>\n",
       "      <td>-0.006704</td>\n",
       "      <td>-0.020937</td>\n",
       "      <td>-0.009889</td>\n",
       "      <td>-0.015489</td>\n",
       "      <td>-0.007260</td>\n",
       "      <td>-0.004652</td>\n",
       "      <td>0.047115</td>\n",
       "      <td>-0.031162</td>\n",
       "      <td>0.081281</td>\n",
       "    </tr>\n",
       "    <tr>\n",
       "      <th>1</th>\n",
       "      <td>0</td>\n",
       "      <td>-0.016713</td>\n",
       "      <td>-0.018016</td>\n",
       "      <td>0.007754</td>\n",
       "      <td>-0.046623</td>\n",
       "      <td>0.010912</td>\n",
       "      <td>-0.041410</td>\n",
       "      <td>-0.015443</td>\n",
       "      <td>-0.058151</td>\n",
       "      <td>-0.008805</td>\n",
       "      <td>...</td>\n",
       "      <td>0.005780</td>\n",
       "      <td>-0.011579</td>\n",
       "      <td>-0.000208</td>\n",
       "      <td>-0.015387</td>\n",
       "      <td>-0.009484</td>\n",
       "      <td>-0.006502</td>\n",
       "      <td>-0.033964</td>\n",
       "      <td>0.017159</td>\n",
       "      <td>-0.017827</td>\n",
       "      <td>0.011685</td>\n",
       "    </tr>\n",
       "    <tr>\n",
       "      <th>2</th>\n",
       "      <td>0</td>\n",
       "      <td>0.100881</td>\n",
       "      <td>-0.031241</td>\n",
       "      <td>-0.078481</td>\n",
       "      <td>-0.051787</td>\n",
       "      <td>-0.003125</td>\n",
       "      <td>-0.039954</td>\n",
       "      <td>-0.006787</td>\n",
       "      <td>-0.048855</td>\n",
       "      <td>-0.017163</td>\n",
       "      <td>...</td>\n",
       "      <td>0.010730</td>\n",
       "      <td>-0.009638</td>\n",
       "      <td>-0.013836</td>\n",
       "      <td>-0.014167</td>\n",
       "      <td>-0.007706</td>\n",
       "      <td>-0.005716</td>\n",
       "      <td>-0.014925</td>\n",
       "      <td>0.032221</td>\n",
       "      <td>-0.008496</td>\n",
       "      <td>0.037125</td>\n",
       "    </tr>\n",
       "    <tr>\n",
       "      <th>3</th>\n",
       "      <td>0</td>\n",
       "      <td>0.063640</td>\n",
       "      <td>-0.023770</td>\n",
       "      <td>-0.056930</td>\n",
       "      <td>-0.040672</td>\n",
       "      <td>-0.002884</td>\n",
       "      <td>-0.037690</td>\n",
       "      <td>-0.015767</td>\n",
       "      <td>-0.049543</td>\n",
       "      <td>-0.001706</td>\n",
       "      <td>...</td>\n",
       "      <td>0.004242</td>\n",
       "      <td>-0.004762</td>\n",
       "      <td>-0.016604</td>\n",
       "      <td>-0.009860</td>\n",
       "      <td>-0.016649</td>\n",
       "      <td>-0.006179</td>\n",
       "      <td>-0.010324</td>\n",
       "      <td>0.040459</td>\n",
       "      <td>-0.025028</td>\n",
       "      <td>0.065541</td>\n",
       "    </tr>\n",
       "    <tr>\n",
       "      <th>4</th>\n",
       "      <td>1</td>\n",
       "      <td>0.068801</td>\n",
       "      <td>-0.017947</td>\n",
       "      <td>-0.079257</td>\n",
       "      <td>-0.018589</td>\n",
       "      <td>0.000548</td>\n",
       "      <td>-0.065316</td>\n",
       "      <td>-0.038746</td>\n",
       "      <td>-0.048102</td>\n",
       "      <td>0.053128</td>\n",
       "      <td>...</td>\n",
       "      <td>0.016212</td>\n",
       "      <td>-0.016163</td>\n",
       "      <td>0.007119</td>\n",
       "      <td>-0.011498</td>\n",
       "      <td>0.001929</td>\n",
       "      <td>-0.004101</td>\n",
       "      <td>-0.042474</td>\n",
       "      <td>0.003034</td>\n",
       "      <td>-0.004947</td>\n",
       "      <td>-0.004167</td>\n",
       "    </tr>\n",
       "  </tbody>\n",
       "</table>\n",
       "<p>5 rows × 301 columns</p>\n",
       "</div>"
      ],
      "text/plain": [
       "   label         0         1         2         3         4         5  \\\n",
       "0      0 -0.013576 -0.016451  0.004688 -0.035999  0.000040 -0.013737   \n",
       "1      0 -0.016713 -0.018016  0.007754 -0.046623  0.010912 -0.041410   \n",
       "2      0  0.100881 -0.031241 -0.078481 -0.051787 -0.003125 -0.039954   \n",
       "3      0  0.063640 -0.023770 -0.056930 -0.040672 -0.002884 -0.037690   \n",
       "4      1  0.068801 -0.017947 -0.079257 -0.018589  0.000548 -0.065316   \n",
       "\n",
       "          6         7         8  ...       290       291       292       293  \\\n",
       "0  0.007057 -0.042352 -0.038366  ... -0.000739 -0.006704 -0.020937 -0.009889   \n",
       "1 -0.015443 -0.058151 -0.008805  ...  0.005780 -0.011579 -0.000208 -0.015387   \n",
       "2 -0.006787 -0.048855 -0.017163  ...  0.010730 -0.009638 -0.013836 -0.014167   \n",
       "3 -0.015767 -0.049543 -0.001706  ...  0.004242 -0.004762 -0.016604 -0.009860   \n",
       "4 -0.038746 -0.048102  0.053128  ...  0.016212 -0.016163  0.007119 -0.011498   \n",
       "\n",
       "        294       295       296       297       298       299  \n",
       "0 -0.015489 -0.007260 -0.004652  0.047115 -0.031162  0.081281  \n",
       "1 -0.009484 -0.006502 -0.033964  0.017159 -0.017827  0.011685  \n",
       "2 -0.007706 -0.005716 -0.014925  0.032221 -0.008496  0.037125  \n",
       "3 -0.016649 -0.006179 -0.010324  0.040459 -0.025028  0.065541  \n",
       "4  0.001929 -0.004101 -0.042474  0.003034 -0.004947 -0.004167  \n",
       "\n",
       "[5 rows x 301 columns]"
      ]
     },
     "execution_count": 99,
     "metadata": {},
     "output_type": "execute_result"
    }
   ],
   "source": [
    "train.head()"
   ]
  },
  {
   "cell_type": "code",
   "execution_count": 100,
   "metadata": {},
   "outputs": [],
   "source": [
    "y = train['label']"
   ]
  },
  {
   "cell_type": "code",
   "execution_count": 101,
   "metadata": {},
   "outputs": [
    {
     "data": {
      "text/plain": [
       "0       0\n",
       "1       0\n",
       "2       0\n",
       "3       0\n",
       "4       1\n",
       "       ..\n",
       "7915    0\n",
       "7916    0\n",
       "7917    0\n",
       "7918    0\n",
       "7919    0\n",
       "Name: label, Length: 7920, dtype: int64"
      ]
     },
     "execution_count": 101,
     "metadata": {},
     "output_type": "execute_result"
    }
   ],
   "source": [
    "y"
   ]
  },
  {
   "cell_type": "code",
   "execution_count": 102,
   "metadata": {},
   "outputs": [],
   "source": [
    "train_new = train.drop(columns = ['label'])"
   ]
  },
  {
   "cell_type": "code",
   "execution_count": null,
   "metadata": {},
   "outputs": [],
   "source": []
  },
  {
   "cell_type": "code",
   "execution_count": 103,
   "metadata": {},
   "outputs": [
    {
     "name": "stdout",
     "output_type": "stream",
     "text": [
      "Wall time: 180 ms\n"
     ]
    },
    {
     "data": {
      "text/plain": [
       "LogisticRegression(C=1, max_iter=500, random_state=42)"
      ]
     },
     "execution_count": 103,
     "metadata": {},
     "output_type": "execute_result"
    }
   ],
   "source": [
    "%%time\n",
    "\n",
    "# Logistic Regression model on BOW features\n",
    "from sklearn.linear_model import LogisticRegression\n",
    "\n",
    "# instantiate model\n",
    "lr = LogisticRegression(penalty='l2', max_iter=500, C=1, solver='lbfgs', random_state=42)\n",
    "\n",
    "# train model\n",
    "lr.fit(train_new, y)\n",
    "\n",
    "# predict on test data\n",
    "#lr_bow_predictions = lr.predict(train_new)"
   ]
  },
  {
   "cell_type": "code",
   "execution_count": 104,
   "metadata": {},
   "outputs": [],
   "source": [
    "test = pd.read_csv(\"test.csv\")"
   ]
  },
  {
   "cell_type": "code",
   "execution_count": 106,
   "metadata": {},
   "outputs": [
    {
     "name": "stderr",
     "output_type": "stream",
     "text": [
      "100%|██████████████████████████████████████████████████████████████████████████████| 1953/1953 [00:36<00:00, 53.40it/s]\n"
     ]
    }
   ],
   "source": [
    "test['tweet'] = pp.corpus_pre_processor(test['tweet'])"
   ]
  },
  {
   "cell_type": "code",
   "execution_count": 107,
   "metadata": {},
   "outputs": [],
   "source": [
    "# generate averaged word vector features from word2vec model\n",
    "avg_wv_test_features = averaged_word2vec_vectorizer(corpus=test['tweet'], model=w2v_model,\n",
    "                                                     num_features=w2v_num_features)"
   ]
  },
  {
   "cell_type": "code",
   "execution_count": 108,
   "metadata": {},
   "outputs": [],
   "source": [
    "test_df = pd.DataFrame(avg_wv_test_features)"
   ]
  },
  {
   "cell_type": "code",
   "execution_count": 109,
   "metadata": {},
   "outputs": [
    {
     "data": {
      "text/html": [
       "<div>\n",
       "<style scoped>\n",
       "    .dataframe tbody tr th:only-of-type {\n",
       "        vertical-align: middle;\n",
       "    }\n",
       "\n",
       "    .dataframe tbody tr th {\n",
       "        vertical-align: top;\n",
       "    }\n",
       "\n",
       "    .dataframe thead th {\n",
       "        text-align: right;\n",
       "    }\n",
       "</style>\n",
       "<table border=\"1\" class=\"dataframe\">\n",
       "  <thead>\n",
       "    <tr style=\"text-align: right;\">\n",
       "      <th></th>\n",
       "      <th>0</th>\n",
       "      <th>1</th>\n",
       "      <th>2</th>\n",
       "      <th>3</th>\n",
       "      <th>4</th>\n",
       "      <th>5</th>\n",
       "      <th>6</th>\n",
       "      <th>7</th>\n",
       "      <th>8</th>\n",
       "      <th>9</th>\n",
       "      <th>...</th>\n",
       "      <th>290</th>\n",
       "      <th>291</th>\n",
       "      <th>292</th>\n",
       "      <th>293</th>\n",
       "      <th>294</th>\n",
       "      <th>295</th>\n",
       "      <th>296</th>\n",
       "      <th>297</th>\n",
       "      <th>298</th>\n",
       "      <th>299</th>\n",
       "    </tr>\n",
       "  </thead>\n",
       "  <tbody>\n",
       "    <tr>\n",
       "      <th>0</th>\n",
       "      <td>0.070936</td>\n",
       "      <td>-0.023778</td>\n",
       "      <td>-0.049989</td>\n",
       "      <td>-0.043263</td>\n",
       "      <td>-0.000850</td>\n",
       "      <td>-0.007813</td>\n",
       "      <td>0.013064</td>\n",
       "      <td>-0.030286</td>\n",
       "      <td>-0.029372</td>\n",
       "      <td>-0.021425</td>\n",
       "      <td>...</td>\n",
       "      <td>0.020127</td>\n",
       "      <td>-0.004029</td>\n",
       "      <td>-0.022633</td>\n",
       "      <td>-0.014148</td>\n",
       "      <td>-0.013533</td>\n",
       "      <td>-0.010730</td>\n",
       "      <td>-0.001039</td>\n",
       "      <td>0.048662</td>\n",
       "      <td>-0.015966</td>\n",
       "      <td>0.080909</td>\n",
       "    </tr>\n",
       "    <tr>\n",
       "      <th>1</th>\n",
       "      <td>0.069721</td>\n",
       "      <td>-0.031457</td>\n",
       "      <td>-0.065354</td>\n",
       "      <td>-0.047420</td>\n",
       "      <td>0.001852</td>\n",
       "      <td>-0.043339</td>\n",
       "      <td>-0.020405</td>\n",
       "      <td>-0.056624</td>\n",
       "      <td>0.010008</td>\n",
       "      <td>-0.005564</td>\n",
       "      <td>...</td>\n",
       "      <td>-0.003726</td>\n",
       "      <td>-0.013186</td>\n",
       "      <td>0.006407</td>\n",
       "      <td>-0.012018</td>\n",
       "      <td>-0.005639</td>\n",
       "      <td>-0.001618</td>\n",
       "      <td>-0.033842</td>\n",
       "      <td>0.010550</td>\n",
       "      <td>-0.014104</td>\n",
       "      <td>-0.002666</td>\n",
       "    </tr>\n",
       "    <tr>\n",
       "      <th>2</th>\n",
       "      <td>0.131577</td>\n",
       "      <td>-0.010762</td>\n",
       "      <td>-0.112197</td>\n",
       "      <td>-0.022459</td>\n",
       "      <td>-0.007883</td>\n",
       "      <td>-0.034832</td>\n",
       "      <td>-0.017611</td>\n",
       "      <td>-0.033606</td>\n",
       "      <td>0.020690</td>\n",
       "      <td>-0.003339</td>\n",
       "      <td>...</td>\n",
       "      <td>0.025508</td>\n",
       "      <td>-0.010628</td>\n",
       "      <td>-0.005691</td>\n",
       "      <td>-0.012008</td>\n",
       "      <td>-0.004645</td>\n",
       "      <td>-0.004579</td>\n",
       "      <td>-0.029457</td>\n",
       "      <td>0.020534</td>\n",
       "      <td>-0.003398</td>\n",
       "      <td>0.031697</td>\n",
       "    </tr>\n",
       "    <tr>\n",
       "      <th>3</th>\n",
       "      <td>0.046355</td>\n",
       "      <td>-0.012002</td>\n",
       "      <td>-0.039004</td>\n",
       "      <td>-0.034142</td>\n",
       "      <td>-0.005352</td>\n",
       "      <td>-0.033072</td>\n",
       "      <td>-0.003550</td>\n",
       "      <td>-0.040762</td>\n",
       "      <td>0.000557</td>\n",
       "      <td>-0.013735</td>\n",
       "      <td>...</td>\n",
       "      <td>0.027908</td>\n",
       "      <td>-0.004209</td>\n",
       "      <td>-0.022418</td>\n",
       "      <td>-0.014786</td>\n",
       "      <td>-0.014737</td>\n",
       "      <td>-0.011680</td>\n",
       "      <td>-0.004135</td>\n",
       "      <td>0.056277</td>\n",
       "      <td>-0.021434</td>\n",
       "      <td>0.100527</td>\n",
       "    </tr>\n",
       "    <tr>\n",
       "      <th>4</th>\n",
       "      <td>0.050731</td>\n",
       "      <td>-0.039912</td>\n",
       "      <td>-0.049462</td>\n",
       "      <td>-0.056823</td>\n",
       "      <td>0.002062</td>\n",
       "      <td>-0.049470</td>\n",
       "      <td>-0.017850</td>\n",
       "      <td>-0.065559</td>\n",
       "      <td>0.009643</td>\n",
       "      <td>-0.010903</td>\n",
       "      <td>...</td>\n",
       "      <td>-0.017846</td>\n",
       "      <td>-0.012006</td>\n",
       "      <td>-0.006182</td>\n",
       "      <td>-0.010086</td>\n",
       "      <td>-0.014012</td>\n",
       "      <td>-0.000567</td>\n",
       "      <td>-0.026907</td>\n",
       "      <td>0.020025</td>\n",
       "      <td>-0.024220</td>\n",
       "      <td>0.013697</td>\n",
       "    </tr>\n",
       "    <tr>\n",
       "      <th>...</th>\n",
       "      <td>...</td>\n",
       "      <td>...</td>\n",
       "      <td>...</td>\n",
       "      <td>...</td>\n",
       "      <td>...</td>\n",
       "      <td>...</td>\n",
       "      <td>...</td>\n",
       "      <td>...</td>\n",
       "      <td>...</td>\n",
       "      <td>...</td>\n",
       "      <td>...</td>\n",
       "      <td>...</td>\n",
       "      <td>...</td>\n",
       "      <td>...</td>\n",
       "      <td>...</td>\n",
       "      <td>...</td>\n",
       "      <td>...</td>\n",
       "      <td>...</td>\n",
       "      <td>...</td>\n",
       "      <td>...</td>\n",
       "      <td>...</td>\n",
       "    </tr>\n",
       "    <tr>\n",
       "      <th>1948</th>\n",
       "      <td>0.086568</td>\n",
       "      <td>-0.040283</td>\n",
       "      <td>-0.057642</td>\n",
       "      <td>-0.067015</td>\n",
       "      <td>0.005959</td>\n",
       "      <td>-0.025618</td>\n",
       "      <td>-0.003938</td>\n",
       "      <td>-0.049605</td>\n",
       "      <td>-0.026344</td>\n",
       "      <td>-0.018686</td>\n",
       "      <td>...</td>\n",
       "      <td>-0.008656</td>\n",
       "      <td>-0.010916</td>\n",
       "      <td>0.007811</td>\n",
       "      <td>-0.014370</td>\n",
       "      <td>-0.004339</td>\n",
       "      <td>-0.006945</td>\n",
       "      <td>-0.034632</td>\n",
       "      <td>-0.002840</td>\n",
       "      <td>-0.003371</td>\n",
       "      <td>-0.036653</td>\n",
       "    </tr>\n",
       "    <tr>\n",
       "      <th>1949</th>\n",
       "      <td>0.149855</td>\n",
       "      <td>-0.037981</td>\n",
       "      <td>-0.120456</td>\n",
       "      <td>-0.043776</td>\n",
       "      <td>-0.002163</td>\n",
       "      <td>-0.075781</td>\n",
       "      <td>-0.041393</td>\n",
       "      <td>-0.053914</td>\n",
       "      <td>0.057340</td>\n",
       "      <td>0.014037</td>\n",
       "      <td>...</td>\n",
       "      <td>0.010334</td>\n",
       "      <td>-0.021271</td>\n",
       "      <td>0.005422</td>\n",
       "      <td>-0.014836</td>\n",
       "      <td>0.009080</td>\n",
       "      <td>-0.004931</td>\n",
       "      <td>-0.041168</td>\n",
       "      <td>-0.009220</td>\n",
       "      <td>0.014358</td>\n",
       "      <td>-0.035421</td>\n",
       "    </tr>\n",
       "    <tr>\n",
       "      <th>1950</th>\n",
       "      <td>0.143842</td>\n",
       "      <td>-0.024531</td>\n",
       "      <td>-0.116756</td>\n",
       "      <td>-0.035910</td>\n",
       "      <td>-0.001105</td>\n",
       "      <td>-0.029470</td>\n",
       "      <td>-0.015676</td>\n",
       "      <td>-0.034667</td>\n",
       "      <td>-0.005762</td>\n",
       "      <td>-0.013503</td>\n",
       "      <td>...</td>\n",
       "      <td>0.025445</td>\n",
       "      <td>-0.013822</td>\n",
       "      <td>-0.000671</td>\n",
       "      <td>-0.015543</td>\n",
       "      <td>0.001631</td>\n",
       "      <td>-0.007908</td>\n",
       "      <td>-0.030910</td>\n",
       "      <td>0.017247</td>\n",
       "      <td>-0.001947</td>\n",
       "      <td>0.021766</td>\n",
       "    </tr>\n",
       "    <tr>\n",
       "      <th>1951</th>\n",
       "      <td>0.121918</td>\n",
       "      <td>-0.026666</td>\n",
       "      <td>-0.089852</td>\n",
       "      <td>-0.037917</td>\n",
       "      <td>-0.007479</td>\n",
       "      <td>-0.027807</td>\n",
       "      <td>-0.004842</td>\n",
       "      <td>-0.031255</td>\n",
       "      <td>-0.039905</td>\n",
       "      <td>-0.036717</td>\n",
       "      <td>...</td>\n",
       "      <td>0.031391</td>\n",
       "      <td>-0.004006</td>\n",
       "      <td>-0.010918</td>\n",
       "      <td>-0.016361</td>\n",
       "      <td>-0.010537</td>\n",
       "      <td>-0.005085</td>\n",
       "      <td>-0.009485</td>\n",
       "      <td>0.037385</td>\n",
       "      <td>-0.008667</td>\n",
       "      <td>0.062723</td>\n",
       "    </tr>\n",
       "    <tr>\n",
       "      <th>1952</th>\n",
       "      <td>-0.024068</td>\n",
       "      <td>-0.029577</td>\n",
       "      <td>0.023531</td>\n",
       "      <td>-0.065215</td>\n",
       "      <td>0.007978</td>\n",
       "      <td>-0.014571</td>\n",
       "      <td>0.015197</td>\n",
       "      <td>-0.055420</td>\n",
       "      <td>-0.049772</td>\n",
       "      <td>-0.030521</td>\n",
       "      <td>...</td>\n",
       "      <td>-0.009563</td>\n",
       "      <td>0.000446</td>\n",
       "      <td>-0.020388</td>\n",
       "      <td>-0.013960</td>\n",
       "      <td>-0.023803</td>\n",
       "      <td>-0.008771</td>\n",
       "      <td>0.001999</td>\n",
       "      <td>0.053244</td>\n",
       "      <td>-0.035146</td>\n",
       "      <td>0.069842</td>\n",
       "    </tr>\n",
       "  </tbody>\n",
       "</table>\n",
       "<p>1953 rows × 300 columns</p>\n",
       "</div>"
      ],
      "text/plain": [
       "           0         1         2         3         4         5         6    \\\n",
       "0     0.070936 -0.023778 -0.049989 -0.043263 -0.000850 -0.007813  0.013064   \n",
       "1     0.069721 -0.031457 -0.065354 -0.047420  0.001852 -0.043339 -0.020405   \n",
       "2     0.131577 -0.010762 -0.112197 -0.022459 -0.007883 -0.034832 -0.017611   \n",
       "3     0.046355 -0.012002 -0.039004 -0.034142 -0.005352 -0.033072 -0.003550   \n",
       "4     0.050731 -0.039912 -0.049462 -0.056823  0.002062 -0.049470 -0.017850   \n",
       "...        ...       ...       ...       ...       ...       ...       ...   \n",
       "1948  0.086568 -0.040283 -0.057642 -0.067015  0.005959 -0.025618 -0.003938   \n",
       "1949  0.149855 -0.037981 -0.120456 -0.043776 -0.002163 -0.075781 -0.041393   \n",
       "1950  0.143842 -0.024531 -0.116756 -0.035910 -0.001105 -0.029470 -0.015676   \n",
       "1951  0.121918 -0.026666 -0.089852 -0.037917 -0.007479 -0.027807 -0.004842   \n",
       "1952 -0.024068 -0.029577  0.023531 -0.065215  0.007978 -0.014571  0.015197   \n",
       "\n",
       "           7         8         9    ...       290       291       292  \\\n",
       "0    -0.030286 -0.029372 -0.021425  ...  0.020127 -0.004029 -0.022633   \n",
       "1    -0.056624  0.010008 -0.005564  ... -0.003726 -0.013186  0.006407   \n",
       "2    -0.033606  0.020690 -0.003339  ...  0.025508 -0.010628 -0.005691   \n",
       "3    -0.040762  0.000557 -0.013735  ...  0.027908 -0.004209 -0.022418   \n",
       "4    -0.065559  0.009643 -0.010903  ... -0.017846 -0.012006 -0.006182   \n",
       "...        ...       ...       ...  ...       ...       ...       ...   \n",
       "1948 -0.049605 -0.026344 -0.018686  ... -0.008656 -0.010916  0.007811   \n",
       "1949 -0.053914  0.057340  0.014037  ...  0.010334 -0.021271  0.005422   \n",
       "1950 -0.034667 -0.005762 -0.013503  ...  0.025445 -0.013822 -0.000671   \n",
       "1951 -0.031255 -0.039905 -0.036717  ...  0.031391 -0.004006 -0.010918   \n",
       "1952 -0.055420 -0.049772 -0.030521  ... -0.009563  0.000446 -0.020388   \n",
       "\n",
       "           293       294       295       296       297       298       299  \n",
       "0    -0.014148 -0.013533 -0.010730 -0.001039  0.048662 -0.015966  0.080909  \n",
       "1    -0.012018 -0.005639 -0.001618 -0.033842  0.010550 -0.014104 -0.002666  \n",
       "2    -0.012008 -0.004645 -0.004579 -0.029457  0.020534 -0.003398  0.031697  \n",
       "3    -0.014786 -0.014737 -0.011680 -0.004135  0.056277 -0.021434  0.100527  \n",
       "4    -0.010086 -0.014012 -0.000567 -0.026907  0.020025 -0.024220  0.013697  \n",
       "...        ...       ...       ...       ...       ...       ...       ...  \n",
       "1948 -0.014370 -0.004339 -0.006945 -0.034632 -0.002840 -0.003371 -0.036653  \n",
       "1949 -0.014836  0.009080 -0.004931 -0.041168 -0.009220  0.014358 -0.035421  \n",
       "1950 -0.015543  0.001631 -0.007908 -0.030910  0.017247 -0.001947  0.021766  \n",
       "1951 -0.016361 -0.010537 -0.005085 -0.009485  0.037385 -0.008667  0.062723  \n",
       "1952 -0.013960 -0.023803 -0.008771  0.001999  0.053244 -0.035146  0.069842  \n",
       "\n",
       "[1953 rows x 300 columns]"
      ]
     },
     "execution_count": 109,
     "metadata": {},
     "output_type": "execute_result"
    }
   ],
   "source": [
    "test_df"
   ]
  },
  {
   "cell_type": "code",
   "execution_count": 110,
   "metadata": {},
   "outputs": [],
   "source": [
    "# predict on test data\n",
    "lr_predictions = lr.predict(test_df)"
   ]
  },
  {
   "cell_type": "code",
   "execution_count": 111,
   "metadata": {},
   "outputs": [
    {
     "data": {
      "text/plain": [
       "array([1, 0, 1, ..., 1, 1, 0], dtype=int64)"
      ]
     },
     "execution_count": 111,
     "metadata": {},
     "output_type": "execute_result"
    }
   ],
   "source": [
    "lr_predictions"
   ]
  },
  {
   "cell_type": "code",
   "execution_count": 112,
   "metadata": {},
   "outputs": [],
   "source": [
    "submit = pd.read_csv(\"sample_submission.csv\")"
   ]
  },
  {
   "cell_type": "code",
   "execution_count": 113,
   "metadata": {},
   "outputs": [],
   "source": [
    "submit['label'] = lr_predictions"
   ]
  },
  {
   "cell_type": "code",
   "execution_count": 114,
   "metadata": {},
   "outputs": [
    {
     "data": {
      "text/html": [
       "<div>\n",
       "<style scoped>\n",
       "    .dataframe tbody tr th:only-of-type {\n",
       "        vertical-align: middle;\n",
       "    }\n",
       "\n",
       "    .dataframe tbody tr th {\n",
       "        vertical-align: top;\n",
       "    }\n",
       "\n",
       "    .dataframe thead th {\n",
       "        text-align: right;\n",
       "    }\n",
       "</style>\n",
       "<table border=\"1\" class=\"dataframe\">\n",
       "  <thead>\n",
       "    <tr style=\"text-align: right;\">\n",
       "      <th></th>\n",
       "      <th>id</th>\n",
       "      <th>label</th>\n",
       "    </tr>\n",
       "  </thead>\n",
       "  <tbody>\n",
       "    <tr>\n",
       "      <th>0</th>\n",
       "      <td>7921</td>\n",
       "      <td>1</td>\n",
       "    </tr>\n",
       "    <tr>\n",
       "      <th>1</th>\n",
       "      <td>7922</td>\n",
       "      <td>0</td>\n",
       "    </tr>\n",
       "    <tr>\n",
       "      <th>2</th>\n",
       "      <td>7923</td>\n",
       "      <td>1</td>\n",
       "    </tr>\n",
       "    <tr>\n",
       "      <th>3</th>\n",
       "      <td>7924</td>\n",
       "      <td>1</td>\n",
       "    </tr>\n",
       "    <tr>\n",
       "      <th>4</th>\n",
       "      <td>7925</td>\n",
       "      <td>0</td>\n",
       "    </tr>\n",
       "    <tr>\n",
       "      <th>...</th>\n",
       "      <td>...</td>\n",
       "      <td>...</td>\n",
       "    </tr>\n",
       "    <tr>\n",
       "      <th>1948</th>\n",
       "      <td>9869</td>\n",
       "      <td>0</td>\n",
       "    </tr>\n",
       "    <tr>\n",
       "      <th>1949</th>\n",
       "      <td>9870</td>\n",
       "      <td>0</td>\n",
       "    </tr>\n",
       "    <tr>\n",
       "      <th>1950</th>\n",
       "      <td>9871</td>\n",
       "      <td>1</td>\n",
       "    </tr>\n",
       "    <tr>\n",
       "      <th>1951</th>\n",
       "      <td>9872</td>\n",
       "      <td>1</td>\n",
       "    </tr>\n",
       "    <tr>\n",
       "      <th>1952</th>\n",
       "      <td>9873</td>\n",
       "      <td>0</td>\n",
       "    </tr>\n",
       "  </tbody>\n",
       "</table>\n",
       "<p>1953 rows × 2 columns</p>\n",
       "</div>"
      ],
      "text/plain": [
       "        id  label\n",
       "0     7921      1\n",
       "1     7922      0\n",
       "2     7923      1\n",
       "3     7924      1\n",
       "4     7925      0\n",
       "...    ...    ...\n",
       "1948  9869      0\n",
       "1949  9870      0\n",
       "1950  9871      1\n",
       "1951  9872      1\n",
       "1952  9873      0\n",
       "\n",
       "[1953 rows x 2 columns]"
      ]
     },
     "execution_count": 114,
     "metadata": {},
     "output_type": "execute_result"
    }
   ],
   "source": [
    "submit"
   ]
  },
  {
   "cell_type": "code",
   "execution_count": 115,
   "metadata": {},
   "outputs": [
    {
     "name": "stdout",
     "output_type": "stream",
     "text": [
      "20201214125354\n"
     ]
    }
   ],
   "source": [
    "import time\n",
    "timestr = time.strftime(\"%Y%m%d%H%M%S\")\n",
    "print(timestr)"
   ]
  },
  {
   "cell_type": "code",
   "execution_count": 116,
   "metadata": {},
   "outputs": [],
   "source": [
    "import time\n",
    "timestr = time.strftime(\"%Y%m%d%H%M%S\")\n",
    "filename = \"sample_submission_\" + timestr + \".csv\"\n"
   ]
  },
  {
   "cell_type": "code",
   "execution_count": 117,
   "metadata": {},
   "outputs": [],
   "source": [
    "submit.to_csv(filename)"
   ]
  },
  {
   "cell_type": "raw",
   "metadata": {},
   "source": [
    "predicted = model.predict(X_test_sub)\n",
    "y_pred = predicted.argmax(axis=1)\n",
    "\n",
    "\n",
    "ImageID = np.arange(len(y_pred))+1\n",
    "Out = pd.DataFrame([test['filename'],y_pred]).T\n",
    "Out.rename(columns = {0:'filename', 1:'label'})\n",
    "#Out\n",
    "Out.to_csv('MNIST_Digit_TuningNetworkSize_100Epo.csv', header =  ['filename', 'label' ], index = None)"
   ]
  }
 ],
 "metadata": {
  "kernelspec": {
   "display_name": "Python 3",
   "language": "python",
   "name": "python3"
  },
  "language_info": {
   "codemirror_mode": {
    "name": "ipython",
    "version": 3
   },
   "file_extension": ".py",
   "mimetype": "text/x-python",
   "name": "python",
   "nbconvert_exporter": "python",
   "pygments_lexer": "ipython3",
   "version": "3.7.9"
  }
 },
 "nbformat": 4,
 "nbformat_minor": 4
}
