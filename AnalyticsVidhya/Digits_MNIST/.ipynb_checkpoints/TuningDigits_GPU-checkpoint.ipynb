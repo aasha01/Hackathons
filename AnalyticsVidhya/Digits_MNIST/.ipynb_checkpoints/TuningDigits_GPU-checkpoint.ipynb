{
 "cells": [
  {
   "cell_type": "markdown",
   "metadata": {},
   "source": [
    "# Advanced MLP\n",
    "- Advanced techniques for training neural networks\n",
    "    - Weight Initialization\n",
    "    - Nonlinearity (Activation function)\n",
    "    - Optimizers\n",
    "    - Batch Normalization\n",
    "    - Dropout (Regularization)\n",
    "    - Model Ensemble"
   ]
  },
  {
   "cell_type": "code",
   "execution_count": 1,
   "metadata": {},
   "outputs": [
    {
     "data": {
      "text/plain": [
       "'C:\\\\Users\\\\aasha\\\\anaconda3\\\\envs\\\\tfgpu\\\\python.exe'"
      ]
     },
     "execution_count": 1,
     "metadata": {},
     "output_type": "execute_result"
    }
   ],
   "source": [
    "import sys\n",
    "sys.executable"
   ]
  },
  {
   "cell_type": "code",
   "execution_count": 2,
   "metadata": {},
   "outputs": [
    {
     "name": "stderr",
     "output_type": "stream",
     "text": [
      "Using TensorFlow backend.\n"
     ]
    }
   ],
   "source": [
    "import matplotlib.pyplot as plt\n",
    "\n",
    "from sklearn.model_selection import train_test_split\n",
    "from keras.datasets import mnist\n",
    "from keras.models import Sequential\n",
    "from keras.utils.np_utils import to_categorical"
   ]
  },
  {
   "cell_type": "code",
   "execution_count": 3,
   "metadata": {},
   "outputs": [],
   "source": [
    "import pandas as pd\n",
    "import cv2 \n",
    "\n",
    "import os\n",
    "import numpy as np"
   ]
  },
  {
   "cell_type": "code",
   "execution_count": 4,
   "metadata": {},
   "outputs": [],
   "source": [
    "from keras.models import Sequential\n",
    "from keras.layers import Activation, Dense\n",
    "from keras import optimizers\n",
    "\n",
    "from keras.layers import BatchNormalization"
   ]
  },
  {
   "cell_type": "markdown",
   "metadata": {},
   "source": [
    "## Load Dataset\n",
    "- MNIST dataset\n",
    "- source: http://yann.lecun.com/exdb/mnist/"
   ]
  },
  {
   "cell_type": "code",
   "execution_count": 5,
   "metadata": {},
   "outputs": [
    {
     "data": {
      "text/plain": [
       "<matplotlib.image.AxesImage at 0x201fb4af048>"
      ]
     },
     "execution_count": 5,
     "metadata": {},
     "output_type": "execute_result"
    },
    {
     "data": {
      "image/png": "[encoded data removed]",
      "text/plain": [
       "<Figure size 432x288 with 1 Axes>"
      ]
     },
     "metadata": {
      "needs_background": "light"
     },
     "output_type": "display_data"
    }
   ],
   "source": [
    "train=pd.read_csv(\"D:\\\\Hackeathon\\\\AnalyticsVidhya\\\\Digits_MNIST\\\\Train\\\\train.csv\")\n",
    "test=pd.read_csv(\"D:\\\\Hackeathon\\\\AnalyticsVidhya\\\\Digits_MNIST\\\\Test.csv\")\n",
    "\n",
    "train_image_path=\"D:\\\\Hackeathon\\\\AnalyticsVidhya\\\\Digits_MNIST\\\\Train\\\\Images\\\\train\\\\\"\n",
    "\n",
    "##Loading Training Images\n",
    "train_img=[]\n",
    "for i in train['filename']:\n",
    "    img=cv2.imread(os.path.join(train_image_path,i),0)\n",
    "    train_img.append(img)\n",
    "\n",
    "plt.imshow(train_img[0])"
   ]
  },
  {
   "cell_type": "code",
   "execution_count": 6,
   "metadata": {},
   "outputs": [
    {
     "data": {
      "text/plain": [
       "<matplotlib.image.AxesImage at 0x201fb996808>"
      ]
     },
     "execution_count": 6,
     "metadata": {},
     "output_type": "execute_result"
    },
    {
     "data": {
      "image/png": "[encoded data removed]",
      "text/plain": [
       "<Figure size 432x288 with 1 Axes>"
      ]
     },
     "metadata": {
      "needs_background": "light"
     },
     "output_type": "display_data"
    }
   ],
   "source": [
    "test_image_path=\"D:\\\\Hackeathon\\\\AnalyticsVidhya\\\\Digits_MNIST\\\\Train\\\\Images\\\\test\\\\\"\n",
    "\n",
    "##Loading Testing Images\n",
    "test_img=[]\n",
    "for i in test['filename']:\n",
    "    img=cv2.imread(os.path.join(test_image_path,i),0)\n",
    "    test_img.append(img)\n",
    "\n",
    "plt.imshow(test_img[0])"
   ]
  },
  {
   "cell_type": "code",
   "execution_count": 7,
   "metadata": {},
   "outputs": [],
   "source": [
    "train_label = train['label']"
   ]
  },
  {
   "cell_type": "code",
   "execution_count": 8,
   "metadata": {},
   "outputs": [],
   "source": [
    "X_train = np.array(train_img)\n",
    "X_test_sub = np.array(test_img)"
   ]
  },
  {
   "cell_type": "code",
   "execution_count": 9,
   "metadata": {},
   "outputs": [],
   "source": [
    "# reshaping X data: (n, 28, 28) => (n, 784)\n",
    "X_train = X_train.reshape((X_train.shape[0], -1))\n",
    "X_test_sub = X_test_sub.reshape((X_test_sub.shape[0], -1))"
   ]
  },
  {
   "cell_type": "code",
   "execution_count": 10,
   "metadata": {},
   "outputs": [],
   "source": [
    "# use only 33% of training data to expedite the training process\n",
    "X_train, x_test , y_train, y_test = train_test_split(X_train, train_label, test_size = 0.67, random_state = 7)"
   ]
  },
  {
   "cell_type": "code",
   "execution_count": 11,
   "metadata": {},
   "outputs": [],
   "source": [
    "# converting y data into categorical (one-hot encoding)\n",
    "y_train = to_categorical(y_train)\n",
    "y_test = to_categorical(y_test)"
   ]
  },
  {
   "cell_type": "code",
   "execution_count": 12,
   "metadata": {},
   "outputs": [
    {
     "name": "stdout",
     "output_type": "stream",
     "text": [
      "(16170, 784) (32830, 784) (16170, 10) (32830, 10)\n"
     ]
    }
   ],
   "source": [
    "print(X_train.shape, x_test.shape, y_train.shape, y_test.shape)"
   ]
  },
  {
   "cell_type": "code",
   "execution_count": 13,
   "metadata": {},
   "outputs": [
    {
     "data": {
      "text/plain": [
       "(21000, 784)"
      ]
     },
     "execution_count": 13,
     "metadata": {},
     "output_type": "execute_result"
    }
   ],
   "source": [
    "X_test_sub.shape"
   ]
  },
  {
   "cell_type": "code",
   "execution_count": null,
   "metadata": {},
   "outputs": [],
   "source": []
  },
  {
   "cell_type": "code",
   "execution_count": null,
   "metadata": {},
   "outputs": [],
   "source": []
  },
  {
   "cell_type": "code",
   "execution_count": null,
   "metadata": {},
   "outputs": [],
   "source": []
  },
  {
   "cell_type": "markdown",
   "metadata": {},
   "source": [
    "## Basic MLP model\n",
    "- Naive MLP model without any alterations"
   ]
  },
  {
   "cell_type": "code",
   "execution_count": 14,
   "metadata": {},
   "outputs": [],
   "source": [
    "from keras.models import Sequential\n",
    "from keras.layers import Activation, Dense\n",
    "from keras import optimizers"
   ]
  },
  {
   "cell_type": "code",
   "execution_count": 15,
   "metadata": {},
   "outputs": [],
   "source": [
    "model = Sequential()"
   ]
  },
  {
   "cell_type": "code",
   "execution_count": 16,
   "metadata": {},
   "outputs": [],
   "source": [
    "model.add(Dense(50, input_shape = (784, )))\n",
    "model.add(Activation('sigmoid'))\n",
    "model.add(Dense(50))\n",
    "model.add(Activation('sigmoid'))\n",
    "model.add(Dense(50))\n",
    "model.add(Activation('sigmoid'))\n",
    "model.add(Dense(50))\n",
    "model.add(Activation('sigmoid'))\n",
    "model.add(Dense(10))\n",
    "model.add(Activation('softmax'))"
   ]
  },
  {
   "cell_type": "code",
   "execution_count": 17,
   "metadata": {},
   "outputs": [],
   "source": [
    "sgd = optimizers.SGD(lr = 0.001)\n",
    "model.compile(optimizer = sgd, loss = 'categorical_crossentropy', metrics = ['accuracy'])"
   ]
  },
  {
   "cell_type": "raw",
   "metadata": {},
   "source": [
    "import tensorflow as tf\n",
    "tbCallBack = tf.keras.callbacks.TensorBoard(log_dir='.\\logs', histogram_freq=0,\n",
    "\n",
    "write_graph=True, write_images=True)\n"
   ]
  },
  {
   "cell_type": "code",
   "execution_count": 18,
   "metadata": {
    "scrolled": true
   },
   "outputs": [
    {
     "name": "stdout",
     "output_type": "stream",
     "text": [
      "Train on 11319 samples, validate on 4851 samples\n",
      "Epoch 1/100\n"
     ]
    },
    {
     "ename": "InternalError",
     "evalue": " Blas GEMM launch failed : a.shape=(256, 784), b.shape=(784, 50), m=256, n=50, k=784\n\t [[node dense_1/MatMul (defined at C:\\Users\\aasha\\anaconda3\\envs\\tfgpu\\lib\\site-packages\\keras\\backend\\tensorflow_backend.py:3009) ]] [Op:__inference_keras_scratch_graph_697]\n\nFunction call stack:\nkeras_scratch_graph\n",
     "output_type": "error",
     "traceback": [
      "\u001b[1;31m---------------------------------------------------------------------------\u001b[0m",
      "\u001b[1;31mInternalError\u001b[0m                             Traceback (most recent call last)",
      "\u001b[1;32m<ipython-input-18-ce5db646eae6>\u001b[0m in \u001b[0;36m<module>\u001b[1;34m\u001b[0m\n\u001b[0;32m      3\u001b[0m \u001b[0mstart_time\u001b[0m\u001b[1;33m=\u001b[0m\u001b[0mtime\u001b[0m\u001b[1;33m.\u001b[0m\u001b[0mtime\u001b[0m\u001b[1;33m(\u001b[0m\u001b[1;33m)\u001b[0m\u001b[1;33m\u001b[0m\u001b[1;33m\u001b[0m\u001b[0m\n\u001b[0;32m      4\u001b[0m \u001b[1;33m\u001b[0m\u001b[0m\n\u001b[1;32m----> 5\u001b[1;33m \u001b[0mhistory\u001b[0m \u001b[1;33m=\u001b[0m \u001b[0mmodel\u001b[0m\u001b[1;33m.\u001b[0m\u001b[0mfit\u001b[0m\u001b[1;33m(\u001b[0m\u001b[0mX_train\u001b[0m\u001b[1;33m,\u001b[0m \u001b[0my_train\u001b[0m\u001b[1;33m,\u001b[0m \u001b[0mbatch_size\u001b[0m \u001b[1;33m=\u001b[0m \u001b[1;36m256\u001b[0m\u001b[1;33m,\u001b[0m \u001b[0mvalidation_split\u001b[0m \u001b[1;33m=\u001b[0m \u001b[1;36m0.3\u001b[0m\u001b[1;33m,\u001b[0m \u001b[0mepochs\u001b[0m \u001b[1;33m=\u001b[0m \u001b[1;36m100\u001b[0m\u001b[1;33m,\u001b[0m \u001b[0mverbose\u001b[0m \u001b[1;33m=\u001b[0m \u001b[1;36m1\u001b[0m\u001b[1;33m)\u001b[0m\u001b[1;33m\u001b[0m\u001b[1;33m\u001b[0m\u001b[0m\n\u001b[0m\u001b[0;32m      6\u001b[0m \u001b[1;33m\u001b[0m\u001b[0m\n\u001b[0;32m      7\u001b[0m \u001b[0mprint\u001b[0m\u001b[1;33m(\u001b[0m\u001b[1;34m'Training took {} seconds'\u001b[0m\u001b[1;33m.\u001b[0m\u001b[0mformat\u001b[0m\u001b[1;33m(\u001b[0m\u001b[0mtime\u001b[0m\u001b[1;33m.\u001b[0m\u001b[0mtime\u001b[0m\u001b[1;33m(\u001b[0m\u001b[1;33m)\u001b[0m\u001b[1;33m-\u001b[0m\u001b[0mstart_time\u001b[0m\u001b[1;33m)\u001b[0m\u001b[1;33m)\u001b[0m\u001b[1;33m\u001b[0m\u001b[1;33m\u001b[0m\u001b[0m\n",
      "\u001b[1;32m~\\anaconda3\\envs\\tfgpu\\lib\\site-packages\\keras\\engine\\training.py\u001b[0m in \u001b[0;36mfit\u001b[1;34m(self, x, y, batch_size, epochs, verbose, callbacks, validation_split, validation_data, shuffle, class_weight, sample_weight, initial_epoch, steps_per_epoch, validation_steps, validation_freq, max_queue_size, workers, use_multiprocessing, **kwargs)\u001b[0m\n\u001b[0;32m   1237\u001b[0m                                         \u001b[0msteps_per_epoch\u001b[0m\u001b[1;33m=\u001b[0m\u001b[0msteps_per_epoch\u001b[0m\u001b[1;33m,\u001b[0m\u001b[1;33m\u001b[0m\u001b[1;33m\u001b[0m\u001b[0m\n\u001b[0;32m   1238\u001b[0m                                         \u001b[0mvalidation_steps\u001b[0m\u001b[1;33m=\u001b[0m\u001b[0mvalidation_steps\u001b[0m\u001b[1;33m,\u001b[0m\u001b[1;33m\u001b[0m\u001b[1;33m\u001b[0m\u001b[0m\n\u001b[1;32m-> 1239\u001b[1;33m                                         validation_freq=validation_freq)\n\u001b[0m\u001b[0;32m   1240\u001b[0m \u001b[1;33m\u001b[0m\u001b[0m\n\u001b[0;32m   1241\u001b[0m     def evaluate(self,\n",
      "\u001b[1;32m~\\anaconda3\\envs\\tfgpu\\lib\\site-packages\\keras\\engine\\training_arrays.py\u001b[0m in \u001b[0;36mfit_loop\u001b[1;34m(model, fit_function, fit_inputs, out_labels, batch_size, epochs, verbose, callbacks, val_function, val_inputs, shuffle, initial_epoch, steps_per_epoch, validation_steps, validation_freq)\u001b[0m\n\u001b[0;32m    194\u001b[0m                     \u001b[0mins_batch\u001b[0m\u001b[1;33m[\u001b[0m\u001b[0mi\u001b[0m\u001b[1;33m]\u001b[0m \u001b[1;33m=\u001b[0m \u001b[0mins_batch\u001b[0m\u001b[1;33m[\u001b[0m\u001b[0mi\u001b[0m\u001b[1;33m]\u001b[0m\u001b[1;33m.\u001b[0m\u001b[0mtoarray\u001b[0m\u001b[1;33m(\u001b[0m\u001b[1;33m)\u001b[0m\u001b[1;33m\u001b[0m\u001b[1;33m\u001b[0m\u001b[0m\n\u001b[0;32m    195\u001b[0m \u001b[1;33m\u001b[0m\u001b[0m\n\u001b[1;32m--> 196\u001b[1;33m                 \u001b[0mouts\u001b[0m \u001b[1;33m=\u001b[0m \u001b[0mfit_function\u001b[0m\u001b[1;33m(\u001b[0m\u001b[0mins_batch\u001b[0m\u001b[1;33m)\u001b[0m\u001b[1;33m\u001b[0m\u001b[1;33m\u001b[0m\u001b[0m\n\u001b[0m\u001b[0;32m    197\u001b[0m                 \u001b[0mouts\u001b[0m \u001b[1;33m=\u001b[0m \u001b[0mto_list\u001b[0m\u001b[1;33m(\u001b[0m\u001b[0mouts\u001b[0m\u001b[1;33m)\u001b[0m\u001b[1;33m\u001b[0m\u001b[1;33m\u001b[0m\u001b[0m\n\u001b[0;32m    198\u001b[0m                 \u001b[1;32mfor\u001b[0m \u001b[0ml\u001b[0m\u001b[1;33m,\u001b[0m \u001b[0mo\u001b[0m \u001b[1;32min\u001b[0m \u001b[0mzip\u001b[0m\u001b[1;33m(\u001b[0m\u001b[0mout_labels\u001b[0m\u001b[1;33m,\u001b[0m \u001b[0mouts\u001b[0m\u001b[1;33m)\u001b[0m\u001b[1;33m:\u001b[0m\u001b[1;33m\u001b[0m\u001b[1;33m\u001b[0m\u001b[0m\n",
      "\u001b[1;32m~\\anaconda3\\envs\\tfgpu\\lib\\site-packages\\tensorflow_core\\python\\keras\\backend.py\u001b[0m in \u001b[0;36m__call__\u001b[1;34m(self, inputs)\u001b[0m\n\u001b[0;32m   3725\u001b[0m         \u001b[0mvalue\u001b[0m \u001b[1;33m=\u001b[0m \u001b[0mmath_ops\u001b[0m\u001b[1;33m.\u001b[0m\u001b[0mcast\u001b[0m\u001b[1;33m(\u001b[0m\u001b[0mvalue\u001b[0m\u001b[1;33m,\u001b[0m \u001b[0mtensor\u001b[0m\u001b[1;33m.\u001b[0m\u001b[0mdtype\u001b[0m\u001b[1;33m)\u001b[0m\u001b[1;33m\u001b[0m\u001b[1;33m\u001b[0m\u001b[0m\n\u001b[0;32m   3726\u001b[0m       \u001b[0mconverted_inputs\u001b[0m\u001b[1;33m.\u001b[0m\u001b[0mappend\u001b[0m\u001b[1;33m(\u001b[0m\u001b[0mvalue\u001b[0m\u001b[1;33m)\u001b[0m\u001b[1;33m\u001b[0m\u001b[1;33m\u001b[0m\u001b[0m\n\u001b[1;32m-> 3727\u001b[1;33m     \u001b[0moutputs\u001b[0m \u001b[1;33m=\u001b[0m \u001b[0mself\u001b[0m\u001b[1;33m.\u001b[0m\u001b[0m_graph_fn\u001b[0m\u001b[1;33m(\u001b[0m\u001b[1;33m*\u001b[0m\u001b[0mconverted_inputs\u001b[0m\u001b[1;33m)\u001b[0m\u001b[1;33m\u001b[0m\u001b[1;33m\u001b[0m\u001b[0m\n\u001b[0m\u001b[0;32m   3728\u001b[0m \u001b[1;33m\u001b[0m\u001b[0m\n\u001b[0;32m   3729\u001b[0m     \u001b[1;31m# EagerTensor.numpy() will often make a copy to ensure memory safety.\u001b[0m\u001b[1;33m\u001b[0m\u001b[1;33m\u001b[0m\u001b[1;33m\u001b[0m\u001b[0m\n",
      "\u001b[1;32m~\\anaconda3\\envs\\tfgpu\\lib\\site-packages\\tensorflow_core\\python\\eager\\function.py\u001b[0m in \u001b[0;36m__call__\u001b[1;34m(self, *args, **kwargs)\u001b[0m\n\u001b[0;32m   1549\u001b[0m       \u001b[0mTypeError\u001b[0m\u001b[1;33m:\u001b[0m \u001b[0mFor\u001b[0m \u001b[0minvalid\u001b[0m \u001b[0mpositional\u001b[0m\u001b[1;33m/\u001b[0m\u001b[0mkeyword\u001b[0m \u001b[0margument\u001b[0m \u001b[0mcombinations\u001b[0m\u001b[1;33m.\u001b[0m\u001b[1;33m\u001b[0m\u001b[1;33m\u001b[0m\u001b[0m\n\u001b[0;32m   1550\u001b[0m     \"\"\"\n\u001b[1;32m-> 1551\u001b[1;33m     \u001b[1;32mreturn\u001b[0m \u001b[0mself\u001b[0m\u001b[1;33m.\u001b[0m\u001b[0m_call_impl\u001b[0m\u001b[1;33m(\u001b[0m\u001b[0margs\u001b[0m\u001b[1;33m,\u001b[0m \u001b[0mkwargs\u001b[0m\u001b[1;33m)\u001b[0m\u001b[1;33m\u001b[0m\u001b[1;33m\u001b[0m\u001b[0m\n\u001b[0m\u001b[0;32m   1552\u001b[0m \u001b[1;33m\u001b[0m\u001b[0m\n\u001b[0;32m   1553\u001b[0m   \u001b[1;32mdef\u001b[0m \u001b[0m_call_impl\u001b[0m\u001b[1;33m(\u001b[0m\u001b[0mself\u001b[0m\u001b[1;33m,\u001b[0m \u001b[0margs\u001b[0m\u001b[1;33m,\u001b[0m \u001b[0mkwargs\u001b[0m\u001b[1;33m,\u001b[0m \u001b[0mcancellation_manager\u001b[0m\u001b[1;33m=\u001b[0m\u001b[1;32mNone\u001b[0m\u001b[1;33m)\u001b[0m\u001b[1;33m:\u001b[0m\u001b[1;33m\u001b[0m\u001b[1;33m\u001b[0m\u001b[0m\n",
      "\u001b[1;32m~\\anaconda3\\envs\\tfgpu\\lib\\site-packages\\tensorflow_core\\python\\eager\\function.py\u001b[0m in \u001b[0;36m_call_impl\u001b[1;34m(self, args, kwargs, cancellation_manager)\u001b[0m\n\u001b[0;32m   1589\u001b[0m       raise TypeError(\"Keyword arguments {} unknown. Expected {}.\".format(\n\u001b[0;32m   1590\u001b[0m           list(kwargs.keys()), list(self._arg_keywords)))\n\u001b[1;32m-> 1591\u001b[1;33m     \u001b[1;32mreturn\u001b[0m \u001b[0mself\u001b[0m\u001b[1;33m.\u001b[0m\u001b[0m_call_flat\u001b[0m\u001b[1;33m(\u001b[0m\u001b[0margs\u001b[0m\u001b[1;33m,\u001b[0m \u001b[0mself\u001b[0m\u001b[1;33m.\u001b[0m\u001b[0mcaptured_inputs\u001b[0m\u001b[1;33m,\u001b[0m \u001b[0mcancellation_manager\u001b[0m\u001b[1;33m)\u001b[0m\u001b[1;33m\u001b[0m\u001b[1;33m\u001b[0m\u001b[0m\n\u001b[0m\u001b[0;32m   1592\u001b[0m \u001b[1;33m\u001b[0m\u001b[0m\n\u001b[0;32m   1593\u001b[0m   \u001b[1;32mdef\u001b[0m \u001b[0m_filtered_call\u001b[0m\u001b[1;33m(\u001b[0m\u001b[0mself\u001b[0m\u001b[1;33m,\u001b[0m \u001b[0margs\u001b[0m\u001b[1;33m,\u001b[0m \u001b[0mkwargs\u001b[0m\u001b[1;33m)\u001b[0m\u001b[1;33m:\u001b[0m\u001b[1;33m\u001b[0m\u001b[1;33m\u001b[0m\u001b[0m\n",
      "\u001b[1;32m~\\anaconda3\\envs\\tfgpu\\lib\\site-packages\\tensorflow_core\\python\\eager\\function.py\u001b[0m in \u001b[0;36m_call_flat\u001b[1;34m(self, args, captured_inputs, cancellation_manager)\u001b[0m\n\u001b[0;32m   1690\u001b[0m       \u001b[1;31m# No tape is watching; skip to running the function.\u001b[0m\u001b[1;33m\u001b[0m\u001b[1;33m\u001b[0m\u001b[1;33m\u001b[0m\u001b[0m\n\u001b[0;32m   1691\u001b[0m       return self._build_call_outputs(self._inference_function.call(\n\u001b[1;32m-> 1692\u001b[1;33m           ctx, args, cancellation_manager=cancellation_manager))\n\u001b[0m\u001b[0;32m   1693\u001b[0m     forward_backward = self._select_forward_and_backward_functions(\n\u001b[0;32m   1694\u001b[0m         \u001b[0margs\u001b[0m\u001b[1;33m,\u001b[0m\u001b[1;33m\u001b[0m\u001b[1;33m\u001b[0m\u001b[0m\n",
      "\u001b[1;32m~\\anaconda3\\envs\\tfgpu\\lib\\site-packages\\tensorflow_core\\python\\eager\\function.py\u001b[0m in \u001b[0;36mcall\u001b[1;34m(self, ctx, args, cancellation_manager)\u001b[0m\n\u001b[0;32m    543\u001b[0m               \u001b[0minputs\u001b[0m\u001b[1;33m=\u001b[0m\u001b[0margs\u001b[0m\u001b[1;33m,\u001b[0m\u001b[1;33m\u001b[0m\u001b[1;33m\u001b[0m\u001b[0m\n\u001b[0;32m    544\u001b[0m               \u001b[0mattrs\u001b[0m\u001b[1;33m=\u001b[0m\u001b[1;33m(\u001b[0m\u001b[1;34m\"executor_type\"\u001b[0m\u001b[1;33m,\u001b[0m \u001b[0mexecutor_type\u001b[0m\u001b[1;33m,\u001b[0m \u001b[1;34m\"config_proto\"\u001b[0m\u001b[1;33m,\u001b[0m \u001b[0mconfig\u001b[0m\u001b[1;33m)\u001b[0m\u001b[1;33m,\u001b[0m\u001b[1;33m\u001b[0m\u001b[1;33m\u001b[0m\u001b[0m\n\u001b[1;32m--> 545\u001b[1;33m               ctx=ctx)\n\u001b[0m\u001b[0;32m    546\u001b[0m         \u001b[1;32melse\u001b[0m\u001b[1;33m:\u001b[0m\u001b[1;33m\u001b[0m\u001b[1;33m\u001b[0m\u001b[0m\n\u001b[0;32m    547\u001b[0m           outputs = execute.execute_with_cancellation(\n",
      "\u001b[1;32m~\\anaconda3\\envs\\tfgpu\\lib\\site-packages\\tensorflow_core\\python\\eager\\execute.py\u001b[0m in \u001b[0;36mquick_execute\u001b[1;34m(op_name, num_outputs, inputs, attrs, ctx, name)\u001b[0m\n\u001b[0;32m     65\u001b[0m     \u001b[1;32melse\u001b[0m\u001b[1;33m:\u001b[0m\u001b[1;33m\u001b[0m\u001b[1;33m\u001b[0m\u001b[0m\n\u001b[0;32m     66\u001b[0m       \u001b[0mmessage\u001b[0m \u001b[1;33m=\u001b[0m \u001b[0me\u001b[0m\u001b[1;33m.\u001b[0m\u001b[0mmessage\u001b[0m\u001b[1;33m\u001b[0m\u001b[1;33m\u001b[0m\u001b[0m\n\u001b[1;32m---> 67\u001b[1;33m     \u001b[0msix\u001b[0m\u001b[1;33m.\u001b[0m\u001b[0mraise_from\u001b[0m\u001b[1;33m(\u001b[0m\u001b[0mcore\u001b[0m\u001b[1;33m.\u001b[0m\u001b[0m_status_to_exception\u001b[0m\u001b[1;33m(\u001b[0m\u001b[0me\u001b[0m\u001b[1;33m.\u001b[0m\u001b[0mcode\u001b[0m\u001b[1;33m,\u001b[0m \u001b[0mmessage\u001b[0m\u001b[1;33m)\u001b[0m\u001b[1;33m,\u001b[0m \u001b[1;32mNone\u001b[0m\u001b[1;33m)\u001b[0m\u001b[1;33m\u001b[0m\u001b[1;33m\u001b[0m\u001b[0m\n\u001b[0m\u001b[0;32m     68\u001b[0m   \u001b[1;32mexcept\u001b[0m \u001b[0mTypeError\u001b[0m \u001b[1;32mas\u001b[0m \u001b[0me\u001b[0m\u001b[1;33m:\u001b[0m\u001b[1;33m\u001b[0m\u001b[1;33m\u001b[0m\u001b[0m\n\u001b[0;32m     69\u001b[0m     keras_symbolic_tensors = [\n",
      "\u001b[1;32m~\\anaconda3\\envs\\tfgpu\\lib\\site-packages\\six.py\u001b[0m in \u001b[0;36mraise_from\u001b[1;34m(value, from_value)\u001b[0m\n",
      "\u001b[1;31mInternalError\u001b[0m:  Blas GEMM launch failed : a.shape=(256, 784), b.shape=(784, 50), m=256, n=50, k=784\n\t [[node dense_1/MatMul (defined at C:\\Users\\aasha\\anaconda3\\envs\\tfgpu\\lib\\site-packages\\keras\\backend\\tensorflow_backend.py:3009) ]] [Op:__inference_keras_scratch_graph_697]\n\nFunction call stack:\nkeras_scratch_graph\n"
     ]
    }
   ],
   "source": [
    "import time\n",
    "\n",
    "start_time=time.time()\n",
    "\n",
    "history = model.fit(X_train, y_train, batch_size = 256, validation_split = 0.3, epochs = 100, verbose = 1)\n",
    "\n",
    "print('Training took {} seconds'.format(time.time()-start_time))"
   ]
  },
  {
   "cell_type": "code",
   "execution_count": null,
   "metadata": {
    "scrolled": true
   },
   "outputs": [],
   "source": [
    "plt.plot(history.history['accuracy'])\n",
    "plt.plot(history.history['val_accuracy'])\n",
    "plt.legend(['training', 'validation'], loc = 'upper left')\n",
    "plt.show()"
   ]
  },
  {
   "cell_type": "markdown",
   "metadata": {},
   "source": [
    "Training and validation accuracy seems to improve after around 60 epochs"
   ]
  },
  {
   "cell_type": "code",
   "execution_count": 46,
   "metadata": {},
   "outputs": [
    {
     "name": "stdout",
     "output_type": "stream",
     "text": [
      "1026/1026 [==============================] - 2s 2ms/step - loss: 2.3001 - accuracy: 0.1115\n"
     ]
    }
   ],
   "source": [
    "results = model.evaluate(x_test, y_test)"
   ]
  },
  {
   "cell_type": "code",
   "execution_count": 47,
   "metadata": {},
   "outputs": [
    {
     "name": "stdout",
     "output_type": "stream",
     "text": [
      "Test accuracy:  0.11151386052370071\n"
     ]
    }
   ],
   "source": [
    "print('Test accuracy: ', results[1])"
   ]
  },
  {
   "cell_type": "code",
   "execution_count": null,
   "metadata": {},
   "outputs": [],
   "source": []
  },
  {
   "cell_type": "code",
   "execution_count": 55,
   "metadata": {},
   "outputs": [],
   "source": [
    "# from now on, create a function to generate (return) models\n",
    "def mlp_model_tune_Dense(denseCount):\n",
    "    model = Sequential()\n",
    "    \n",
    "    model.add(Dense(denseCount, input_shape = (784, )))     # use he_normal initializer\n",
    "    model.add(Activation('elu'))    \n",
    "    model.add(Dense(denseCount))                            # use he_normal initializer\n",
    "    model.add(Activation('elu'))    \n",
    "    model.add(Dense(denseCount))                            # use he_normal initializer\n",
    "    model.add(Activation('elu'))    \n",
    "    model.add(Dense(denseCount))                            # use he_normal initializer\n",
    "    model.add(Activation('elu'))    \n",
    "    model.add(Dense(10))                            # use he_normal initializer\n",
    "    model.add(Activation('softmax'))\n",
    "    \n",
    "    sgd = optimizers.SGD(lr = 0.001)\n",
    "    model.compile(optimizer = sgd, loss = 'categorical_crossentropy', metrics = ['accuracy'])\n",
    "    \n",
    "    return model"
   ]
  },
  {
   "cell_type": "code",
   "execution_count": 57,
   "metadata": {},
   "outputs": [
    {
     "name": "stdout",
     "output_type": "stream",
     "text": [
      "1026/1026 [==============================] - 2s 2ms/step - loss: 0.5608 - accuracy: 0.9182\n",
      "Test accuracy for dense: 50  is 0.9181541204452515\n",
      "1026/1026 [==============================] - 2s 2ms/step - loss: 0.6133 - accuracy: 0.9043\n",
      "Test accuracy for dense: 53  is 0.9043253064155579\n",
      "1026/1026 [==============================] - 2s 2ms/step - loss: 0.5821 - accuracy: 0.9125\n",
      "Test accuracy for dense: 54  is 0.9125494956970215\n",
      "1026/1026 [==============================] - 2s 2ms/step - loss: 0.5306 - accuracy: 0.9180\n",
      "Test accuracy for dense: 56  is 0.9180322885513306\n",
      "1026/1026 [==============================] - 2s 2ms/step - loss: 0.6045 - accuracy: 0.9136\n",
      "Test accuracy for dense: 58  is 0.9136460423469543\n"
     ]
    }
   ],
   "source": [
    "for i in [50,53,54,56,58]:\n",
    "\n",
    "    model = mlp_model_tune_Dense(i)\n",
    "    history = model.fit(X_train, y_train, validation_split = 0.3, epochs = 100, verbose = 0)\n",
    "    results = model.evaluate(x_test, y_test)\n",
    "    print('Test accuracy for dense:', i,' is', results[1])"
   ]
  },
  {
   "cell_type": "code",
   "execution_count": null,
   "metadata": {},
   "outputs": [],
   "source": []
  },
  {
   "cell_type": "code",
   "execution_count": null,
   "metadata": {},
   "outputs": [],
   "source": []
  },
  {
   "cell_type": "code",
   "execution_count": null,
   "metadata": {},
   "outputs": [],
   "source": []
  },
  {
   "cell_type": "code",
   "execution_count": null,
   "metadata": {},
   "outputs": [],
   "source": []
  },
  {
   "cell_type": "markdown",
   "metadata": {},
   "source": [
    "## 1. Weight Initialization\n",
    "- Changing weight initialization scheme can significantly improve training of the model by preventing vanishing gradient problem up to some degree\n",
    "- He normal or Xavier normal initialization schemes are SOTA at the moment\n",
    "- Doc: https://keras.io/initializers/"
   ]
  },
  {
   "cell_type": "code",
   "execution_count": 71,
   "metadata": {},
   "outputs": [],
   "source": [
    "# from now on, create a function to generate (return) models\n",
    "def mlp_model():\n",
    "    model = Sequential()\n",
    "    \n",
    "    model.add(Dense(50, input_shape = (784, ), kernel_initializer='he_normal'))     # use he_normal initializer\n",
    "    model.add(Activation('elu'))    \n",
    "    model.add(Dense(50, kernel_initializer='he_normal'))                            # use he_normal initializer\n",
    "    model.add(Activation('elu'))    \n",
    "    model.add(Dense(50, kernel_initializer='he_normal'))                            # use he_normal initializer\n",
    "    model.add(Activation('elu'))    \n",
    "    model.add(Dense(50, kernel_initializer='he_normal'))                            # use he_normal initializer\n",
    "    model.add(Activation('elu'))    \n",
    "    model.add(Dense(10, kernel_initializer='he_normal'))                            # use he_normal initializer\n",
    "    model.add(Activation('softmax'))\n",
    "    \n",
    "    sgd = optimizers.SGD(lr = 0.001)\n",
    "    model.compile(optimizer = sgd, loss = 'categorical_crossentropy', metrics = ['accuracy'])\n",
    "    \n",
    "    return model"
   ]
  },
  {
   "cell_type": "code",
   "execution_count": 73,
   "metadata": {},
   "outputs": [
    {
     "name": "stdout",
     "output_type": "stream",
     "text": [
      "1026/1026 [==============================] - 2s 2ms/step - loss: 0.5444 - accuracy: 0.8952\n",
      "Test accuracy for dense: 69999.png  is 0.895217776298523\n"
     ]
    }
   ],
   "source": [
    "    model = mlp_model()\n",
    "    history = model.fit(X_train, y_train, validation_split = 0.3, epochs = 100, verbose = 0)\n",
    "    results = model.evaluate(x_test, y_test)\n",
    "    print('Test accuracy for dense:', i,' is', results[1])"
   ]
  },
  {
   "cell_type": "code",
   "execution_count": 51,
   "metadata": {
    "scrolled": true
   },
   "outputs": [
    {
     "ename": "NameError",
     "evalue": "name 'mlp_model_tune_Dense' is not defined",
     "output_type": "error",
     "traceback": [
      "\u001b[1;31m---------------------------------------------------------------------------\u001b[0m",
      "\u001b[1;31mNameError\u001b[0m                                 Traceback (most recent call last)",
      "\u001b[1;32m<ipython-input-51-e5277d1da9ef>\u001b[0m in \u001b[0;36m<module>\u001b[1;34m\u001b[0m\n\u001b[0;32m      1\u001b[0m \u001b[1;32mfor\u001b[0m \u001b[0mi\u001b[0m \u001b[1;32min\u001b[0m \u001b[1;33m[\u001b[0m\u001b[1;36m30\u001b[0m\u001b[1;33m,\u001b[0m\u001b[1;36m50\u001b[0m\u001b[1;33m,\u001b[0m\u001b[1;36m60\u001b[0m\u001b[1;33m,\u001b[0m\u001b[1;36m64\u001b[0m\u001b[1;33m,\u001b[0m\u001b[1;36m70\u001b[0m\u001b[1;33m]\u001b[0m\u001b[1;33m:\u001b[0m\u001b[1;33m\u001b[0m\u001b[1;33m\u001b[0m\u001b[0m\n\u001b[0;32m      2\u001b[0m \u001b[1;33m\u001b[0m\u001b[0m\n\u001b[1;32m----> 3\u001b[1;33m     \u001b[0mmodel\u001b[0m \u001b[1;33m=\u001b[0m \u001b[0mmlp_model_tune_Dense\u001b[0m\u001b[1;33m(\u001b[0m\u001b[0mi\u001b[0m\u001b[1;33m)\u001b[0m\u001b[1;33m\u001b[0m\u001b[1;33m\u001b[0m\u001b[0m\n\u001b[0m\u001b[0;32m      4\u001b[0m     \u001b[0mhistory\u001b[0m \u001b[1;33m=\u001b[0m \u001b[0mmodel\u001b[0m\u001b[1;33m.\u001b[0m\u001b[0mfit\u001b[0m\u001b[1;33m(\u001b[0m\u001b[0mX_train\u001b[0m\u001b[1;33m,\u001b[0m \u001b[0my_train\u001b[0m\u001b[1;33m,\u001b[0m \u001b[0mvalidation_split\u001b[0m \u001b[1;33m=\u001b[0m \u001b[1;36m0.3\u001b[0m\u001b[1;33m,\u001b[0m \u001b[0mepochs\u001b[0m \u001b[1;33m=\u001b[0m \u001b[1;36m100\u001b[0m\u001b[1;33m,\u001b[0m \u001b[0mverbose\u001b[0m \u001b[1;33m=\u001b[0m \u001b[1;36m0\u001b[0m\u001b[1;33m)\u001b[0m\u001b[1;33m\u001b[0m\u001b[1;33m\u001b[0m\u001b[0m\n\u001b[0;32m      5\u001b[0m     \u001b[0mresults\u001b[0m \u001b[1;33m=\u001b[0m \u001b[0mmodel\u001b[0m\u001b[1;33m.\u001b[0m\u001b[0mevaluate\u001b[0m\u001b[1;33m(\u001b[0m\u001b[0mx_test\u001b[0m\u001b[1;33m,\u001b[0m \u001b[0my_test\u001b[0m\u001b[1;33m)\u001b[0m\u001b[1;33m\u001b[0m\u001b[1;33m\u001b[0m\u001b[0m\n",
      "\u001b[1;31mNameError\u001b[0m: name 'mlp_model_tune_Dense' is not defined"
     ]
    }
   ],
   "source": [
    "for i in [30,50,60,64,70]:\n",
    "\n",
    "    model = mlp_model_tune_Dense(i)\n",
    "    history = model.fit(X_train, y_train, validation_split = 0.3, epochs = 100, verbose = 0)\n",
    "    results = model.evaluate(x_test, y_test)\n",
    "    print('Test accuracy for dense:', i,' is', results[1])"
   ]
  },
  {
   "cell_type": "code",
   "execution_count": 22,
   "metadata": {},
   "outputs": [
    {
     "data": {
      "image/png": "[encoded data removed]",
      "text/plain": [
       "<Figure size 432x288 with 1 Axes>"
      ]
     },
     "metadata": {
      "needs_background": "light"
     },
     "output_type": "display_data"
    }
   ],
   "source": [
    "plt.plot(history.history['accuracy'])\n",
    "plt.plot(history.history['val_accuracy'])\n",
    "plt.legend(['training', 'validation'], loc = 'upper left')\n",
    "plt.show()"
   ]
  },
  {
   "cell_type": "markdown",
   "metadata": {},
   "source": [
    "Training and validation accuracy seems to improve after around 60 epochs"
   ]
  },
  {
   "cell_type": "code",
   "execution_count": 23,
   "metadata": {},
   "outputs": [
    {
     "name": "stdout",
     "output_type": "stream",
     "text": [
      "1026/1026 [==============================] - 1s 727us/step - loss: 2.2042 - accuracy: 0.30990s - loss: 2.2038 - accuracy - ETA: 0s - loss: 2.2036 - accu\n"
     ]
    }
   ],
   "source": [
    "results = model.evaluate(x_test, y_test)"
   ]
  },
  {
   "cell_type": "code",
   "execution_count": 24,
   "metadata": {},
   "outputs": [
    {
     "name": "stdout",
     "output_type": "stream",
     "text": [
      "Test accuracy:  0.30986902117729187\n"
     ]
    }
   ],
   "source": [
    "print('Test accuracy: ', results[1])"
   ]
  },
  {
   "cell_type": "markdown",
   "metadata": {},
   "source": [
    "## 2. Nonlinearity (Activation function)\n",
    "- Sigmoid functions suffer from gradient vanishing problem, making training slower\n",
    "- There are many choices apart from sigmoid and tanh; try many of them!\n",
    "    - **'relu'** (rectified linear unit) is one of the most popular ones\n",
    "    - **'selu'** (scaled exponential linear unit) is one of the most recent ones\n",
    "- Doc: https://keras.io/activations/"
   ]
  },
  {
   "cell_type": "markdown",
   "metadata": {},
   "source": [
    "<img src=\"http://cs231n.github.io/assets/nn1/sigmoid.jpeg\" style=\"width: 400px\"/>\n",
    "<center> **Sigmoid Activation Function** </center>\n",
    "<img src=\"http://cs231n.github.io/assets/nn1/relu.jpeg\" style=\"width: 400px\"/>\n",
    "<center> **Relu Activation Function** </center>\n",
    "<img src=\"https://www.researchgate.net/profile/Sepp_Hochreiter/publication/284579051/figure/fig1/AS:614057178578955@1523414048184/The-rectified-linear-unit-ReLU-the-leaky-ReLU-LReLU-a-01-the-shifted-ReLUs.png\" style=\"width: 400px\"/>\n",
    "<center> **Comparision of activation** </center>"
   ]
  },
  {
   "cell_type": "code",
   "execution_count": 25,
   "metadata": {},
   "outputs": [],
   "source": [
    "def mlp_model():\n",
    "    model = Sequential()\n",
    "    \n",
    "    model.add(Dense(50, input_shape = (784, )))\n",
    "    model.add(Activation('elu'))    # use relu\n",
    "    model.add(Dense(50))\n",
    "    model.add(Activation('elu'))    # use relu\n",
    "    model.add(Dense(50))\n",
    "    model.add(Activation('elu'))    # use relu\n",
    "    model.add(Dense(50))\n",
    "    model.add(Activation('elu'))    # use relu\n",
    "    model.add(Dense(10))\n",
    "    model.add(Activation('softmax'))\n",
    "    \n",
    "    sgd = optimizers.SGD(lr = 0.001)\n",
    "    model.compile(optimizer = sgd, loss = 'categorical_crossentropy', metrics = ['accuracy'])\n",
    "    \n",
    "    return model"
   ]
  },
  {
   "cell_type": "code",
   "execution_count": 26,
   "metadata": {},
   "outputs": [],
   "source": [
    "model = mlp_model()\n",
    "history = model.fit(X_train, y_train, validation_split = 0.3, epochs = 100, verbose = 0)"
   ]
  },
  {
   "cell_type": "code",
   "execution_count": 27,
   "metadata": {},
   "outputs": [
    {
     "data": {
      "image/png": "[encoded data removed]",
      "text/plain": [
       "<Figure size 432x288 with 1 Axes>"
      ]
     },
     "metadata": {
      "needs_background": "light"
     },
     "output_type": "display_data"
    }
   ],
   "source": [
    "plt.plot(history.history['accuracy'])\n",
    "plt.plot(history.history['val_accuracy'])\n",
    "plt.legend(['training', 'validation'], loc = 'upper left')\n",
    "plt.show()"
   ]
  },
  {
   "cell_type": "markdown",
   "metadata": {},
   "source": [
    "Training and validation accuracy improve instantaneously, but reach a plateau after around 30 epochs"
   ]
  },
  {
   "cell_type": "code",
   "execution_count": 28,
   "metadata": {},
   "outputs": [
    {
     "name": "stdout",
     "output_type": "stream",
     "text": [
      "1026/1026 [==============================] - 1s 768us/step - loss: 0.6188 - accuracy: 0.9101\n"
     ]
    }
   ],
   "source": [
    "results = model.evaluate(x_test, y_test)"
   ]
  },
  {
   "cell_type": "code",
   "execution_count": 29,
   "metadata": {},
   "outputs": [
    {
     "name": "stdout",
     "output_type": "stream",
     "text": [
      "Test accuracy:  0.9101126790046692\n"
     ]
    }
   ],
   "source": [
    "print('Test accuracy: ', results[1])"
   ]
  },
  {
   "cell_type": "code",
   "execution_count": null,
   "metadata": {},
   "outputs": [],
   "source": []
  },
  {
   "cell_type": "code",
   "execution_count": null,
   "metadata": {},
   "outputs": [],
   "source": []
  },
  {
   "cell_type": "code",
   "execution_count": 30,
   "metadata": {},
   "outputs": [],
   "source": [
    "import numpy as np\n",
    "import pandas as pd"
   ]
  },
  {
   "cell_type": "code",
   "execution_count": 31,
   "metadata": {},
   "outputs": [],
   "source": [
    "predicted = model.predict(X_test_sub)\n",
    "y_pred = predicted.argmax(axis=1)\n",
    "\n",
    "\n",
    "ImageID = np.arange(len(y_pred))+1\n",
    "Out = pd.DataFrame([test['filename'],y_pred]).T\n",
    "Out.rename(columns = {0:'filename', 1:'label'})\n",
    "#Out\n",
    "Out.to_csv('MNIST_Prediction_Elu_SGD.csv', header =  ['filename', 'label' ], index = None)"
   ]
  },
  {
   "cell_type": "markdown",
   "metadata": {},
   "source": [
    "## 3. Optimizers\n",
    "- Many variants of SGD are proposed and employed nowadays\n",
    "- One of the most popular ones are Adam (Adaptive Moment Estimation)\n",
    "- Doc: https://keras.io/optimizers/"
   ]
  },
  {
   "cell_type": "markdown",
   "metadata": {},
   "source": [
    "<img src=\"http://cs231n.github.io/assets/nn3/opt2.gif\" style=\"width: 400px\"/>\n",
    "<br><center> **Relative convergence speed of different optimizers** </center></br>"
   ]
  },
  {
   "cell_type": "code",
   "execution_count": 32,
   "metadata": {},
   "outputs": [],
   "source": [
    "def mlp_model():\n",
    "    model = Sequential()\n",
    "    \n",
    "    model.add(Dense(50, input_shape = (784, )))\n",
    "    model.add(Activation('elu'))    \n",
    "    model.add(Dense(50, kernel_initializer = 'he_normal'))\n",
    "    model.add(Activation('elu'))  \n",
    "    model.add(Dense(50, kernel_initializer = 'he_normal'))\n",
    "    model.add(Activation('elu'))    \n",
    "    model.add(Dense(50, kernel_initializer = 'he_normal'))\n",
    "    model.add(Activation('elu'))    \n",
    "    model.add(Dense(10))\n",
    "    model.add(Activation('softmax'))\n",
    "    \n",
    "    adam = optimizers.Adam(lr = 0.001)                     # use Adam optimizer\n",
    "    model.compile(optimizer = adam, loss = 'categorical_crossentropy', metrics = ['accuracy'])\n",
    "    \n",
    "    return model"
   ]
  },
  {
   "cell_type": "code",
   "execution_count": 33,
   "metadata": {},
   "outputs": [],
   "source": [
    "model = mlp_model()\n",
    "history = model.fit(X_train, y_train, validation_split = 0.3, epochs = 100, verbose = 0)"
   ]
  },
  {
   "cell_type": "code",
   "execution_count": 34,
   "metadata": {},
   "outputs": [
    {
     "data": {
      "image/png": "[encoded data removed]",
      "text/plain": [
       "<Figure size 432x288 with 1 Axes>"
      ]
     },
     "metadata": {
      "needs_background": "light"
     },
     "output_type": "display_data"
    }
   ],
   "source": [
    "plt.plot(history.history['accuracy'])\n",
    "plt.plot(history.history['val_accuracy'])\n",
    "plt.legend(['training', 'validation'], loc = 'upper left')\n",
    "plt.show()"
   ]
  },
  {
   "cell_type": "markdown",
   "metadata": {},
   "source": [
    "Training and validation accuracy improve instantaneously, but reach plateau after around 50 epochs"
   ]
  },
  {
   "cell_type": "code",
   "execution_count": 35,
   "metadata": {},
   "outputs": [
    {
     "name": "stdout",
     "output_type": "stream",
     "text": [
      "1026/1026 [==============================] - 1s 797us/step - loss: 0.5726 - accuracy: 0.9380\n"
     ]
    }
   ],
   "source": [
    "results = model.evaluate(x_test, y_test)"
   ]
  },
  {
   "cell_type": "code",
   "execution_count": 36,
   "metadata": {},
   "outputs": [
    {
     "name": "stdout",
     "output_type": "stream",
     "text": [
      "Test accuracy:  0.9379835724830627\n"
     ]
    }
   ],
   "source": [
    "print('Test accuracy: ', results[1])"
   ]
  },
  {
   "cell_type": "code",
   "execution_count": 37,
   "metadata": {},
   "outputs": [],
   "source": [
    "predicted = model.predict(X_test_sub)\n",
    "y_pred = predicted.argmax(axis=1)\n",
    "\n",
    "\n",
    "ImageID = np.arange(len(y_pred))+1\n",
    "Out = pd.DataFrame([test['filename'],y_pred]).T\n",
    "Out.rename(columns = {0:'filename', 1:'label'})\n",
    "#Out\n",
    "Out.to_csv('MNIST_Prediction_Elu_adam.csv', header =  ['filename', 'label' ], index = None)"
   ]
  },
  {
   "cell_type": "markdown",
   "metadata": {},
   "source": [
    "## 4. Batch Normalization\n",
    "- Batch Normalization, one of the methods to prevent the \"internal covariance shift\" problem, has proven to be highly effective\n",
    "- Normalize each mini-batch before nonlinearity\n",
    "- Doc: https://keras.io/optimizers/"
   ]
  },
  {
   "cell_type": "markdown",
   "metadata": {},
   "source": [
    "<img src=\"https://raw.githubusercontent.com/torch/torch.github.io/master/blog/_posts/images/resnets_modelvariants.png\" style=\"width: 500px\"/>\n",
    "\n",
    "<br> Batch normalization layer is usually inserted after dense/convolution and before nonlinearity"
   ]
  },
  {
   "cell_type": "code",
   "execution_count": 120,
   "metadata": {},
   "outputs": [],
   "source": [
    "from keras.layers import BatchNormalization"
   ]
  },
  {
   "cell_type": "code",
   "execution_count": 141,
   "metadata": {},
   "outputs": [],
   "source": [
    "def mlp_model():\n",
    "    model = Sequential()\n",
    "    \n",
    "    model.add(Dense(50, input_shape = (784, )))\n",
    "    model.add(BatchNormalization())                    # Add Batchnorm layer before Activation\n",
    "    model.add(Activation('elu'))    \n",
    "    model.add(Dense(50))\n",
    "    model.add(BatchNormalization())                    # Add Batchnorm layer before Activation\n",
    "    model.add(Activation('elu'))    \n",
    "    model.add(Dense(50))\n",
    "    model.add(BatchNormalization())                    # Add Batchnorm layer before Activation\n",
    "    model.add(Activation('elu'))    \n",
    "    model.add(Dense(50))\n",
    "    model.add(BatchNormalization())                    # Add Batchnorm layer before Activation\n",
    "    model.add(Activation('elu'))    \n",
    "    model.add(Dense(50))\n",
    "    model.add(BatchNormalization())                    # Add Batchnorm layer before Activation\n",
    "    model.add(Activation('elu'))    \n",
    "    model.add(Dense(10))\n",
    "    model.add(Activation('softmax'))\n",
    "    \n",
    "    adam = optimizers.Adam(lr = 0.01)\n",
    "    model.compile(optimizer = adam, loss = 'categorical_crossentropy', metrics = ['accuracy'])\n",
    "    \n",
    "    return model"
   ]
  },
  {
   "cell_type": "code",
   "execution_count": 142,
   "metadata": {},
   "outputs": [],
   "source": [
    "model = mlp_model()\n",
    "history = model.fit(X_train, y_train, validation_split = 0.4, epochs = 100, verbose = 0)"
   ]
  },
  {
   "cell_type": "code",
   "execution_count": 143,
   "metadata": {},
   "outputs": [
    {
     "data": {
      "image/png": "[encoded data removed]",
      "text/plain": [
       "<Figure size 432x288 with 1 Axes>"
      ]
     },
     "metadata": {
      "needs_background": "light"
     },
     "output_type": "display_data"
    }
   ],
   "source": [
    "plt.plot(history.history['accuracy'])\n",
    "plt.plot(history.history['val_accuracy'])\n",
    "plt.legend(['training', 'validation'], loc = 'upper left')\n",
    "plt.show()"
   ]
  },
  {
   "cell_type": "markdown",
   "metadata": {},
   "source": [
    "Training and validation accuracy improve consistently, but reach plateau after around 60 epochs"
   ]
  },
  {
   "cell_type": "code",
   "execution_count": 144,
   "metadata": {},
   "outputs": [
    {
     "name": "stdout",
     "output_type": "stream",
     "text": [
      "1026/1026 [==============================] - 1s 919us/step - loss: 0.2381 - accuracy: 0.95870s - loss: 0.2\n"
     ]
    }
   ],
   "source": [
    "results = model.evaluate(x_test, y_test)"
   ]
  },
  {
   "cell_type": "code",
   "execution_count": 145,
   "metadata": {},
   "outputs": [
    {
     "name": "stdout",
     "output_type": "stream",
     "text": [
      "Test accuracy:  0.9586963057518005\n"
     ]
    }
   ],
   "source": [
    "print('Test accuracy: ', results[1])"
   ]
  },
  {
   "cell_type": "code",
   "execution_count": 146,
   "metadata": {},
   "outputs": [],
   "source": [
    "predicted = model.predict(X_test_sub)\n",
    "y_pred = predicted.argmax(axis=1)\n",
    "\n",
    "\n",
    "ImageID = np.arange(len(y_pred))+1\n",
    "Out = pd.DataFrame([test['filename'],y_pred]).T\n",
    "Out.rename(columns = {0:'filename', 1:'label'})\n",
    "#Out\n",
    "Out.to_csv('MNIST_Prediction_Batch_Elu_LR_0_1_Adam.csv', header =  ['filename', 'label' ], index = None)"
   ]
  },
  {
   "cell_type": "raw",
   "metadata": {},
   "source": [
    "Batch_Elu_LR_0_01_Adam - 0.956 Acc\n",
    "Batch_Elu_LR_0_1_Adam - 0.948 Acc"
   ]
  },
  {
   "cell_type": "code",
   "execution_count": null,
   "metadata": {},
   "outputs": [],
   "source": []
  },
  {
   "cell_type": "code",
   "execution_count": null,
   "metadata": {},
   "outputs": [],
   "source": []
  },
  {
   "cell_type": "code",
   "execution_count": null,
   "metadata": {},
   "outputs": [],
   "source": []
  },
  {
   "cell_type": "code",
   "execution_count": null,
   "metadata": {},
   "outputs": [],
   "source": []
  },
  {
   "cell_type": "code",
   "execution_count": null,
   "metadata": {},
   "outputs": [],
   "source": []
  },
  {
   "cell_type": "markdown",
   "metadata": {},
   "source": [
    "## 5. Dropout (Regularization)\n",
    "- Dropout is one of powerful ways to prevent overfitting\n",
    "- The idea is simple. It is disconnecting some (randomly selected) neurons in each layer\n",
    "- The probability of each neuron to be disconnected, namely 'Dropout rate', has to be designated\n",
    "- Doc: https://keras.io/layers/core/#dropout"
   ]
  },
  {
   "cell_type": "markdown",
   "metadata": {},
   "source": [
    "<img src=\"https://image.slidesharecdn.com/lecture29-convolutionalneuralnetworks-visionspring2015-150504114140-conversion-gate02/95/lecture-29-convolutional-neural-networks-computer-vision-spring2015-62-638.jpg?cb=1430740006\" style=\"width: 500px\"/>"
   ]
  },
  {
   "cell_type": "code",
   "execution_count": 63,
   "metadata": {},
   "outputs": [],
   "source": [
    "from keras.layers import Dropout"
   ]
  },
  {
   "cell_type": "code",
   "execution_count": 64,
   "metadata": {},
   "outputs": [],
   "source": [
    "def mlp_model():\n",
    "    model = Sequential()\n",
    "    \n",
    "    model.add(Dense(50, input_shape = (784, )))\n",
    "    model.add(Activation('elu'))    \n",
    "    model.add(Dropout(0.3))                        # Dropout layer after Activation\n",
    "    model.add(Dense(50))\n",
    "    model.add(Activation('elu'))\n",
    "    model.add(Dropout(0.3))                        # Dropout layer after Activation\n",
    "    model.add(Dense(50))\n",
    "    model.add(Activation('elu'))    \n",
    "    model.add(Dropout(0.3))                        # Dropout layer after Activation\n",
    "    model.add(Dense(50))\n",
    "    model.add(Activation('elu'))    \n",
    "    model.add(Dropout(0.3))                         # Dropout layer after Activation\n",
    "    model.add(Dense(10))\n",
    "    model.add(Activation('softmax'))\n",
    "    \n",
    "    adam = optimizers.Adam(lr = 0.001)\n",
    "    model.compile(optimizer = adam, loss = 'categorical_crossentropy', metrics = ['accuracy'])\n",
    "    \n",
    "    return model"
   ]
  },
  {
   "cell_type": "code",
   "execution_count": 65,
   "metadata": {
    "scrolled": true
   },
   "outputs": [],
   "source": [
    "model = mlp_model()\n",
    "history = model.fit(X_train, y_train, validation_split = 0.3, epochs = 100, verbose = 0)"
   ]
  },
  {
   "cell_type": "code",
   "execution_count": 66,
   "metadata": {},
   "outputs": [
    {
     "data": {
      "image/png": "[encoded data removed]",
      "text/plain": [
       "<Figure size 432x288 with 1 Axes>"
      ]
     },
     "metadata": {
      "needs_background": "light"
     },
     "output_type": "display_data"
    }
   ],
   "source": [
    "plt.plot(history.history['accuracy'])\n",
    "plt.plot(history.history['val_accuracy'])\n",
    "plt.legend(['training', 'validation'], loc = 'upper left')\n",
    "plt.show()"
   ]
  },
  {
   "cell_type": "markdown",
   "metadata": {},
   "source": [
    "Validation results does not improve since it did not show signs of overfitting, yet.\n",
    "<br> Hence, the key takeaway message is that apply dropout when you see a signal of overfitting."
   ]
  },
  {
   "cell_type": "code",
   "execution_count": 67,
   "metadata": {},
   "outputs": [
    {
     "name": "stdout",
     "output_type": "stream",
     "text": [
      "1026/1026 [==============================] - 1s 797us/step - loss: 1.1125 - accuracy: 0.5871\n"
     ]
    }
   ],
   "source": [
    "results = model.evaluate(x_test, y_test)"
   ]
  },
  {
   "cell_type": "code",
   "execution_count": 68,
   "metadata": {},
   "outputs": [
    {
     "name": "stdout",
     "output_type": "stream",
     "text": [
      "Test accuracy:  0.587115466594696\n"
     ]
    }
   ],
   "source": [
    "print('Test accuracy: ', results[1])"
   ]
  },
  {
   "cell_type": "code",
   "execution_count": 69,
   "metadata": {},
   "outputs": [],
   "source": [
    "predicted = model.predict(X_test_sub)\n",
    "y_pred = predicted.argmax(axis=1)\n",
    "\n",
    "\n",
    "ImageID = np.arange(len(y_pred))+1\n",
    "Out = pd.DataFrame([test['filename'],y_pred]).T\n",
    "Out.rename(columns = {0:'filename', 1:'label'})\n",
    "#Out\n",
    "Out.to_csv('MNIST_Prediction_DropOut.csv', header =  ['filename', 'label' ], index = None)"
   ]
  },
  {
   "cell_type": "markdown",
   "metadata": {},
   "source": [
    "## 6. Model Ensemble\n",
    "- Model ensemble is a reliable and promising way to boost performance of the model\n",
    "- Usually create 8 to 10 independent networks and merge their results\n",
    "- Here, we resort to scikit-learn API, **VotingClassifier**\n",
    "- Doc: http://scikit-learn.org/stable/modules/generated/sklearn.ensemble.VotingClassifier.html"
   ]
  },
  {
   "cell_type": "code",
   "execution_count": 91,
   "metadata": {},
   "outputs": [],
   "source": [
    "import numpy as np\n",
    "\n",
    "from keras.wrappers.scikit_learn import KerasClassifier\n",
    "from sklearn.ensemble import VotingClassifier\n",
    "from sklearn.metrics import accuracy_score"
   ]
  },
  {
   "cell_type": "raw",
   "metadata": {},
   "source": [
    "y_train = np.argmax(y_train, axis = 1)\n",
    "y_test = np.argmax(y_test, axis = 1)"
   ]
  },
  {
   "cell_type": "code",
   "execution_count": 93,
   "metadata": {},
   "outputs": [],
   "source": [
    "def mlp_model1():\n",
    "    model = Sequential()\n",
    "    \n",
    "    model.add(Dense(50, input_shape = (784, )))\n",
    "    model.add(Activation('elu'))    \n",
    "    model.add(Dense(50, kernel_initializer = 'he_normal'))\n",
    "    model.add(Activation('elu'))    \n",
    "    model.add(Dense(50, kernel_initializer = 'he_normal'))\n",
    "    model.add(Activation('elu'))    \n",
    "    model.add(Dense(50, kernel_initializer = 'he_normal'))\n",
    "    model.add(Activation('elu'))    \n",
    "    model.add(Dense(10))\n",
    "    model.add(Activation('softmax'))\n",
    "    \n",
    "    adam = optimizers.Adam(lr = 0.001)\n",
    "    model.compile(optimizer = adam, loss = 'categorical_crossentropy', metrics = ['accuracy'])\n",
    "    \n",
    "    return model\n",
    "\n",
    "def mlp_model2():\n",
    "    model = Sequential()\n",
    "    \n",
    "    model.add(Dense(50, input_shape = (784, )))\n",
    "    model.add(BatchNormalization())                    # Add Batchnorm layer before Activation\n",
    "    model.add(Activation('elu'))    \n",
    "    model.add(Dense(50))\n",
    "    model.add(BatchNormalization())                    # Add Batchnorm layer before Activation\n",
    "    model.add(Activation('elu'))    \n",
    "    model.add(Dense(50))\n",
    "    model.add(BatchNormalization())                    # Add Batchnorm layer before Activation\n",
    "    model.add(Activation('elu'))    \n",
    "    model.add(Dense(50))\n",
    "    model.add(BatchNormalization())                    # Add Batchnorm layer before Activation\n",
    "    model.add(Activation('elu'))    \n",
    "    model.add(Dense(50))\n",
    "    model.add(BatchNormalization())                    # Add Batchnorm layer before Activation\n",
    "    model.add(Activation('elu'))    \n",
    "    model.add(Dense(10))\n",
    "    model.add(Activation('softmax'))\n",
    "    \n",
    "    adam = optimizers.Adam(lr = 0.001)\n",
    "    model.compile(optimizer = adam, loss = 'categorical_crossentropy', metrics = ['accuracy'])\n",
    "    \n",
    "    return model\n",
    "\n",
    "def mlp_model3():\n",
    "    model = Sequential()\n",
    "    \n",
    "    model.add(Dense(50, input_shape = (784, )))\n",
    "    model.add(Activation('elu'))    \n",
    "    model.add(Dense(50))\n",
    "    model.add(Activation('elu'))    \n",
    "    model.add(Dense(50))\n",
    "    model.add(Activation('elu'))    \n",
    "    model.add(Dense(50))\n",
    "    model.add(Activation('elu'))    \n",
    "    model.add(Dense(10))\n",
    "    model.add(Activation('softmax'))\n",
    "    \n",
    "    adam = optimizers.Adam(lr = 0.001)\n",
    "    model.compile(optimizer = adam, loss = 'categorical_crossentropy', metrics = ['accuracy'])\n",
    "    \n",
    "    return model"
   ]
  },
  {
   "cell_type": "code",
   "execution_count": 94,
   "metadata": {},
   "outputs": [],
   "source": [
    "model1 = KerasClassifier(build_fn = mlp_model1, epochs = 30, verbose = 0)\n",
    "model2 = KerasClassifier(build_fn = mlp_model2, epochs = 10, verbose = 0)\n",
    "model3 = KerasClassifier(build_fn = mlp_model3, epochs = 20, verbose = 0)"
   ]
  },
  {
   "cell_type": "code",
   "execution_count": 95,
   "metadata": {},
   "outputs": [],
   "source": [
    "model1._estimator_type = \"classifier\"\n",
    "model2._estimator_type = \"classifier\"\n",
    "model3._estimator_type = \"classifier\""
   ]
  },
  {
   "cell_type": "code",
   "execution_count": 96,
   "metadata": {},
   "outputs": [],
   "source": [
    "ensemble_clf = VotingClassifier(estimators = [('model1', model1), ('model2', model2), ('model3', model3)], voting = 'soft')"
   ]
  },
  {
   "cell_type": "code",
   "execution_count": 97,
   "metadata": {},
   "outputs": [
    {
     "data": {
      "text/plain": [
       "VotingClassifier(estimators=[('model1',\n",
       "                              <tensorflow.python.keras.wrappers.scikit_learn.KerasClassifier object at 0x0000023E479B19C8>),\n",
       "                             ('model2',\n",
       "                              <tensorflow.python.keras.wrappers.scikit_learn.KerasClassifier object at 0x0000023E479B1748>),\n",
       "                             ('model3',\n",
       "                              <tensorflow.python.keras.wrappers.scikit_learn.KerasClassifier object at 0x0000023E479B1788>)],\n",
       "                 voting='soft')"
      ]
     },
     "execution_count": 97,
     "metadata": {},
     "output_type": "execute_result"
    }
   ],
   "source": [
    "ensemble_clf.fit(X_train, y_train)"
   ]
  },
  {
   "cell_type": "code",
   "execution_count": 98,
   "metadata": {},
   "outputs": [],
   "source": [
    "y_pred = ensemble_clf.predict(x_test)"
   ]
  },
  {
   "cell_type": "code",
   "execution_count": 99,
   "metadata": {},
   "outputs": [
    {
     "name": "stdout",
     "output_type": "stream",
     "text": [
      "Test accuracy: 0.9627474870545233\n"
     ]
    }
   ],
   "source": [
    "print('Test accuracy:', accuracy_score(y_pred, y_test))"
   ]
  },
  {
   "cell_type": "code",
   "execution_count": 100,
   "metadata": {},
   "outputs": [],
   "source": [
    "predicted = model.predict(X_test_sub)\n",
    "y_pred = predicted.argmax(axis=1)\n",
    "\n",
    "\n",
    "ImageID = np.arange(len(y_pred))+1\n",
    "Out = pd.DataFrame([test['filename'],y_pred]).T\n",
    "Out.rename(columns = {0:'filename', 1:'label'})\n",
    "#Out\n",
    "Out.to_csv('MNIST_Prediction_Ensemble.csv', header =  ['filename', 'label' ], index = None)"
   ]
  },
  {
   "cell_type": "code",
   "execution_count": null,
   "metadata": {},
   "outputs": [],
   "source": []
  },
  {
   "cell_type": "code",
   "execution_count": null,
   "metadata": {},
   "outputs": [],
   "source": []
  },
  {
   "cell_type": "markdown",
   "metadata": {},
   "source": [
    "## Tuning by Learning rate & decaying rate"
   ]
  },
  {
   "cell_type": "code",
   "execution_count": 77,
   "metadata": {},
   "outputs": [],
   "source": [
    "from keras.layers import BatchNormalization"
   ]
  },
  {
   "cell_type": "code",
   "execution_count": 78,
   "metadata": {},
   "outputs": [],
   "source": [
    "# solution\n",
    "epochs = 100\n",
    "learning_rate = 0.01 # initial learning rate\n",
    "decay_rate = 0.01\n",
    "momentum = 0.8\n",
    "\n",
    "# define the optimizer function\n",
    "adam = optimizers.Adam(lr=learning_rate)"
   ]
  },
  {
   "cell_type": "code",
   "execution_count": 79,
   "metadata": {},
   "outputs": [],
   "source": [
    "def mlp_model():\n",
    "    model = Sequential()\n",
    "    \n",
    "    model.add(Dense(50, input_shape = (784, )))\n",
    "    model.add(BatchNormalization())                    # Add Batchnorm layer before Activation\n",
    "    model.add(Activation('elu'))    \n",
    "    model.add(Dense(50))\n",
    "    model.add(BatchNormalization())                    # Add Batchnorm layer before Activation\n",
    "    model.add(Activation('elu'))    \n",
    "    model.add(Dense(50))\n",
    "    model.add(BatchNormalization())                    # Add Batchnorm layer before Activation\n",
    "    model.add(Activation('elu'))    \n",
    "    model.add(Dense(50))\n",
    "    model.add(BatchNormalization())                    # Add Batchnorm layer before Activation\n",
    "    model.add(Activation('elu'))    \n",
    "    model.add(Dense(50))\n",
    "    model.add(BatchNormalization())                    # Add Batchnorm layer before Activation\n",
    "    model.add(Activation('elu'))    \n",
    "    model.add(Dense(10))\n",
    "    model.add(Activation('softmax'))\n",
    "    \n",
    "    #adam = optimizers.Adam(lr = 0.01)\n",
    "    model.compile(optimizer = adam, loss = 'categorical_crossentropy', metrics = ['accuracy'])\n",
    "    \n",
    "    return model\n",
    "\n",
    "def mlp_model_initial():\n",
    "    model = Sequential()\n",
    "    \n",
    "    model.add(Dense(50, input_shape = (784, )))\n",
    "    model.add(Activation('elu'))    \n",
    "    model.add(Dense(50, kernel_initializer = 'he_normal'))\n",
    "    model.add(Activation('elu'))  \n",
    "    model.add(Dense(50, kernel_initializer = 'he_normal'))\n",
    "    model.add(Activation('elu'))    \n",
    "    model.add(Dense(50, kernel_initializer = 'he_normal'))\n",
    "    model.add(Activation('elu'))    \n",
    "    model.add(Dense(10))\n",
    "    model.add(Activation('softmax'))\n",
    "    \n",
    "    #adam = optimizers.Adam(lr = 0.01)\n",
    "    model.compile(optimizer = adam, loss = 'categorical_crossentropy', metrics = ['accuracy'])\n",
    "    \n",
    "    return model"
   ]
  },
  {
   "cell_type": "code",
   "execution_count": 80,
   "metadata": {},
   "outputs": [],
   "source": [
    "model = mlp_model()\n",
    "history = model.fit(X_train, y_train, validation_split = 0.2, epochs = 100, verbose = 0)"
   ]
  },
  {
   "cell_type": "code",
   "execution_count": 81,
   "metadata": {},
   "outputs": [
    {
     "data": {
      "image/png": "[encoded data removed]",
      "text/plain": [
       "<Figure size 432x288 with 1 Axes>"
      ]
     },
     "metadata": {
      "needs_background": "light"
     },
     "output_type": "display_data"
    }
   ],
   "source": [
    "plt.plot(history.history['accuracy'])\n",
    "plt.plot(history.history['val_accuracy'])\n",
    "plt.legend(['training', 'validation'], loc = 'upper left')\n",
    "plt.show()"
   ]
  },
  {
   "cell_type": "code",
   "execution_count": 82,
   "metadata": {},
   "outputs": [
    {
     "name": "stdout",
     "output_type": "stream",
     "text": [
      "1026/1026 [==============================] - 2s 2ms/step - loss: 0.1968 - accuracy: 0.9639\n"
     ]
    }
   ],
   "source": [
    "results = model.evaluate(x_test, y_test)"
   ]
  },
  {
   "cell_type": "code",
   "execution_count": 83,
   "metadata": {},
   "outputs": [
    {
     "name": "stdout",
     "output_type": "stream",
     "text": [
      "Test accuracy:  0.9639354348182678\n"
     ]
    }
   ],
   "source": [
    "print('Test accuracy: ', results[1])"
   ]
  },
  {
   "cell_type": "code",
   "execution_count": 84,
   "metadata": {},
   "outputs": [],
   "source": [
    "predicted = model.predict(X_test_sub)\n",
    "y_pred = predicted.argmax(axis=1)\n",
    "\n",
    "\n",
    "ImageID = np.arange(len(y_pred))+1\n",
    "Out = pd.DataFrame([test['filename'],y_pred]).T\n",
    "Out.rename(columns = {0:'filename', 1:'label'})\n",
    "#Out\n",
    "Out.to_csv('MNIST_Prediction_Batch_Elu_LR_0_1_Adam.csv', header =  ['filename', 'label' ], index = None)"
   ]
  },
  {
   "cell_type": "markdown",
   "metadata": {},
   "source": [
    "#### With Elu & batch - Test accuracy:  0.963965892791748 - AV Accu - 96.7\n",
    "\n",
    "#### With Elu, batch & Initializer - Test accuracy:  0.9626560807228088 - AV Accu - 96.5"
   ]
  },
  {
   "cell_type": "code",
   "execution_count": 88,
   "metadata": {},
   "outputs": [],
   "source": [
    "def mlp_model_Initialization_Test(i):\n",
    "    model = Sequential()\n",
    "    \n",
    "    model.add(Dense(50, input_shape = (784, )))\n",
    "    model.add(BatchNormalization())                    # Add Batchnorm layer before Activation\n",
    "    model.add(Activation('elu'))    \n",
    "    model.add(Dense(50, kernel_initializer = i))\n",
    "    model.add(BatchNormalization())                    # Add Batchnorm layer before Activation\n",
    "    model.add(Activation('elu'))    \n",
    "    model.add(Dense(50, kernel_initializer = i))\n",
    "    model.add(BatchNormalization())                    # Add Batchnorm layer before Activation\n",
    "    model.add(Activation('elu'))    \n",
    "    model.add(Dense(50, kernel_initializer = i))\n",
    "    model.add(BatchNormalization())                    # Add Batchnorm layer before Activation\n",
    "    model.add(Activation('elu'))    \n",
    "    model.add(Dense(50, kernel_initializer = i))\n",
    "    model.add(BatchNormalization())                    # Add Batchnorm layer before Activation\n",
    "    model.add(Activation('elu'))    \n",
    "    model.add(Dense(10))\n",
    "    model.add(Activation('softmax'))\n",
    "    \n",
    "    #adam = optimizers.Adam(lr = 0.01)\n",
    "    model.compile(optimizer = adam, loss = 'categorical_crossentropy', metrics = ['accuracy'])\n",
    "    \n",
    "    return model\n"
   ]
  },
  {
   "cell_type": "code",
   "execution_count": 89,
   "metadata": {},
   "outputs": [
    {
     "name": "stdout",
     "output_type": "stream",
     "text": [
      "1026/1026 [==============================] - 2s 2ms/step - loss: 0.2077 - accuracy: 0.9634\n",
      "Test accuracy:  0.9634480476379395\n",
      "1026/1026 [==============================] - 2s 2ms/step - loss: 0.2505 - accuracy: 0.9568\n",
      "Test accuracy:  0.9568077921867371\n"
     ]
    }
   ],
   "source": [
    "for i in ['he_normal','random_normal','truncated_normal']:\n",
    "    model = mlp_model_Initialization_Test(i)\n",
    "    history = model.fit(X_train, y_train, validation_split = 0.2, epochs = 100, verbose = 0)\n",
    "\n",
    "    results = model.evaluate(x_test, y_test)\n",
    "\n",
    "    print('Test accuracy: ', results[1])"
   ]
  },
  {
   "cell_type": "code",
   "execution_count": 96,
   "metadata": {},
   "outputs": [
    {
     "name": "stdout",
     "output_type": "stream",
     "text": [
      "1026/1026 [==============================] - 2s 2ms/step - loss: 0.2697 - accuracy: 0.9571\n",
      "Test accuracy:  0.9571428298950195\n"
     ]
    }
   ],
   "source": [
    "model = mlp_model_Initialization_Test('truncated_normal')\n",
    "history = model.fit(X_train, y_train, validation_split = 0.2, epochs = 100, verbose = 0)\n",
    "\n",
    "results = model.evaluate(x_test, y_test)\n",
    "\n",
    "print('Test accuracy: ', results[1])"
   ]
  },
  {
   "cell_type": "code",
   "execution_count": 97,
   "metadata": {},
   "outputs": [],
   "source": [
    "predicted = model.predict(X_test_sub)\n",
    "y_pred = predicted.argmax(axis=1)\n",
    "\n",
    "\n",
    "ImageID = np.arange(len(y_pred))+1\n",
    "Out = pd.DataFrame([test['filename'],y_pred]).T\n",
    "Out.rename(columns = {0:'filename', 1:'label'})\n",
    "#Out\n",
    "Out.to_csv('MNIST_Prediction_Batch_Elu_TrucNormalInit_100Epo.csv', header =  ['filename', 'label' ], index = None)"
   ]
  },
  {
   "cell_type": "code",
   "execution_count": 93,
   "metadata": {},
   "outputs": [],
   "source": [
    "from tensorflow.keras import layers\n",
    "from tensorflow.keras import initializers"
   ]
  },
  {
   "cell_type": "code",
   "execution_count": null,
   "metadata": {},
   "outputs": [],
   "source": []
  },
  {
   "cell_type": "code",
   "execution_count": null,
   "metadata": {},
   "outputs": [],
   "source": []
  },
  {
   "cell_type": "code",
   "execution_count": null,
   "metadata": {},
   "outputs": [],
   "source": []
  },
  {
   "cell_type": "code",
   "execution_count": null,
   "metadata": {},
   "outputs": [],
   "source": []
  },
  {
   "cell_type": "code",
   "execution_count": 98,
   "metadata": {},
   "outputs": [],
   "source": [
    "def mlp_model_Initialization_ObjTest(i):\n",
    "    model = Sequential()\n",
    "    \n",
    "    model.add(Dense(50, input_shape = (784, )))\n",
    "    model.add(BatchNormalization())                    # Add Batchnorm layer before Activation\n",
    "    model.add(Activation('elu'))    \n",
    "    model.add(Dense(50, kernel_initializer = i))\n",
    "    model.add(BatchNormalization())                    # Add Batchnorm layer before Activation\n",
    "    model.add(Activation('elu'))    \n",
    "    model.add(Dense(50, kernel_initializer = i))\n",
    "    model.add(BatchNormalization())                    # Add Batchnorm layer before Activation\n",
    "    model.add(Activation('elu'))    \n",
    "    model.add(Dense(50, kernel_initializer = i))\n",
    "    model.add(BatchNormalization())                    # Add Batchnorm layer before Activation\n",
    "    model.add(Activation('elu'))    \n",
    "    model.add(Dense(50, kernel_initializer = i))\n",
    "    model.add(BatchNormalization())                    # Add Batchnorm layer before Activation\n",
    "    model.add(Activation('elu'))    \n",
    "    model.add(Dense(10))\n",
    "    model.add(Activation('softmax'))\n",
    "    \n",
    "    #adam = optimizers.Adam(lr = 0.01)\n",
    "    model.compile(optimizer = adam, loss = 'categorical_crossentropy', metrics = ['accuracy'])\n",
    "    \n",
    "    return model\n"
   ]
  },
  {
   "cell_type": "code",
   "execution_count": 101,
   "metadata": {},
   "outputs": [],
   "source": [
    "import keras\n",
    "\n",
    "initList = [keras.initializers.RandomUniform(minval=-0.05, maxval=0.05, seed=None)\n",
    ",keras.initializers.Ones()\n",
    ",keras.initializers.RandomNormal(mean=0.0, stddev=0.05, seed=None)\n",
    ",keras.initializers.TruncatedNormal(mean=0.0, stddev=0.05, seed=None)\n",
    ",keras.initializers.VarianceScaling(scale=1.0, mode='fan_in', distribution='normal', seed=None)\n",
    ",keras.initializers.Orthogonal(gain=1.0, seed=None)\n",
    ",keras.initializers.lecun_uniform(seed=None)\n",
    ",keras.initializers.glorot_normal(seed=None)\n",
    ",keras.initializers.glorot_uniform(seed=None)\n",
    ",keras.initializers.he_normal(seed=None)\n",
    ",keras.initializers.lecun_normal(seed=None)\n",
    ",keras.initializers.he_uniform(seed=None)]"
   ]
  },
  {
   "cell_type": "code",
   "execution_count": 102,
   "metadata": {},
   "outputs": [
    {
     "name": "stdout",
     "output_type": "stream",
     "text": [
      "1026/1026 [==============================] - 2s 2ms/step - loss: 0.1843 - accuracy: 0.9547\n",
      "Test accuracy:  0.9547365307807922\n",
      "1026/1026 [==============================] - 2s 2ms/step - loss: 0.4724 - accuracy: 0.8742\n",
      "Test accuracy:  0.8742004036903381\n",
      "1026/1026 [==============================] - 2s 2ms/step - loss: 0.1759 - accuracy: 0.9555\n",
      "Test accuracy:  0.9555284976959229\n",
      "1026/1026 [==============================] - 2s 2ms/step - loss: 0.1861 - accuracy: 0.9528\n",
      "Test accuracy:  0.9528175592422485\n",
      "1026/1026 [==============================] - 2s 2ms/step - loss: 0.1699 - accuracy: 0.9580\n",
      "Test accuracy:  0.9579652547836304\n",
      "1026/1026 [==============================] - 2s 2ms/step - loss: 0.1953 - accuracy: 0.9512\n",
      "Test accuracy:  0.9512031674385071\n",
      "1026/1026 [==============================] - 2s 2ms/step - loss: 0.1644 - accuracy: 0.9580\n",
      "Test accuracy:  0.9580261707305908\n",
      "1026/1026 [==============================] - 2s 2ms/step - loss: 0.1998 - accuracy: 0.9521\n",
      "Test accuracy:  0.9521169662475586\n",
      "1026/1026 [==============================] - 2s 2ms/step - loss: 0.1989 - accuracy: 0.9526\n",
      "Test accuracy:  0.952573835849762\n",
      "1026/1026 [==============================] - 2s 2ms/step - loss: 0.1837 - accuracy: 0.9557\n",
      "Test accuracy:  0.955680787563324\n",
      "1026/1026 [==============================] - 2s 2ms/step - loss: 0.1768 - accuracy: 0.9576\n",
      "Test accuracy:  0.9576302170753479\n",
      "1026/1026 [==============================] - 2s 2ms/step - loss: 0.1753 - accuracy: 0.9560\n",
      "Test accuracy:  0.9559853672981262\n"
     ]
    }
   ],
   "source": [
    "for i in initList:\n",
    "    model = mlp_model_Initialization_ObjTest(i)\n",
    "    history = model.fit(X_train, y_train, validation_split = 0.2, epochs = 20, verbose = 0)\n",
    "\n",
    "    results = model.evaluate(x_test, y_test)\n",
    "\n",
    "    print('Test accuracy: ', results[1])"
   ]
  },
  {
   "cell_type": "code",
   "execution_count": 103,
   "metadata": {},
   "outputs": [
    {
     "name": "stdout",
     "output_type": "stream",
     "text": [
      "Test accuracy with Init: <tensorflow.python.keras.initializers.initializers_v2.HeUniform object at 0x0000021E87B9BFC8>  is 0.9559853672981262\n"
     ]
    }
   ],
   "source": [
    "print('Test accuracy with Init:', i.distribution,' is', results[1])"
   ]
  },
  {
   "cell_type": "code",
   "execution_count": 108,
   "metadata": {},
   "outputs": [
    {
     "name": "stdout",
     "output_type": "stream",
     "text": [
      "1026/1026 [==============================] - 2s 2ms/step - loss: 0.2060 - accuracy: 0.9620\n",
      "Accuracy-Init: <tensorflow.python.keras.initializers.initializers_v2.RandomUniform object at 0x0000021E87B9B1C8>  is 0.9620164632797241\n",
      "1026/1026 [==============================] - 2s 2ms/step - loss: 0.3829 - accuracy: 0.9219\n",
      "Accuracy-Init: <tensorflow.python.keras.initializers.initializers_v2.Ones object at 0x0000021E87B9B848>  is 0.921870231628418\n",
      "1026/1026 [==============================] - 2s 2ms/step - loss: 0.2337 - accuracy: 0.9611\n",
      "Accuracy-Init: <tensorflow.python.keras.initializers.initializers_v2.RandomNormal object at 0x0000021E87B9B888>  is 0.9610722064971924\n",
      "1026/1026 [==============================] - 1s 938us/step - loss: 0.2251 - accuracy: 0.9634\n",
      "Accuracy-Init: <tensorflow.python.keras.initializers.initializers_v2.TruncatedNormal object at 0x0000021E87B9BDC8>  is 0.9634480476379395\n",
      "1026/1026 [==============================] - 1s 941us/step - loss: 0.2090 - accuracy: 0.9623\n",
      "Accuracy-Init: <tensorflow.python.keras.initializers.initializers_v2.VarianceScaling object at 0x0000021E87B9B208>  is 0.9623210430145264\n",
      "1026/1026 [==============================] - 1s 986us/step - loss: 0.2551 - accuracy: 0.9567\n",
      "Accuracy-Init: <tensorflow.python.keras.initializers.initializers_v2.Orthogonal object at 0x0000021E87B9B7C8>  is 0.9567164182662964\n",
      "1026/1026 [==============================] - 1s 1ms/step - loss: 0.2420 - accuracy: 0.9596\n",
      "Accuracy-Init: <tensorflow.python.keras.initializers.initializers_v2.LecunUniform object at 0x0000021E87B9B5C8>  is 0.9595796465873718\n",
      "1026/1026 [==============================] - 1s 962us/step - loss: 0.2231 - accuracy: 0.96190s - loss: 0.2244 - accuracy: 0.96\n",
      "Accuracy-Init: <tensorflow.python.keras.initializers.initializers_v2.GlorotNormal object at 0x0000021E87B9B8C8>  is 0.9619250893592834\n",
      "1026/1026 [==============================] - 1s 946us/step - loss: 0.2281 - accuracy: 0.9618\n",
      "Accuracy-Init: <tensorflow.python.keras.initializers.initializers_v2.GlorotUniform object at 0x0000021E87B9B908>  is 0.9617727398872375\n",
      "1026/1026 [==============================] - 1s 969us/step - loss: 0.2084 - accuracy: 0.9642\n",
      "Accuracy-Init: <tensorflow.python.keras.initializers.initializers_v2.HeNormal object at 0x0000021E87B9BC48>  is 0.9642095565795898\n",
      "1026/1026 [==============================] - 1s 971us/step - loss: 0.2095 - accuracy: 0.9633\n",
      "Accuracy-Init: <tensorflow.python.keras.initializers.initializers_v2.LecunNormal object at 0x0000021E87B9BA48>  is 0.9632957577705383\n",
      "1026/1026 [==============================] - 1s 970us/step - loss: 0.2066 - accuracy: 0.9627\n",
      "Accuracy-Init: <tensorflow.python.keras.initializers.initializers_v2.HeUniform object at 0x0000021E87B9BFC8>  is 0.9626560807228088\n"
     ]
    }
   ],
   "source": [
    "for i in initList:\n",
    "    model = mlp_model_Initialization_ObjTest(i)\n",
    "    history = model.fit(X_train, y_train, validation_split = 0.2, epochs = 100, verbose = 0)\n",
    "\n",
    "    results = model.evaluate(x_test, y_test)\n",
    "\n",
    "    print('Accuracy-Init:', i,' is', results[1])"
   ]
  },
  {
   "cell_type": "code",
   "execution_count": null,
   "metadata": {},
   "outputs": [],
   "source": []
  },
  {
   "cell_type": "code",
   "execution_count": null,
   "metadata": {},
   "outputs": [],
   "source": []
  },
  {
   "cell_type": "code",
   "execution_count": null,
   "metadata": {},
   "outputs": [],
   "source": []
  },
  {
   "cell_type": "code",
   "execution_count": null,
   "metadata": {},
   "outputs": [],
   "source": []
  },
  {
   "cell_type": "code",
   "execution_count": null,
   "metadata": {},
   "outputs": [],
   "source": []
  },
  {
   "cell_type": "code",
   "execution_count": null,
   "metadata": {},
   "outputs": [],
   "source": []
  },
  {
   "cell_type": "code",
   "execution_count": null,
   "metadata": {},
   "outputs": [],
   "source": []
  },
  {
   "cell_type": "markdown",
   "metadata": {},
   "source": [
    "## Tune Optimizers"
   ]
  },
  {
   "cell_type": "code",
   "execution_count": 19,
   "metadata": {},
   "outputs": [],
   "source": [
    "adam = optimizers.Adam(learning_rate=0.01,\n",
    "    beta_1=0.9,\n",
    "    beta_2=0.999,\n",
    "    epsilon=1e-07,\n",
    "    amsgrad=False,\n",
    "    name='Adam')\n",
    "sgd = optimizers.SGD(learning_rate=0.01,momentum=0.0,    nesterov=False,    name='SGD')\n",
    "momentum = optimizers.SGD(learning_rate=0.01,\n",
    "    momentum=0.8,\n",
    "    nesterov=False,\n",
    "    name='SGD-Momentum')\n",
    "opts = [adam, sgd, momentum]"
   ]
  },
  {
   "cell_type": "code",
   "execution_count": 20,
   "metadata": {},
   "outputs": [],
   "source": [
    "def mlp_model_Optimization_Test(i):\n",
    "    model = Sequential()\n",
    "    \n",
    "    model.add(Dense(50, input_shape = (784, )))\n",
    "    model.add(BatchNormalization())                    # Add Batchnorm layer before Activation\n",
    "    model.add(Activation('elu'))    \n",
    "    model.add(Dense(50, kernel_initializer = 'he_normal'))\n",
    "    model.add(BatchNormalization())                    # Add Batchnorm layer before Activation\n",
    "    model.add(Activation('elu'))    \n",
    "    model.add(Dense(50, kernel_initializer = 'he_normal'))\n",
    "    model.add(BatchNormalization())                    # Add Batchnorm layer before Activation\n",
    "    model.add(Activation('elu'))    \n",
    "    model.add(Dense(50, kernel_initializer = 'he_normal'))\n",
    "    model.add(BatchNormalization())                    # Add Batchnorm layer before Activation\n",
    "    model.add(Activation('elu'))    \n",
    "    model.add(Dense(50, kernel_initializer = 'he_normal'))\n",
    "    model.add(BatchNormalization())                    # Add Batchnorm layer before Activation\n",
    "    model.add(Activation('elu'))    \n",
    "    model.add(Dense(10))\n",
    "    model.add(Activation('softmax'))\n",
    "    \n",
    "    #adam = optimizers.Adam(lr = 0.01)\n",
    "    model.compile(optimizer = i, loss = 'categorical_crossentropy', metrics = ['accuracy'])\n",
    "    \n",
    "    return model"
   ]
  },
  {
   "cell_type": "code",
   "execution_count": 21,
   "metadata": {},
   "outputs": [
    {
     "name": "stdout",
     "output_type": "stream",
     "text": [
      "1026/1026 [==============================] - 2s 2ms/step - loss: 0.2053 - accuracy: 0.9642\n",
      "Accuracy with: <tensorflow.python.keras.optimizer_v2.adam.Adam object at 0x00000286A0AD2BC8>  is 0.9641790986061096\n",
      "1026/1026 [==============================] - 2s 2ms/step - loss: 0.1720 - accuracy: 0.9579\n",
      "Accuracy with: <tensorflow.python.keras.optimizer_v2.gradient_descent.SGD object at 0x00000286A0AD2AC8>  is 0.9578738808631897\n"
     ]
    },
    {
     "ename": "KeyboardInterrupt",
     "evalue": "",
     "output_type": "error",
     "traceback": [
      "\u001b[1;31m---------------------------------------------------------------------------\u001b[0m",
      "\u001b[1;31mKeyboardInterrupt\u001b[0m                         Traceback (most recent call last)",
      "\u001b[1;32m<ipython-input-21-d0e7b22f4139>\u001b[0m in \u001b[0;36m<module>\u001b[1;34m\u001b[0m\n\u001b[0;32m      1\u001b[0m \u001b[1;32mfor\u001b[0m \u001b[0mi\u001b[0m \u001b[1;32min\u001b[0m \u001b[0mopts\u001b[0m\u001b[1;33m:\u001b[0m\u001b[1;33m\u001b[0m\u001b[1;33m\u001b[0m\u001b[0m\n\u001b[0;32m      2\u001b[0m     \u001b[0mmodel\u001b[0m \u001b[1;33m=\u001b[0m \u001b[0mmlp_model_Optimization_Test\u001b[0m\u001b[1;33m(\u001b[0m\u001b[0mi\u001b[0m\u001b[1;33m)\u001b[0m\u001b[1;33m\u001b[0m\u001b[1;33m\u001b[0m\u001b[0m\n\u001b[1;32m----> 3\u001b[1;33m     \u001b[0mhistory\u001b[0m \u001b[1;33m=\u001b[0m \u001b[0mmodel\u001b[0m\u001b[1;33m.\u001b[0m\u001b[0mfit\u001b[0m\u001b[1;33m(\u001b[0m\u001b[0mX_train\u001b[0m\u001b[1;33m,\u001b[0m \u001b[0my_train\u001b[0m\u001b[1;33m,\u001b[0m \u001b[0mvalidation_split\u001b[0m \u001b[1;33m=\u001b[0m \u001b[1;36m0.2\u001b[0m\u001b[1;33m,\u001b[0m \u001b[0mepochs\u001b[0m \u001b[1;33m=\u001b[0m \u001b[1;36m100\u001b[0m\u001b[1;33m,\u001b[0m \u001b[0mverbose\u001b[0m \u001b[1;33m=\u001b[0m \u001b[1;36m0\u001b[0m\u001b[1;33m)\u001b[0m\u001b[1;33m\u001b[0m\u001b[1;33m\u001b[0m\u001b[0m\n\u001b[0m\u001b[0;32m      4\u001b[0m \u001b[1;33m\u001b[0m\u001b[0m\n\u001b[0;32m      5\u001b[0m     \u001b[0mresults\u001b[0m \u001b[1;33m=\u001b[0m \u001b[0mmodel\u001b[0m\u001b[1;33m.\u001b[0m\u001b[0mevaluate\u001b[0m\u001b[1;33m(\u001b[0m\u001b[0mx_test\u001b[0m\u001b[1;33m,\u001b[0m \u001b[0my_test\u001b[0m\u001b[1;33m)\u001b[0m\u001b[1;33m\u001b[0m\u001b[1;33m\u001b[0m\u001b[0m\n",
      "\u001b[1;32m~\\anaconda3\\lib\\site-packages\\tensorflow\\python\\keras\\engine\\training.py\u001b[0m in \u001b[0;36m_method_wrapper\u001b[1;34m(self, *args, **kwargs)\u001b[0m\n\u001b[0;32m    106\u001b[0m   \u001b[1;32mdef\u001b[0m \u001b[0m_method_wrapper\u001b[0m\u001b[1;33m(\u001b[0m\u001b[0mself\u001b[0m\u001b[1;33m,\u001b[0m \u001b[1;33m*\u001b[0m\u001b[0margs\u001b[0m\u001b[1;33m,\u001b[0m \u001b[1;33m**\u001b[0m\u001b[0mkwargs\u001b[0m\u001b[1;33m)\u001b[0m\u001b[1;33m:\u001b[0m\u001b[1;33m\u001b[0m\u001b[1;33m\u001b[0m\u001b[0m\n\u001b[0;32m    107\u001b[0m     \u001b[1;32mif\u001b[0m \u001b[1;32mnot\u001b[0m \u001b[0mself\u001b[0m\u001b[1;33m.\u001b[0m\u001b[0m_in_multi_worker_mode\u001b[0m\u001b[1;33m(\u001b[0m\u001b[1;33m)\u001b[0m\u001b[1;33m:\u001b[0m  \u001b[1;31m# pylint: disable=protected-access\u001b[0m\u001b[1;33m\u001b[0m\u001b[1;33m\u001b[0m\u001b[0m\n\u001b[1;32m--> 108\u001b[1;33m       \u001b[1;32mreturn\u001b[0m \u001b[0mmethod\u001b[0m\u001b[1;33m(\u001b[0m\u001b[0mself\u001b[0m\u001b[1;33m,\u001b[0m \u001b[1;33m*\u001b[0m\u001b[0margs\u001b[0m\u001b[1;33m,\u001b[0m \u001b[1;33m**\u001b[0m\u001b[0mkwargs\u001b[0m\u001b[1;33m)\u001b[0m\u001b[1;33m\u001b[0m\u001b[1;33m\u001b[0m\u001b[0m\n\u001b[0m\u001b[0;32m    109\u001b[0m \u001b[1;33m\u001b[0m\u001b[0m\n\u001b[0;32m    110\u001b[0m     \u001b[1;31m# Running inside `run_distribute_coordinator` already.\u001b[0m\u001b[1;33m\u001b[0m\u001b[1;33m\u001b[0m\u001b[1;33m\u001b[0m\u001b[0m\n",
      "\u001b[1;32m~\\anaconda3\\lib\\site-packages\\tensorflow\\python\\keras\\engine\\training.py\u001b[0m in \u001b[0;36mfit\u001b[1;34m(self, x, y, batch_size, epochs, verbose, callbacks, validation_split, validation_data, shuffle, class_weight, sample_weight, initial_epoch, steps_per_epoch, validation_steps, validation_batch_size, validation_freq, max_queue_size, workers, use_multiprocessing)\u001b[0m\n\u001b[0;32m   1096\u001b[0m                 batch_size=batch_size):\n\u001b[0;32m   1097\u001b[0m               \u001b[0mcallbacks\u001b[0m\u001b[1;33m.\u001b[0m\u001b[0mon_train_batch_begin\u001b[0m\u001b[1;33m(\u001b[0m\u001b[0mstep\u001b[0m\u001b[1;33m)\u001b[0m\u001b[1;33m\u001b[0m\u001b[1;33m\u001b[0m\u001b[0m\n\u001b[1;32m-> 1098\u001b[1;33m               \u001b[0mtmp_logs\u001b[0m \u001b[1;33m=\u001b[0m \u001b[0mtrain_function\u001b[0m\u001b[1;33m(\u001b[0m\u001b[0miterator\u001b[0m\u001b[1;33m)\u001b[0m\u001b[1;33m\u001b[0m\u001b[1;33m\u001b[0m\u001b[0m\n\u001b[0m\u001b[0;32m   1099\u001b[0m               \u001b[1;32mif\u001b[0m \u001b[0mdata_handler\u001b[0m\u001b[1;33m.\u001b[0m\u001b[0mshould_sync\u001b[0m\u001b[1;33m:\u001b[0m\u001b[1;33m\u001b[0m\u001b[1;33m\u001b[0m\u001b[0m\n\u001b[0;32m   1100\u001b[0m                 \u001b[0mcontext\u001b[0m\u001b[1;33m.\u001b[0m\u001b[0masync_wait\u001b[0m\u001b[1;33m(\u001b[0m\u001b[1;33m)\u001b[0m\u001b[1;33m\u001b[0m\u001b[1;33m\u001b[0m\u001b[0m\n",
      "\u001b[1;32m~\\anaconda3\\lib\\site-packages\\tensorflow\\python\\eager\\def_function.py\u001b[0m in \u001b[0;36m__call__\u001b[1;34m(self, *args, **kwds)\u001b[0m\n\u001b[0;32m    778\u001b[0m       \u001b[1;32melse\u001b[0m\u001b[1;33m:\u001b[0m\u001b[1;33m\u001b[0m\u001b[1;33m\u001b[0m\u001b[0m\n\u001b[0;32m    779\u001b[0m         \u001b[0mcompiler\u001b[0m \u001b[1;33m=\u001b[0m \u001b[1;34m\"nonXla\"\u001b[0m\u001b[1;33m\u001b[0m\u001b[1;33m\u001b[0m\u001b[0m\n\u001b[1;32m--> 780\u001b[1;33m         \u001b[0mresult\u001b[0m \u001b[1;33m=\u001b[0m \u001b[0mself\u001b[0m\u001b[1;33m.\u001b[0m\u001b[0m_call\u001b[0m\u001b[1;33m(\u001b[0m\u001b[1;33m*\u001b[0m\u001b[0margs\u001b[0m\u001b[1;33m,\u001b[0m \u001b[1;33m**\u001b[0m\u001b[0mkwds\u001b[0m\u001b[1;33m)\u001b[0m\u001b[1;33m\u001b[0m\u001b[1;33m\u001b[0m\u001b[0m\n\u001b[0m\u001b[0;32m    781\u001b[0m \u001b[1;33m\u001b[0m\u001b[0m\n\u001b[0;32m    782\u001b[0m       \u001b[0mnew_tracing_count\u001b[0m \u001b[1;33m=\u001b[0m \u001b[0mself\u001b[0m\u001b[1;33m.\u001b[0m\u001b[0m_get_tracing_count\u001b[0m\u001b[1;33m(\u001b[0m\u001b[1;33m)\u001b[0m\u001b[1;33m\u001b[0m\u001b[1;33m\u001b[0m\u001b[0m\n",
      "\u001b[1;32m~\\anaconda3\\lib\\site-packages\\tensorflow\\python\\eager\\def_function.py\u001b[0m in \u001b[0;36m_call\u001b[1;34m(self, *args, **kwds)\u001b[0m\n\u001b[0;32m    805\u001b[0m       \u001b[1;31m# In this case we have created variables on the first call, so we run the\u001b[0m\u001b[1;33m\u001b[0m\u001b[1;33m\u001b[0m\u001b[1;33m\u001b[0m\u001b[0m\n\u001b[0;32m    806\u001b[0m       \u001b[1;31m# defunned version which is guaranteed to never create variables.\u001b[0m\u001b[1;33m\u001b[0m\u001b[1;33m\u001b[0m\u001b[1;33m\u001b[0m\u001b[0m\n\u001b[1;32m--> 807\u001b[1;33m       \u001b[1;32mreturn\u001b[0m \u001b[0mself\u001b[0m\u001b[1;33m.\u001b[0m\u001b[0m_stateless_fn\u001b[0m\u001b[1;33m(\u001b[0m\u001b[1;33m*\u001b[0m\u001b[0margs\u001b[0m\u001b[1;33m,\u001b[0m \u001b[1;33m**\u001b[0m\u001b[0mkwds\u001b[0m\u001b[1;33m)\u001b[0m  \u001b[1;31m# pylint: disable=not-callable\u001b[0m\u001b[1;33m\u001b[0m\u001b[1;33m\u001b[0m\u001b[0m\n\u001b[0m\u001b[0;32m    808\u001b[0m     \u001b[1;32melif\u001b[0m \u001b[0mself\u001b[0m\u001b[1;33m.\u001b[0m\u001b[0m_stateful_fn\u001b[0m \u001b[1;32mis\u001b[0m \u001b[1;32mnot\u001b[0m \u001b[1;32mNone\u001b[0m\u001b[1;33m:\u001b[0m\u001b[1;33m\u001b[0m\u001b[1;33m\u001b[0m\u001b[0m\n\u001b[0;32m    809\u001b[0m       \u001b[1;31m# Release the lock early so that multiple threads can perform the call\u001b[0m\u001b[1;33m\u001b[0m\u001b[1;33m\u001b[0m\u001b[1;33m\u001b[0m\u001b[0m\n",
      "\u001b[1;32m~\\anaconda3\\lib\\site-packages\\tensorflow\\python\\eager\\function.py\u001b[0m in \u001b[0;36m__call__\u001b[1;34m(self, *args, **kwargs)\u001b[0m\n\u001b[0;32m   2827\u001b[0m     \u001b[1;32mwith\u001b[0m \u001b[0mself\u001b[0m\u001b[1;33m.\u001b[0m\u001b[0m_lock\u001b[0m\u001b[1;33m:\u001b[0m\u001b[1;33m\u001b[0m\u001b[1;33m\u001b[0m\u001b[0m\n\u001b[0;32m   2828\u001b[0m       \u001b[0mgraph_function\u001b[0m\u001b[1;33m,\u001b[0m \u001b[0margs\u001b[0m\u001b[1;33m,\u001b[0m \u001b[0mkwargs\u001b[0m \u001b[1;33m=\u001b[0m \u001b[0mself\u001b[0m\u001b[1;33m.\u001b[0m\u001b[0m_maybe_define_function\u001b[0m\u001b[1;33m(\u001b[0m\u001b[0margs\u001b[0m\u001b[1;33m,\u001b[0m \u001b[0mkwargs\u001b[0m\u001b[1;33m)\u001b[0m\u001b[1;33m\u001b[0m\u001b[1;33m\u001b[0m\u001b[0m\n\u001b[1;32m-> 2829\u001b[1;33m     \u001b[1;32mreturn\u001b[0m \u001b[0mgraph_function\u001b[0m\u001b[1;33m.\u001b[0m\u001b[0m_filtered_call\u001b[0m\u001b[1;33m(\u001b[0m\u001b[0margs\u001b[0m\u001b[1;33m,\u001b[0m \u001b[0mkwargs\u001b[0m\u001b[1;33m)\u001b[0m  \u001b[1;31m# pylint: disable=protected-access\u001b[0m\u001b[1;33m\u001b[0m\u001b[1;33m\u001b[0m\u001b[0m\n\u001b[0m\u001b[0;32m   2830\u001b[0m \u001b[1;33m\u001b[0m\u001b[0m\n\u001b[0;32m   2831\u001b[0m   \u001b[1;33m@\u001b[0m\u001b[0mproperty\u001b[0m\u001b[1;33m\u001b[0m\u001b[1;33m\u001b[0m\u001b[0m\n",
      "\u001b[1;32m~\\anaconda3\\lib\\site-packages\\tensorflow\\python\\eager\\function.py\u001b[0m in \u001b[0;36m_filtered_call\u001b[1;34m(self, args, kwargs, cancellation_manager)\u001b[0m\n\u001b[0;32m   1846\u001b[0m                            resource_variable_ops.BaseResourceVariable))],\n\u001b[0;32m   1847\u001b[0m         \u001b[0mcaptured_inputs\u001b[0m\u001b[1;33m=\u001b[0m\u001b[0mself\u001b[0m\u001b[1;33m.\u001b[0m\u001b[0mcaptured_inputs\u001b[0m\u001b[1;33m,\u001b[0m\u001b[1;33m\u001b[0m\u001b[1;33m\u001b[0m\u001b[0m\n\u001b[1;32m-> 1848\u001b[1;33m         cancellation_manager=cancellation_manager)\n\u001b[0m\u001b[0;32m   1849\u001b[0m \u001b[1;33m\u001b[0m\u001b[0m\n\u001b[0;32m   1850\u001b[0m   \u001b[1;32mdef\u001b[0m \u001b[0m_call_flat\u001b[0m\u001b[1;33m(\u001b[0m\u001b[0mself\u001b[0m\u001b[1;33m,\u001b[0m \u001b[0margs\u001b[0m\u001b[1;33m,\u001b[0m \u001b[0mcaptured_inputs\u001b[0m\u001b[1;33m,\u001b[0m \u001b[0mcancellation_manager\u001b[0m\u001b[1;33m=\u001b[0m\u001b[1;32mNone\u001b[0m\u001b[1;33m)\u001b[0m\u001b[1;33m:\u001b[0m\u001b[1;33m\u001b[0m\u001b[1;33m\u001b[0m\u001b[0m\n",
      "\u001b[1;32m~\\anaconda3\\lib\\site-packages\\tensorflow\\python\\eager\\function.py\u001b[0m in \u001b[0;36m_call_flat\u001b[1;34m(self, args, captured_inputs, cancellation_manager)\u001b[0m\n\u001b[0;32m   1922\u001b[0m       \u001b[1;31m# No tape is watching; skip to running the function.\u001b[0m\u001b[1;33m\u001b[0m\u001b[1;33m\u001b[0m\u001b[1;33m\u001b[0m\u001b[0m\n\u001b[0;32m   1923\u001b[0m       return self._build_call_outputs(self._inference_function.call(\n\u001b[1;32m-> 1924\u001b[1;33m           ctx, args, cancellation_manager=cancellation_manager))\n\u001b[0m\u001b[0;32m   1925\u001b[0m     forward_backward = self._select_forward_and_backward_functions(\n\u001b[0;32m   1926\u001b[0m         \u001b[0margs\u001b[0m\u001b[1;33m,\u001b[0m\u001b[1;33m\u001b[0m\u001b[1;33m\u001b[0m\u001b[0m\n",
      "\u001b[1;32m~\\anaconda3\\lib\\site-packages\\tensorflow\\python\\eager\\function.py\u001b[0m in \u001b[0;36mcall\u001b[1;34m(self, ctx, args, cancellation_manager)\u001b[0m\n\u001b[0;32m    548\u001b[0m               \u001b[0minputs\u001b[0m\u001b[1;33m=\u001b[0m\u001b[0margs\u001b[0m\u001b[1;33m,\u001b[0m\u001b[1;33m\u001b[0m\u001b[1;33m\u001b[0m\u001b[0m\n\u001b[0;32m    549\u001b[0m               \u001b[0mattrs\u001b[0m\u001b[1;33m=\u001b[0m\u001b[0mattrs\u001b[0m\u001b[1;33m,\u001b[0m\u001b[1;33m\u001b[0m\u001b[1;33m\u001b[0m\u001b[0m\n\u001b[1;32m--> 550\u001b[1;33m               ctx=ctx)\n\u001b[0m\u001b[0;32m    551\u001b[0m         \u001b[1;32melse\u001b[0m\u001b[1;33m:\u001b[0m\u001b[1;33m\u001b[0m\u001b[1;33m\u001b[0m\u001b[0m\n\u001b[0;32m    552\u001b[0m           outputs = execute.execute_with_cancellation(\n",
      "\u001b[1;32m~\\anaconda3\\lib\\site-packages\\tensorflow\\python\\eager\\execute.py\u001b[0m in \u001b[0;36mquick_execute\u001b[1;34m(op_name, num_outputs, inputs, attrs, ctx, name)\u001b[0m\n\u001b[0;32m     58\u001b[0m     \u001b[0mctx\u001b[0m\u001b[1;33m.\u001b[0m\u001b[0mensure_initialized\u001b[0m\u001b[1;33m(\u001b[0m\u001b[1;33m)\u001b[0m\u001b[1;33m\u001b[0m\u001b[1;33m\u001b[0m\u001b[0m\n\u001b[0;32m     59\u001b[0m     tensors = pywrap_tfe.TFE_Py_Execute(ctx._handle, device_name, op_name,\n\u001b[1;32m---> 60\u001b[1;33m                                         inputs, attrs, num_outputs)\n\u001b[0m\u001b[0;32m     61\u001b[0m   \u001b[1;32mexcept\u001b[0m \u001b[0mcore\u001b[0m\u001b[1;33m.\u001b[0m\u001b[0m_NotOkStatusException\u001b[0m \u001b[1;32mas\u001b[0m \u001b[0me\u001b[0m\u001b[1;33m:\u001b[0m\u001b[1;33m\u001b[0m\u001b[1;33m\u001b[0m\u001b[0m\n\u001b[0;32m     62\u001b[0m     \u001b[1;32mif\u001b[0m \u001b[0mname\u001b[0m \u001b[1;32mis\u001b[0m \u001b[1;32mnot\u001b[0m \u001b[1;32mNone\u001b[0m\u001b[1;33m:\u001b[0m\u001b[1;33m\u001b[0m\u001b[1;33m\u001b[0m\u001b[0m\n",
      "\u001b[1;31mKeyboardInterrupt\u001b[0m: "
     ]
    }
   ],
   "source": [
    "for i in opts:\n",
    "    model = mlp_model_Optimization_Test(i)\n",
    "    history = model.fit(X_train, y_train, validation_split = 0.2, epochs = 100, verbose = 0)\n",
    "\n",
    "    results = model.evaluate(x_test, y_test)\n",
    "\n",
    "    print('Accuracy with:', i,' is', results[1])"
   ]
  },
  {
   "cell_type": "code",
   "execution_count": null,
   "metadata": {},
   "outputs": [],
   "source": [
    "    model = mlp_model_Optimization_Test(opts[0])\n",
    "    history = model.fit(X_train, y_train, validation_split = 0.2, epochs = 100, verbose = 0)\n",
    "\n",
    "    results = model.evaluate(x_test, y_test)\n",
    "\n",
    "    print('Accuracy with:', i,' is', results[1])"
   ]
  },
  {
   "cell_type": "code",
   "execution_count": 17,
   "metadata": {},
   "outputs": [
    {
     "ename": "NameError",
     "evalue": "name 'model' is not defined",
     "output_type": "error",
     "traceback": [
      "\u001b[1;31m---------------------------------------------------------------------------\u001b[0m",
      "\u001b[1;31mNameError\u001b[0m                                 Traceback (most recent call last)",
      "\u001b[1;32m<ipython-input-17-a6ad9beb9cc0>\u001b[0m in \u001b[0;36m<module>\u001b[1;34m\u001b[0m\n\u001b[1;32m----> 1\u001b[1;33m \u001b[0mpredicted\u001b[0m \u001b[1;33m=\u001b[0m \u001b[0mmodel\u001b[0m\u001b[1;33m.\u001b[0m\u001b[0mpredict\u001b[0m\u001b[1;33m(\u001b[0m\u001b[0mX_test_sub\u001b[0m\u001b[1;33m)\u001b[0m\u001b[1;33m\u001b[0m\u001b[1;33m\u001b[0m\u001b[0m\n\u001b[0m\u001b[0;32m      2\u001b[0m \u001b[0my_pred\u001b[0m \u001b[1;33m=\u001b[0m \u001b[0mpredicted\u001b[0m\u001b[1;33m.\u001b[0m\u001b[0margmax\u001b[0m\u001b[1;33m(\u001b[0m\u001b[0maxis\u001b[0m\u001b[1;33m=\u001b[0m\u001b[1;36m1\u001b[0m\u001b[1;33m)\u001b[0m\u001b[1;33m\u001b[0m\u001b[1;33m\u001b[0m\u001b[0m\n\u001b[0;32m      3\u001b[0m \u001b[1;33m\u001b[0m\u001b[0m\n\u001b[0;32m      4\u001b[0m \u001b[1;33m\u001b[0m\u001b[0m\n\u001b[0;32m      5\u001b[0m \u001b[0mImageID\u001b[0m \u001b[1;33m=\u001b[0m \u001b[0mnp\u001b[0m\u001b[1;33m.\u001b[0m\u001b[0marange\u001b[0m\u001b[1;33m(\u001b[0m\u001b[0mlen\u001b[0m\u001b[1;33m(\u001b[0m\u001b[0my_pred\u001b[0m\u001b[1;33m)\u001b[0m\u001b[1;33m)\u001b[0m\u001b[1;33m+\u001b[0m\u001b[1;36m1\u001b[0m\u001b[1;33m\u001b[0m\u001b[1;33m\u001b[0m\u001b[0m\n",
      "\u001b[1;31mNameError\u001b[0m: name 'model' is not defined"
     ]
    }
   ],
   "source": [
    "predicted = model.predict(X_test_sub)\n",
    "y_pred = predicted.argmax(axis=1)\n",
    "\n",
    "\n",
    "ImageID = np.arange(len(y_pred))+1\n",
    "Out = pd.DataFrame([test['filename'],y_pred]).T\n",
    "Out.rename(columns = {0:'filename', 1:'label'})\n",
    "#Out\n",
    "Out.to_csv('MNIST_Prediction_Batch_Elu_OptimizerAdam.csv', header =  ['filename', 'label' ], index = None)"
   ]
  },
  {
   "cell_type": "code",
   "execution_count": null,
   "metadata": {},
   "outputs": [],
   "source": [
    "    model = mlp_model_Optimization_Test(opts[1])\n",
    "    history = model.fit(X_train, y_train, validation_split = 0.2, epochs = 100, verbose = 0)\n",
    "\n",
    "    results = model.evaluate(x_test, y_test)\n",
    "\n",
    "    print('Accuracy with:', i,' is', results[1])"
   ]
  },
  {
   "cell_type": "code",
   "execution_count": 127,
   "metadata": {},
   "outputs": [],
   "source": [
    "predicted = model.predict(X_test_sub)\n",
    "y_pred = predicted.argmax(axis=1)\n",
    "\n",
    "\n",
    "ImageID = np.arange(len(y_pred))+1\n",
    "Out = pd.DataFrame([test['filename'],y_pred]).T\n",
    "Out.rename(columns = {0:'filename', 1:'label'})\n",
    "#Out\n",
    "Out.to_csv('MNIST_Prediction_Batch_Elu_OptimizerSGD.csv', header =  ['filename', 'label' ], index = None)"
   ]
  },
  {
   "cell_type": "code",
   "execution_count": 128,
   "metadata": {},
   "outputs": [
    {
     "name": "stdout",
     "output_type": "stream",
     "text": [
      "1026/1026 [==============================] - 2s 2ms/step - loss: 0.1637 - accuracy: 0.9640\n",
      "Accuracy with: <tensorflow.python.keras.optimizer_v2.gradient_descent.SGD object at 0x0000021EA06C3DC8>  is 0.9639963507652283\n"
     ]
    }
   ],
   "source": [
    "    model = mlp_model_Optimization_Test(opts[2])\n",
    "    history = model.fit(X_train, y_train, validation_split = 0.2, epochs = 100, verbose = 0)\n",
    "\n",
    "    results = model.evaluate(x_test, y_test)\n",
    "\n",
    "    print('Accuracy with:', i,' is', results[1])"
   ]
  },
  {
   "cell_type": "code",
   "execution_count": 129,
   "metadata": {},
   "outputs": [],
   "source": [
    "predicted = model.predict(X_test_sub)\n",
    "y_pred = predicted.argmax(axis=1)\n",
    "\n",
    "\n",
    "ImageID = np.arange(len(y_pred))+1\n",
    "Out = pd.DataFrame([test['filename'],y_pred]).T\n",
    "Out.rename(columns = {0:'filename', 1:'label'})\n",
    "#Out\n",
    "Out.to_csv('MNIST_Prediction_Batch_Elu_OptimizerMomentum.csv', header =  ['filename', 'label' ], index = None)"
   ]
  },
  {
   "cell_type": "markdown",
   "metadata": {},
   "source": [
    "## Result:\n",
    "    1026/1026 [==============================] - 2s 2ms/step - loss: 0.2053 - accuracy: 0.9642\n",
    "    Accuracy with: <tensorflow.python.keras.optimizer_v2.adam.Adam object at 0x00000286A0AD2BC8>  is 0.9641790986061096\n",
    "    \n",
    "### Optimizer Used:\n",
    "    adam = optimizers.Adam(learning_rate=0.01,\n",
    "    beta_1=0.9,\n",
    "    beta_2=0.999,\n",
    "    epsilon=1e-07,\n",
    "    amsgrad=False,\n",
    "    name='Adam')"
   ]
  },
  {
   "cell_type": "code",
   "execution_count": null,
   "metadata": {},
   "outputs": [],
   "source": []
  },
  {
   "cell_type": "markdown",
   "metadata": {},
   "source": [
    "## Tune Activation"
   ]
  },
  {
   "cell_type": "raw",
   "metadata": {},
   "source": [
    "def activation(layer, layer_in, layerId, tensor=True):\n",
    "    out = {}\n",
    "    if (layer['info']['type'] == 'ReLU'):\n",
    "        if ('negative_slope' in layer['params'] and layer['params']['negative_slope'] != 0):\n",
    "            out[layerId] = LeakyReLU(alpha=layer['params']['negative_slope'])\n",
    "        else:\n",
    "            out[layerId] = Activation('relu')\n",
    "    elif (layer['info']['type'] == 'PReLU'):\n",
    "        out[layerId] = PReLU()\n",
    "    elif (layer['info']['type'] == 'ELU'):\n",
    "        out[layerId] = ELU(alpha=layer['params']['alpha'])\n",
    "    elif (layer['info']['type'] == 'ThresholdedReLU'):\n",
    "        out[layerId] = ThresholdedReLU(theta=layer['params']['theta'])\n",
    "    elif (layer['info']['type'] == 'Sigmoid'):\n",
    "        out[layerId] = Activation('sigmoid')\n",
    "    elif (layer['info']['type'] == 'TanH'):\n",
    "        out[layerId] = Activation('tanh')\n",
    "    elif (layer['info']['type'] == 'Softmax'):\n",
    "        out[layerId] = Activation('softmax')\n",
    "    elif (layer['info']['type'] == 'SELU'):\n",
    "        out[layerId] = Activation('selu')\n",
    "    elif (layer['info']['type'] == 'Softplus'):\n",
    "        out[layerId] = Activation('softplus')\n",
    "    elif (layer['info']['type'] == 'Softsign'):\n",
    "        out[layerId] = Activation('softsign')\n",
    "    elif (layer['info']['type'] == 'HardSigmoid'):\n",
    "        out[layerId] = Activation('hard_sigmoid')\n",
    "    elif (layer['info']['type'] == 'Linear'):\n",
    "        out[layerId] = Activation('linear')\n",
    "    if tensor:\n",
    "        out[layerId] = out[layerId](*layer_in)\n",
    "    return out "
   ]
  },
  {
   "cell_type": "code",
   "execution_count": 130,
   "metadata": {},
   "outputs": [],
   "source": [
    "def mlp_model_Activation_Test(i):\n",
    "    model = Sequential()\n",
    "    \n",
    "    model.add(Dense(50, input_shape = (784, )))\n",
    "    model.add(BatchNormalization())                    # Add Batchnorm layer before Activation\n",
    "    model.add(Activation(i))    \n",
    "    model.add(Dense(50, kernel_initializer = 'he_normal'))\n",
    "    model.add(BatchNormalization())                    # Add Batchnorm layer before Activation\n",
    "    model.add(Activation(i))    \n",
    "    model.add(Dense(50, kernel_initializer = 'he_normal'))\n",
    "    model.add(BatchNormalization())                    # Add Batchnorm layer before Activation\n",
    "    model.add(Activation(i))    \n",
    "    model.add(Dense(50, kernel_initializer = 'he_normal'))\n",
    "    model.add(BatchNormalization())                    # Add Batchnorm layer before Activation\n",
    "    model.add(Activation(i))    \n",
    "    model.add(Dense(50, kernel_initializer = 'he_normal'))\n",
    "    model.add(BatchNormalization())                    # Add Batchnorm layer before Activation\n",
    "    model.add(Activation(i))    \n",
    "    model.add(Dense(10))\n",
    "    model.add(Activation('softmax'))\n",
    "    \n",
    "    adam = optimizers.Adam(learning_rate=0.01,beta_1=0.9,beta_2=0.999,epsilon=1e-07,amsgrad=False,name='Adam')\n",
    "    model.compile(optimizer = adam, loss = 'categorical_crossentropy', metrics = ['accuracy'])\n",
    "    \n",
    "    return model"
   ]
  },
  {
   "cell_type": "code",
   "execution_count": null,
   "metadata": {},
   "outputs": [],
   "source": [
    "ActList = ['relu']"
   ]
  },
  {
   "cell_type": "code",
   "execution_count": 132,
   "metadata": {},
   "outputs": [
    {
     "name": "stdout",
     "output_type": "stream",
     "text": [
      "1026/1026 [==============================] - 2s 2ms/step - loss: 0.2208 - accuracy: 0.9628\n",
      "Accuracy with: <tensorflow.python.keras.optimizer_v2.gradient_descent.SGD object at 0x0000021EA06C3DC8>  is 0.962838888168335\n"
     ]
    }
   ],
   "source": [
    "model = mlp_model_Activation_Test('selu')\n",
    "history = model.fit(X_train, y_train, validation_split = 0.2, epochs = 100, verbose = 0)\n",
    "\n",
    "results = model.evaluate(x_test, y_test)\n",
    "\n",
    "print('Accuracy with:', i,' is', results[1])"
   ]
  },
  {
   "cell_type": "code",
   "execution_count": null,
   "metadata": {},
   "outputs": [],
   "source": []
  },
  {
   "cell_type": "markdown",
   "metadata": {},
   "source": [
    "## Tune with Layer size"
   ]
  },
  {
   "cell_type": "code",
   "execution_count": 35,
   "metadata": {},
   "outputs": [],
   "source": [
    "def mlp_model_LayerSize():\n",
    "    model = Sequential()\n",
    "    \n",
    "    model.add(Dense(300, input_shape = (784, )))\n",
    "    model.add(BatchNormalization())                    # Add Batchnorm layer before Activation\n",
    "    model.add(Activation('elu'))    \n",
    "    model.add(Dense(200, kernel_initializer = 'he_normal'))\n",
    "    model.add(BatchNormalization())                    # Add Batchnorm layer before Activation\n",
    "    model.add(Activation('elu'))    \n",
    "    model.add(Dense(100, kernel_initializer = 'he_normal'))\n",
    "    model.add(BatchNormalization())                    # Add Batchnorm layer before Activation\n",
    "    model.add(Activation('elu'))    \n",
    "    model.add(Dense(50, kernel_initializer = 'he_normal'))\n",
    "    model.add(BatchNormalization())                    # Add Batchnorm layer before Activation\n",
    "    model.add(Activation('elu'))    \n",
    "    model.add(Dense(20, kernel_initializer = 'he_normal'))\n",
    "    model.add(BatchNormalization())                    # Add Batchnorm layer before Activation\n",
    "    model.add(Activation('elu'))    \n",
    "    model.add(Dense(10))\n",
    "    model.add(Activation('softmax'))\n",
    "    \n",
    "    adam = optimizers.Adam(learning_rate=0.01,\n",
    "    beta_1=0.9,\n",
    "    beta_2=0.999,\n",
    "    epsilon=1e-07,\n",
    "    amsgrad=True,\n",
    "    name='Adam')\n",
    "    model.compile(optimizer = adam, loss = 'categorical_crossentropy', metrics = ['accuracy'])\n",
    "    \n",
    "    return model"
   ]
  },
  {
   "cell_type": "code",
   "execution_count": 36,
   "metadata": {},
   "outputs": [
    {
     "name": "stdout",
     "output_type": "stream",
     "text": [
      "Epoch 1/100\n",
      "405/405 [==============================] - 3s 9ms/step - loss: 0.5136 - accuracy: 0.8419 - val_loss: 0.3575 - val_accuracy: 0.8964\n",
      "Epoch 2/100\n",
      "405/405 [==============================] - 3s 7ms/step - loss: 0.3130 - accuracy: 0.9037 - val_loss: 0.2838 - val_accuracy: 0.9150\n",
      "Epoch 3/100\n",
      "405/405 [==============================] - 3s 7ms/step - loss: 0.2326 - accuracy: 0.9286 - val_loss: 0.2055 - val_accuracy: 0.9385\n",
      "Epoch 4/100\n",
      "405/405 [==============================] - 3s 7ms/step - loss: 0.1874 - accuracy: 0.9429 - val_loss: 0.1925 - val_accuracy: 0.9416\n",
      "Epoch 5/100\n",
      "405/405 [==============================] - 3s 8ms/step - loss: 0.1510 - accuracy: 0.9512 - val_loss: 0.3117 - val_accuracy: 0.9224\n",
      "Epoch 6/100\n",
      "405/405 [==============================] - 3s 8ms/step - loss: 0.1170 - accuracy: 0.9625 - val_loss: 0.1686 - val_accuracy: 0.9518\n",
      "Epoch 7/100\n",
      "405/405 [==============================] - 3s 7ms/step - loss: 0.1076 - accuracy: 0.9636 - val_loss: 0.1940 - val_accuracy: 0.9459\n",
      "Epoch 8/100\n",
      "405/405 [==============================] - 3s 7ms/step - loss: 0.0972 - accuracy: 0.9692 - val_loss: 0.1606 - val_accuracy: 0.9552\n",
      "Epoch 9/100\n",
      "405/405 [==============================] - 3s 7ms/step - loss: 0.0807 - accuracy: 0.9739 - val_loss: 0.1651 - val_accuracy: 0.9555\n",
      "Epoch 10/100\n",
      "405/405 [==============================] - 3s 7ms/step - loss: 0.0650 - accuracy: 0.9791 - val_loss: 0.1845 - val_accuracy: 0.9499\n",
      "Epoch 11/100\n",
      "405/405 [==============================] - 3s 7ms/step - loss: 0.0585 - accuracy: 0.9815 - val_loss: 0.1824 - val_accuracy: 0.9524\n",
      "Epoch 12/100\n",
      "405/405 [==============================] - 3s 7ms/step - loss: 0.0518 - accuracy: 0.9828 - val_loss: 0.1869 - val_accuracy: 0.9502\n",
      "Epoch 13/100\n",
      "405/405 [==============================] - 3s 7ms/step - loss: 0.0576 - accuracy: 0.9797 - val_loss: 0.1693 - val_accuracy: 0.9558\n",
      "Epoch 14/100\n",
      "405/405 [==============================] - 3s 7ms/step - loss: 0.0683 - accuracy: 0.9775 - val_loss: 0.1626 - val_accuracy: 0.9620\n",
      "Epoch 15/100\n",
      "405/405 [==============================] - 3s 7ms/step - loss: 0.0409 - accuracy: 0.9870 - val_loss: 0.1516 - val_accuracy: 0.9626\n",
      "Epoch 16/100\n",
      "405/405 [==============================] - 3s 7ms/step - loss: 0.0367 - accuracy: 0.9879 - val_loss: 0.1610 - val_accuracy: 0.9607\n",
      "Epoch 17/100\n",
      "405/405 [==============================] - 3s 7ms/step - loss: 0.0281 - accuracy: 0.9906 - val_loss: 0.1695 - val_accuracy: 0.9604\n",
      "Epoch 18/100\n",
      "405/405 [==============================] - 3s 7ms/step - loss: 0.0353 - accuracy: 0.9892 - val_loss: 0.1580 - val_accuracy: 0.9620\n",
      "Epoch 19/100\n",
      "405/405 [==============================] - 3s 7ms/step - loss: 0.0345 - accuracy: 0.9892 - val_loss: 0.1580 - val_accuracy: 0.9632\n",
      "Epoch 20/100\n",
      "405/405 [==============================] - 3s 7ms/step - loss: 0.0303 - accuracy: 0.9910 - val_loss: 0.1535 - val_accuracy: 0.9576\n",
      "Epoch 21/100\n",
      "405/405 [==============================] - 3s 7ms/step - loss: 0.0229 - accuracy: 0.9923 - val_loss: 0.1553 - val_accuracy: 0.9623\n",
      "Epoch 22/100\n",
      "405/405 [==============================] - 3s 7ms/step - loss: 0.0221 - accuracy: 0.9921 - val_loss: 0.1869 - val_accuracy: 0.9558\n",
      "Epoch 23/100\n",
      "405/405 [==============================] - 3s 7ms/step - loss: 0.0204 - accuracy: 0.9937 - val_loss: 0.1486 - val_accuracy: 0.9644\n",
      "Epoch 24/100\n",
      "405/405 [==============================] - 3s 8ms/step - loss: 0.0181 - accuracy: 0.9940 - val_loss: 0.1593 - val_accuracy: 0.9669\n",
      "Epoch 25/100\n",
      "405/405 [==============================] - 3s 8ms/step - loss: 0.0209 - accuracy: 0.9934 - val_loss: 0.1975 - val_accuracy: 0.9561\n",
      "Epoch 26/100\n",
      "405/405 [==============================] - 3s 7ms/step - loss: 0.0176 - accuracy: 0.9934 - val_loss: 0.1556 - val_accuracy: 0.9638\n",
      "Epoch 27/100\n",
      "405/405 [==============================] - 3s 7ms/step - loss: 0.0227 - accuracy: 0.9920 - val_loss: 0.1684 - val_accuracy: 0.9623\n",
      "Epoch 28/100\n",
      "405/405 [==============================] - 3s 7ms/step - loss: 0.0215 - accuracy: 0.9923 - val_loss: 0.1809 - val_accuracy: 0.9592\n",
      "Epoch 29/100\n",
      "405/405 [==============================] - 3s 8ms/step - loss: 0.0222 - accuracy: 0.9934 - val_loss: 0.1435 - val_accuracy: 0.9663\n",
      "Epoch 30/100\n",
      "405/405 [==============================] - 3s 7ms/step - loss: 0.0275 - accuracy: 0.9910 - val_loss: 0.1639 - val_accuracy: 0.9654\n",
      "Epoch 31/100\n",
      "405/405 [==============================] - 3s 7ms/step - loss: 0.0189 - accuracy: 0.9931 - val_loss: 0.1601 - val_accuracy: 0.9623\n",
      "Epoch 32/100\n",
      "405/405 [==============================] - 3s 7ms/step - loss: 0.0108 - accuracy: 0.9964 - val_loss: 0.1483 - val_accuracy: 0.9691\n",
      "Epoch 33/100\n",
      "405/405 [==============================] - 3s 7ms/step - loss: 0.0120 - accuracy: 0.9953 - val_loss: 0.1539 - val_accuracy: 0.9669\n",
      "Epoch 34/100\n",
      "405/405 [==============================] - 3s 7ms/step - loss: 0.0130 - accuracy: 0.9958 - val_loss: 0.1781 - val_accuracy: 0.9604\n",
      "Epoch 35/100\n",
      "405/405 [==============================] - 3s 7ms/step - loss: 0.0136 - accuracy: 0.9956 - val_loss: 0.1745 - val_accuracy: 0.9644\n",
      "Epoch 36/100\n",
      "405/405 [==============================] - 3s 7ms/step - loss: 0.0078 - accuracy: 0.9974 - val_loss: 0.1510 - val_accuracy: 0.9691\n",
      "Epoch 37/100\n",
      "405/405 [==============================] - 3s 7ms/step - loss: 0.0163 - accuracy: 0.9954 - val_loss: 0.1567 - val_accuracy: 0.9651\n",
      "Epoch 38/100\n",
      "405/405 [==============================] - 3s 7ms/step - loss: 0.0112 - accuracy: 0.9962 - val_loss: 0.1741 - val_accuracy: 0.9647\n",
      "Epoch 39/100\n",
      "405/405 [==============================] - 3s 7ms/step - loss: 0.0081 - accuracy: 0.9970 - val_loss: 0.1732 - val_accuracy: 0.9666\n",
      "Epoch 40/100\n",
      "405/405 [==============================] - 3s 8ms/step - loss: 0.0078 - accuracy: 0.9971 - val_loss: 0.1618 - val_accuracy: 0.9654\n",
      "Epoch 41/100\n",
      "405/405 [==============================] - 3s 7ms/step - loss: 0.0113 - accuracy: 0.9964 - val_loss: 0.1651 - val_accuracy: 0.9641\n",
      "Epoch 42/100\n",
      "405/405 [==============================] - 3s 8ms/step - loss: 0.0067 - accuracy: 0.9978 - val_loss: 0.1628 - val_accuracy: 0.9663\n",
      "Epoch 43/100\n",
      "405/405 [==============================] - 3s 7ms/step - loss: 0.0102 - accuracy: 0.9969 - val_loss: 0.1420 - val_accuracy: 0.9678\n",
      "Epoch 44/100\n",
      "405/405 [==============================] - 3s 8ms/step - loss: 0.0265 - accuracy: 0.9913 - val_loss: 0.1883 - val_accuracy: 0.9601\n",
      "Epoch 45/100\n",
      "405/405 [==============================] - 3s 7ms/step - loss: 0.0091 - accuracy: 0.9972 - val_loss: 0.1521 - val_accuracy: 0.9669\n",
      "Epoch 46/100\n",
      "405/405 [==============================] - 3s 7ms/step - loss: 0.0057 - accuracy: 0.9980 - val_loss: 0.1509 - val_accuracy: 0.9663\n",
      "Epoch 47/100\n",
      "405/405 [==============================] - 3s 7ms/step - loss: 0.0114 - accuracy: 0.9963 - val_loss: 0.1617 - val_accuracy: 0.9620\n",
      "Epoch 48/100\n",
      "405/405 [==============================] - 3s 7ms/step - loss: 0.0119 - accuracy: 0.9964 - val_loss: 0.1583 - val_accuracy: 0.9672\n",
      "Epoch 49/100\n",
      "405/405 [==============================] - 3s 8ms/step - loss: 0.0124 - accuracy: 0.9963 - val_loss: 0.1561 - val_accuracy: 0.9678\n",
      "Epoch 50/100\n",
      "405/405 [==============================] - 3s 7ms/step - loss: 0.0079 - accuracy: 0.9976 - val_loss: 0.1691 - val_accuracy: 0.9644\n",
      "Epoch 51/100\n",
      "405/405 [==============================] - 3s 8ms/step - loss: 0.0059 - accuracy: 0.9981 - val_loss: 0.1951 - val_accuracy: 0.9635\n",
      "Epoch 52/100\n",
      "405/405 [==============================] - 3s 7ms/step - loss: 0.0062 - accuracy: 0.9981 - val_loss: 0.1733 - val_accuracy: 0.9620\n",
      "Epoch 53/100\n",
      "405/405 [==============================] - 3s 8ms/step - loss: 0.0110 - accuracy: 0.9966 - val_loss: 0.1607 - val_accuracy: 0.9638\n",
      "Epoch 54/100\n",
      "405/405 [==============================] - 3s 7ms/step - loss: 0.0086 - accuracy: 0.9974 - val_loss: 0.1649 - val_accuracy: 0.9644\n",
      "Epoch 55/100\n",
      "405/405 [==============================] - 3s 8ms/step - loss: 0.0128 - accuracy: 0.9960 - val_loss: 0.1627 - val_accuracy: 0.9657\n",
      "Epoch 56/100\n",
      "405/405 [==============================] - 3s 7ms/step - loss: 0.0057 - accuracy: 0.9981 - val_loss: 0.1684 - val_accuracy: 0.9651\n",
      "Epoch 57/100\n",
      "405/405 [==============================] - 3s 7ms/step - loss: 0.0112 - accuracy: 0.9964 - val_loss: 0.1685 - val_accuracy: 0.9666\n"
     ]
    },
    {
     "name": "stdout",
     "output_type": "stream",
     "text": [
      "Epoch 58/100\n",
      "405/405 [==============================] - 3s 8ms/step - loss: 0.0068 - accuracy: 0.9977 - val_loss: 0.1707 - val_accuracy: 0.9632\n",
      "Epoch 59/100\n",
      "405/405 [==============================] - 3s 7ms/step - loss: 0.0069 - accuracy: 0.9975 - val_loss: 0.1637 - val_accuracy: 0.9672\n",
      "Epoch 60/100\n",
      "405/405 [==============================] - 3s 8ms/step - loss: 0.0067 - accuracy: 0.9971 - val_loss: 0.1572 - val_accuracy: 0.9706\n",
      "Epoch 61/100\n",
      "405/405 [==============================] - 3s 7ms/step - loss: 0.0101 - accuracy: 0.9972 - val_loss: 0.1670 - val_accuracy: 0.9694\n",
      "Epoch 62/100\n",
      "405/405 [==============================] - 3s 8ms/step - loss: 0.0108 - accuracy: 0.9961 - val_loss: 0.1709 - val_accuracy: 0.9629\n",
      "Epoch 63/100\n",
      "405/405 [==============================] - 3s 7ms/step - loss: 0.0071 - accuracy: 0.9972 - val_loss: 0.1778 - val_accuracy: 0.9644\n",
      "Epoch 64/100\n",
      "405/405 [==============================] - 3s 8ms/step - loss: 0.0084 - accuracy: 0.9971 - val_loss: 0.1813 - val_accuracy: 0.9620\n",
      "Epoch 65/100\n",
      "405/405 [==============================] - 3s 7ms/step - loss: 0.0122 - accuracy: 0.9957 - val_loss: 0.1706 - val_accuracy: 0.9635\n",
      "Epoch 66/100\n",
      "405/405 [==============================] - 3s 7ms/step - loss: 0.0081 - accuracy: 0.9974 - val_loss: 0.1791 - val_accuracy: 0.9626\n",
      "Epoch 67/100\n",
      "405/405 [==============================] - 3s 8ms/step - loss: 0.0082 - accuracy: 0.9974 - val_loss: 0.1611 - val_accuracy: 0.9654\n",
      "Epoch 68/100\n",
      "405/405 [==============================] - 3s 7ms/step - loss: 0.0104 - accuracy: 0.9964 - val_loss: 0.1824 - val_accuracy: 0.9629\n",
      "Epoch 69/100\n",
      "405/405 [==============================] - 3s 7ms/step - loss: 0.0109 - accuracy: 0.9965 - val_loss: 0.1793 - val_accuracy: 0.9610\n",
      "Epoch 70/100\n",
      "405/405 [==============================] - 3s 7ms/step - loss: 0.0084 - accuracy: 0.9971 - val_loss: 0.1623 - val_accuracy: 0.9660\n",
      "Epoch 71/100\n",
      "405/405 [==============================] - 3s 7ms/step - loss: 0.0066 - accuracy: 0.9985 - val_loss: 0.1745 - val_accuracy: 0.9638\n",
      "Epoch 72/100\n",
      "405/405 [==============================] - 3s 7ms/step - loss: 0.0038 - accuracy: 0.9989 - val_loss: 0.1627 - val_accuracy: 0.9685\n",
      "Epoch 73/100\n",
      "405/405 [==============================] - 3s 8ms/step - loss: 0.0123 - accuracy: 0.9961 - val_loss: 0.1993 - val_accuracy: 0.9607\n",
      "Epoch 74/100\n",
      "405/405 [==============================] - 3s 7ms/step - loss: 0.0051 - accuracy: 0.9978 - val_loss: 0.1824 - val_accuracy: 0.9641\n",
      "Epoch 75/100\n",
      "405/405 [==============================] - 3s 8ms/step - loss: 0.0097 - accuracy: 0.9971 - val_loss: 0.1802 - val_accuracy: 0.9632\n",
      "Epoch 76/100\n",
      "405/405 [==============================] - 3s 7ms/step - loss: 0.0060 - accuracy: 0.9977 - val_loss: 0.1670 - val_accuracy: 0.9647\n",
      "Epoch 77/100\n",
      "405/405 [==============================] - 3s 7ms/step - loss: 0.0036 - accuracy: 0.9991 - val_loss: 0.1614 - val_accuracy: 0.9663\n",
      "Epoch 78/100\n",
      "405/405 [==============================] - 3s 7ms/step - loss: 0.0047 - accuracy: 0.9987 - val_loss: 0.1682 - val_accuracy: 0.9638\n",
      "Epoch 79/100\n",
      "405/405 [==============================] - 3s 7ms/step - loss: 0.0036 - accuracy: 0.9990 - val_loss: 0.1740 - val_accuracy: 0.9641\n",
      "Epoch 80/100\n",
      "405/405 [==============================] - 3s 7ms/step - loss: 0.0048 - accuracy: 0.9985 - val_loss: 0.1708 - val_accuracy: 0.9651\n",
      "Epoch 81/100\n",
      "405/405 [==============================] - 3s 7ms/step - loss: 0.0030 - accuracy: 0.9993 - val_loss: 0.1768 - val_accuracy: 0.9635\n",
      "Epoch 82/100\n",
      "405/405 [==============================] - 3s 8ms/step - loss: 0.0184 - accuracy: 0.9949 - val_loss: 0.1673 - val_accuracy: 0.9647\n",
      "Epoch 83/100\n",
      "405/405 [==============================] - 3s 7ms/step - loss: 0.0146 - accuracy: 0.9958 - val_loss: 0.1594 - val_accuracy: 0.9685\n",
      "Epoch 84/100\n",
      "405/405 [==============================] - 3s 8ms/step - loss: 0.0058 - accuracy: 0.9982 - val_loss: 0.1784 - val_accuracy: 0.9660\n",
      "Epoch 85/100\n",
      "405/405 [==============================] - 3s 7ms/step - loss: 0.0071 - accuracy: 0.9978 - val_loss: 0.1701 - val_accuracy: 0.9647\n",
      "Epoch 86/100\n",
      "405/405 [==============================] - 3s 7ms/step - loss: 0.0031 - accuracy: 0.9989 - val_loss: 0.1700 - val_accuracy: 0.9644\n",
      "Epoch 87/100\n",
      "405/405 [==============================] - 3s 7ms/step - loss: 0.0078 - accuracy: 0.9979 - val_loss: 0.1690 - val_accuracy: 0.9647\n",
      "Epoch 88/100\n",
      "405/405 [==============================] - 3s 7ms/step - loss: 0.0100 - accuracy: 0.9972 - val_loss: 0.1679 - val_accuracy: 0.9647\n",
      "Epoch 89/100\n",
      "405/405 [==============================] - 3s 7ms/step - loss: 0.0039 - accuracy: 0.9990 - val_loss: 0.1633 - val_accuracy: 0.9647\n",
      "Epoch 90/100\n",
      "405/405 [==============================] - 3s 7ms/step - loss: 0.0056 - accuracy: 0.9981 - val_loss: 0.1493 - val_accuracy: 0.9660\n",
      "Epoch 91/100\n",
      "405/405 [==============================] - 3s 7ms/step - loss: 0.0046 - accuracy: 0.9989 - val_loss: 0.1918 - val_accuracy: 0.9647\n",
      "Epoch 92/100\n",
      "405/405 [==============================] - 3s 8ms/step - loss: 0.0063 - accuracy: 0.9979 - val_loss: 0.1584 - val_accuracy: 0.9669\n",
      "Epoch 93/100\n",
      "405/405 [==============================] - 3s 7ms/step - loss: 0.0037 - accuracy: 0.9991 - val_loss: 0.1545 - val_accuracy: 0.9691\n",
      "Epoch 94/100\n",
      "405/405 [==============================] - 3s 7ms/step - loss: 0.0085 - accuracy: 0.9978 - val_loss: 0.1865 - val_accuracy: 0.9604\n",
      "Epoch 95/100\n",
      "405/405 [==============================] - 3s 7ms/step - loss: 0.0077 - accuracy: 0.9976 - val_loss: 0.1579 - val_accuracy: 0.9697\n",
      "Epoch 96/100\n",
      "405/405 [==============================] - 3s 8ms/step - loss: 0.0044 - accuracy: 0.9989 - val_loss: 0.1634 - val_accuracy: 0.9644\n",
      "Epoch 97/100\n",
      "405/405 [==============================] - 3s 8ms/step - loss: 0.0016 - accuracy: 0.9996 - val_loss: 0.1523 - val_accuracy: 0.9685\n",
      "Epoch 98/100\n",
      "405/405 [==============================] - 3s 7ms/step - loss: 0.0033 - accuracy: 0.9990 - val_loss: 0.1520 - val_accuracy: 0.9678\n",
      "Epoch 99/100\n",
      "405/405 [==============================] - 3s 7ms/step - loss: 0.0057 - accuracy: 0.9979 - val_loss: 0.1556 - val_accuracy: 0.9666\n",
      "Epoch 100/100\n",
      "405/405 [==============================] - 3s 7ms/step - loss: 0.0067 - accuracy: 0.9983 - val_loss: 0.1469 - val_accuracy: 0.9675\n",
      "1026/1026 [==============================] - 3s 3ms/step - loss: 0.1510 - accuracy: 0.9736\n",
      "Accuracy 0.973621666431427\n"
     ]
    }
   ],
   "source": [
    "model = mlp_model_LayerSize()\n",
    "history = model.fit(X_train, y_train, validation_split = 0.2, epochs = 100, verbose = 1)\n",
    "\n",
    "results = model.evaluate(x_test, y_test)\n",
    "\n",
    "print('Accuracy', results[1])"
   ]
  },
  {
   "cell_type": "code",
   "execution_count": 37,
   "metadata": {},
   "outputs": [],
   "source": [
    "predicted = model.predict(X_test_sub)\n",
    "y_pred = predicted.argmax(axis=1)\n",
    "\n",
    "\n",
    "ImageID = np.arange(len(y_pred))+1\n",
    "Out = pd.DataFrame([test['filename'],y_pred]).T\n",
    "Out.rename(columns = {0:'filename', 1:'label'})\n",
    "#Out\n",
    "Out.to_csv('MNIST_Digit_TuningNetworkSize_100Epo.csv', header =  ['filename', 'label' ], index = None)"
   ]
  },
  {
   "cell_type": "code",
   "execution_count": null,
   "metadata": {},
   "outputs": [],
   "source": []
  }
 ],
 "metadata": {
  "kernelspec": {
   "display_name": "TF210GPUJupyter",
   "language": "python",
   "name": "tfgpu"
  },
  "language_info": {
   "codemirror_mode": {
    "name": "ipython",
    "version": 3
   },
   "file_extension": ".py",
   "mimetype": "text/x-python",
   "name": "python",
   "nbconvert_exporter": "python",
   "pygments_lexer": "ipython3",
   "version": "3.7.9"
  }
 },
 "nbformat": 4,
 "nbformat_minor": 2
}
