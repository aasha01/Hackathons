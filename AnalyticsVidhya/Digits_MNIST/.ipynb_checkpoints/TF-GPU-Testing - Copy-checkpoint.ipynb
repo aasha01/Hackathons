{
 "cells": [
  {
   "cell_type": "code",
   "execution_count": 1,
   "metadata": {},
   "outputs": [],
   "source": [
    "import tensorflow as tf"
   ]
  },
  {
   "cell_type": "code",
   "execution_count": 2,
   "metadata": {},
   "outputs": [],
   "source": [
    "mnist = tf.keras.datasets.mnist\n",
    "\n",
    "(train_images, train_labels), (test_images, test_labels) = mnist.load_data()"
   ]
  },
  {
   "cell_type": "code",
   "execution_count": 3,
   "metadata": {},
   "outputs": [],
   "source": [
    "# reshape and rescale data for the CNN\n",
    "\n",
    "train_images = train_images.reshape(60000, 28, 28, 1)\n",
    "\n",
    "test_images = test_images.reshape(10000, 28, 28, 1)\n",
    "\n",
    "train_images, test_images = train_images/255, test_images/255"
   ]
  },
  {
   "cell_type": "code",
   "execution_count": 4,
   "metadata": {},
   "outputs": [],
   "source": [
    "model = tf.keras.Sequential([\n",
    "    tf.keras.layers.Conv2D(32, (3,3), activation='relu', input_shape=(28,28,1)),\n",
    "    tf.keras.layers.Conv2D(64, (3,3), activation='relu'),\n",
    "    tf.keras.layers.MaxPooling2D(2,2),\n",
    "    tf.keras.layers.Dropout(0.25),\n",
    "    tf.keras.layers.Flatten(),\n",
    "    tf.keras.layers.Dense(128, activation='relu'),\n",
    "    tf.keras.layers.Dropout(0.5),\n",
    "    tf.keras.layers.Dense(10, activation='softmax')\n",
    "])"
   ]
  },
  {
   "cell_type": "code",
   "execution_count": 5,
   "metadata": {},
   "outputs": [],
   "source": [
    "model.compile(optimizer='adam', loss='sparse_categorical_crossentropy', metrics=['accuracy'])"
   ]
  },
  {
   "cell_type": "code",
   "execution_count": 6,
   "metadata": {},
   "outputs": [],
   "source": [
    "tensor_board = tf.keras.callbacks.TensorBoard('./logs/LeNet-MNIST-1')"
   ]
  },
  {
   "cell_type": "code",
   "execution_count": 7,
   "metadata": {},
   "outputs": [],
   "source": [
    "tbCallBack = tf.keras.callbacks.TensorBoard(log_dir='.\\logs', histogram_freq=0,\n",
    "\n",
    "write_graph=True, write_images=True)\n"
   ]
  },
  {
   "cell_type": "raw",
   "metadata": {},
   "source": [
    "import os\n",
    "os.environ['TF_FORCE_GPU_ALLOW_GROWTH'] = 'true'"
   ]
  },
  {
   "cell_type": "code",
   "execution_count": 9,
   "metadata": {},
   "outputs": [
    {
     "name": "stdout",
     "output_type": "stream",
     "text": [
      "Train on 60000 samples, validate on 10000 samples\n",
      "Epoch 1/15\n",
      "60000/60000 [==============================] - 7s 118us/sample - loss: 0.2441 - accuracy: 0.9254 - val_loss: 0.0546 - val_accuracy: 0.9812\n",
      "Epoch 2/15\n",
      "60000/60000 [==============================] - 4s 73us/sample - loss: 0.0830 - accuracy: 0.9752 - val_loss: 0.0396 - val_accuracy: 0.9876\n",
      "Epoch 3/15\n",
      "60000/60000 [==============================] - 4s 73us/sample - loss: 0.0641 - accuracy: 0.9807 - val_loss: 0.0372 - val_accuracy: 0.9881\n",
      "Epoch 4/15\n",
      "60000/60000 [==============================] - 4s 73us/sample - loss: 0.0516 - accuracy: 0.9848 - val_loss: 0.0316 - val_accuracy: 0.9909\n",
      "Epoch 5/15\n",
      "60000/60000 [==============================] - 4s 73us/sample - loss: 0.0454 - accuracy: 0.9859 - val_loss: 0.0343 - val_accuracy: 0.9893\n",
      "Epoch 6/15\n",
      "60000/60000 [==============================] - 4s 73us/sample - loss: 0.0389 - accuracy: 0.9874 - val_loss: 0.0302 - val_accuracy: 0.9911\n",
      "Epoch 7/15\n",
      "60000/60000 [==============================] - 4s 73us/sample - loss: 0.0339 - accuracy: 0.9896 - val_loss: 0.0300 - val_accuracy: 0.9905\n",
      "Epoch 8/15\n",
      "60000/60000 [==============================] - 4s 73us/sample - loss: 0.0297 - accuracy: 0.9906 - val_loss: 0.0269 - val_accuracy: 0.9918\n",
      "Epoch 9/15\n",
      "60000/60000 [==============================] - 4s 73us/sample - loss: 0.0287 - accuracy: 0.9908 - val_loss: 0.0289 - val_accuracy: 0.9918\n",
      "Epoch 10/15\n",
      "60000/60000 [==============================] - 5s 76us/sample - loss: 0.0276 - accuracy: 0.9908 - val_loss: 0.0266 - val_accuracy: 0.9918\n",
      "Epoch 11/15\n",
      "60000/60000 [==============================] - 4s 74us/sample - loss: 0.0231 - accuracy: 0.9927 - val_loss: 0.0274 - val_accuracy: 0.9923\n",
      "Epoch 12/15\n",
      "60000/60000 [==============================] - 4s 74us/sample - loss: 0.0220 - accuracy: 0.9931 - val_loss: 0.0297 - val_accuracy: 0.9918\n",
      "Epoch 13/15\n",
      "60000/60000 [==============================] - 5s 75us/sample - loss: 0.0190 - accuracy: 0.9939 - val_loss: 0.0290 - val_accuracy: 0.9912\n",
      "Epoch 14/15\n",
      "60000/60000 [==============================] - 5s 75us/sample - loss: 0.0201 - accuracy: 0.9927 - val_loss: 0.0279 - val_accuracy: 0.9913\n",
      "Epoch 15/15\n",
      "60000/60000 [==============================] - 5s 75us/sample - loss: 0.0172 - accuracy: 0.9943 - val_loss: 0.0317 - val_accuracy: 0.9909\n",
      "Training took 69.24470782279968 seconds\n"
     ]
    }
   ],
   "source": [
    "import time\n",
    "start_time=time.time()\n",
    "\n",
    "model.fit(train_images, train_labels, batch_size=128, epochs=15, verbose=1,\n",
    "\n",
    "validation_data=(test_images, test_labels), callbacks=[tbCallBack])\n",
    "\n",
    "print('Training took {} seconds'.format(time.time()-start_time))\n",
    "\n"
   ]
  },
  {
   "cell_type": "code",
   "execution_count": null,
   "metadata": {},
   "outputs": [],
   "source": []
  }
 ],
 "metadata": {
  "kernelspec": {
   "display_name": "TF210GPUJupyter",
   "language": "python",
   "name": "tfgpu"
  },
  "language_info": {
   "codemirror_mode": {
    "name": "ipython",
    "version": 3
   },
   "file_extension": ".py",
   "mimetype": "text/x-python",
   "name": "python",
   "nbconvert_exporter": "python",
   "pygments_lexer": "ipython3",
   "version": "3.7.9"
  }
 },
 "nbformat": 4,
 "nbformat_minor": 4
}
